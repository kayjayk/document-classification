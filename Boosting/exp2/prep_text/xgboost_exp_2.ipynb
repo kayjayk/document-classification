{
 "cells": [
  {
   "cell_type": "markdown",
   "metadata": {},
   "source": [
    "## Data Handling"
   ]
  },
  {
   "cell_type": "code",
   "execution_count": 1,
   "metadata": {},
   "outputs": [],
   "source": [
    "from sklearn.feature_extraction.text import TfidfVectorizer\n",
    "import pandas as pd\n",
    "import numpy as np\n",
    "np.random.seed(4444)"
   ]
  },
  {
   "cell_type": "code",
   "execution_count": 3,
   "metadata": {
    "collapsed": true,
    "jupyter": {
     "outputs_hidden": true
    }
   },
   "outputs": [
    {
     "data": {
      "text/html": [
       "<div>\n",
       "<style scoped>\n",
       "    .dataframe tbody tr th:only-of-type {\n",
       "        vertical-align: middle;\n",
       "    }\n",
       "\n",
       "    .dataframe tbody tr th {\n",
       "        vertical-align: top;\n",
       "    }\n",
       "\n",
       "    .dataframe thead th {\n",
       "        text-align: right;\n",
       "    }\n",
       "</style>\n",
       "<table border=\"1\" class=\"dataframe\">\n",
       "  <thead>\n",
       "    <tr style=\"text-align: right;\">\n",
       "      <th></th>\n",
       "      <th>file_name</th>\n",
       "      <th>label</th>\n",
       "      <th>raw_text</th>\n",
       "      <th>dataset_n</th>\n",
       "      <th>train_val_test</th>\n",
       "      <th>prep_v9_text</th>\n",
       "    </tr>\n",
       "  </thead>\n",
       "  <tbody>\n",
       "    <tr>\n",
       "      <th>0</th>\n",
       "      <td>R1509261.txt</td>\n",
       "      <td>0</td>\n",
       "      <td>보 도 자 료\\nhttp://www.msip.go.kr 보도일시 2015. 9. 4...</td>\n",
       "      <td>0</td>\n",
       "      <td>0</td>\n",
       "      <td>온라인N 제도N 혁신N 관호N 미래N 사이트N 플러그인N 지원N 대응N 현황N 공개...</td>\n",
       "    </tr>\n",
       "    <tr>\n",
       "      <th>1</th>\n",
       "      <td>R2003733.txt</td>\n",
       "      <td>0</td>\n",
       "      <td>보도일시 2020. 3. 18.(수) 조간(온라인 3. 17. 12:00)부터 보도...</td>\n",
       "      <td>0</td>\n",
       "      <td>0</td>\n",
       "      <td>온라인N 정보N 산업N 기반N 유승N ictS 분야N 창업N 벤처N 지원N 사업N ...</td>\n",
       "    </tr>\n",
       "    <tr>\n",
       "      <th>2</th>\n",
       "      <td>D1507076-1.txt</td>\n",
       "      <td>0</td>\n",
       "      <td>보 도 자 료\\nhttp://www.msip.go.kr 보도일시 2015. 7. 1...</td>\n",
       "      <td>0</td>\n",
       "      <td>0</td>\n",
       "      <td>이후N 연구N 예산N 내년도N 연구N 개발N r&amp;dN 경제N 혁신N 미래N 성장N ...</td>\n",
       "    </tr>\n",
       "    <tr>\n",
       "      <th>3</th>\n",
       "      <td>R2005031.txt</td>\n",
       "      <td>0</td>\n",
       "      <td>보 도 자 료\\n배포일시 2020. 4. 29.(수) 총 4매(본문2) 담당 부서 ...</td>\n",
       "      <td>0</td>\n",
       "      <td>0</td>\n",
       "      <td>첨단N 항공N 과장N 문석N 홍일산N 이후N 가능N 일상N 시대N 개막N 시행N 전...</td>\n",
       "    </tr>\n",
       "    <tr>\n",
       "      <th>4</th>\n",
       "      <td>R2006226.txt</td>\n",
       "      <td>0</td>\n",
       "      <td>&lt;전매체&gt; 2020년 6월 3일(수) 10:00(국무회의 개최시)부터 보도하여 주시...</td>\n",
       "      <td>0</td>\n",
       "      <td>0</td>\n",
       "      <td>국무회의N 개최N 문의N 기획N 재정관N 과장N 서기관N 위기N 혁신N 기회N 벤처...</td>\n",
       "    </tr>\n",
       "  </tbody>\n",
       "</table>\n",
       "</div>"
      ],
      "text/plain": [
       "        file_name  label                                           raw_text  \\\n",
       "0    R1509261.txt      0  보 도 자 료\\nhttp://www.msip.go.kr 보도일시 2015. 9. 4...   \n",
       "1    R2003733.txt      0  보도일시 2020. 3. 18.(수) 조간(온라인 3. 17. 12:00)부터 보도...   \n",
       "2  D1507076-1.txt      0  보 도 자 료\\nhttp://www.msip.go.kr 보도일시 2015. 7. 1...   \n",
       "3    R2005031.txt      0  보 도 자 료\\n배포일시 2020. 4. 29.(수) 총 4매(본문2) 담당 부서 ...   \n",
       "4    R2006226.txt      0  <전매체> 2020년 6월 3일(수) 10:00(국무회의 개최시)부터 보도하여 주시...   \n",
       "\n",
       "   dataset_n  train_val_test  \\\n",
       "0          0               0   \n",
       "1          0               0   \n",
       "2          0               0   \n",
       "3          0               0   \n",
       "4          0               0   \n",
       "\n",
       "                                        prep_v9_text  \n",
       "0  온라인N 제도N 혁신N 관호N 미래N 사이트N 플러그인N 지원N 대응N 현황N 공개...  \n",
       "1  온라인N 정보N 산업N 기반N 유승N ictS 분야N 창업N 벤처N 지원N 사업N ...  \n",
       "2  이후N 연구N 예산N 내년도N 연구N 개발N r&dN 경제N 혁신N 미래N 성장N ...  \n",
       "3  첨단N 항공N 과장N 문석N 홍일산N 이후N 가능N 일상N 시대N 개막N 시행N 전...  \n",
       "4  국무회의N 개최N 문의N 기획N 재정관N 과장N 서기관N 위기N 혁신N 기회N 벤처...  "
      ]
     },
     "execution_count": 3,
     "metadata": {},
     "output_type": "execute_result"
    }
   ],
   "source": [
    "df = pd.read_csv('../../../../../../jaeyeun/01_nh_poc/17_add_prep_text_to_excel/split_70_15_15_prep_v9.csv')\n",
    "\n",
    "df.head()"
   ]
  },
  {
   "cell_type": "markdown",
   "metadata": {},
   "source": [
    "* Train : KDI 70+15 (train+val)\n",
    "* Val : KDI 15(test)\n",
    "* Test : legal 273(train+val+test)"
   ]
  },
  {
   "cell_type": "code",
   "execution_count": 5,
   "metadata": {},
   "outputs": [],
   "source": [
    "X_train_df = df[(df['dataset_n'] == 0) & ((df['train_val_test'] == 0) | (df['train_val_test'] == 1))]\n",
    "X_val_df = df[(df['dataset_n'] == 0) & (df['train_val_test'] == 2)]\n",
    "X_test_df = df[df['dataset_n'] != 0]\n",
    "y_train = df[(df['dataset_n'] == 0) & ((df['train_val_test'] == 0) | (df['train_val_test'] == 1))]['label']\n",
    "y_val = df[(df['dataset_n'] == 0) & (df['train_val_test'] == 2)]['label']\n",
    "y_test = df[df['dataset_n'] != 0]['label']"
   ]
  },
  {
   "cell_type": "code",
   "execution_count": 6,
   "metadata": {},
   "outputs": [
    {
     "name": "stdout",
     "output_type": "stream",
     "text": [
      "(9174, 6)\n",
      "(1626, 6)\n",
      "(273, 6)\n",
      "(9174,)\n",
      "(1626,)\n",
      "(273,)\n"
     ]
    }
   ],
   "source": [
    "print(X_train_df.shape)\n",
    "print(X_val_df.shape)\n",
    "print(X_test_df.shape)\n",
    "print(y_train.shape)\n",
    "print(y_val.shape)\n",
    "print(y_test.shape)"
   ]
  },
  {
   "cell_type": "code",
   "execution_count": 7,
   "metadata": {},
   "outputs": [],
   "source": [
    "n_features = 100000\n",
    "tfidf_vectorizer = TfidfVectorizer(\n",
    "    max_df=0.9, # 0.9 만큼의 문서 이상에서 나오면 거른다.\n",
    "    min_df=5, # 5개 미만의 문서에서 나오면 거른다.\n",
    "    sublinear_tf = True, # tf value를 완만하게 처리 (outlier 처리 효과)\n",
    "    ngram_range = (1, 3),\n",
    "    max_features=n_features)"
   ]
  },
  {
   "cell_type": "code",
   "execution_count": 8,
   "metadata": {},
   "outputs": [],
   "source": [
    "X_train_tfidf = tfidf_vectorizer.fit(X_train_df['prep_v9_text'])\n",
    "# X_test_tfidf = tfidf_vectorizer.fit_transform(prep_text_test)\n",
    "# X_test_hash = hash_vectorizer.fit_transform(prep_text_test)"
   ]
  },
  {
   "cell_type": "code",
   "execution_count": 9,
   "metadata": {},
   "outputs": [],
   "source": [
    "X_train = X_train_tfidf.transform(X_train_df['prep_v9_text'])\n",
    "X_val = X_train_tfidf.transform(X_val_df['prep_v9_text'])\n",
    "X_test = X_train_tfidf.transform(X_test_df['prep_v9_text'])"
   ]
  },
  {
   "cell_type": "code",
   "execution_count": 10,
   "metadata": {},
   "outputs": [
    {
     "name": "stdout",
     "output_type": "stream",
     "text": [
      "(9174, 100000)\n",
      "(1626, 100000)\n",
      "(273, 100000)\n"
     ]
    }
   ],
   "source": [
    "print(X_train.shape)\n",
    "print(X_val.shape)\n",
    "print(X_test.shape)"
   ]
  },
  {
   "cell_type": "markdown",
   "metadata": {},
   "source": [
    "## Classify"
   ]
  },
  {
   "cell_type": "markdown",
   "metadata": {},
   "source": [
    "* XGBoost RandomSearch"
   ]
  },
  {
   "cell_type": "code",
   "execution_count": 11,
   "metadata": {},
   "outputs": [],
   "source": [
    "from sklearn.model_selection import RandomizedSearchCV\n",
    "import xgboost as xgb"
   ]
  },
  {
   "cell_type": "code",
   "execution_count": 12,
   "metadata": {},
   "outputs": [
    {
     "name": "stdout",
     "output_type": "stream",
     "text": [
      "Fitting 5 folds for each of 20 candidates, totalling 100 fits\n"
     ]
    },
    {
     "name": "stderr",
     "output_type": "stream",
     "text": [
      "[Parallel(n_jobs=-1)]: Using backend LokyBackend with 32 concurrent workers.\n",
      "[Parallel(n_jobs=-1)]: Done   8 tasks      | elapsed: 51.0min\n",
      "[Parallel(n_jobs=-1)]: Done  21 tasks      | elapsed: 85.0min\n",
      "[Parallel(n_jobs=-1)]: Done  34 tasks      | elapsed: 128.9min\n",
      "[Parallel(n_jobs=-1)]: Done  48 out of 100 | elapsed: 174.7min remaining: 189.3min\n",
      "[Parallel(n_jobs=-1)]: Done  59 out of 100 | elapsed: 197.1min remaining: 137.0min\n",
      "[Parallel(n_jobs=-1)]: Done  70 out of 100 | elapsed: 213.1min remaining: 91.3min\n",
      "[Parallel(n_jobs=-1)]: Done  81 out of 100 | elapsed: 222.1min remaining: 52.1min\n",
      "[Parallel(n_jobs=-1)]: Done  92 out of 100 | elapsed: 236.9min remaining: 20.6min\n",
      "[Parallel(n_jobs=-1)]: Done 100 out of 100 | elapsed: 255.6min finished\n"
     ]
    },
    {
     "name": "stdout",
     "output_type": "stream",
     "text": [
      "[0]\tvalidation_0-merror:0.20722\tvalidation_1-merror:0.24908\n",
      "Multiple eval metrics have been passed: 'validation_1-merror' will be used for early stopping.\n",
      "\n",
      "Will train until validation_1-merror hasn't improved in 20 rounds.\n",
      "[1]\tvalidation_0-merror:0.17964\tvalidation_1-merror:0.22263\n",
      "[2]\tvalidation_0-merror:0.16132\tvalidation_1-merror:0.21710\n",
      "[3]\tvalidation_0-merror:0.15184\tvalidation_1-merror:0.21279\n",
      "[4]\tvalidation_0-merror:0.14290\tvalidation_1-merror:0.20603\n",
      "[5]\tvalidation_0-merror:0.13484\tvalidation_1-merror:0.20910\n",
      "[6]\tvalidation_0-merror:0.12971\tvalidation_1-merror:0.21033\n",
      "[7]\tvalidation_0-merror:0.12339\tvalidation_1-merror:0.21341\n",
      "[8]\tvalidation_0-merror:0.11827\tvalidation_1-merror:0.20972\n",
      "[9]\tvalidation_0-merror:0.11522\tvalidation_1-merror:0.20726\n",
      "[10]\tvalidation_0-merror:0.10955\tvalidation_1-merror:0.20172\n",
      "[11]\tvalidation_0-merror:0.10541\tvalidation_1-merror:0.19619\n",
      "[12]\tvalidation_0-merror:0.10039\tvalidation_1-merror:0.19496\n",
      "[13]\tvalidation_0-merror:0.09865\tvalidation_1-merror:0.19434\n",
      "[14]\tvalidation_0-merror:0.09429\tvalidation_1-merror:0.19311\n",
      "[15]\tvalidation_0-merror:0.09091\tvalidation_1-merror:0.18942\n",
      "[16]\tvalidation_0-merror:0.08709\tvalidation_1-merror:0.18942\n",
      "[17]\tvalidation_0-merror:0.08437\tvalidation_1-merror:0.18758\n",
      "[18]\tvalidation_0-merror:0.08143\tvalidation_1-merror:0.18696\n",
      "[19]\tvalidation_0-merror:0.07946\tvalidation_1-merror:0.18573\n",
      "[20]\tvalidation_0-merror:0.07750\tvalidation_1-merror:0.18512\n",
      "[21]\tvalidation_0-merror:0.07412\tvalidation_1-merror:0.18450\n",
      "[22]\tvalidation_0-merror:0.07085\tvalidation_1-merror:0.18327\n",
      "[23]\tvalidation_0-merror:0.06998\tvalidation_1-merror:0.18327\n",
      "[24]\tvalidation_0-merror:0.06824\tvalidation_1-merror:0.18450\n",
      "[25]\tvalidation_0-merror:0.06497\tvalidation_1-merror:0.18819\n",
      "[26]\tvalidation_0-merror:0.06399\tvalidation_1-merror:0.18696\n",
      "[27]\tvalidation_0-merror:0.06213\tvalidation_1-merror:0.18512\n",
      "[28]\tvalidation_0-merror:0.06028\tvalidation_1-merror:0.18512\n",
      "[29]\tvalidation_0-merror:0.05777\tvalidation_1-merror:0.18450\n",
      "[30]\tvalidation_0-merror:0.05625\tvalidation_1-merror:0.18204\n",
      "[31]\tvalidation_0-merror:0.05396\tvalidation_1-merror:0.18020\n",
      "[32]\tvalidation_0-merror:0.05232\tvalidation_1-merror:0.18020\n",
      "[33]\tvalidation_0-merror:0.05101\tvalidation_1-merror:0.18143\n",
      "[34]\tvalidation_0-merror:0.04894\tvalidation_1-merror:0.18081\n",
      "[35]\tvalidation_0-merror:0.04763\tvalidation_1-merror:0.18020\n",
      "[36]\tvalidation_0-merror:0.04513\tvalidation_1-merror:0.17835\n",
      "[37]\tvalidation_0-merror:0.04360\tvalidation_1-merror:0.17835\n",
      "[38]\tvalidation_0-merror:0.04164\tvalidation_1-merror:0.17958\n",
      "[39]\tvalidation_0-merror:0.04022\tvalidation_1-merror:0.17651\n",
      "[40]\tvalidation_0-merror:0.03913\tvalidation_1-merror:0.17835\n",
      "[41]\tvalidation_0-merror:0.03641\tvalidation_1-merror:0.17774\n",
      "[42]\tvalidation_0-merror:0.03575\tvalidation_1-merror:0.17712\n",
      "[43]\tvalidation_0-merror:0.03368\tvalidation_1-merror:0.17651\n",
      "[44]\tvalidation_0-merror:0.03281\tvalidation_1-merror:0.17712\n",
      "[45]\tvalidation_0-merror:0.03183\tvalidation_1-merror:0.17774\n",
      "[46]\tvalidation_0-merror:0.03063\tvalidation_1-merror:0.17466\n",
      "[47]\tvalidation_0-merror:0.02899\tvalidation_1-merror:0.17466\n",
      "[48]\tvalidation_0-merror:0.02780\tvalidation_1-merror:0.17466\n",
      "[49]\tvalidation_0-merror:0.02660\tvalidation_1-merror:0.17282\n",
      "[50]\tvalidation_0-merror:0.02551\tvalidation_1-merror:0.17097\n",
      "[51]\tvalidation_0-merror:0.02431\tvalidation_1-merror:0.17220\n",
      "[52]\tvalidation_0-merror:0.02398\tvalidation_1-merror:0.17343\n",
      "[53]\tvalidation_0-merror:0.02322\tvalidation_1-merror:0.17282\n",
      "[54]\tvalidation_0-merror:0.02256\tvalidation_1-merror:0.17343\n",
      "[55]\tvalidation_0-merror:0.02158\tvalidation_1-merror:0.17343\n",
      "[56]\tvalidation_0-merror:0.02126\tvalidation_1-merror:0.17159\n",
      "[57]\tvalidation_0-merror:0.02082\tvalidation_1-merror:0.17282\n",
      "[58]\tvalidation_0-merror:0.01973\tvalidation_1-merror:0.17220\n",
      "[59]\tvalidation_0-merror:0.01864\tvalidation_1-merror:0.17343\n",
      "[60]\tvalidation_0-merror:0.01842\tvalidation_1-merror:0.17343\n",
      "[61]\tvalidation_0-merror:0.01777\tvalidation_1-merror:0.17097\n",
      "[62]\tvalidation_0-merror:0.01657\tvalidation_1-merror:0.17097\n",
      "[63]\tvalidation_0-merror:0.01570\tvalidation_1-merror:0.17220\n",
      "[64]\tvalidation_0-merror:0.01526\tvalidation_1-merror:0.16851\n",
      "[65]\tvalidation_0-merror:0.01482\tvalidation_1-merror:0.17036\n",
      "[66]\tvalidation_0-merror:0.01417\tvalidation_1-merror:0.17097\n",
      "[67]\tvalidation_0-merror:0.01395\tvalidation_1-merror:0.17097\n",
      "[68]\tvalidation_0-merror:0.01352\tvalidation_1-merror:0.17097\n",
      "[69]\tvalidation_0-merror:0.01286\tvalidation_1-merror:0.17220\n",
      "[70]\tvalidation_0-merror:0.01221\tvalidation_1-merror:0.17097\n",
      "[71]\tvalidation_0-merror:0.01177\tvalidation_1-merror:0.17159\n",
      "[72]\tvalidation_0-merror:0.01145\tvalidation_1-merror:0.17159\n",
      "[73]\tvalidation_0-merror:0.01090\tvalidation_1-merror:0.16913\n",
      "[74]\tvalidation_0-merror:0.01014\tvalidation_1-merror:0.16913\n",
      "[75]\tvalidation_0-merror:0.00992\tvalidation_1-merror:0.16974\n",
      "[76]\tvalidation_0-merror:0.00948\tvalidation_1-merror:0.16913\n",
      "[77]\tvalidation_0-merror:0.00937\tvalidation_1-merror:0.16851\n",
      "[78]\tvalidation_0-merror:0.00861\tvalidation_1-merror:0.16851\n",
      "[79]\tvalidation_0-merror:0.00807\tvalidation_1-merror:0.16667\n",
      "[80]\tvalidation_0-merror:0.00752\tvalidation_1-merror:0.16667\n",
      "[81]\tvalidation_0-merror:0.00730\tvalidation_1-merror:0.16544\n",
      "[82]\tvalidation_0-merror:0.00687\tvalidation_1-merror:0.16728\n",
      "[83]\tvalidation_0-merror:0.00665\tvalidation_1-merror:0.16790\n",
      "[84]\tvalidation_0-merror:0.00589\tvalidation_1-merror:0.16544\n",
      "[85]\tvalidation_0-merror:0.00545\tvalidation_1-merror:0.16544\n",
      "[86]\tvalidation_0-merror:0.00534\tvalidation_1-merror:0.16544\n",
      "[87]\tvalidation_0-merror:0.00545\tvalidation_1-merror:0.16544\n",
      "[88]\tvalidation_0-merror:0.00490\tvalidation_1-merror:0.16605\n",
      "[89]\tvalidation_0-merror:0.00480\tvalidation_1-merror:0.16544\n",
      "[90]\tvalidation_0-merror:0.00458\tvalidation_1-merror:0.16421\n",
      "[91]\tvalidation_0-merror:0.00458\tvalidation_1-merror:0.16482\n",
      "[92]\tvalidation_0-merror:0.00447\tvalidation_1-merror:0.16544\n",
      "[93]\tvalidation_0-merror:0.00414\tvalidation_1-merror:0.16544\n",
      "[94]\tvalidation_0-merror:0.00414\tvalidation_1-merror:0.16667\n",
      "[95]\tvalidation_0-merror:0.00403\tvalidation_1-merror:0.16482\n",
      "[96]\tvalidation_0-merror:0.00371\tvalidation_1-merror:0.16421\n",
      "[97]\tvalidation_0-merror:0.00349\tvalidation_1-merror:0.16175\n",
      "[98]\tvalidation_0-merror:0.00360\tvalidation_1-merror:0.16544\n",
      "[99]\tvalidation_0-merror:0.00327\tvalidation_1-merror:0.16544\n"
     ]
    },
    {
     "data": {
      "text/plain": [
       "RandomizedSearchCV(cv=5,\n",
       "                   estimator=XGBClassifier(base_score=None, booster=None,\n",
       "                                           colsample_bylevel=None,\n",
       "                                           colsample_bynode=None,\n",
       "                                           colsample_bytree=None, gamma=None,\n",
       "                                           gpu_id=None, importance_type='gain',\n",
       "                                           interaction_constraints=None,\n",
       "                                           learning_rate=None,\n",
       "                                           max_delta_step=None, max_depth=None,\n",
       "                                           min_child_weight=None, missing=nan,\n",
       "                                           monotone_constraints=None,\n",
       "                                           n_estimators=100,...\n",
       "                                           reg_lambda=None,\n",
       "                                           scale_pos_weight=None,\n",
       "                                           subsample=None, tree_method=None,\n",
       "                                           validate_parameters=None,\n",
       "                                           verbosity=None),\n",
       "                   n_iter=20, n_jobs=-1,\n",
       "                   param_distributions={'learning_rate': [0.01, 0.015, 0.025,\n",
       "                                                          0.05, 0.1],\n",
       "                                        'max_depth': [3, 5, 7, 9, 12, 15, 17,\n",
       "                                                      25],\n",
       "                                        'min_child_weight': [1, 3, 5, 7],\n",
       "                                        'subsample': array([0.6, 0.7, 0.8, 0.9, 1. ])},\n",
       "                   return_train_score=True, scoring='accuracy', verbose=10)"
      ]
     },
     "execution_count": 12,
     "metadata": {},
     "output_type": "execute_result"
    }
   ],
   "source": [
    "xgb_clf = xgb.XGBClassifier()\n",
    "\n",
    "xgb_param_grid = {'learning_rate': [.01, .015, .025, .05, .1],\n",
    "#                   'Gamma': [.05, .1, .3, .5, .7, .9, 1],\n",
    "                  'max_depth': [3, 5, 7, 9, 12, 15, 17, 25],\n",
    "                  'min_child_weight': [1, 3, 5, 7],\n",
    "                  'subsample': np.linspace(0.6, 1, 5)}\n",
    "\n",
    "fit_params = {\"early_stopping_rounds\" : 20,\n",
    "             \"eval_metric\" : \"merror\",\n",
    "             \"eval_set\" : [(X_train, y_train), (X_val, y_val)]}\n",
    "\n",
    "# Create a random search object\n",
    "xgb_random = RandomizedSearchCV(estimator = xgb_clf,\n",
    "                                param_distributions = xgb_param_grid,\n",
    "                                n_iter = 20, # n_iters in param combinations\n",
    "                                scoring='accuracy',\n",
    "                                n_jobs=-1,\n",
    "                                cv = 5,\n",
    "                                refit=True,\n",
    "                                return_train_score = True,\n",
    "                                verbose=10)\n",
    "\n",
    "# Fit to the training data\n",
    "xgb_random.fit(X_train, y_train, **fit_params)"
   ]
  },
  {
   "cell_type": "code",
   "execution_count": 13,
   "metadata": {},
   "outputs": [],
   "source": [
    "pred_train = xgb_random.best_estimator_.predict(X_train)\n",
    "pred_val = xgb_random.best_estimator_.predict(X_val)\n",
    "pred_test = xgb_random.best_estimator_.predict(X_test)"
   ]
  },
  {
   "cell_type": "code",
   "execution_count": 14,
   "metadata": {},
   "outputs": [],
   "source": [
    "from sklearn.metrics import accuracy_score"
   ]
  },
  {
   "cell_type": "code",
   "execution_count": 15,
   "metadata": {},
   "outputs": [
    {
     "name": "stdout",
     "output_type": "stream",
     "text": [
      "0.9965118814039677\n",
      "0.8382533825338253\n",
      "0.38095238095238093\n"
     ]
    }
   ],
   "source": [
    "print(accuracy_score(y_train, pred_train))\n",
    "print(accuracy_score(y_val, pred_val))\n",
    "print(accuracy_score(y_test, pred_test))"
   ]
  },
  {
   "cell_type": "code",
   "execution_count": 16,
   "metadata": {},
   "outputs": [
    {
     "data": {
      "text/plain": [
       "XGBClassifier(base_score=0.5, booster='gbtree', colsample_bylevel=1,\n",
       "              colsample_bynode=1, colsample_bytree=1, gamma=0, gpu_id=-1,\n",
       "              importance_type='gain', interaction_constraints='',\n",
       "              learning_rate=0.1, max_delta_step=0, max_depth=17,\n",
       "              min_child_weight=5, missing=nan, monotone_constraints='()',\n",
       "              n_estimators=100, n_jobs=0, num_parallel_tree=1,\n",
       "              objective='multi:softprob', random_state=0, reg_alpha=0,\n",
       "              reg_lambda=1, scale_pos_weight=None, subsample=0.6,\n",
       "              tree_method='exact', validate_parameters=1, verbosity=None)"
      ]
     },
     "execution_count": 16,
     "metadata": {},
     "output_type": "execute_result"
    }
   ],
   "source": [
    "xgb_random.best_estimator_"
   ]
  },
  {
   "cell_type": "code",
   "execution_count": 17,
   "metadata": {},
   "outputs": [],
   "source": [
    "xgb_cv_result_df = pd.DataFrame(xgb_random.cv_results_)"
   ]
  },
  {
   "cell_type": "code",
   "execution_count": 18,
   "metadata": {},
   "outputs": [],
   "source": [
    "df_list = []\n",
    "for i in range(20):\n",
    "    df_list.append(pd.DataFrame([xgb_cv_result_df.loc[i, \"params\"]]))\n",
    "    \n",
    "xgb_param_table = pd.concat(df_list)"
   ]
  },
  {
   "cell_type": "code",
   "execution_count": 19,
   "metadata": {},
   "outputs": [],
   "source": [
    "xgb_param_table['mean_test_score'] = xgb_cv_result_df['mean_test_score'].values"
   ]
  },
  {
   "cell_type": "code",
   "execution_count": 20,
   "metadata": {},
   "outputs": [
    {
     "data": {
      "text/html": [
       "<div>\n",
       "<style scoped>\n",
       "    .dataframe tbody tr th:only-of-type {\n",
       "        vertical-align: middle;\n",
       "    }\n",
       "\n",
       "    .dataframe tbody tr th {\n",
       "        vertical-align: top;\n",
       "    }\n",
       "\n",
       "    .dataframe thead th {\n",
       "        text-align: right;\n",
       "    }\n",
       "</style>\n",
       "<table border=\"1\" class=\"dataframe\">\n",
       "  <thead>\n",
       "    <tr style=\"text-align: right;\">\n",
       "      <th></th>\n",
       "      <th>subsample</th>\n",
       "      <th>min_child_weight</th>\n",
       "      <th>max_depth</th>\n",
       "      <th>learning_rate</th>\n",
       "      <th>mean_test_score</th>\n",
       "    </tr>\n",
       "  </thead>\n",
       "  <tbody>\n",
       "    <tr>\n",
       "      <th>0</th>\n",
       "      <td>0.6</td>\n",
       "      <td>7</td>\n",
       "      <td>25</td>\n",
       "      <td>0.010</td>\n",
       "      <td>0.786353</td>\n",
       "    </tr>\n",
       "    <tr>\n",
       "      <th>0</th>\n",
       "      <td>1.0</td>\n",
       "      <td>7</td>\n",
       "      <td>12</td>\n",
       "      <td>0.015</td>\n",
       "      <td>0.789080</td>\n",
       "    </tr>\n",
       "    <tr>\n",
       "      <th>0</th>\n",
       "      <td>0.7</td>\n",
       "      <td>3</td>\n",
       "      <td>7</td>\n",
       "      <td>0.015</td>\n",
       "      <td>0.791912</td>\n",
       "    </tr>\n",
       "    <tr>\n",
       "      <th>0</th>\n",
       "      <td>1.0</td>\n",
       "      <td>3</td>\n",
       "      <td>9</td>\n",
       "      <td>0.015</td>\n",
       "      <td>0.794202</td>\n",
       "    </tr>\n",
       "    <tr>\n",
       "      <th>0</th>\n",
       "      <td>0.7</td>\n",
       "      <td>1</td>\n",
       "      <td>7</td>\n",
       "      <td>0.010</td>\n",
       "      <td>0.796055</td>\n",
       "    </tr>\n",
       "    <tr>\n",
       "      <th>0</th>\n",
       "      <td>0.7</td>\n",
       "      <td>3</td>\n",
       "      <td>12</td>\n",
       "      <td>0.010</td>\n",
       "      <td>0.796818</td>\n",
       "    </tr>\n",
       "    <tr>\n",
       "      <th>0</th>\n",
       "      <td>0.9</td>\n",
       "      <td>3</td>\n",
       "      <td>12</td>\n",
       "      <td>0.010</td>\n",
       "      <td>0.797907</td>\n",
       "    </tr>\n",
       "    <tr>\n",
       "      <th>0</th>\n",
       "      <td>0.6</td>\n",
       "      <td>7</td>\n",
       "      <td>15</td>\n",
       "      <td>0.025</td>\n",
       "      <td>0.799761</td>\n",
       "    </tr>\n",
       "    <tr>\n",
       "      <th>0</th>\n",
       "      <td>0.9</td>\n",
       "      <td>1</td>\n",
       "      <td>25</td>\n",
       "      <td>0.025</td>\n",
       "      <td>0.803357</td>\n",
       "    </tr>\n",
       "    <tr>\n",
       "      <th>0</th>\n",
       "      <td>0.8</td>\n",
       "      <td>5</td>\n",
       "      <td>9</td>\n",
       "      <td>0.015</td>\n",
       "      <td>0.803358</td>\n",
       "    </tr>\n",
       "    <tr>\n",
       "      <th>0</th>\n",
       "      <td>0.9</td>\n",
       "      <td>1</td>\n",
       "      <td>25</td>\n",
       "      <td>0.010</td>\n",
       "      <td>0.804339</td>\n",
       "    </tr>\n",
       "    <tr>\n",
       "      <th>0</th>\n",
       "      <td>1.0</td>\n",
       "      <td>7</td>\n",
       "      <td>12</td>\n",
       "      <td>0.025</td>\n",
       "      <td>0.805320</td>\n",
       "    </tr>\n",
       "    <tr>\n",
       "      <th>0</th>\n",
       "      <td>0.7</td>\n",
       "      <td>5</td>\n",
       "      <td>9</td>\n",
       "      <td>0.025</td>\n",
       "      <td>0.805644</td>\n",
       "    </tr>\n",
       "    <tr>\n",
       "      <th>0</th>\n",
       "      <td>1.0</td>\n",
       "      <td>5</td>\n",
       "      <td>15</td>\n",
       "      <td>0.025</td>\n",
       "      <td>0.806302</td>\n",
       "    </tr>\n",
       "    <tr>\n",
       "      <th>0</th>\n",
       "      <td>0.6</td>\n",
       "      <td>3</td>\n",
       "      <td>7</td>\n",
       "      <td>0.050</td>\n",
       "      <td>0.811750</td>\n",
       "    </tr>\n",
       "    <tr>\n",
       "      <th>0</th>\n",
       "      <td>0.9</td>\n",
       "      <td>5</td>\n",
       "      <td>7</td>\n",
       "      <td>0.050</td>\n",
       "      <td>0.812950</td>\n",
       "    </tr>\n",
       "    <tr>\n",
       "      <th>0</th>\n",
       "      <td>0.8</td>\n",
       "      <td>1</td>\n",
       "      <td>7</td>\n",
       "      <td>0.050</td>\n",
       "      <td>0.813714</td>\n",
       "    </tr>\n",
       "    <tr>\n",
       "      <th>0</th>\n",
       "      <td>0.6</td>\n",
       "      <td>1</td>\n",
       "      <td>5</td>\n",
       "      <td>0.100</td>\n",
       "      <td>0.815676</td>\n",
       "    </tr>\n",
       "    <tr>\n",
       "      <th>0</th>\n",
       "      <td>0.9</td>\n",
       "      <td>5</td>\n",
       "      <td>15</td>\n",
       "      <td>0.050</td>\n",
       "      <td>0.816221</td>\n",
       "    </tr>\n",
       "    <tr>\n",
       "      <th>0</th>\n",
       "      <td>0.6</td>\n",
       "      <td>5</td>\n",
       "      <td>17</td>\n",
       "      <td>0.100</td>\n",
       "      <td>0.821017</td>\n",
       "    </tr>\n",
       "  </tbody>\n",
       "</table>\n",
       "</div>"
      ],
      "text/plain": [
       "   subsample  min_child_weight  max_depth  learning_rate  mean_test_score\n",
       "0        0.6                 7         25          0.010         0.786353\n",
       "0        1.0                 7         12          0.015         0.789080\n",
       "0        0.7                 3          7          0.015         0.791912\n",
       "0        1.0                 3          9          0.015         0.794202\n",
       "0        0.7                 1          7          0.010         0.796055\n",
       "0        0.7                 3         12          0.010         0.796818\n",
       "0        0.9                 3         12          0.010         0.797907\n",
       "0        0.6                 7         15          0.025         0.799761\n",
       "0        0.9                 1         25          0.025         0.803357\n",
       "0        0.8                 5          9          0.015         0.803358\n",
       "0        0.9                 1         25          0.010         0.804339\n",
       "0        1.0                 7         12          0.025         0.805320\n",
       "0        0.7                 5          9          0.025         0.805644\n",
       "0        1.0                 5         15          0.025         0.806302\n",
       "0        0.6                 3          7          0.050         0.811750\n",
       "0        0.9                 5          7          0.050         0.812950\n",
       "0        0.8                 1          7          0.050         0.813714\n",
       "0        0.6                 1          5          0.100         0.815676\n",
       "0        0.9                 5         15          0.050         0.816221\n",
       "0        0.6                 5         17          0.100         0.821017"
      ]
     },
     "execution_count": 20,
     "metadata": {},
     "output_type": "execute_result"
    }
   ],
   "source": [
    "xgb_param_table.sort_values(by='mean_test_score', axis=0)"
   ]
  }
 ],
 "metadata": {
  "kernelspec": {
   "display_name": "Python 3",
   "language": "python",
   "name": "python3"
  },
  "language_info": {
   "codemirror_mode": {
    "name": "ipython",
    "version": 3
   },
   "file_extension": ".py",
   "mimetype": "text/x-python",
   "name": "python",
   "nbconvert_exporter": "python",
   "pygments_lexer": "ipython3",
   "version": "3.6.9"
  }
 },
 "nbformat": 4,
 "nbformat_minor": 4
}
