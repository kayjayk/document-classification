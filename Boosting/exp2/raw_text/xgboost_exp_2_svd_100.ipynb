{
 "cells": [
  {
   "cell_type": "markdown",
   "metadata": {},
   "source": [
    "## Data Handling"
   ]
  },
  {
   "cell_type": "code",
   "execution_count": 9,
   "metadata": {},
   "outputs": [],
   "source": [
    "from sklearn.feature_extraction.text import TfidfVectorizer\n",
    "from sklearn.decomposition import TruncatedSVD\n",
    "import pandas as pd\n",
    "import numpy as np\n",
    "np.random.seed(4444)"
   ]
  },
  {
   "cell_type": "code",
   "execution_count": 2,
   "metadata": {},
   "outputs": [
    {
     "data": {
      "text/html": [
       "<div>\n",
       "<style scoped>\n",
       "    .dataframe tbody tr th:only-of-type {\n",
       "        vertical-align: middle;\n",
       "    }\n",
       "\n",
       "    .dataframe tbody tr th {\n",
       "        vertical-align: top;\n",
       "    }\n",
       "\n",
       "    .dataframe thead th {\n",
       "        text-align: right;\n",
       "    }\n",
       "</style>\n",
       "<table border=\"1\" class=\"dataframe\">\n",
       "  <thead>\n",
       "    <tr style=\"text-align: right;\">\n",
       "      <th></th>\n",
       "      <th>file_name</th>\n",
       "      <th>label</th>\n",
       "      <th>raw_text</th>\n",
       "      <th>dataset_n</th>\n",
       "      <th>train_val_test</th>\n",
       "    </tr>\n",
       "  </thead>\n",
       "  <tbody>\n",
       "    <tr>\n",
       "      <th>0</th>\n",
       "      <td>R1509261.txt</td>\n",
       "      <td>0</td>\n",
       "      <td>보 도 자 료\\nhttp://www.msip.go.kr 보도일시 2015. 9. 4...</td>\n",
       "      <td>0</td>\n",
       "      <td>0</td>\n",
       "    </tr>\n",
       "    <tr>\n",
       "      <th>1</th>\n",
       "      <td>R2003733.txt</td>\n",
       "      <td>0</td>\n",
       "      <td>보도일시 2020. 3. 18.(수) 조간(온라인 3. 17. 12:00)부터 보도...</td>\n",
       "      <td>0</td>\n",
       "      <td>0</td>\n",
       "    </tr>\n",
       "    <tr>\n",
       "      <th>2</th>\n",
       "      <td>D1507076-1.txt</td>\n",
       "      <td>0</td>\n",
       "      <td>보 도 자 료\\nhttp://www.msip.go.kr 보도일시 2015. 7. 1...</td>\n",
       "      <td>0</td>\n",
       "      <td>0</td>\n",
       "    </tr>\n",
       "    <tr>\n",
       "      <th>3</th>\n",
       "      <td>R2005031.txt</td>\n",
       "      <td>0</td>\n",
       "      <td>보 도 자 료\\n배포일시 2020. 4. 29.(수) 총 4매(본문2) 담당 부서 ...</td>\n",
       "      <td>0</td>\n",
       "      <td>0</td>\n",
       "    </tr>\n",
       "    <tr>\n",
       "      <th>4</th>\n",
       "      <td>R2006226.txt</td>\n",
       "      <td>0</td>\n",
       "      <td>&lt;전매체&gt; 2020년 6월 3일(수) 10:00(국무회의 개최시)부터 보도하여 주시...</td>\n",
       "      <td>0</td>\n",
       "      <td>0</td>\n",
       "    </tr>\n",
       "  </tbody>\n",
       "</table>\n",
       "</div>"
      ],
      "text/plain": [
       "        file_name  label                                           raw_text  \\\n",
       "0    R1509261.txt      0  보 도 자 료\\nhttp://www.msip.go.kr 보도일시 2015. 9. 4...   \n",
       "1    R2003733.txt      0  보도일시 2020. 3. 18.(수) 조간(온라인 3. 17. 12:00)부터 보도...   \n",
       "2  D1507076-1.txt      0  보 도 자 료\\nhttp://www.msip.go.kr 보도일시 2015. 7. 1...   \n",
       "3    R2005031.txt      0  보 도 자 료\\n배포일시 2020. 4. 29.(수) 총 4매(본문2) 담당 부서 ...   \n",
       "4    R2006226.txt      0  <전매체> 2020년 6월 3일(수) 10:00(국무회의 개최시)부터 보도하여 주시...   \n",
       "\n",
       "   dataset_n  train_val_test  \n",
       "0          0               0  \n",
       "1          0               0  \n",
       "2          0               0  \n",
       "3          0               0  \n",
       "4          0               0  "
      ]
     },
     "execution_count": 2,
     "metadata": {},
     "output_type": "execute_result"
    }
   ],
   "source": [
    "df = pd.read_csv('../../../../jaeyeun/01_nh_poc/15_split_data_set_and_make_json_for_train_test_set/split_70_15_15.csv')\n",
    "\n",
    "df.head()"
   ]
  },
  {
   "cell_type": "markdown",
   "metadata": {},
   "source": [
    "* Train : KDI 70+15 (train+val)\n",
    "* Val : KDI 15(test)\n",
    "* Test : legal 273(train+val+test)"
   ]
  },
  {
   "cell_type": "code",
   "execution_count": 3,
   "metadata": {},
   "outputs": [],
   "source": [
    "X_train_df = df[(df['dataset_n'] == 0) & ((df['train_val_test'] == 0) | (df['train_val_test'] == 1))]\n",
    "X_val_df = df[(df['dataset_n'] == 0) & (df['train_val_test'] == 2)]\n",
    "X_test_df = df[df['dataset_n'] != 0]\n",
    "y_train = df[(df['dataset_n'] == 0) & ((df['train_val_test'] == 0) | (df['train_val_test'] == 1))]['label']\n",
    "y_val = df[(df['dataset_n'] == 0) & (df['train_val_test'] == 2)]['label']\n",
    "y_test = df[df['dataset_n'] != 0]['label']"
   ]
  },
  {
   "cell_type": "code",
   "execution_count": 4,
   "metadata": {},
   "outputs": [
    {
     "name": "stdout",
     "output_type": "stream",
     "text": [
      "(9174, 5)\n",
      "(1626, 5)\n",
      "(273, 5)\n",
      "(9174,)\n",
      "(1626,)\n",
      "(273,)\n"
     ]
    }
   ],
   "source": [
    "print(X_train_df.shape)\n",
    "print(X_val_df.shape)\n",
    "print(X_test_df.shape)\n",
    "print(y_train.shape)\n",
    "print(y_val.shape)\n",
    "print(y_test.shape)"
   ]
  },
  {
   "cell_type": "code",
   "execution_count": 5,
   "metadata": {},
   "outputs": [],
   "source": [
    "n_features = 100000\n",
    "tfidf_vectorizer = TfidfVectorizer(\n",
    "    max_df=0.9, # 0.9 만큼의 문서 이상에서 나오면 거른다.\n",
    "    min_df=5, # 5개 미만의 문서에서 나오면 거른다.\n",
    "    sublinear_tf = True, # tf value를 완만하게 처리 (outlier 처리 효과)\n",
    "    ngram_range = (1, 3),\n",
    "    max_features=n_features)"
   ]
  },
  {
   "cell_type": "code",
   "execution_count": 6,
   "metadata": {},
   "outputs": [],
   "source": [
    "X_train_tfidf = tfidf_vectorizer.fit(X_train_df['raw_text'])\n",
    "# X_test_tfidf = tfidf_vectorizer.fit_transform(prep_text_test)\n",
    "# X_test_hash = hash_vectorizer.fit_transform(prep_text_test)"
   ]
  },
  {
   "cell_type": "code",
   "execution_count": 29,
   "metadata": {},
   "outputs": [],
   "source": [
    "X_train_tfidf_transformed = X_train_tfidf.transform(X_train_df['raw_text'])\n",
    "X_val_tfidf_transformed = X_train_tfidf.transform(X_val_df['raw_text'])\n",
    "X_test_tfidf_transformed = X_train_tfidf.transform(X_test_df['raw_text'])"
   ]
  },
  {
   "cell_type": "code",
   "execution_count": 30,
   "metadata": {},
   "outputs": [
    {
     "name": "stdout",
     "output_type": "stream",
     "text": [
      "(9174, 100000)\n",
      "(1626, 100000)\n",
      "(273, 100000)\n"
     ]
    }
   ],
   "source": [
    "print(X_train_tfidf_transformed.shape)\n",
    "print(X_val_tfidf_transformed.shape)\n",
    "print(X_test_tfidf_transformed.shape)"
   ]
  },
  {
   "cell_type": "code",
   "execution_count": 31,
   "metadata": {},
   "outputs": [
    {
     "data": {
      "text/plain": [
       "TruncatedSVD(n_components=100)"
      ]
     },
     "execution_count": 31,
     "metadata": {},
     "output_type": "execute_result"
    }
   ],
   "source": [
    "svd = TruncatedSVD(n_components=100)\n",
    "svd.fit(X_train_tfidf_transformed)"
   ]
  },
  {
   "cell_type": "code",
   "execution_count": 32,
   "metadata": {},
   "outputs": [],
   "source": [
    "X_train = svd.transform(X_train_tfidf_transformed)\n",
    "X_val = svd.transform(X_val_tfidf_transformed)\n",
    "X_test = svd.transform(X_test_tfidf_transformed)"
   ]
  },
  {
   "cell_type": "code",
   "execution_count": 15,
   "metadata": {},
   "outputs": [
    {
     "name": "stdout",
     "output_type": "stream",
     "text": [
      "(9174, 100)\n",
      "(1626, 100)\n",
      "(273, 100)\n"
     ]
    }
   ],
   "source": [
    "print(X_train.shape)\n",
    "print(X_val.shape)\n",
    "print(X_test.shape)"
   ]
  },
  {
   "cell_type": "markdown",
   "metadata": {},
   "source": [
    "## Classify"
   ]
  },
  {
   "cell_type": "markdown",
   "metadata": {},
   "source": [
    "* XGBoost RandomSearch"
   ]
  },
  {
   "cell_type": "code",
   "execution_count": 16,
   "metadata": {},
   "outputs": [],
   "source": [
    "from sklearn.model_selection import RandomizedSearchCV\n",
    "import xgboost as xgb"
   ]
  },
  {
   "cell_type": "code",
   "execution_count": 17,
   "metadata": {},
   "outputs": [
    {
     "name": "stdout",
     "output_type": "stream",
     "text": [
      "Fitting 5 folds for each of 20 candidates, totalling 100 fits\n"
     ]
    },
    {
     "name": "stderr",
     "output_type": "stream",
     "text": [
      "[Parallel(n_jobs=-1)]: Using backend LokyBackend with 32 concurrent workers.\n",
      "[Parallel(n_jobs=-1)]: Done   8 tasks      | elapsed:  1.7min\n",
      "[Parallel(n_jobs=-1)]: Done  21 tasks      | elapsed:  2.6min\n",
      "[Parallel(n_jobs=-1)]: Done  34 tasks      | elapsed:  3.3min\n",
      "[Parallel(n_jobs=-1)]: Done  48 out of 100 | elapsed:  4.6min remaining:  5.0min\n",
      "[Parallel(n_jobs=-1)]: Done  59 out of 100 | elapsed:  5.1min remaining:  3.6min\n",
      "[Parallel(n_jobs=-1)]: Done  70 out of 100 | elapsed:  6.0min remaining:  2.6min\n",
      "[Parallel(n_jobs=-1)]: Done  81 out of 100 | elapsed:  6.4min remaining:  1.5min\n",
      "[Parallel(n_jobs=-1)]: Done  92 out of 100 | elapsed:  6.9min remaining:   36.2s\n",
      "[Parallel(n_jobs=-1)]: Done 100 out of 100 | elapsed:  7.3min finished\n"
     ]
    },
    {
     "name": "stdout",
     "output_type": "stream",
     "text": [
      "[0]\tvalidation_0-merror:0.21648\tvalidation_1-merror:0.29028\n",
      "Multiple eval metrics have been passed: 'validation_1-merror' will be used for early stopping.\n",
      "\n",
      "Will train until validation_1-merror hasn't improved in 20 rounds.\n",
      "[1]\tvalidation_0-merror:0.18302\tvalidation_1-merror:0.25707\n",
      "[2]\tvalidation_0-merror:0.16634\tvalidation_1-merror:0.23555\n",
      "[3]\tvalidation_0-merror:0.15642\tvalidation_1-merror:0.23616\n",
      "[4]\tvalidation_0-merror:0.14639\tvalidation_1-merror:0.22694\n",
      "[5]\tvalidation_0-merror:0.14160\tvalidation_1-merror:0.22448\n",
      "[6]\tvalidation_0-merror:0.13713\tvalidation_1-merror:0.22017\n",
      "[7]\tvalidation_0-merror:0.13342\tvalidation_1-merror:0.22017\n",
      "[8]\tvalidation_0-merror:0.12819\tvalidation_1-merror:0.21771\n",
      "[9]\tvalidation_0-merror:0.12612\tvalidation_1-merror:0.21464\n",
      "[10]\tvalidation_0-merror:0.12198\tvalidation_1-merror:0.21218\n",
      "[11]\tvalidation_0-merror:0.11947\tvalidation_1-merror:0.21218\n",
      "[12]\tvalidation_0-merror:0.11347\tvalidation_1-merror:0.20849\n",
      "[13]\tvalidation_0-merror:0.10998\tvalidation_1-merror:0.20787\n",
      "[14]\tvalidation_0-merror:0.10748\tvalidation_1-merror:0.20726\n",
      "[15]\tvalidation_0-merror:0.10344\tvalidation_1-merror:0.20664\n",
      "[16]\tvalidation_0-merror:0.09996\tvalidation_1-merror:0.20541\n",
      "[17]\tvalidation_0-merror:0.09788\tvalidation_1-merror:0.20664\n",
      "[18]\tvalidation_0-merror:0.09560\tvalidation_1-merror:0.20603\n",
      "[19]\tvalidation_0-merror:0.09211\tvalidation_1-merror:0.20541\n",
      "[20]\tvalidation_0-merror:0.08938\tvalidation_1-merror:0.20418\n",
      "[21]\tvalidation_0-merror:0.08699\tvalidation_1-merror:0.20418\n",
      "[22]\tvalidation_0-merror:0.08350\tvalidation_1-merror:0.20480\n",
      "[23]\tvalidation_0-merror:0.08088\tvalidation_1-merror:0.20049\n",
      "[24]\tvalidation_0-merror:0.07717\tvalidation_1-merror:0.20111\n",
      "[25]\tvalidation_0-merror:0.07532\tvalidation_1-merror:0.20111\n",
      "[26]\tvalidation_0-merror:0.07249\tvalidation_1-merror:0.19680\n",
      "[27]\tvalidation_0-merror:0.06769\tvalidation_1-merror:0.19680\n",
      "[28]\tvalidation_0-merror:0.06606\tvalidation_1-merror:0.19865\n",
      "[29]\tvalidation_0-merror:0.06518\tvalidation_1-merror:0.19803\n",
      "[30]\tvalidation_0-merror:0.06257\tvalidation_1-merror:0.19865\n",
      "[31]\tvalidation_0-merror:0.06093\tvalidation_1-merror:0.19619\n",
      "[32]\tvalidation_0-merror:0.05810\tvalidation_1-merror:0.19865\n",
      "[33]\tvalidation_0-merror:0.05603\tvalidation_1-merror:0.19742\n",
      "[34]\tvalidation_0-merror:0.05385\tvalidation_1-merror:0.19742\n",
      "[35]\tvalidation_0-merror:0.05232\tvalidation_1-merror:0.19803\n",
      "[36]\tvalidation_0-merror:0.04960\tvalidation_1-merror:0.19557\n",
      "[37]\tvalidation_0-merror:0.04829\tvalidation_1-merror:0.19680\n",
      "[38]\tvalidation_0-merror:0.04622\tvalidation_1-merror:0.19742\n",
      "[39]\tvalidation_0-merror:0.04535\tvalidation_1-merror:0.19373\n",
      "[40]\tvalidation_0-merror:0.04284\tvalidation_1-merror:0.19680\n",
      "[41]\tvalidation_0-merror:0.04186\tvalidation_1-merror:0.19434\n",
      "[42]\tvalidation_0-merror:0.03989\tvalidation_1-merror:0.19250\n",
      "[43]\tvalidation_0-merror:0.03826\tvalidation_1-merror:0.19311\n",
      "[44]\tvalidation_0-merror:0.03586\tvalidation_1-merror:0.19373\n",
      "[45]\tvalidation_0-merror:0.03477\tvalidation_1-merror:0.19250\n",
      "[46]\tvalidation_0-merror:0.03368\tvalidation_1-merror:0.19065\n",
      "[47]\tvalidation_0-merror:0.03161\tvalidation_1-merror:0.19311\n",
      "[48]\tvalidation_0-merror:0.02976\tvalidation_1-merror:0.19004\n",
      "[49]\tvalidation_0-merror:0.02790\tvalidation_1-merror:0.19127\n",
      "[50]\tvalidation_0-merror:0.02714\tvalidation_1-merror:0.19188\n",
      "[51]\tvalidation_0-merror:0.02562\tvalidation_1-merror:0.19004\n",
      "[52]\tvalidation_0-merror:0.02376\tvalidation_1-merror:0.18942\n",
      "[53]\tvalidation_0-merror:0.02235\tvalidation_1-merror:0.18819\n",
      "[54]\tvalidation_0-merror:0.02104\tvalidation_1-merror:0.18942\n",
      "[55]\tvalidation_0-merror:0.01984\tvalidation_1-merror:0.19065\n",
      "[56]\tvalidation_0-merror:0.01908\tvalidation_1-merror:0.18881\n",
      "[57]\tvalidation_0-merror:0.01766\tvalidation_1-merror:0.18758\n",
      "[58]\tvalidation_0-merror:0.01668\tvalidation_1-merror:0.18819\n",
      "[59]\tvalidation_0-merror:0.01635\tvalidation_1-merror:0.18819\n",
      "[60]\tvalidation_0-merror:0.01450\tvalidation_1-merror:0.18696\n",
      "[61]\tvalidation_0-merror:0.01493\tvalidation_1-merror:0.18819\n",
      "[62]\tvalidation_0-merror:0.01384\tvalidation_1-merror:0.18758\n",
      "[63]\tvalidation_0-merror:0.01264\tvalidation_1-merror:0.18573\n",
      "[64]\tvalidation_0-merror:0.01155\tvalidation_1-merror:0.18635\n",
      "[65]\tvalidation_0-merror:0.01079\tvalidation_1-merror:0.18512\n",
      "[66]\tvalidation_0-merror:0.01057\tvalidation_1-merror:0.18450\n",
      "[67]\tvalidation_0-merror:0.00981\tvalidation_1-merror:0.18512\n",
      "[68]\tvalidation_0-merror:0.00970\tvalidation_1-merror:0.18450\n",
      "[69]\tvalidation_0-merror:0.00937\tvalidation_1-merror:0.18512\n",
      "[70]\tvalidation_0-merror:0.00872\tvalidation_1-merror:0.18389\n",
      "[71]\tvalidation_0-merror:0.00828\tvalidation_1-merror:0.18266\n",
      "[72]\tvalidation_0-merror:0.00774\tvalidation_1-merror:0.18512\n",
      "[73]\tvalidation_0-merror:0.00709\tvalidation_1-merror:0.18327\n",
      "[74]\tvalidation_0-merror:0.00719\tvalidation_1-merror:0.18389\n",
      "[75]\tvalidation_0-merror:0.00643\tvalidation_1-merror:0.18327\n",
      "[76]\tvalidation_0-merror:0.00632\tvalidation_1-merror:0.18389\n",
      "[77]\tvalidation_0-merror:0.00545\tvalidation_1-merror:0.18204\n",
      "[78]\tvalidation_0-merror:0.00534\tvalidation_1-merror:0.18266\n",
      "[79]\tvalidation_0-merror:0.00534\tvalidation_1-merror:0.18266\n",
      "[80]\tvalidation_0-merror:0.00480\tvalidation_1-merror:0.18389\n",
      "[81]\tvalidation_0-merror:0.00458\tvalidation_1-merror:0.18266\n",
      "[82]\tvalidation_0-merror:0.00458\tvalidation_1-merror:0.18266\n",
      "[83]\tvalidation_0-merror:0.00425\tvalidation_1-merror:0.18327\n",
      "[84]\tvalidation_0-merror:0.00403\tvalidation_1-merror:0.18450\n",
      "[85]\tvalidation_0-merror:0.00371\tvalidation_1-merror:0.18389\n",
      "[86]\tvalidation_0-merror:0.00349\tvalidation_1-merror:0.18450\n",
      "[87]\tvalidation_0-merror:0.00338\tvalidation_1-merror:0.18266\n",
      "[88]\tvalidation_0-merror:0.00316\tvalidation_1-merror:0.18450\n",
      "[89]\tvalidation_0-merror:0.00305\tvalidation_1-merror:0.18512\n",
      "[90]\tvalidation_0-merror:0.00283\tvalidation_1-merror:0.18450\n",
      "[91]\tvalidation_0-merror:0.00251\tvalidation_1-merror:0.18512\n",
      "[92]\tvalidation_0-merror:0.00251\tvalidation_1-merror:0.18327\n",
      "[93]\tvalidation_0-merror:0.00251\tvalidation_1-merror:0.18389\n",
      "[94]\tvalidation_0-merror:0.00251\tvalidation_1-merror:0.18327\n",
      "[95]\tvalidation_0-merror:0.00218\tvalidation_1-merror:0.18389\n",
      "[96]\tvalidation_0-merror:0.00196\tvalidation_1-merror:0.18389\n",
      "[97]\tvalidation_0-merror:0.00185\tvalidation_1-merror:0.18512\n",
      "Stopping. Best iteration:\n",
      "[77]\tvalidation_0-merror:0.00545\tvalidation_1-merror:0.18204\n",
      "\n"
     ]
    },
    {
     "data": {
      "text/plain": [
       "RandomizedSearchCV(cv=5,\n",
       "                   estimator=XGBClassifier(base_score=None, booster=None,\n",
       "                                           colsample_bylevel=None,\n",
       "                                           colsample_bynode=None,\n",
       "                                           colsample_bytree=None, gamma=None,\n",
       "                                           gpu_id=None, importance_type='gain',\n",
       "                                           interaction_constraints=None,\n",
       "                                           learning_rate=None,\n",
       "                                           max_delta_step=None, max_depth=None,\n",
       "                                           min_child_weight=None, missing=nan,\n",
       "                                           monotone_constraints=None,\n",
       "                                           n_estimators=100,...\n",
       "                                           reg_lambda=None,\n",
       "                                           scale_pos_weight=None,\n",
       "                                           subsample=None, tree_method=None,\n",
       "                                           validate_parameters=None,\n",
       "                                           verbosity=None),\n",
       "                   n_iter=20, n_jobs=-1,\n",
       "                   param_distributions={'learning_rate': [0.01, 0.015, 0.025,\n",
       "                                                          0.05, 0.1],\n",
       "                                        'max_depth': [3, 5, 7, 9, 12, 15, 17,\n",
       "                                                      25],\n",
       "                                        'min_child_weight': [1, 3, 5, 7],\n",
       "                                        'subsample': array([0.6, 0.7, 0.8, 0.9, 1. ])},\n",
       "                   return_train_score=True, scoring='accuracy', verbose=10)"
      ]
     },
     "execution_count": 17,
     "metadata": {},
     "output_type": "execute_result"
    }
   ],
   "source": [
    "xgb_clf = xgb.XGBClassifier()\n",
    "\n",
    "xgb_param_grid = {'learning_rate': [.01, .015, .025, .05, .1],\n",
    "#                   'Gamma': [.05, .1, .3, .5, .7, .9, 1],\n",
    "                  'max_depth': [3, 5, 7, 9, 12, 15, 17, 25],\n",
    "                  'min_child_weight': [1, 3, 5, 7],\n",
    "                  'subsample': np.linspace(0.6, 1, 5)}\n",
    "\n",
    "fit_params = {\"early_stopping_rounds\" : 20,\n",
    "             \"eval_metric\" : \"merror\",\n",
    "             \"eval_set\" : [(X_train, y_train), (X_val, y_val)]}\n",
    "\n",
    "# Create a random search object\n",
    "xgb_random = RandomizedSearchCV(estimator = xgb_clf,\n",
    "                                param_distributions = xgb_param_grid,\n",
    "                                n_iter = 20, # n_iters in param combinations\n",
    "                                scoring='accuracy',\n",
    "                                n_jobs=-1,\n",
    "                                cv = 5,\n",
    "                                refit=True,\n",
    "                                return_train_score = True,\n",
    "                                verbose=10)\n",
    "\n",
    "# Fit to the training data\n",
    "xgb_random.fit(X_train, y_train, **fit_params)"
   ]
  },
  {
   "cell_type": "code",
   "execution_count": 18,
   "metadata": {},
   "outputs": [],
   "source": [
    "pred_train = xgb_random.best_estimator_.predict(X_train)\n",
    "pred_val = xgb_random.best_estimator_.predict(X_val)\n",
    "pred_test = xgb_random.best_estimator_.predict(X_test)"
   ]
  },
  {
   "cell_type": "code",
   "execution_count": 19,
   "metadata": {},
   "outputs": [],
   "source": [
    "from sklearn.metrics import accuracy_score"
   ]
  },
  {
   "cell_type": "code",
   "execution_count": 20,
   "metadata": {},
   "outputs": [
    {
     "name": "stdout",
     "output_type": "stream",
     "text": [
      "0.9945498146936996\n",
      "0.8179581795817958\n",
      "0.326007326007326\n"
     ]
    }
   ],
   "source": [
    "print(accuracy_score(y_train, pred_train))\n",
    "print(accuracy_score(y_val, pred_val))\n",
    "print(accuracy_score(y_test, pred_test))"
   ]
  },
  {
   "cell_type": "code",
   "execution_count": 21,
   "metadata": {},
   "outputs": [
    {
     "data": {
      "text/plain": [
       "XGBClassifier(base_score=0.5, booster='gbtree', colsample_bylevel=1,\n",
       "              colsample_bynode=1, colsample_bytree=1, gamma=0, gpu_id=-1,\n",
       "              importance_type='gain', interaction_constraints='',\n",
       "              learning_rate=0.1, max_delta_step=0, max_depth=9,\n",
       "              min_child_weight=3, missing=nan, monotone_constraints='()',\n",
       "              n_estimators=100, n_jobs=0, num_parallel_tree=1,\n",
       "              objective='multi:softprob', random_state=0, reg_alpha=0,\n",
       "              reg_lambda=1, scale_pos_weight=None, subsample=0.6,\n",
       "              tree_method='exact', validate_parameters=1, verbosity=None)"
      ]
     },
     "execution_count": 21,
     "metadata": {},
     "output_type": "execute_result"
    }
   ],
   "source": [
    "xgb_random.best_estimator_"
   ]
  },
  {
   "cell_type": "code",
   "execution_count": 22,
   "metadata": {},
   "outputs": [],
   "source": [
    "xgb_cv_result_df = pd.DataFrame(xgb_random.cv_results_)"
   ]
  },
  {
   "cell_type": "code",
   "execution_count": 23,
   "metadata": {},
   "outputs": [],
   "source": [
    "df_list = []\n",
    "for i in range(20):\n",
    "    df_list.append(pd.DataFrame([xgb_cv_result_df.loc[i, \"params\"]]))\n",
    "    \n",
    "xgb_param_table = pd.concat(df_list)"
   ]
  },
  {
   "cell_type": "code",
   "execution_count": 24,
   "metadata": {},
   "outputs": [],
   "source": [
    "xgb_param_table['mean_test_score'] = xgb_cv_result_df['mean_test_score'].values"
   ]
  },
  {
   "cell_type": "code",
   "execution_count": 25,
   "metadata": {},
   "outputs": [
    {
     "data": {
      "text/html": [
       "<div>\n",
       "<style scoped>\n",
       "    .dataframe tbody tr th:only-of-type {\n",
       "        vertical-align: middle;\n",
       "    }\n",
       "\n",
       "    .dataframe tbody tr th {\n",
       "        vertical-align: top;\n",
       "    }\n",
       "\n",
       "    .dataframe thead th {\n",
       "        text-align: right;\n",
       "    }\n",
       "</style>\n",
       "<table border=\"1\" class=\"dataframe\">\n",
       "  <thead>\n",
       "    <tr style=\"text-align: right;\">\n",
       "      <th></th>\n",
       "      <th>subsample</th>\n",
       "      <th>min_child_weight</th>\n",
       "      <th>max_depth</th>\n",
       "      <th>learning_rate</th>\n",
       "      <th>mean_test_score</th>\n",
       "    </tr>\n",
       "  </thead>\n",
       "  <tbody>\n",
       "    <tr>\n",
       "      <th>0</th>\n",
       "      <td>1.0</td>\n",
       "      <td>7</td>\n",
       "      <td>3</td>\n",
       "      <td>0.010</td>\n",
       "      <td>0.709941</td>\n",
       "    </tr>\n",
       "    <tr>\n",
       "      <th>0</th>\n",
       "      <td>0.9</td>\n",
       "      <td>7</td>\n",
       "      <td>3</td>\n",
       "      <td>0.025</td>\n",
       "      <td>0.743842</td>\n",
       "    </tr>\n",
       "    <tr>\n",
       "      <th>0</th>\n",
       "      <td>0.6</td>\n",
       "      <td>7</td>\n",
       "      <td>5</td>\n",
       "      <td>0.015</td>\n",
       "      <td>0.765098</td>\n",
       "    </tr>\n",
       "    <tr>\n",
       "      <th>0</th>\n",
       "      <td>0.6</td>\n",
       "      <td>7</td>\n",
       "      <td>7</td>\n",
       "      <td>0.010</td>\n",
       "      <td>0.772729</td>\n",
       "    </tr>\n",
       "    <tr>\n",
       "      <th>0</th>\n",
       "      <td>1.0</td>\n",
       "      <td>3</td>\n",
       "      <td>5</td>\n",
       "      <td>0.025</td>\n",
       "      <td>0.774036</td>\n",
       "    </tr>\n",
       "    <tr>\n",
       "      <th>0</th>\n",
       "      <td>1.0</td>\n",
       "      <td>5</td>\n",
       "      <td>9</td>\n",
       "      <td>0.010</td>\n",
       "      <td>0.775888</td>\n",
       "    </tr>\n",
       "    <tr>\n",
       "      <th>0</th>\n",
       "      <td>1.0</td>\n",
       "      <td>7</td>\n",
       "      <td>25</td>\n",
       "      <td>0.010</td>\n",
       "      <td>0.776652</td>\n",
       "    </tr>\n",
       "    <tr>\n",
       "      <th>0</th>\n",
       "      <td>1.0</td>\n",
       "      <td>3</td>\n",
       "      <td>25</td>\n",
       "      <td>0.010</td>\n",
       "      <td>0.777741</td>\n",
       "    </tr>\n",
       "    <tr>\n",
       "      <th>0</th>\n",
       "      <td>1.0</td>\n",
       "      <td>5</td>\n",
       "      <td>7</td>\n",
       "      <td>0.025</td>\n",
       "      <td>0.777742</td>\n",
       "    </tr>\n",
       "    <tr>\n",
       "      <th>0</th>\n",
       "      <td>0.7</td>\n",
       "      <td>7</td>\n",
       "      <td>12</td>\n",
       "      <td>0.010</td>\n",
       "      <td>0.780577</td>\n",
       "    </tr>\n",
       "    <tr>\n",
       "      <th>0</th>\n",
       "      <td>1.0</td>\n",
       "      <td>7</td>\n",
       "      <td>15</td>\n",
       "      <td>0.025</td>\n",
       "      <td>0.784065</td>\n",
       "    </tr>\n",
       "    <tr>\n",
       "      <th>0</th>\n",
       "      <td>0.8</td>\n",
       "      <td>7</td>\n",
       "      <td>25</td>\n",
       "      <td>0.025</td>\n",
       "      <td>0.784718</td>\n",
       "    </tr>\n",
       "    <tr>\n",
       "      <th>0</th>\n",
       "      <td>0.6</td>\n",
       "      <td>1</td>\n",
       "      <td>9</td>\n",
       "      <td>0.010</td>\n",
       "      <td>0.787225</td>\n",
       "    </tr>\n",
       "    <tr>\n",
       "      <th>0</th>\n",
       "      <td>0.8</td>\n",
       "      <td>5</td>\n",
       "      <td>17</td>\n",
       "      <td>0.015</td>\n",
       "      <td>0.788098</td>\n",
       "    </tr>\n",
       "    <tr>\n",
       "      <th>0</th>\n",
       "      <td>0.7</td>\n",
       "      <td>3</td>\n",
       "      <td>9</td>\n",
       "      <td>0.025</td>\n",
       "      <td>0.788642</td>\n",
       "    </tr>\n",
       "    <tr>\n",
       "      <th>0</th>\n",
       "      <td>0.8</td>\n",
       "      <td>7</td>\n",
       "      <td>17</td>\n",
       "      <td>0.025</td>\n",
       "      <td>0.789188</td>\n",
       "    </tr>\n",
       "    <tr>\n",
       "      <th>0</th>\n",
       "      <td>0.6</td>\n",
       "      <td>1</td>\n",
       "      <td>12</td>\n",
       "      <td>0.010</td>\n",
       "      <td>0.789405</td>\n",
       "    </tr>\n",
       "    <tr>\n",
       "      <th>0</th>\n",
       "      <td>0.9</td>\n",
       "      <td>7</td>\n",
       "      <td>17</td>\n",
       "      <td>0.050</td>\n",
       "      <td>0.797144</td>\n",
       "    </tr>\n",
       "    <tr>\n",
       "      <th>0</th>\n",
       "      <td>0.6</td>\n",
       "      <td>3</td>\n",
       "      <td>7</td>\n",
       "      <td>0.050</td>\n",
       "      <td>0.799761</td>\n",
       "    </tr>\n",
       "    <tr>\n",
       "      <th>0</th>\n",
       "      <td>0.6</td>\n",
       "      <td>3</td>\n",
       "      <td>9</td>\n",
       "      <td>0.100</td>\n",
       "      <td>0.802267</td>\n",
       "    </tr>\n",
       "  </tbody>\n",
       "</table>\n",
       "</div>"
      ],
      "text/plain": [
       "   subsample  min_child_weight  max_depth  learning_rate  mean_test_score\n",
       "0        1.0                 7          3          0.010         0.709941\n",
       "0        0.9                 7          3          0.025         0.743842\n",
       "0        0.6                 7          5          0.015         0.765098\n",
       "0        0.6                 7          7          0.010         0.772729\n",
       "0        1.0                 3          5          0.025         0.774036\n",
       "0        1.0                 5          9          0.010         0.775888\n",
       "0        1.0                 7         25          0.010         0.776652\n",
       "0        1.0                 3         25          0.010         0.777741\n",
       "0        1.0                 5          7          0.025         0.777742\n",
       "0        0.7                 7         12          0.010         0.780577\n",
       "0        1.0                 7         15          0.025         0.784065\n",
       "0        0.8                 7         25          0.025         0.784718\n",
       "0        0.6                 1          9          0.010         0.787225\n",
       "0        0.8                 5         17          0.015         0.788098\n",
       "0        0.7                 3          9          0.025         0.788642\n",
       "0        0.8                 7         17          0.025         0.789188\n",
       "0        0.6                 1         12          0.010         0.789405\n",
       "0        0.9                 7         17          0.050         0.797144\n",
       "0        0.6                 3          7          0.050         0.799761\n",
       "0        0.6                 3          9          0.100         0.802267"
      ]
     },
     "execution_count": 25,
     "metadata": {},
     "output_type": "execute_result"
    }
   ],
   "source": [
    "xgb_param_table.sort_values(by='mean_test_score', axis=0)"
   ]
  },
  {
   "cell_type": "code",
   "execution_count": null,
   "metadata": {},
   "outputs": [],
   "source": []
  }
 ],
 "metadata": {
  "kernelspec": {
   "display_name": "Python 3",
   "language": "python",
   "name": "python3"
  },
  "language_info": {
   "codemirror_mode": {
    "name": "ipython",
    "version": 3
   },
   "file_extension": ".py",
   "mimetype": "text/x-python",
   "name": "python",
   "nbconvert_exporter": "python",
   "pygments_lexer": "ipython3",
   "version": "3.6.9"
  }
 },
 "nbformat": 4,
 "nbformat_minor": 4
}
