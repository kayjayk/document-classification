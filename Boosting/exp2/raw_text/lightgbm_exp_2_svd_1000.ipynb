{
 "cells": [
  {
   "cell_type": "markdown",
   "metadata": {},
   "source": [
    "## Data Handling"
   ]
  },
  {
   "cell_type": "code",
   "execution_count": 10,
   "metadata": {},
   "outputs": [],
   "source": [
    "from sklearn.feature_extraction.text import TfidfVectorizer\n",
    "from sklearn.decomposition import TruncatedSVD\n",
    "import pandas as pd\n",
    "import numpy as np\n",
    "np.random.seed(4444)"
   ]
  },
  {
   "cell_type": "code",
   "execution_count": 11,
   "metadata": {},
   "outputs": [
    {
     "data": {
      "text/html": [
       "<div>\n",
       "<style scoped>\n",
       "    .dataframe tbody tr th:only-of-type {\n",
       "        vertical-align: middle;\n",
       "    }\n",
       "\n",
       "    .dataframe tbody tr th {\n",
       "        vertical-align: top;\n",
       "    }\n",
       "\n",
       "    .dataframe thead th {\n",
       "        text-align: right;\n",
       "    }\n",
       "</style>\n",
       "<table border=\"1\" class=\"dataframe\">\n",
       "  <thead>\n",
       "    <tr style=\"text-align: right;\">\n",
       "      <th></th>\n",
       "      <th>file_name</th>\n",
       "      <th>label</th>\n",
       "      <th>raw_text</th>\n",
       "      <th>dataset_n</th>\n",
       "      <th>train_val_test</th>\n",
       "    </tr>\n",
       "  </thead>\n",
       "  <tbody>\n",
       "    <tr>\n",
       "      <th>0</th>\n",
       "      <td>R1509261.txt</td>\n",
       "      <td>0</td>\n",
       "      <td>보 도 자 료\\nhttp://www.msip.go.kr 보도일시 2015. 9. 4...</td>\n",
       "      <td>0</td>\n",
       "      <td>0</td>\n",
       "    </tr>\n",
       "    <tr>\n",
       "      <th>1</th>\n",
       "      <td>R2003733.txt</td>\n",
       "      <td>0</td>\n",
       "      <td>보도일시 2020. 3. 18.(수) 조간(온라인 3. 17. 12:00)부터 보도...</td>\n",
       "      <td>0</td>\n",
       "      <td>0</td>\n",
       "    </tr>\n",
       "    <tr>\n",
       "      <th>2</th>\n",
       "      <td>D1507076-1.txt</td>\n",
       "      <td>0</td>\n",
       "      <td>보 도 자 료\\nhttp://www.msip.go.kr 보도일시 2015. 7. 1...</td>\n",
       "      <td>0</td>\n",
       "      <td>0</td>\n",
       "    </tr>\n",
       "    <tr>\n",
       "      <th>3</th>\n",
       "      <td>R2005031.txt</td>\n",
       "      <td>0</td>\n",
       "      <td>보 도 자 료\\n배포일시 2020. 4. 29.(수) 총 4매(본문2) 담당 부서 ...</td>\n",
       "      <td>0</td>\n",
       "      <td>0</td>\n",
       "    </tr>\n",
       "    <tr>\n",
       "      <th>4</th>\n",
       "      <td>R2006226.txt</td>\n",
       "      <td>0</td>\n",
       "      <td>&lt;전매체&gt; 2020년 6월 3일(수) 10:00(국무회의 개최시)부터 보도하여 주시...</td>\n",
       "      <td>0</td>\n",
       "      <td>0</td>\n",
       "    </tr>\n",
       "  </tbody>\n",
       "</table>\n",
       "</div>"
      ],
      "text/plain": [
       "        file_name  label                                           raw_text  \\\n",
       "0    R1509261.txt      0  보 도 자 료\\nhttp://www.msip.go.kr 보도일시 2015. 9. 4...   \n",
       "1    R2003733.txt      0  보도일시 2020. 3. 18.(수) 조간(온라인 3. 17. 12:00)부터 보도...   \n",
       "2  D1507076-1.txt      0  보 도 자 료\\nhttp://www.msip.go.kr 보도일시 2015. 7. 1...   \n",
       "3    R2005031.txt      0  보 도 자 료\\n배포일시 2020. 4. 29.(수) 총 4매(본문2) 담당 부서 ...   \n",
       "4    R2006226.txt      0  <전매체> 2020년 6월 3일(수) 10:00(국무회의 개최시)부터 보도하여 주시...   \n",
       "\n",
       "   dataset_n  train_val_test  \n",
       "0          0               0  \n",
       "1          0               0  \n",
       "2          0               0  \n",
       "3          0               0  \n",
       "4          0               0  "
      ]
     },
     "execution_count": 11,
     "metadata": {},
     "output_type": "execute_result"
    }
   ],
   "source": [
    "df = pd.read_csv('../../../../../jaeyeun/01_nh_poc/15_split_data_set_and_make_json_for_train_test_set/split_70_15_15.csv')\n",
    "\n",
    "df.head()"
   ]
  },
  {
   "cell_type": "markdown",
   "metadata": {},
   "source": [
    "* Train : KDI 70+15 (train+val)\n",
    "* Val : KDI 15(test)\n",
    "* Test : legal 273(train+val+test)"
   ]
  },
  {
   "cell_type": "code",
   "execution_count": 12,
   "metadata": {},
   "outputs": [],
   "source": [
    "X_train_df = df[(df['dataset_n'] == 0) & ((df['train_val_test'] == 0) | (df['train_val_test'] == 1))]\n",
    "X_val_df = df[(df['dataset_n'] == 0) & (df['train_val_test'] == 2)]\n",
    "X_test_df = df[df['dataset_n'] != 0]\n",
    "y_train = df[(df['dataset_n'] == 0) & ((df['train_val_test'] == 0) | (df['train_val_test'] == 1))]['label']\n",
    "y_val = df[(df['dataset_n'] == 0) & (df['train_val_test'] == 2)]['label']\n",
    "y_test = df[df['dataset_n'] != 0]['label']"
   ]
  },
  {
   "cell_type": "code",
   "execution_count": 13,
   "metadata": {},
   "outputs": [
    {
     "name": "stdout",
     "output_type": "stream",
     "text": [
      "(9174, 5)\n",
      "(1626, 5)\n",
      "(273, 5)\n",
      "(9174,)\n",
      "(1626,)\n",
      "(273,)\n"
     ]
    }
   ],
   "source": [
    "print(X_train_df.shape)\n",
    "print(X_val_df.shape)\n",
    "print(X_test_df.shape)\n",
    "print(y_train.shape)\n",
    "print(y_val.shape)\n",
    "print(y_test.shape)"
   ]
  },
  {
   "cell_type": "code",
   "execution_count": 14,
   "metadata": {},
   "outputs": [],
   "source": [
    "n_features = 100000\n",
    "tfidf_vectorizer = TfidfVectorizer(\n",
    "    max_df=0.9, # 0.9 만큼의 문서 이상에서 나오면 거른다.\n",
    "    min_df=5, # 5개 미만의 문서에서 나오면 거른다.\n",
    "    sublinear_tf = True, # tf value를 완만하게 처리 (outlier 처리 효과)\n",
    "    ngram_range = (1, 3),\n",
    "    max_features=n_features)"
   ]
  },
  {
   "cell_type": "code",
   "execution_count": 15,
   "metadata": {},
   "outputs": [],
   "source": [
    "X_train_tfidf = tfidf_vectorizer.fit(X_train_df['raw_text'])\n",
    "# X_test_tfidf = tfidf_vectorizer.fit_transform(prep_text_test)\n",
    "# X_test_hash = hash_vectorizer.fit_transform(prep_text_test)"
   ]
  },
  {
   "cell_type": "code",
   "execution_count": 16,
   "metadata": {},
   "outputs": [],
   "source": [
    "X_train_tfidf_transformed = X_train_tfidf.transform(X_train_df['raw_text'])\n",
    "X_val_tfidf_transformed = X_train_tfidf.transform(X_val_df['raw_text'])\n",
    "X_test_tfidf_transformed = X_train_tfidf.transform(X_test_df['raw_text'])"
   ]
  },
  {
   "cell_type": "code",
   "execution_count": 17,
   "metadata": {},
   "outputs": [
    {
     "name": "stdout",
     "output_type": "stream",
     "text": [
      "(9174, 100000)\n",
      "(1626, 100000)\n",
      "(273, 100000)\n"
     ]
    }
   ],
   "source": [
    "print(X_train_tfidf_transformed.shape)\n",
    "print(X_val_tfidf_transformed.shape)\n",
    "print(X_test_tfidf_transformed.shape)"
   ]
  },
  {
   "cell_type": "code",
   "execution_count": 18,
   "metadata": {},
   "outputs": [
    {
     "data": {
      "text/plain": [
       "TruncatedSVD(n_components=1000)"
      ]
     },
     "execution_count": 18,
     "metadata": {},
     "output_type": "execute_result"
    }
   ],
   "source": [
    "svd = TruncatedSVD(n_components=1000)\n",
    "svd.fit(X_train_tfidf_transformed)"
   ]
  },
  {
   "cell_type": "code",
   "execution_count": 19,
   "metadata": {},
   "outputs": [],
   "source": [
    "X_train = svd.transform(X_train_tfidf_transformed)\n",
    "X_val = svd.transform(X_val_tfidf_transformed)\n",
    "X_test = svd.transform(X_test_tfidf_transformed)"
   ]
  },
  {
   "cell_type": "code",
   "execution_count": 20,
   "metadata": {},
   "outputs": [
    {
     "name": "stdout",
     "output_type": "stream",
     "text": [
      "(9174, 1000)\n",
      "(1626, 1000)\n",
      "(273, 1000)\n"
     ]
    }
   ],
   "source": [
    "print(X_train.shape)\n",
    "print(X_val.shape)\n",
    "print(X_test.shape)"
   ]
  },
  {
   "cell_type": "markdown",
   "metadata": {},
   "source": [
    "## Classify"
   ]
  },
  {
   "cell_type": "markdown",
   "metadata": {},
   "source": [
    "* LightGBM RandomSearch"
   ]
  },
  {
   "cell_type": "code",
   "execution_count": 21,
   "metadata": {},
   "outputs": [],
   "source": [
    "from sklearn.model_selection import RandomizedSearchCV\n",
    "import lightgbm as lgbm"
   ]
  },
  {
   "cell_type": "code",
   "execution_count": 22,
   "metadata": {},
   "outputs": [
    {
     "name": "stdout",
     "output_type": "stream",
     "text": [
      "Fitting 5 folds for each of 20 candidates, totalling 100 fits\n"
     ]
    },
    {
     "name": "stderr",
     "output_type": "stream",
     "text": [
      "[Parallel(n_jobs=-1)]: Using backend LokyBackend with 32 concurrent workers.\n",
      "[Parallel(n_jobs=-1)]: Done   8 tasks      | elapsed: 10.5min\n",
      "[Parallel(n_jobs=-1)]: Done  21 tasks      | elapsed: 12.9min\n",
      "[Parallel(n_jobs=-1)]: Done  34 tasks      | elapsed: 16.7min\n",
      "[Parallel(n_jobs=-1)]: Done  48 out of 100 | elapsed: 22.8min remaining: 24.7min\n",
      "[Parallel(n_jobs=-1)]: Done  59 out of 100 | elapsed: 25.7min remaining: 17.9min\n",
      "[Parallel(n_jobs=-1)]: Done  70 out of 100 | elapsed: 30.3min remaining: 13.0min\n",
      "[Parallel(n_jobs=-1)]: Done  81 out of 100 | elapsed: 33.9min remaining:  7.9min\n",
      "[Parallel(n_jobs=-1)]: Done  92 out of 100 | elapsed: 36.7min remaining:  3.2min\n",
      "[Parallel(n_jobs=-1)]: Done 100 out of 100 | elapsed: 38.0min finished\n"
     ]
    },
    {
     "name": "stdout",
     "output_type": "stream",
     "text": [
      "[1]\ttraining's multi_error: 0.470896\ttraining's multi_logloss: 1.97775\tvalid_1's multi_error: 0.49385\tvalid_1's multi_logloss: 2.00752\n",
      "Training until validation scores don't improve for 20 rounds\n",
      "[2]\ttraining's multi_error: 0.279704\ttraining's multi_logloss: 1.77779\tvalid_1's multi_error: 0.343173\tvalid_1's multi_logloss: 1.82892\n",
      "[3]\ttraining's multi_error: 0.218443\ttraining's multi_logloss: 1.62131\tvalid_1's multi_error: 0.292743\tvalid_1's multi_logloss: 1.6922\n",
      "[4]\ttraining's multi_error: 0.193809\ttraining's multi_logloss: 1.49102\tvalid_1's multi_error: 0.266913\tvalid_1's multi_logloss: 1.57812\n",
      "[5]\ttraining's multi_error: 0.175169\ttraining's multi_logloss: 1.38034\tvalid_1's multi_error: 0.251538\tvalid_1's multi_logloss: 1.4837\n",
      "[6]\ttraining's multi_error: 0.164705\ttraining's multi_logloss: 1.28475\tvalid_1's multi_error: 0.243542\tvalid_1's multi_logloss: 1.40322\n",
      "[7]\ttraining's multi_error: 0.156202\ttraining's multi_logloss: 1.20095\tvalid_1's multi_error: 0.231242\tvalid_1's multi_logloss: 1.33112\n",
      "[8]\ttraining's multi_error: 0.149444\ttraining's multi_logloss: 1.12585\tvalid_1's multi_error: 0.228782\tvalid_1's multi_logloss: 1.26917\n",
      "[9]\ttraining's multi_error: 0.143558\ttraining's multi_logloss: 1.05801\tvalid_1's multi_error: 0.229397\tvalid_1's multi_logloss: 1.21412\n",
      "[10]\ttraining's multi_error: 0.137781\ttraining's multi_logloss: 0.996607\tvalid_1's multi_error: 0.226322\tvalid_1's multi_logloss: 1.16776\n",
      "[11]\ttraining's multi_error: 0.130804\ttraining's multi_logloss: 0.940576\tvalid_1's multi_error: 0.225092\tvalid_1's multi_logloss: 1.12364\n",
      "[12]\ttraining's multi_error: 0.126335\ttraining's multi_logloss: 0.889499\tvalid_1's multi_error: 0.222632\tvalid_1's multi_logloss: 1.08371\n",
      "[13]\ttraining's multi_error: 0.122629\ttraining's multi_logloss: 0.842334\tvalid_1's multi_error: 0.217097\tvalid_1's multi_logloss: 1.04694\n",
      "[14]\ttraining's multi_error: 0.117724\ttraining's multi_logloss: 0.799545\tvalid_1's multi_error: 0.218942\tvalid_1's multi_logloss: 1.01538\n",
      "[15]\ttraining's multi_error: 0.114345\ttraining's multi_logloss: 0.760158\tvalid_1's multi_error: 0.214637\tvalid_1's multi_logloss: 0.985458\n",
      "[16]\ttraining's multi_error: 0.110639\ttraining's multi_logloss: 0.723261\tvalid_1's multi_error: 0.212792\tvalid_1's multi_logloss: 0.957333\n",
      "[17]\ttraining's multi_error: 0.106388\ttraining's multi_logloss: 0.689604\tvalid_1's multi_error: 0.212177\tvalid_1's multi_logloss: 0.933208\n",
      "[18]\ttraining's multi_error: 0.104535\ttraining's multi_logloss: 0.657908\tvalid_1's multi_error: 0.211562\tvalid_1's multi_logloss: 0.910872\n",
      "[19]\ttraining's multi_error: 0.100501\ttraining's multi_logloss: 0.628365\tvalid_1's multi_error: 0.212792\tvalid_1's multi_logloss: 0.891894\n",
      "[20]\ttraining's multi_error: 0.0967953\ttraining's multi_logloss: 0.600848\tvalid_1's multi_error: 0.208487\tvalid_1's multi_logloss: 0.874154\n",
      "[21]\ttraining's multi_error: 0.0946152\ttraining's multi_logloss: 0.574741\tvalid_1's multi_error: 0.209717\tvalid_1's multi_logloss: 0.858546\n",
      "[22]\ttraining's multi_error: 0.0912361\ttraining's multi_logloss: 0.550321\tvalid_1's multi_error: 0.209102\tvalid_1's multi_logloss: 0.842603\n",
      "[23]\ttraining's multi_error: 0.088293\ttraining's multi_logloss: 0.527526\tvalid_1's multi_error: 0.207257\tvalid_1's multi_logloss: 0.82814\n",
      "[24]\ttraining's multi_error: 0.0853499\ttraining's multi_logloss: 0.505948\tvalid_1's multi_error: 0.206027\tvalid_1's multi_logloss: 0.814042\n",
      "[25]\ttraining's multi_error: 0.0813168\ttraining's multi_logloss: 0.485182\tvalid_1's multi_error: 0.204182\tvalid_1's multi_logloss: 0.801194\n",
      "[26]\ttraining's multi_error: 0.0777196\ttraining's multi_logloss: 0.46588\tvalid_1's multi_error: 0.201107\tvalid_1's multi_logloss: 0.789217\n",
      "[27]\ttraining's multi_error: 0.0759756\ttraining's multi_logloss: 0.447572\tvalid_1's multi_error: 0.202337\tvalid_1's multi_logloss: 0.778126\n",
      "[28]\ttraining's multi_error: 0.0718334\ttraining's multi_logloss: 0.430246\tvalid_1's multi_error: 0.202337\tvalid_1's multi_logloss: 0.768774\n",
      "[29]\ttraining's multi_error: 0.0695444\ttraining's multi_logloss: 0.413777\tvalid_1's multi_error: 0.201722\tvalid_1's multi_logloss: 0.759374\n",
      "[30]\ttraining's multi_error: 0.0662743\ttraining's multi_logloss: 0.398186\tvalid_1's multi_error: 0.198032\tvalid_1's multi_logloss: 0.750844\n",
      "[31]\ttraining's multi_error: 0.0627861\ttraining's multi_logloss: 0.38298\tvalid_1's multi_error: 0.200492\tvalid_1's multi_logloss: 0.742705\n",
      "[32]\ttraining's multi_error: 0.059625\ttraining's multi_logloss: 0.368252\tvalid_1's multi_error: 0.197417\tvalid_1's multi_logloss: 0.735241\n",
      "[33]\ttraining's multi_error: 0.0566819\ttraining's multi_logloss: 0.35471\tvalid_1's multi_error: 0.198647\tvalid_1's multi_logloss: 0.728366\n",
      "[34]\ttraining's multi_error: 0.0531938\ttraining's multi_logloss: 0.341871\tvalid_1's multi_error: 0.196187\tvalid_1's multi_logloss: 0.721883\n",
      "[35]\ttraining's multi_error: 0.0497057\ttraining's multi_logloss: 0.329332\tvalid_1's multi_error: 0.195572\tvalid_1's multi_logloss: 0.716279\n",
      "[36]\ttraining's multi_error: 0.0480706\ttraining's multi_logloss: 0.317355\tvalid_1's multi_error: 0.196187\tvalid_1's multi_logloss: 0.710092\n",
      "[37]\ttraining's multi_error: 0.0451275\ttraining's multi_logloss: 0.306095\tvalid_1's multi_error: 0.195572\tvalid_1's multi_logloss: 0.704867\n",
      "[38]\ttraining's multi_error: 0.0430565\ttraining's multi_logloss: 0.294777\tvalid_1's multi_error: 0.193112\tvalid_1's multi_logloss: 0.699024\n",
      "[39]\ttraining's multi_error: 0.0413124\ttraining's multi_logloss: 0.284237\tvalid_1's multi_error: 0.191267\tvalid_1's multi_logloss: 0.694939\n",
      "[40]\ttraining's multi_error: 0.0386963\ttraining's multi_logloss: 0.274084\tvalid_1's multi_error: 0.191882\tvalid_1's multi_logloss: 0.691257\n",
      "[41]\ttraining's multi_error: 0.0353172\ttraining's multi_logloss: 0.264203\tvalid_1's multi_error: 0.190652\tvalid_1's multi_logloss: 0.68653\n",
      "[42]\ttraining's multi_error: 0.0333551\ttraining's multi_logloss: 0.254921\tvalid_1's multi_error: 0.190652\tvalid_1's multi_logloss: 0.682838\n",
      "[43]\ttraining's multi_error: 0.0315021\ttraining's multi_logloss: 0.24603\tvalid_1's multi_error: 0.189422\tvalid_1's multi_logloss: 0.679228\n",
      "[44]\ttraining's multi_error: 0.029431\ttraining's multi_logloss: 0.237631\tvalid_1's multi_error: 0.190652\tvalid_1's multi_logloss: 0.675809\n",
      "[45]\ttraining's multi_error: 0.0276869\ttraining's multi_logloss: 0.229325\tvalid_1's multi_error: 0.189422\tvalid_1's multi_logloss: 0.67254\n",
      "[46]\ttraining's multi_error: 0.0259429\ttraining's multi_logloss: 0.221259\tvalid_1's multi_error: 0.187577\tvalid_1's multi_logloss: 0.669887\n",
      "[47]\ttraining's multi_error: 0.0240898\ttraining's multi_logloss: 0.213841\tvalid_1's multi_error: 0.187577\tvalid_1's multi_logloss: 0.666124\n",
      "[48]\ttraining's multi_error: 0.0219097\ttraining's multi_logloss: 0.206558\tvalid_1's multi_error: 0.189422\tvalid_1's multi_logloss: 0.663626\n",
      "[49]\ttraining's multi_error: 0.0208197\ttraining's multi_logloss: 0.19957\tvalid_1's multi_error: 0.188807\tvalid_1's multi_logloss: 0.66105\n",
      "[50]\ttraining's multi_error: 0.0194027\ttraining's multi_logloss: 0.192876\tvalid_1's multi_error: 0.188192\tvalid_1's multi_logloss: 0.658413\n",
      "[51]\ttraining's multi_error: 0.0176586\ttraining's multi_logloss: 0.186446\tvalid_1's multi_error: 0.188192\tvalid_1's multi_logloss: 0.655822\n",
      "[52]\ttraining's multi_error: 0.0172226\ttraining's multi_logloss: 0.180233\tvalid_1's multi_error: 0.188807\tvalid_1's multi_logloss: 0.654498\n",
      "[53]\ttraining's multi_error: 0.0150425\ttraining's multi_logloss: 0.174508\tvalid_1's multi_error: 0.186962\tvalid_1's multi_logloss: 0.65242\n",
      "[54]\ttraining's multi_error: 0.0136255\ttraining's multi_logloss: 0.168652\tvalid_1's multi_error: 0.187577\tvalid_1's multi_logloss: 0.649213\n",
      "[55]\ttraining's multi_error: 0.0124264\ttraining's multi_logloss: 0.163113\tvalid_1's multi_error: 0.188807\tvalid_1's multi_logloss: 0.646968\n",
      "[56]\ttraining's multi_error: 0.0114454\ttraining's multi_logloss: 0.158025\tvalid_1's multi_error: 0.186962\tvalid_1's multi_logloss: 0.645458\n",
      "[57]\ttraining's multi_error: 0.0103554\ttraining's multi_logloss: 0.152852\tvalid_1's multi_error: 0.186347\tvalid_1's multi_logloss: 0.64473\n",
      "[58]\ttraining's multi_error: 0.0089383\ttraining's multi_logloss: 0.147839\tvalid_1's multi_error: 0.185117\tvalid_1's multi_logloss: 0.643371\n",
      "[59]\ttraining's multi_error: 0.00817528\ttraining's multi_logloss: 0.143119\tvalid_1's multi_error: 0.186962\tvalid_1's multi_logloss: 0.642081\n",
      "[60]\ttraining's multi_error: 0.00752126\ttraining's multi_logloss: 0.138652\tvalid_1's multi_error: 0.185732\tvalid_1's multi_logloss: 0.64094\n",
      "[61]\ttraining's multi_error: 0.00741225\ttraining's multi_logloss: 0.134351\tvalid_1's multi_error: 0.185732\tvalid_1's multi_logloss: 0.63967\n",
      "[62]\ttraining's multi_error: 0.00654022\ttraining's multi_logloss: 0.130018\tvalid_1's multi_error: 0.186347\tvalid_1's multi_logloss: 0.638352\n",
      "[63]\ttraining's multi_error: 0.00610421\ttraining's multi_logloss: 0.125996\tvalid_1's multi_error: 0.185732\tvalid_1's multi_logloss: 0.637671\n",
      "[64]\ttraining's multi_error: 0.0057772\ttraining's multi_logloss: 0.12212\tvalid_1's multi_error: 0.185732\tvalid_1's multi_logloss: 0.636134\n",
      "[65]\ttraining's multi_error: 0.00523218\ttraining's multi_logloss: 0.118523\tvalid_1's multi_error: 0.184502\tvalid_1's multi_logloss: 0.634969\n",
      "[66]\ttraining's multi_error: 0.00501417\ttraining's multi_logloss: 0.114913\tvalid_1's multi_error: 0.184502\tvalid_1's multi_logloss: 0.634648\n",
      "[67]\ttraining's multi_error: 0.00457816\ttraining's multi_logloss: 0.111607\tvalid_1's multi_error: 0.183887\tvalid_1's multi_logloss: 0.633712\n",
      "[68]\ttraining's multi_error: 0.00370613\ttraining's multi_logloss: 0.108312\tvalid_1's multi_error: 0.183887\tvalid_1's multi_logloss: 0.632721\n",
      "[69]\ttraining's multi_error: 0.0029431\ttraining's multi_logloss: 0.105227\tvalid_1's multi_error: 0.181427\tvalid_1's multi_logloss: 0.632094\n",
      "[70]\ttraining's multi_error: 0.00261609\ttraining's multi_logloss: 0.102137\tvalid_1's multi_error: 0.182042\tvalid_1's multi_logloss: 0.631393\n",
      "[71]\ttraining's multi_error: 0.00250709\ttraining's multi_logloss: 0.0993148\tvalid_1's multi_error: 0.180812\tvalid_1's multi_logloss: 0.630873\n",
      "[72]\ttraining's multi_error: 0.00250709\ttraining's multi_logloss: 0.096467\tvalid_1's multi_error: 0.180812\tvalid_1's multi_logloss: 0.630293\n",
      "[73]\ttraining's multi_error: 0.00218007\ttraining's multi_logloss: 0.0938871\tvalid_1's multi_error: 0.179582\tvalid_1's multi_logloss: 0.630085\n",
      "[74]\ttraining's multi_error: 0.00185306\ttraining's multi_logloss: 0.0913401\tvalid_1's multi_error: 0.180197\tvalid_1's multi_logloss: 0.629404\n",
      "[75]\ttraining's multi_error: 0.00152605\ttraining's multi_logloss: 0.0889202\tvalid_1's multi_error: 0.181427\tvalid_1's multi_logloss: 0.629279\n",
      "[76]\ttraining's multi_error: 0.00141705\ttraining's multi_logloss: 0.0866146\tvalid_1's multi_error: 0.182042\tvalid_1's multi_logloss: 0.6292\n",
      "[77]\ttraining's multi_error: 0.00130804\ttraining's multi_logloss: 0.0843885\tvalid_1's multi_error: 0.183272\tvalid_1's multi_logloss: 0.629318\n",
      "[78]\ttraining's multi_error: 0.00119904\ttraining's multi_logloss: 0.0822964\tvalid_1's multi_error: 0.180812\tvalid_1's multi_logloss: 0.628393\n",
      "[79]\ttraining's multi_error: 0.00119904\ttraining's multi_logloss: 0.0801906\tvalid_1's multi_error: 0.180197\tvalid_1's multi_logloss: 0.627955\n",
      "[80]\ttraining's multi_error: 0.00109004\ttraining's multi_logloss: 0.0782216\tvalid_1's multi_error: 0.180197\tvalid_1's multi_logloss: 0.627904\n",
      "[81]\ttraining's multi_error: 0.000981033\ttraining's multi_logloss: 0.0764068\tvalid_1's multi_error: 0.180197\tvalid_1's multi_logloss: 0.627317\n",
      "[82]\ttraining's multi_error: 0.000981033\ttraining's multi_logloss: 0.0745359\tvalid_1's multi_error: 0.180812\tvalid_1's multi_logloss: 0.62706\n",
      "[83]\ttraining's multi_error: 0.00087203\ttraining's multi_logloss: 0.0728404\tvalid_1's multi_error: 0.180197\tvalid_1's multi_logloss: 0.627114\n",
      "[84]\ttraining's multi_error: 0.00087203\ttraining's multi_logloss: 0.0710794\tvalid_1's multi_error: 0.182042\tvalid_1's multi_logloss: 0.627424\n",
      "[85]\ttraining's multi_error: 0.00087203\ttraining's multi_logloss: 0.0694546\tvalid_1's multi_error: 0.180812\tvalid_1's multi_logloss: 0.626841\n",
      "[86]\ttraining's multi_error: 0.00087203\ttraining's multi_logloss: 0.0678763\tvalid_1's multi_error: 0.178967\tvalid_1's multi_logloss: 0.627388\n",
      "[87]\ttraining's multi_error: 0.00087203\ttraining's multi_logloss: 0.0663854\tvalid_1's multi_error: 0.179582\tvalid_1's multi_logloss: 0.626916\n",
      "[88]\ttraining's multi_error: 0.00087203\ttraining's multi_logloss: 0.0649153\tvalid_1's multi_error: 0.179582\tvalid_1's multi_logloss: 0.627012\n",
      "[89]\ttraining's multi_error: 0.00087203\ttraining's multi_logloss: 0.0634905\tvalid_1's multi_error: 0.180197\tvalid_1's multi_logloss: 0.626454\n",
      "[90]\ttraining's multi_error: 0.00087203\ttraining's multi_logloss: 0.0621261\tvalid_1's multi_error: 0.179582\tvalid_1's multi_logloss: 0.626351\n",
      "[91]\ttraining's multi_error: 0.00087203\ttraining's multi_logloss: 0.0608106\tvalid_1's multi_error: 0.180197\tvalid_1's multi_logloss: 0.626347\n",
      "[92]\ttraining's multi_error: 0.00087203\ttraining's multi_logloss: 0.0595603\tvalid_1's multi_error: 0.181427\tvalid_1's multi_logloss: 0.62679\n",
      "[93]\ttraining's multi_error: 0.00087203\ttraining's multi_logloss: 0.0582957\tvalid_1's multi_error: 0.180812\tvalid_1's multi_logloss: 0.626667\n",
      "[94]\ttraining's multi_error: 0.00087203\ttraining's multi_logloss: 0.0571208\tvalid_1's multi_error: 0.181427\tvalid_1's multi_logloss: 0.626436\n",
      "[95]\ttraining's multi_error: 0.00087203\ttraining's multi_logloss: 0.0559339\tvalid_1's multi_error: 0.181427\tvalid_1's multi_logloss: 0.626478\n",
      "[96]\ttraining's multi_error: 0.00087203\ttraining's multi_logloss: 0.0548337\tvalid_1's multi_error: 0.181427\tvalid_1's multi_logloss: 0.626036\n",
      "[97]\ttraining's multi_error: 0.00087203\ttraining's multi_logloss: 0.0537459\tvalid_1's multi_error: 0.181427\tvalid_1's multi_logloss: 0.625744\n",
      "[98]\ttraining's multi_error: 0.00087203\ttraining's multi_logloss: 0.0527056\tvalid_1's multi_error: 0.182042\tvalid_1's multi_logloss: 0.625219\n",
      "[99]\ttraining's multi_error: 0.00087203\ttraining's multi_logloss: 0.0516971\tvalid_1's multi_error: 0.181427\tvalid_1's multi_logloss: 0.625248\n",
      "[100]\ttraining's multi_error: 0.00087203\ttraining's multi_logloss: 0.0507352\tvalid_1's multi_error: 0.182042\tvalid_1's multi_logloss: 0.625213\n",
      "Did not meet early stopping. Best iteration is:\n",
      "[83]\ttraining's multi_error: 0.00087203\ttraining's multi_logloss: 0.0728404\tvalid_1's multi_error: 0.180197\tvalid_1's multi_logloss: 0.627114\n"
     ]
    },
    {
     "data": {
      "text/plain": [
       "RandomizedSearchCV(cv=5, estimator=LGBMClassifier(), n_iter=20, n_jobs=-1,\n",
       "                   param_distributions={'learning_rate': [0.01, 0.015, 0.025,\n",
       "                                                          0.05, 0.1],\n",
       "                                        'max_depth': [3, 5, 7, 9, 12, 15, 17,\n",
       "                                                      25],\n",
       "                                        'min_child_weight': [1, 3, 5, 7],\n",
       "                                        'subsample': array([0.6, 0.7, 0.8, 0.9, 1. ])},\n",
       "                   return_train_score=True, scoring='accuracy', verbose=10)"
      ]
     },
     "execution_count": 22,
     "metadata": {},
     "output_type": "execute_result"
    }
   ],
   "source": [
    "lgbm_clf = lgbm.LGBMClassifier()\n",
    "\n",
    "lgbm_param_grid = {'learning_rate': [.01, .015, .025, .05, .1],\n",
    "#                   'Gamma': [.05, .1, .3, .5, .7, .9, 1],\n",
    "                  'max_depth': [3, 5, 7, 9, 12, 15, 17, 25],\n",
    "                  'min_child_weight': [1, 3, 5, 7],\n",
    "                  'subsample': np.linspace(0.6, 1, 5)}\n",
    "\n",
    "fit_params = {\"early_stopping_rounds\" : 20,\n",
    "             \"eval_metric\" : \"multi_error\",\n",
    "             \"eval_set\" : [(X_train, y_train), (X_val, y_val)]}\n",
    "\n",
    "# Create a random search object\n",
    "lgbm_random = RandomizedSearchCV(estimator = lgbm_clf,\n",
    "                                param_distributions = lgbm_param_grid,\n",
    "                                n_iter = 20, # n_iters in param combinations\n",
    "                                scoring='accuracy',\n",
    "                                n_jobs=-1,\n",
    "                                cv = 5,\n",
    "                                refit=True,\n",
    "                                return_train_score = True,\n",
    "                                verbose=10)\n",
    "\n",
    "# Fit to the training data\n",
    "lgbm_random.fit(X_train, y_train, **fit_params)"
   ]
  },
  {
   "cell_type": "code",
   "execution_count": 23,
   "metadata": {},
   "outputs": [],
   "source": [
    "pred_train = lgbm_random.best_estimator_.predict(X_train)\n",
    "pred_val = lgbm_random.best_estimator_.predict(X_val)\n",
    "pred_test = lgbm_random.best_estimator_.predict(X_test)"
   ]
  },
  {
   "cell_type": "code",
   "execution_count": 24,
   "metadata": {},
   "outputs": [
    {
     "name": "stdout",
     "output_type": "stream",
     "text": [
      "0.9991279703509919\n",
      "0.8198031980319803\n",
      "0.32234432234432236\n"
     ]
    }
   ],
   "source": [
    "from sklearn.metrics import accuracy_score\n",
    "\n",
    "print(accuracy_score(y_train, pred_train))\n",
    "print(accuracy_score(y_val, pred_val))\n",
    "print(accuracy_score(y_test, pred_test))"
   ]
  },
  {
   "cell_type": "code",
   "execution_count": 25,
   "metadata": {},
   "outputs": [
    {
     "data": {
      "text/plain": [
       "LGBMClassifier(max_depth=9, min_child_weight=7, subsample=0.8)"
      ]
     },
     "execution_count": 25,
     "metadata": {},
     "output_type": "execute_result"
    }
   ],
   "source": [
    "lgbm_random.best_estimator_"
   ]
  },
  {
   "cell_type": "code",
   "execution_count": 26,
   "metadata": {},
   "outputs": [
    {
     "data": {
      "text/html": [
       "<div>\n",
       "<style scoped>\n",
       "    .dataframe tbody tr th:only-of-type {\n",
       "        vertical-align: middle;\n",
       "    }\n",
       "\n",
       "    .dataframe tbody tr th {\n",
       "        vertical-align: top;\n",
       "    }\n",
       "\n",
       "    .dataframe thead th {\n",
       "        text-align: right;\n",
       "    }\n",
       "</style>\n",
       "<table border=\"1\" class=\"dataframe\">\n",
       "  <thead>\n",
       "    <tr style=\"text-align: right;\">\n",
       "      <th></th>\n",
       "      <th>subsample</th>\n",
       "      <th>min_child_weight</th>\n",
       "      <th>max_depth</th>\n",
       "      <th>learning_rate</th>\n",
       "      <th>mean_test_score</th>\n",
       "    </tr>\n",
       "  </thead>\n",
       "  <tbody>\n",
       "    <tr>\n",
       "      <th>0</th>\n",
       "      <td>1.0</td>\n",
       "      <td>3</td>\n",
       "      <td>5</td>\n",
       "      <td>0.015</td>\n",
       "      <td>0.766406</td>\n",
       "    </tr>\n",
       "    <tr>\n",
       "      <th>0</th>\n",
       "      <td>0.9</td>\n",
       "      <td>1</td>\n",
       "      <td>7</td>\n",
       "      <td>0.010</td>\n",
       "      <td>0.772618</td>\n",
       "    </tr>\n",
       "    <tr>\n",
       "      <th>0</th>\n",
       "      <td>1.0</td>\n",
       "      <td>3</td>\n",
       "      <td>17</td>\n",
       "      <td>0.015</td>\n",
       "      <td>0.779486</td>\n",
       "    </tr>\n",
       "    <tr>\n",
       "      <th>0</th>\n",
       "      <td>0.9</td>\n",
       "      <td>7</td>\n",
       "      <td>5</td>\n",
       "      <td>0.025</td>\n",
       "      <td>0.779704</td>\n",
       "    </tr>\n",
       "    <tr>\n",
       "      <th>0</th>\n",
       "      <td>0.8</td>\n",
       "      <td>3</td>\n",
       "      <td>15</td>\n",
       "      <td>0.015</td>\n",
       "      <td>0.779704</td>\n",
       "    </tr>\n",
       "    <tr>\n",
       "      <th>0</th>\n",
       "      <td>0.7</td>\n",
       "      <td>7</td>\n",
       "      <td>15</td>\n",
       "      <td>0.015</td>\n",
       "      <td>0.782102</td>\n",
       "    </tr>\n",
       "    <tr>\n",
       "      <th>0</th>\n",
       "      <td>1.0</td>\n",
       "      <td>5</td>\n",
       "      <td>12</td>\n",
       "      <td>0.015</td>\n",
       "      <td>0.782756</td>\n",
       "    </tr>\n",
       "    <tr>\n",
       "      <th>0</th>\n",
       "      <td>0.6</td>\n",
       "      <td>3</td>\n",
       "      <td>12</td>\n",
       "      <td>0.025</td>\n",
       "      <td>0.790278</td>\n",
       "    </tr>\n",
       "    <tr>\n",
       "      <th>0</th>\n",
       "      <td>0.9</td>\n",
       "      <td>3</td>\n",
       "      <td>15</td>\n",
       "      <td>0.050</td>\n",
       "      <td>0.792675</td>\n",
       "    </tr>\n",
       "    <tr>\n",
       "      <th>0</th>\n",
       "      <td>0.6</td>\n",
       "      <td>7</td>\n",
       "      <td>5</td>\n",
       "      <td>0.050</td>\n",
       "      <td>0.794528</td>\n",
       "    </tr>\n",
       "    <tr>\n",
       "      <th>0</th>\n",
       "      <td>1.0</td>\n",
       "      <td>3</td>\n",
       "      <td>7</td>\n",
       "      <td>0.050</td>\n",
       "      <td>0.799652</td>\n",
       "    </tr>\n",
       "    <tr>\n",
       "      <th>0</th>\n",
       "      <td>0.6</td>\n",
       "      <td>1</td>\n",
       "      <td>5</td>\n",
       "      <td>0.100</td>\n",
       "      <td>0.800306</td>\n",
       "    </tr>\n",
       "    <tr>\n",
       "      <th>0</th>\n",
       "      <td>0.6</td>\n",
       "      <td>3</td>\n",
       "      <td>25</td>\n",
       "      <td>0.100</td>\n",
       "      <td>0.801395</td>\n",
       "    </tr>\n",
       "    <tr>\n",
       "      <th>0</th>\n",
       "      <td>0.9</td>\n",
       "      <td>3</td>\n",
       "      <td>5</td>\n",
       "      <td>0.100</td>\n",
       "      <td>0.803140</td>\n",
       "    </tr>\n",
       "    <tr>\n",
       "      <th>0</th>\n",
       "      <td>0.6</td>\n",
       "      <td>1</td>\n",
       "      <td>9</td>\n",
       "      <td>0.100</td>\n",
       "      <td>0.804883</td>\n",
       "    </tr>\n",
       "    <tr>\n",
       "      <th>0</th>\n",
       "      <td>0.6</td>\n",
       "      <td>7</td>\n",
       "      <td>12</td>\n",
       "      <td>0.100</td>\n",
       "      <td>0.804993</td>\n",
       "    </tr>\n",
       "    <tr>\n",
       "      <th>0</th>\n",
       "      <td>0.7</td>\n",
       "      <td>5</td>\n",
       "      <td>9</td>\n",
       "      <td>0.100</td>\n",
       "      <td>0.805646</td>\n",
       "    </tr>\n",
       "    <tr>\n",
       "      <th>0</th>\n",
       "      <td>1.0</td>\n",
       "      <td>7</td>\n",
       "      <td>7</td>\n",
       "      <td>0.100</td>\n",
       "      <td>0.806518</td>\n",
       "    </tr>\n",
       "    <tr>\n",
       "      <th>0</th>\n",
       "      <td>0.6</td>\n",
       "      <td>5</td>\n",
       "      <td>7</td>\n",
       "      <td>0.100</td>\n",
       "      <td>0.808045</td>\n",
       "    </tr>\n",
       "    <tr>\n",
       "      <th>0</th>\n",
       "      <td>0.8</td>\n",
       "      <td>7</td>\n",
       "      <td>9</td>\n",
       "      <td>0.100</td>\n",
       "      <td>0.808808</td>\n",
       "    </tr>\n",
       "  </tbody>\n",
       "</table>\n",
       "</div>"
      ],
      "text/plain": [
       "   subsample  min_child_weight  max_depth  learning_rate  mean_test_score\n",
       "0        1.0                 3          5          0.015         0.766406\n",
       "0        0.9                 1          7          0.010         0.772618\n",
       "0        1.0                 3         17          0.015         0.779486\n",
       "0        0.9                 7          5          0.025         0.779704\n",
       "0        0.8                 3         15          0.015         0.779704\n",
       "0        0.7                 7         15          0.015         0.782102\n",
       "0        1.0                 5         12          0.015         0.782756\n",
       "0        0.6                 3         12          0.025         0.790278\n",
       "0        0.9                 3         15          0.050         0.792675\n",
       "0        0.6                 7          5          0.050         0.794528\n",
       "0        1.0                 3          7          0.050         0.799652\n",
       "0        0.6                 1          5          0.100         0.800306\n",
       "0        0.6                 3         25          0.100         0.801395\n",
       "0        0.9                 3          5          0.100         0.803140\n",
       "0        0.6                 1          9          0.100         0.804883\n",
       "0        0.6                 7         12          0.100         0.804993\n",
       "0        0.7                 5          9          0.100         0.805646\n",
       "0        1.0                 7          7          0.100         0.806518\n",
       "0        0.6                 5          7          0.100         0.808045\n",
       "0        0.8                 7          9          0.100         0.808808"
      ]
     },
     "execution_count": 26,
     "metadata": {},
     "output_type": "execute_result"
    }
   ],
   "source": [
    "cv_result_df = pd.DataFrame(lgbm_random.cv_results_)\n",
    "\n",
    "df_list = []\n",
    "for i in range(20):\n",
    "    df_list.append(pd.DataFrame([cv_result_df.loc[i, \"params\"]]))\n",
    "    \n",
    "param_table = pd.concat(df_list)\n",
    "\n",
    "param_table['mean_test_score'] = cv_result_df['mean_test_score'].values\n",
    "\n",
    "param_table.sort_values(by='mean_test_score', axis=0)"
   ]
  },
  {
   "cell_type": "code",
   "execution_count": null,
   "metadata": {},
   "outputs": [],
   "source": []
  }
 ],
 "metadata": {
  "kernelspec": {
   "display_name": "Python 3",
   "language": "python",
   "name": "python3"
  },
  "language_info": {
   "codemirror_mode": {
    "name": "ipython",
    "version": 3
   },
   "file_extension": ".py",
   "mimetype": "text/x-python",
   "name": "python",
   "nbconvert_exporter": "python",
   "pygments_lexer": "ipython3",
   "version": "3.6.9"
  }
 },
 "nbformat": 4,
 "nbformat_minor": 4
}
