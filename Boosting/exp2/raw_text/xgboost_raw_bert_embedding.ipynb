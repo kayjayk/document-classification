{
 "cells": [
  {
   "cell_type": "markdown",
   "metadata": {},
   "source": [
    "## Data Handling"
   ]
  },
  {
   "cell_type": "code",
   "execution_count": 37,
   "metadata": {},
   "outputs": [],
   "source": [
    "import pandas as pd\n",
    "import numpy as np\n",
    "import pickle\n",
    "np.random.seed(4444)\n",
    "\n",
    "with open ('../../../../../jaeyeun/01_nh_poc/23_BERT_NH_NO_2/nh_output_20200812_raw_text_embedding/test_set_prediction.pickle', 'rb') as f:\n",
    "    emb = pickle.load(f)"
   ]
  },
  {
   "cell_type": "code",
   "execution_count": 38,
   "metadata": {},
   "outputs": [
    {
     "data": {
      "text/plain": [
       "dict_keys(['pred', 'dataset_n', 'train_val_test', 'softmax', 'label', 'feature'])"
      ]
     },
     "execution_count": 38,
     "metadata": {},
     "output_type": "execute_result"
    }
   ],
   "source": [
    "emb['R1102079-1.txt'].keys()"
   ]
  },
  {
   "cell_type": "code",
   "execution_count": 42,
   "metadata": {},
   "outputs": [],
   "source": [
    "X_train_feature = []\n",
    "X_val_feature = []\n",
    "X_test_feature = []\n",
    "y_train = []\n",
    "y_val = []\n",
    "y_test = []\n",
    "for title in emb.keys():\n",
    "    data = emb[title]\n",
    "    dataset_n = data['dataset_n']\n",
    "    tvt = data['train_val_test']\n",
    "    \n",
    "    if dataset_n == '0':\n",
    "        if tvt == '0' or tvt == '1':\n",
    "            X_train_feature.append(data['feature'])\n",
    "            y_train.append(data['label'])\n",
    "        else:\n",
    "            X_val_feature.append(data['feature'])\n",
    "            y_val.append(data['label'])\n",
    "    else:\n",
    "        X_test_feature.append(data['feature'])\n",
    "        y_test.append(data['label'])"
   ]
  },
  {
   "cell_type": "code",
   "execution_count": 43,
   "metadata": {},
   "outputs": [],
   "source": [
    "X_train = np.array(X_train_feature)\n",
    "X_val = np.array(X_val_feature)\n",
    "X_test = np.array(X_test_feature)"
   ]
  },
  {
   "cell_type": "code",
   "execution_count": 44,
   "metadata": {},
   "outputs": [
    {
     "name": "stdout",
     "output_type": "stream",
     "text": [
      "(9174, 768)\n",
      "(1626, 768)\n",
      "(273, 768)\n"
     ]
    }
   ],
   "source": [
    "print(X_train.shape)\n",
    "print(X_val.shape)\n",
    "print(X_test.shape)"
   ]
  },
  {
   "cell_type": "code",
   "execution_count": 46,
   "metadata": {},
   "outputs": [
    {
     "name": "stdout",
     "output_type": "stream",
     "text": [
      "9174\n",
      "1626\n",
      "273\n"
     ]
    }
   ],
   "source": [
    "print(len(y_train))\n",
    "print(len(y_val))\n",
    "print(len(y_test))"
   ]
  },
  {
   "cell_type": "markdown",
   "metadata": {},
   "source": [
    "## Classify"
   ]
  },
  {
   "cell_type": "markdown",
   "metadata": {},
   "source": [
    "* XGBoost RandomSearch"
   ]
  },
  {
   "cell_type": "code",
   "execution_count": 47,
   "metadata": {},
   "outputs": [],
   "source": [
    "from sklearn.model_selection import RandomizedSearchCV\n",
    "import xgboost as xgb"
   ]
  },
  {
   "cell_type": "code",
   "execution_count": 48,
   "metadata": {},
   "outputs": [
    {
     "name": "stdout",
     "output_type": "stream",
     "text": [
      "Fitting 5 folds for each of 20 candidates, totalling 100 fits\n"
     ]
    },
    {
     "name": "stderr",
     "output_type": "stream",
     "text": [
      "[Parallel(n_jobs=-1)]: Using backend LokyBackend with 32 concurrent workers.\n",
      "[Parallel(n_jobs=-1)]: Done   8 tasks      | elapsed: 17.1min\n",
      "[Parallel(n_jobs=-1)]: Done  21 tasks      | elapsed: 24.7min\n",
      "[Parallel(n_jobs=-1)]: Done  34 tasks      | elapsed: 34.1min\n",
      "[Parallel(n_jobs=-1)]: Done  48 out of 100 | elapsed: 42.4min remaining: 46.0min\n",
      "[Parallel(n_jobs=-1)]: Done  59 out of 100 | elapsed: 52.0min remaining: 36.1min\n",
      "[Parallel(n_jobs=-1)]: Done  70 out of 100 | elapsed: 56.9min remaining: 24.4min\n",
      "[Parallel(n_jobs=-1)]: Done  81 out of 100 | elapsed: 63.7min remaining: 14.9min\n",
      "[Parallel(n_jobs=-1)]: Done  92 out of 100 | elapsed: 66.6min remaining:  5.8min\n",
      "[Parallel(n_jobs=-1)]: Done 100 out of 100 | elapsed: 74.5min finished\n"
     ]
    },
    {
     "name": "stdout",
     "output_type": "stream",
     "text": [
      "[0]\tvalidation_0-merror:0.37377\tvalidation_1-merror:0.49816\n",
      "Multiple eval metrics have been passed: 'validation_1-merror' will be used for early stopping.\n",
      "\n",
      "Will train until validation_1-merror hasn't improved in 20 rounds.\n",
      "[1]\tvalidation_0-merror:0.28363\tvalidation_1-merror:0.43235\n",
      "[2]\tvalidation_0-merror:0.23359\tvalidation_1-merror:0.39299\n",
      "[3]\tvalidation_0-merror:0.20013\tvalidation_1-merror:0.36900\n",
      "[4]\tvalidation_0-merror:0.17582\tvalidation_1-merror:0.36285\n",
      "[5]\tvalidation_0-merror:0.15871\tvalidation_1-merror:0.35424\n",
      "[6]\tvalidation_0-merror:0.14476\tvalidation_1-merror:0.34010\n",
      "[7]\tvalidation_0-merror:0.13353\tvalidation_1-merror:0.33825\n",
      "[8]\tvalidation_0-merror:0.12121\tvalidation_1-merror:0.32595\n",
      "[9]\tvalidation_0-merror:0.11413\tvalidation_1-merror:0.31857\n",
      "[10]\tvalidation_0-merror:0.10813\tvalidation_1-merror:0.31857\n",
      "[11]\tvalidation_0-merror:0.10017\tvalidation_1-merror:0.31550\n",
      "[12]\tvalidation_0-merror:0.09124\tvalidation_1-merror:0.30812\n",
      "[13]\tvalidation_0-merror:0.08448\tvalidation_1-merror:0.30443\n",
      "[14]\tvalidation_0-merror:0.07990\tvalidation_1-merror:0.30197\n",
      "[15]\tvalidation_0-merror:0.07543\tvalidation_1-merror:0.30135\n",
      "[16]\tvalidation_0-merror:0.07020\tvalidation_1-merror:0.29705\n",
      "[17]\tvalidation_0-merror:0.06529\tvalidation_1-merror:0.28967\n",
      "[18]\tvalidation_0-merror:0.06104\tvalidation_1-merror:0.28782\n",
      "[19]\tvalidation_0-merror:0.05799\tvalidation_1-merror:0.28598\n",
      "[20]\tvalidation_0-merror:0.05646\tvalidation_1-merror:0.27860\n",
      "[21]\tvalidation_0-merror:0.05287\tvalidation_1-merror:0.27798\n",
      "[22]\tvalidation_0-merror:0.04862\tvalidation_1-merror:0.27429\n",
      "[23]\tvalidation_0-merror:0.04655\tvalidation_1-merror:0.27675\n",
      "[24]\tvalidation_0-merror:0.04360\tvalidation_1-merror:0.27675\n",
      "[25]\tvalidation_0-merror:0.04240\tvalidation_1-merror:0.27552\n",
      "[26]\tvalidation_0-merror:0.04033\tvalidation_1-merror:0.27245\n",
      "[27]\tvalidation_0-merror:0.03771\tvalidation_1-merror:0.27060\n",
      "[28]\tvalidation_0-merror:0.03521\tvalidation_1-merror:0.26753\n",
      "[29]\tvalidation_0-merror:0.03346\tvalidation_1-merror:0.26630\n",
      "[30]\tvalidation_0-merror:0.03041\tvalidation_1-merror:0.26630\n",
      "[31]\tvalidation_0-merror:0.02889\tvalidation_1-merror:0.26261\n",
      "[32]\tvalidation_0-merror:0.02725\tvalidation_1-merror:0.25830\n",
      "[33]\tvalidation_0-merror:0.02540\tvalidation_1-merror:0.26015\n",
      "[34]\tvalidation_0-merror:0.02387\tvalidation_1-merror:0.25830\n",
      "[35]\tvalidation_0-merror:0.02224\tvalidation_1-merror:0.26015\n",
      "[36]\tvalidation_0-merror:0.02082\tvalidation_1-merror:0.25830\n",
      "[37]\tvalidation_0-merror:0.02017\tvalidation_1-merror:0.25400\n",
      "[38]\tvalidation_0-merror:0.01940\tvalidation_1-merror:0.25277\n",
      "[39]\tvalidation_0-merror:0.01744\tvalidation_1-merror:0.25215\n",
      "[40]\tvalidation_0-merror:0.01668\tvalidation_1-merror:0.24908\n",
      "[41]\tvalidation_0-merror:0.01602\tvalidation_1-merror:0.25277\n",
      "[42]\tvalidation_0-merror:0.01548\tvalidation_1-merror:0.25154\n",
      "[43]\tvalidation_0-merror:0.01515\tvalidation_1-merror:0.24846\n",
      "[44]\tvalidation_0-merror:0.01450\tvalidation_1-merror:0.24908\n",
      "[45]\tvalidation_0-merror:0.01319\tvalidation_1-merror:0.24785\n",
      "[46]\tvalidation_0-merror:0.01275\tvalidation_1-merror:0.24908\n",
      "[47]\tvalidation_0-merror:0.01221\tvalidation_1-merror:0.24969\n",
      "[48]\tvalidation_0-merror:0.01155\tvalidation_1-merror:0.24539\n",
      "[49]\tvalidation_0-merror:0.01155\tvalidation_1-merror:0.24600\n",
      "[50]\tvalidation_0-merror:0.01112\tvalidation_1-merror:0.24293\n",
      "[51]\tvalidation_0-merror:0.01025\tvalidation_1-merror:0.24416\n",
      "[52]\tvalidation_0-merror:0.00981\tvalidation_1-merror:0.24662\n",
      "[53]\tvalidation_0-merror:0.00959\tvalidation_1-merror:0.24293\n",
      "[54]\tvalidation_0-merror:0.00927\tvalidation_1-merror:0.23924\n",
      "[55]\tvalidation_0-merror:0.00894\tvalidation_1-merror:0.23616\n",
      "[56]\tvalidation_0-merror:0.00817\tvalidation_1-merror:0.23862\n",
      "[57]\tvalidation_0-merror:0.00807\tvalidation_1-merror:0.23678\n",
      "[58]\tvalidation_0-merror:0.00730\tvalidation_1-merror:0.23678\n",
      "[59]\tvalidation_0-merror:0.00752\tvalidation_1-merror:0.23678\n",
      "[60]\tvalidation_0-merror:0.00698\tvalidation_1-merror:0.23493\n",
      "[61]\tvalidation_0-merror:0.00676\tvalidation_1-merror:0.23555\n",
      "[62]\tvalidation_0-merror:0.00578\tvalidation_1-merror:0.23555\n",
      "[63]\tvalidation_0-merror:0.00534\tvalidation_1-merror:0.23493\n",
      "[64]\tvalidation_0-merror:0.00480\tvalidation_1-merror:0.23309\n",
      "[65]\tvalidation_0-merror:0.00414\tvalidation_1-merror:0.23370\n",
      "[66]\tvalidation_0-merror:0.00381\tvalidation_1-merror:0.23247\n",
      "[67]\tvalidation_0-merror:0.00360\tvalidation_1-merror:0.23432\n",
      "[68]\tvalidation_0-merror:0.00360\tvalidation_1-merror:0.23432\n",
      "[69]\tvalidation_0-merror:0.00305\tvalidation_1-merror:0.23616\n",
      "[70]\tvalidation_0-merror:0.00283\tvalidation_1-merror:0.23370\n",
      "[71]\tvalidation_0-merror:0.00262\tvalidation_1-merror:0.23001\n",
      "[72]\tvalidation_0-merror:0.00251\tvalidation_1-merror:0.23001\n",
      "[73]\tvalidation_0-merror:0.00229\tvalidation_1-merror:0.22940\n",
      "[74]\tvalidation_0-merror:0.00240\tvalidation_1-merror:0.23063\n",
      "[75]\tvalidation_0-merror:0.00229\tvalidation_1-merror:0.23309\n",
      "[76]\tvalidation_0-merror:0.00229\tvalidation_1-merror:0.23309\n",
      "[77]\tvalidation_0-merror:0.00229\tvalidation_1-merror:0.23124\n",
      "[78]\tvalidation_0-merror:0.00218\tvalidation_1-merror:0.23186\n",
      "[79]\tvalidation_0-merror:0.00218\tvalidation_1-merror:0.23186\n",
      "[80]\tvalidation_0-merror:0.00196\tvalidation_1-merror:0.23186\n",
      "[81]\tvalidation_0-merror:0.00196\tvalidation_1-merror:0.23186\n",
      "[82]\tvalidation_0-merror:0.00174\tvalidation_1-merror:0.23186\n",
      "[83]\tvalidation_0-merror:0.00174\tvalidation_1-merror:0.22817\n",
      "[84]\tvalidation_0-merror:0.00174\tvalidation_1-merror:0.23124\n",
      "[85]\tvalidation_0-merror:0.00174\tvalidation_1-merror:0.23001\n",
      "[86]\tvalidation_0-merror:0.00174\tvalidation_1-merror:0.22940\n",
      "[87]\tvalidation_0-merror:0.00185\tvalidation_1-merror:0.22878\n",
      "[88]\tvalidation_0-merror:0.00174\tvalidation_1-merror:0.23063\n",
      "[89]\tvalidation_0-merror:0.00174\tvalidation_1-merror:0.22632\n",
      "[90]\tvalidation_0-merror:0.00174\tvalidation_1-merror:0.22694\n",
      "[91]\tvalidation_0-merror:0.00174\tvalidation_1-merror:0.22817\n",
      "[92]\tvalidation_0-merror:0.00174\tvalidation_1-merror:0.22755\n",
      "[93]\tvalidation_0-merror:0.00174\tvalidation_1-merror:0.22694\n",
      "[94]\tvalidation_0-merror:0.00174\tvalidation_1-merror:0.22940\n",
      "[95]\tvalidation_0-merror:0.00174\tvalidation_1-merror:0.22878\n",
      "[96]\tvalidation_0-merror:0.00163\tvalidation_1-merror:0.22940\n",
      "[97]\tvalidation_0-merror:0.00163\tvalidation_1-merror:0.22817\n",
      "[98]\tvalidation_0-merror:0.00163\tvalidation_1-merror:0.23001\n",
      "[99]\tvalidation_0-merror:0.00153\tvalidation_1-merror:0.22817\n"
     ]
    },
    {
     "data": {
      "text/plain": [
       "RandomizedSearchCV(cv=5,\n",
       "                   estimator=XGBClassifier(base_score=None, booster=None,\n",
       "                                           colsample_bylevel=None,\n",
       "                                           colsample_bynode=None,\n",
       "                                           colsample_bytree=None, gamma=None,\n",
       "                                           gpu_id=None, importance_type='gain',\n",
       "                                           interaction_constraints=None,\n",
       "                                           learning_rate=None,\n",
       "                                           max_delta_step=None, max_depth=None,\n",
       "                                           min_child_weight=None, missing=nan,\n",
       "                                           monotone_constraints=None,\n",
       "                                           n_estimators=100,...\n",
       "                                           reg_lambda=None,\n",
       "                                           scale_pos_weight=None,\n",
       "                                           subsample=None, tree_method=None,\n",
       "                                           validate_parameters=None,\n",
       "                                           verbosity=None),\n",
       "                   n_iter=20, n_jobs=-1,\n",
       "                   param_distributions={'learning_rate': [0.01, 0.015, 0.025,\n",
       "                                                          0.05, 0.1],\n",
       "                                        'max_depth': [3, 5, 7, 9, 12, 15, 17,\n",
       "                                                      25],\n",
       "                                        'min_child_weight': [1, 3, 5, 7],\n",
       "                                        'subsample': array([0.6, 0.7, 0.8, 0.9, 1. ])},\n",
       "                   return_train_score=True, scoring='accuracy', verbose=10)"
      ]
     },
     "execution_count": 48,
     "metadata": {},
     "output_type": "execute_result"
    }
   ],
   "source": [
    "xgb_clf = xgb.XGBClassifier()\n",
    "\n",
    "xgb_param_grid = {'learning_rate': [.01, .015, .025, .05, .1],\n",
    "#                   'gamma': [.05, .1, .3, .5, .7, .9, 1],\n",
    "                  'max_depth': [3, 5, 7, 9, 12, 15, 17, 25],\n",
    "                  'min_child_weight': [1, 3, 5, 7],\n",
    "                  'subsample': np.linspace(0.6, 1, 5)}\n",
    "\n",
    "fit_params = {\"early_stopping_rounds\" : 20,\n",
    "             \"eval_metric\" : \"merror\",\n",
    "             \"eval_set\" : [(X_train, y_train), (X_val, y_val)]}\n",
    "\n",
    "# Create a random search object\n",
    "xgb_random = RandomizedSearchCV(estimator = xgb_clf,\n",
    "                                param_distributions = xgb_param_grid,\n",
    "                                n_iter = 20, # n_iters in param combinations\n",
    "                                scoring='accuracy',\n",
    "                                n_jobs=-1,\n",
    "                                cv = 5,\n",
    "                                refit=True,\n",
    "                                return_train_score = True,\n",
    "                                verbose=10)\n",
    "\n",
    "# Fit to the training data\n",
    "xgb_random.fit(X_train, y_train, **fit_params)"
   ]
  },
  {
   "cell_type": "code",
   "execution_count": 49,
   "metadata": {},
   "outputs": [],
   "source": [
    "pred_train = xgb_random.best_estimator_.predict(X_train)\n",
    "pred_val = xgb_random.best_estimator_.predict(X_val)\n",
    "pred_test = xgb_random.best_estimator_.predict(X_test)"
   ]
  },
  {
   "cell_type": "code",
   "execution_count": 50,
   "metadata": {},
   "outputs": [],
   "source": [
    "from sklearn.metrics import accuracy_score"
   ]
  },
  {
   "cell_type": "code",
   "execution_count": 51,
   "metadata": {},
   "outputs": [
    {
     "name": "stdout",
     "output_type": "stream",
     "text": [
      "0.9982559407019839\n",
      "0.7736777367773677\n",
      "0.36996336996337\n"
     ]
    }
   ],
   "source": [
    "print(accuracy_score(y_train, pred_train))\n",
    "print(accuracy_score(y_val, pred_val))\n",
    "print(accuracy_score(y_test, pred_test))"
   ]
  },
  {
   "cell_type": "code",
   "execution_count": 52,
   "metadata": {},
   "outputs": [
    {
     "data": {
      "text/plain": [
       "XGBClassifier(base_score=0.5, booster='gbtree', colsample_bylevel=1,\n",
       "              colsample_bynode=1, colsample_bytree=1, gamma=0, gpu_id=-1,\n",
       "              importance_type='gain', interaction_constraints='',\n",
       "              learning_rate=0.1, max_delta_step=0, max_depth=17,\n",
       "              min_child_weight=5, missing=nan, monotone_constraints='()',\n",
       "              n_estimators=100, n_jobs=0, num_parallel_tree=1,\n",
       "              objective='multi:softprob', random_state=0, reg_alpha=0,\n",
       "              reg_lambda=1, scale_pos_weight=None, subsample=0.6,\n",
       "              tree_method='exact', validate_parameters=1, verbosity=None)"
      ]
     },
     "execution_count": 52,
     "metadata": {},
     "output_type": "execute_result"
    }
   ],
   "source": [
    "xgb_random.best_estimator_"
   ]
  },
  {
   "cell_type": "code",
   "execution_count": 53,
   "metadata": {},
   "outputs": [],
   "source": [
    "xgb_cv_result_df = pd.DataFrame(xgb_random.cv_results_)"
   ]
  },
  {
   "cell_type": "code",
   "execution_count": 54,
   "metadata": {},
   "outputs": [],
   "source": [
    "df_list = []\n",
    "for i in range(20):\n",
    "    df_list.append(pd.DataFrame([xgb_cv_result_df.loc[i, \"params\"]]))\n",
    "    \n",
    "xgb_param_table = pd.concat(df_list)"
   ]
  },
  {
   "cell_type": "code",
   "execution_count": 55,
   "metadata": {},
   "outputs": [],
   "source": [
    "xgb_param_table['mean_test_score'] = xgb_cv_result_df['mean_test_score'].values"
   ]
  },
  {
   "cell_type": "code",
   "execution_count": 56,
   "metadata": {},
   "outputs": [
    {
     "data": {
      "text/html": [
       "<div>\n",
       "<style scoped>\n",
       "    .dataframe tbody tr th:only-of-type {\n",
       "        vertical-align: middle;\n",
       "    }\n",
       "\n",
       "    .dataframe tbody tr th {\n",
       "        vertical-align: top;\n",
       "    }\n",
       "\n",
       "    .dataframe thead th {\n",
       "        text-align: right;\n",
       "    }\n",
       "</style>\n",
       "<table border=\"1\" class=\"dataframe\">\n",
       "  <thead>\n",
       "    <tr style=\"text-align: right;\">\n",
       "      <th></th>\n",
       "      <th>subsample</th>\n",
       "      <th>min_child_weight</th>\n",
       "      <th>max_depth</th>\n",
       "      <th>learning_rate</th>\n",
       "      <th>mean_test_score</th>\n",
       "    </tr>\n",
       "  </thead>\n",
       "  <tbody>\n",
       "    <tr>\n",
       "      <th>0</th>\n",
       "      <td>1.0</td>\n",
       "      <td>3</td>\n",
       "      <td>9</td>\n",
       "      <td>0.015</td>\n",
       "      <td>0.678440</td>\n",
       "    </tr>\n",
       "    <tr>\n",
       "      <th>0</th>\n",
       "      <td>1.0</td>\n",
       "      <td>7</td>\n",
       "      <td>12</td>\n",
       "      <td>0.015</td>\n",
       "      <td>0.684435</td>\n",
       "    </tr>\n",
       "    <tr>\n",
       "      <th>0</th>\n",
       "      <td>0.6</td>\n",
       "      <td>7</td>\n",
       "      <td>25</td>\n",
       "      <td>0.010</td>\n",
       "      <td>0.688249</td>\n",
       "    </tr>\n",
       "    <tr>\n",
       "      <th>0</th>\n",
       "      <td>0.9</td>\n",
       "      <td>1</td>\n",
       "      <td>25</td>\n",
       "      <td>0.010</td>\n",
       "      <td>0.691193</td>\n",
       "    </tr>\n",
       "    <tr>\n",
       "      <th>0</th>\n",
       "      <td>0.7</td>\n",
       "      <td>1</td>\n",
       "      <td>7</td>\n",
       "      <td>0.010</td>\n",
       "      <td>0.691410</td>\n",
       "    </tr>\n",
       "    <tr>\n",
       "      <th>0</th>\n",
       "      <td>0.9</td>\n",
       "      <td>3</td>\n",
       "      <td>12</td>\n",
       "      <td>0.010</td>\n",
       "      <td>0.695116</td>\n",
       "    </tr>\n",
       "    <tr>\n",
       "      <th>0</th>\n",
       "      <td>0.7</td>\n",
       "      <td>3</td>\n",
       "      <td>7</td>\n",
       "      <td>0.015</td>\n",
       "      <td>0.698823</td>\n",
       "    </tr>\n",
       "    <tr>\n",
       "      <th>0</th>\n",
       "      <td>0.7</td>\n",
       "      <td>3</td>\n",
       "      <td>12</td>\n",
       "      <td>0.010</td>\n",
       "      <td>0.702746</td>\n",
       "    </tr>\n",
       "    <tr>\n",
       "      <th>0</th>\n",
       "      <td>0.8</td>\n",
       "      <td>5</td>\n",
       "      <td>9</td>\n",
       "      <td>0.015</td>\n",
       "      <td>0.703401</td>\n",
       "    </tr>\n",
       "    <tr>\n",
       "      <th>0</th>\n",
       "      <td>1.0</td>\n",
       "      <td>7</td>\n",
       "      <td>12</td>\n",
       "      <td>0.025</td>\n",
       "      <td>0.706780</td>\n",
       "    </tr>\n",
       "    <tr>\n",
       "      <th>0</th>\n",
       "      <td>1.0</td>\n",
       "      <td>5</td>\n",
       "      <td>15</td>\n",
       "      <td>0.025</td>\n",
       "      <td>0.706889</td>\n",
       "    </tr>\n",
       "    <tr>\n",
       "      <th>0</th>\n",
       "      <td>0.9</td>\n",
       "      <td>1</td>\n",
       "      <td>25</td>\n",
       "      <td>0.025</td>\n",
       "      <td>0.712449</td>\n",
       "    </tr>\n",
       "    <tr>\n",
       "      <th>0</th>\n",
       "      <td>0.7</td>\n",
       "      <td>5</td>\n",
       "      <td>9</td>\n",
       "      <td>0.025</td>\n",
       "      <td>0.718770</td>\n",
       "    </tr>\n",
       "    <tr>\n",
       "      <th>0</th>\n",
       "      <td>0.6</td>\n",
       "      <td>7</td>\n",
       "      <td>15</td>\n",
       "      <td>0.025</td>\n",
       "      <td>0.721930</td>\n",
       "    </tr>\n",
       "    <tr>\n",
       "      <th>0</th>\n",
       "      <td>0.6</td>\n",
       "      <td>3</td>\n",
       "      <td>7</td>\n",
       "      <td>0.050</td>\n",
       "      <td>0.727817</td>\n",
       "    </tr>\n",
       "    <tr>\n",
       "      <th>0</th>\n",
       "      <td>0.8</td>\n",
       "      <td>1</td>\n",
       "      <td>7</td>\n",
       "      <td>0.050</td>\n",
       "      <td>0.728471</td>\n",
       "    </tr>\n",
       "    <tr>\n",
       "      <th>0</th>\n",
       "      <td>0.9</td>\n",
       "      <td>5</td>\n",
       "      <td>7</td>\n",
       "      <td>0.050</td>\n",
       "      <td>0.730869</td>\n",
       "    </tr>\n",
       "    <tr>\n",
       "      <th>0</th>\n",
       "      <td>0.9</td>\n",
       "      <td>5</td>\n",
       "      <td>15</td>\n",
       "      <td>0.050</td>\n",
       "      <td>0.737628</td>\n",
       "    </tr>\n",
       "    <tr>\n",
       "      <th>0</th>\n",
       "      <td>0.6</td>\n",
       "      <td>1</td>\n",
       "      <td>5</td>\n",
       "      <td>0.100</td>\n",
       "      <td>0.739045</td>\n",
       "    </tr>\n",
       "    <tr>\n",
       "      <th>0</th>\n",
       "      <td>0.6</td>\n",
       "      <td>5</td>\n",
       "      <td>17</td>\n",
       "      <td>0.100</td>\n",
       "      <td>0.751798</td>\n",
       "    </tr>\n",
       "  </tbody>\n",
       "</table>\n",
       "</div>"
      ],
      "text/plain": [
       "   subsample  min_child_weight  max_depth  learning_rate  mean_test_score\n",
       "0        1.0                 3          9          0.015         0.678440\n",
       "0        1.0                 7         12          0.015         0.684435\n",
       "0        0.6                 7         25          0.010         0.688249\n",
       "0        0.9                 1         25          0.010         0.691193\n",
       "0        0.7                 1          7          0.010         0.691410\n",
       "0        0.9                 3         12          0.010         0.695116\n",
       "0        0.7                 3          7          0.015         0.698823\n",
       "0        0.7                 3         12          0.010         0.702746\n",
       "0        0.8                 5          9          0.015         0.703401\n",
       "0        1.0                 7         12          0.025         0.706780\n",
       "0        1.0                 5         15          0.025         0.706889\n",
       "0        0.9                 1         25          0.025         0.712449\n",
       "0        0.7                 5          9          0.025         0.718770\n",
       "0        0.6                 7         15          0.025         0.721930\n",
       "0        0.6                 3          7          0.050         0.727817\n",
       "0        0.8                 1          7          0.050         0.728471\n",
       "0        0.9                 5          7          0.050         0.730869\n",
       "0        0.9                 5         15          0.050         0.737628\n",
       "0        0.6                 1          5          0.100         0.739045\n",
       "0        0.6                 5         17          0.100         0.751798"
      ]
     },
     "execution_count": 56,
     "metadata": {},
     "output_type": "execute_result"
    }
   ],
   "source": [
    "xgb_param_table.sort_values(by='mean_test_score', axis=0)"
   ]
  },
  {
   "cell_type": "code",
   "execution_count": null,
   "metadata": {},
   "outputs": [],
   "source": []
  }
 ],
 "metadata": {
  "kernelspec": {
   "display_name": "Python 3",
   "language": "python",
   "name": "python3"
  },
  "language_info": {
   "codemirror_mode": {
    "name": "ipython",
    "version": 3
   },
   "file_extension": ".py",
   "mimetype": "text/x-python",
   "name": "python",
   "nbconvert_exporter": "python",
   "pygments_lexer": "ipython3",
   "version": "3.6.9"
  }
 },
 "nbformat": 4,
 "nbformat_minor": 4
}
