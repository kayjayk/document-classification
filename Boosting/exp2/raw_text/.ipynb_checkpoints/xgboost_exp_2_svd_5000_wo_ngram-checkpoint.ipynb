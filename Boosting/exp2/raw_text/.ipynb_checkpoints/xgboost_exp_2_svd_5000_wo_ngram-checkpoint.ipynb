{
 "cells": [
  {
   "cell_type": "markdown",
   "metadata": {},
   "source": [
    "## Data Handling"
   ]
  },
  {
   "cell_type": "code",
   "execution_count": 1,
   "metadata": {},
   "outputs": [],
   "source": [
    "from sklearn.feature_extraction.text import TfidfVectorizer\n",
    "from sklearn.decomposition import TruncatedSVD\n",
    "import pandas as pd\n",
    "import numpy as np\n",
    "np.random.seed(4444)"
   ]
  },
  {
   "cell_type": "code",
   "execution_count": 2,
   "metadata": {},
   "outputs": [
    {
     "data": {
      "text/html": [
       "<div>\n",
       "<style scoped>\n",
       "    .dataframe tbody tr th:only-of-type {\n",
       "        vertical-align: middle;\n",
       "    }\n",
       "\n",
       "    .dataframe tbody tr th {\n",
       "        vertical-align: top;\n",
       "    }\n",
       "\n",
       "    .dataframe thead th {\n",
       "        text-align: right;\n",
       "    }\n",
       "</style>\n",
       "<table border=\"1\" class=\"dataframe\">\n",
       "  <thead>\n",
       "    <tr style=\"text-align: right;\">\n",
       "      <th></th>\n",
       "      <th>file_name</th>\n",
       "      <th>label</th>\n",
       "      <th>raw_text</th>\n",
       "      <th>dataset_n</th>\n",
       "      <th>train_val_test</th>\n",
       "    </tr>\n",
       "  </thead>\n",
       "  <tbody>\n",
       "    <tr>\n",
       "      <th>0</th>\n",
       "      <td>R1509261.txt</td>\n",
       "      <td>0</td>\n",
       "      <td>보 도 자 료\\nhttp://www.msip.go.kr 보도일시 2015. 9. 4...</td>\n",
       "      <td>0</td>\n",
       "      <td>0</td>\n",
       "    </tr>\n",
       "    <tr>\n",
       "      <th>1</th>\n",
       "      <td>R2003733.txt</td>\n",
       "      <td>0</td>\n",
       "      <td>보도일시 2020. 3. 18.(수) 조간(온라인 3. 17. 12:00)부터 보도...</td>\n",
       "      <td>0</td>\n",
       "      <td>0</td>\n",
       "    </tr>\n",
       "    <tr>\n",
       "      <th>2</th>\n",
       "      <td>D1507076-1.txt</td>\n",
       "      <td>0</td>\n",
       "      <td>보 도 자 료\\nhttp://www.msip.go.kr 보도일시 2015. 7. 1...</td>\n",
       "      <td>0</td>\n",
       "      <td>0</td>\n",
       "    </tr>\n",
       "    <tr>\n",
       "      <th>3</th>\n",
       "      <td>R2005031.txt</td>\n",
       "      <td>0</td>\n",
       "      <td>보 도 자 료\\n배포일시 2020. 4. 29.(수) 총 4매(본문2) 담당 부서 ...</td>\n",
       "      <td>0</td>\n",
       "      <td>0</td>\n",
       "    </tr>\n",
       "    <tr>\n",
       "      <th>4</th>\n",
       "      <td>R2006226.txt</td>\n",
       "      <td>0</td>\n",
       "      <td>&lt;전매체&gt; 2020년 6월 3일(수) 10:00(국무회의 개최시)부터 보도하여 주시...</td>\n",
       "      <td>0</td>\n",
       "      <td>0</td>\n",
       "    </tr>\n",
       "  </tbody>\n",
       "</table>\n",
       "</div>"
      ],
      "text/plain": [
       "        file_name  label                                           raw_text  \\\n",
       "0    R1509261.txt      0  보 도 자 료\\nhttp://www.msip.go.kr 보도일시 2015. 9. 4...   \n",
       "1    R2003733.txt      0  보도일시 2020. 3. 18.(수) 조간(온라인 3. 17. 12:00)부터 보도...   \n",
       "2  D1507076-1.txt      0  보 도 자 료\\nhttp://www.msip.go.kr 보도일시 2015. 7. 1...   \n",
       "3    R2005031.txt      0  보 도 자 료\\n배포일시 2020. 4. 29.(수) 총 4매(본문2) 담당 부서 ...   \n",
       "4    R2006226.txt      0  <전매체> 2020년 6월 3일(수) 10:00(국무회의 개최시)부터 보도하여 주시...   \n",
       "\n",
       "   dataset_n  train_val_test  \n",
       "0          0               0  \n",
       "1          0               0  \n",
       "2          0               0  \n",
       "3          0               0  \n",
       "4          0               0  "
      ]
     },
     "execution_count": 2,
     "metadata": {},
     "output_type": "execute_result"
    }
   ],
   "source": [
    "df = pd.read_csv('../../../../jaeyeun/01_nh_poc/15_split_data_set_and_make_json_for_train_test_set/split_70_15_15.csv')\n",
    "\n",
    "df.head()"
   ]
  },
  {
   "cell_type": "markdown",
   "metadata": {},
   "source": [
    "* Train : KDI 70+15 (train+val)\n",
    "* Val : KDI 15(test)\n",
    "* Test : legal 273(train+val+test)"
   ]
  },
  {
   "cell_type": "code",
   "execution_count": 3,
   "metadata": {},
   "outputs": [],
   "source": [
    "X_train_df = df[(df['dataset_n'] == 0) & ((df['train_val_test'] == 0) | (df['train_val_test'] == 1))]\n",
    "X_val_df = df[(df['dataset_n'] == 0) & (df['train_val_test'] == 2)]\n",
    "X_test_df = df[df['dataset_n'] != 0]\n",
    "y_train = df[(df['dataset_n'] == 0) & ((df['train_val_test'] == 0) | (df['train_val_test'] == 1))]['label']\n",
    "y_val = df[(df['dataset_n'] == 0) & (df['train_val_test'] == 2)]['label']\n",
    "y_test = df[df['dataset_n'] != 0]['label']"
   ]
  },
  {
   "cell_type": "code",
   "execution_count": 4,
   "metadata": {},
   "outputs": [
    {
     "name": "stdout",
     "output_type": "stream",
     "text": [
      "(9174, 5)\n",
      "(1626, 5)\n",
      "(273, 5)\n",
      "(9174,)\n",
      "(1626,)\n",
      "(273,)\n"
     ]
    }
   ],
   "source": [
    "print(X_train_df.shape)\n",
    "print(X_val_df.shape)\n",
    "print(X_test_df.shape)\n",
    "print(y_train.shape)\n",
    "print(y_val.shape)\n",
    "print(y_test.shape)"
   ]
  },
  {
   "cell_type": "code",
   "execution_count": 5,
   "metadata": {},
   "outputs": [],
   "source": [
    "n_features = 100000\n",
    "tfidf_vectorizer = TfidfVectorizer(\n",
    "    max_df=0.9, # 0.9 만큼의 문서 이상에서 나오면 거른다.\n",
    "    min_df=5, # 5개 미만의 문서에서 나오면 거른다.\n",
    "    sublinear_tf = True, # tf value를 완만하게 처리 (outlier 처리 효과)\n",
    "    ngram_range = (1, 3),\n",
    "    max_features=n_features)"
   ]
  },
  {
   "cell_type": "code",
   "execution_count": 6,
   "metadata": {},
   "outputs": [],
   "source": [
    "X_train_tfidf = tfidf_vectorizer.fit(X_train_df['raw_text'])\n",
    "# X_test_tfidf = tfidf_vectorizer.fit_transform(prep_text_test)\n",
    "# X_test_hash = hash_vectorizer.fit_transform(prep_text_test)"
   ]
  },
  {
   "cell_type": "code",
   "execution_count": 7,
   "metadata": {},
   "outputs": [],
   "source": [
    "X_train_tfidf_transformed = X_train_tfidf.transform(X_train_df['raw_text'])\n",
    "X_val_tfidf_transformed = X_train_tfidf.transform(X_val_df['raw_text'])\n",
    "X_test_tfidf_transformed = X_train_tfidf.transform(X_test_df['raw_text'])"
   ]
  },
  {
   "cell_type": "code",
   "execution_count": 8,
   "metadata": {},
   "outputs": [
    {
     "name": "stdout",
     "output_type": "stream",
     "text": [
      "(9174, 100000)\n",
      "(1626, 100000)\n",
      "(273, 100000)\n"
     ]
    }
   ],
   "source": [
    "print(X_train_tfidf_transformed.shape)\n",
    "print(X_val_tfidf_transformed.shape)\n",
    "print(X_test_tfidf_transformed.shape)"
   ]
  },
  {
   "cell_type": "code",
   "execution_count": 9,
   "metadata": {},
   "outputs": [
    {
     "data": {
      "text/plain": [
       "TruncatedSVD(n_components=1000)"
      ]
     },
     "execution_count": 9,
     "metadata": {},
     "output_type": "execute_result"
    }
   ],
   "source": [
    "svd = TruncatedSVD(n_components=1000)\n",
    "svd.fit(X_train_tfidf_transformed)"
   ]
  },
  {
   "cell_type": "code",
   "execution_count": 10,
   "metadata": {},
   "outputs": [],
   "source": [
    "X_train = svd.transform(X_train_tfidf_transformed)\n",
    "X_val = svd.transform(X_val_tfidf_transformed)\n",
    "X_test = svd.transform(X_test_tfidf_transformed)"
   ]
  },
  {
   "cell_type": "code",
   "execution_count": 11,
   "metadata": {},
   "outputs": [
    {
     "name": "stdout",
     "output_type": "stream",
     "text": [
      "(9174, 1000)\n",
      "(1626, 1000)\n",
      "(273, 1000)\n"
     ]
    }
   ],
   "source": [
    "print(X_train.shape)\n",
    "print(X_val.shape)\n",
    "print(X_test.shape)"
   ]
  },
  {
   "cell_type": "markdown",
   "metadata": {},
   "source": [
    "## Classify"
   ]
  },
  {
   "cell_type": "markdown",
   "metadata": {},
   "source": [
    "* XGBoost RandomSearch"
   ]
  },
  {
   "cell_type": "code",
   "execution_count": 12,
   "metadata": {},
   "outputs": [],
   "source": [
    "from sklearn.model_selection import RandomizedSearchCV\n",
    "import xgboost as xgb"
   ]
  },
  {
   "cell_type": "code",
   "execution_count": 13,
   "metadata": {},
   "outputs": [
    {
     "name": "stdout",
     "output_type": "stream",
     "text": [
      "Fitting 5 folds for each of 20 candidates, totalling 100 fits\n"
     ]
    },
    {
     "name": "stderr",
     "output_type": "stream",
     "text": [
      "[Parallel(n_jobs=-1)]: Using backend LokyBackend with 32 concurrent workers.\n",
      "[Parallel(n_jobs=-1)]: Done   8 tasks      | elapsed: 17.1min\n",
      "[Parallel(n_jobs=-1)]: Done  21 tasks      | elapsed: 21.5min\n",
      "[Parallel(n_jobs=-1)]: Done  34 tasks      | elapsed: 32.5min\n",
      "[Parallel(n_jobs=-1)]: Done  48 out of 100 | elapsed: 37.8min remaining: 41.0min\n",
      "[Parallel(n_jobs=-1)]: Done  59 out of 100 | elapsed: 48.6min remaining: 33.7min\n",
      "[Parallel(n_jobs=-1)]: Done  70 out of 100 | elapsed: 54.4min remaining: 23.3min\n",
      "[Parallel(n_jobs=-1)]: Done  81 out of 100 | elapsed: 60.9min remaining: 14.3min\n",
      "[Parallel(n_jobs=-1)]: Done  92 out of 100 | elapsed: 67.8min remaining:  5.9min\n",
      "[Parallel(n_jobs=-1)]: Done 100 out of 100 | elapsed: 75.8min finished\n"
     ]
    },
    {
     "name": "stdout",
     "output_type": "stream",
     "text": [
      "[0]\tvalidation_0-merror:0.22923\tvalidation_1-merror:0.29705\n",
      "Multiple eval metrics have been passed: 'validation_1-merror' will be used for early stopping.\n",
      "\n",
      "Will train until validation_1-merror hasn't improved in 20 rounds.\n",
      "[1]\tvalidation_0-merror:0.18520\tvalidation_1-merror:0.25707\n",
      "[2]\tvalidation_0-merror:0.16634\tvalidation_1-merror:0.24108\n",
      "[3]\tvalidation_0-merror:0.15489\tvalidation_1-merror:0.23739\n",
      "[4]\tvalidation_0-merror:0.14617\tvalidation_1-merror:0.22940\n",
      "[5]\tvalidation_0-merror:0.14094\tvalidation_1-merror:0.22878\n",
      "[6]\tvalidation_0-merror:0.13440\tvalidation_1-merror:0.22632\n",
      "[7]\tvalidation_0-merror:0.12830\tvalidation_1-merror:0.22140\n",
      "[8]\tvalidation_0-merror:0.12361\tvalidation_1-merror:0.22386\n",
      "[9]\tvalidation_0-merror:0.11816\tvalidation_1-merror:0.21833\n",
      "[10]\tvalidation_0-merror:0.11478\tvalidation_1-merror:0.21648\n",
      "[11]\tvalidation_0-merror:0.10879\tvalidation_1-merror:0.21587\n",
      "[12]\tvalidation_0-merror:0.10323\tvalidation_1-merror:0.21648\n",
      "[13]\tvalidation_0-merror:0.09865\tvalidation_1-merror:0.21525\n",
      "[14]\tvalidation_0-merror:0.09636\tvalidation_1-merror:0.21279\n",
      "[15]\tvalidation_0-merror:0.09145\tvalidation_1-merror:0.20849\n",
      "[16]\tvalidation_0-merror:0.08840\tvalidation_1-merror:0.20972\n",
      "[17]\tvalidation_0-merror:0.08502\tvalidation_1-merror:0.20787\n",
      "[18]\tvalidation_0-merror:0.08132\tvalidation_1-merror:0.20726\n",
      "[19]\tvalidation_0-merror:0.07674\tvalidation_1-merror:0.20357\n",
      "[20]\tvalidation_0-merror:0.07314\tvalidation_1-merror:0.20664\n",
      "[21]\tvalidation_0-merror:0.07020\tvalidation_1-merror:0.20910\n",
      "[22]\tvalidation_0-merror:0.06769\tvalidation_1-merror:0.20849\n",
      "[23]\tvalidation_0-merror:0.06573\tvalidation_1-merror:0.20787\n",
      "[24]\tvalidation_0-merror:0.06322\tvalidation_1-merror:0.20849\n",
      "[25]\tvalidation_0-merror:0.05995\tvalidation_1-merror:0.20603\n",
      "[26]\tvalidation_0-merror:0.05679\tvalidation_1-merror:0.20541\n",
      "[27]\tvalidation_0-merror:0.05418\tvalidation_1-merror:0.20480\n",
      "[28]\tvalidation_0-merror:0.05080\tvalidation_1-merror:0.20541\n",
      "[29]\tvalidation_0-merror:0.04807\tvalidation_1-merror:0.20357\n",
      "[30]\tvalidation_0-merror:0.04655\tvalidation_1-merror:0.20295\n",
      "[31]\tvalidation_0-merror:0.04458\tvalidation_1-merror:0.20357\n",
      "[32]\tvalidation_0-merror:0.04251\tvalidation_1-merror:0.19988\n",
      "[33]\tvalidation_0-merror:0.03968\tvalidation_1-merror:0.20049\n",
      "[34]\tvalidation_0-merror:0.03706\tvalidation_1-merror:0.20172\n",
      "[35]\tvalidation_0-merror:0.03434\tvalidation_1-merror:0.19926\n",
      "[36]\tvalidation_0-merror:0.03270\tvalidation_1-merror:0.19988\n",
      "[37]\tvalidation_0-merror:0.03030\tvalidation_1-merror:0.19865\n",
      "[38]\tvalidation_0-merror:0.02812\tvalidation_1-merror:0.19742\n",
      "[39]\tvalidation_0-merror:0.02616\tvalidation_1-merror:0.19988\n",
      "[40]\tvalidation_0-merror:0.02387\tvalidation_1-merror:0.19803\n",
      "[41]\tvalidation_0-merror:0.02256\tvalidation_1-merror:0.19557\n",
      "[42]\tvalidation_0-merror:0.02104\tvalidation_1-merror:0.19434\n",
      "[43]\tvalidation_0-merror:0.01951\tvalidation_1-merror:0.19311\n",
      "[44]\tvalidation_0-merror:0.01820\tvalidation_1-merror:0.19680\n",
      "[45]\tvalidation_0-merror:0.01700\tvalidation_1-merror:0.19434\n",
      "[46]\tvalidation_0-merror:0.01559\tvalidation_1-merror:0.19373\n",
      "[47]\tvalidation_0-merror:0.01493\tvalidation_1-merror:0.19311\n",
      "[48]\tvalidation_0-merror:0.01417\tvalidation_1-merror:0.19311\n",
      "[49]\tvalidation_0-merror:0.01210\tvalidation_1-merror:0.19434\n",
      "[50]\tvalidation_0-merror:0.01101\tvalidation_1-merror:0.19311\n",
      "[51]\tvalidation_0-merror:0.01003\tvalidation_1-merror:0.19619\n",
      "[52]\tvalidation_0-merror:0.00981\tvalidation_1-merror:0.19127\n",
      "[53]\tvalidation_0-merror:0.00916\tvalidation_1-merror:0.19188\n",
      "[54]\tvalidation_0-merror:0.00883\tvalidation_1-merror:0.18881\n",
      "[55]\tvalidation_0-merror:0.00807\tvalidation_1-merror:0.19127\n",
      "[56]\tvalidation_0-merror:0.00741\tvalidation_1-merror:0.19004\n",
      "[57]\tvalidation_0-merror:0.00654\tvalidation_1-merror:0.19004\n",
      "[58]\tvalidation_0-merror:0.00578\tvalidation_1-merror:0.18758\n",
      "[59]\tvalidation_0-merror:0.00578\tvalidation_1-merror:0.18696\n",
      "[60]\tvalidation_0-merror:0.00490\tvalidation_1-merror:0.18819\n",
      "[61]\tvalidation_0-merror:0.00458\tvalidation_1-merror:0.18696\n",
      "[62]\tvalidation_0-merror:0.00425\tvalidation_1-merror:0.18758\n",
      "[63]\tvalidation_0-merror:0.00414\tvalidation_1-merror:0.18758\n",
      "[64]\tvalidation_0-merror:0.00349\tvalidation_1-merror:0.18758\n",
      "[65]\tvalidation_0-merror:0.00360\tvalidation_1-merror:0.18696\n",
      "[66]\tvalidation_0-merror:0.00338\tvalidation_1-merror:0.18573\n",
      "[67]\tvalidation_0-merror:0.00283\tvalidation_1-merror:0.18573\n",
      "[68]\tvalidation_0-merror:0.00251\tvalidation_1-merror:0.18573\n",
      "[69]\tvalidation_0-merror:0.00251\tvalidation_1-merror:0.18635\n",
      "[70]\tvalidation_0-merror:0.00207\tvalidation_1-merror:0.18512\n",
      "[71]\tvalidation_0-merror:0.00207\tvalidation_1-merror:0.18512\n",
      "[72]\tvalidation_0-merror:0.00207\tvalidation_1-merror:0.18512\n",
      "[73]\tvalidation_0-merror:0.00196\tvalidation_1-merror:0.18573\n",
      "[74]\tvalidation_0-merror:0.00207\tvalidation_1-merror:0.18450\n",
      "[75]\tvalidation_0-merror:0.00196\tvalidation_1-merror:0.18635\n",
      "[76]\tvalidation_0-merror:0.00185\tvalidation_1-merror:0.18389\n",
      "[77]\tvalidation_0-merror:0.00174\tvalidation_1-merror:0.18696\n",
      "[78]\tvalidation_0-merror:0.00163\tvalidation_1-merror:0.18573\n",
      "[79]\tvalidation_0-merror:0.00153\tvalidation_1-merror:0.18758\n",
      "[80]\tvalidation_0-merror:0.00131\tvalidation_1-merror:0.18696\n",
      "[81]\tvalidation_0-merror:0.00131\tvalidation_1-merror:0.18512\n",
      "[82]\tvalidation_0-merror:0.00120\tvalidation_1-merror:0.18450\n",
      "[83]\tvalidation_0-merror:0.00120\tvalidation_1-merror:0.18204\n",
      "[84]\tvalidation_0-merror:0.00098\tvalidation_1-merror:0.18327\n",
      "[85]\tvalidation_0-merror:0.00098\tvalidation_1-merror:0.18143\n",
      "[86]\tvalidation_0-merror:0.00098\tvalidation_1-merror:0.18204\n",
      "[87]\tvalidation_0-merror:0.00098\tvalidation_1-merror:0.18143\n",
      "[88]\tvalidation_0-merror:0.00087\tvalidation_1-merror:0.18020\n",
      "[89]\tvalidation_0-merror:0.00087\tvalidation_1-merror:0.18020\n",
      "[90]\tvalidation_0-merror:0.00087\tvalidation_1-merror:0.17897\n",
      "[91]\tvalidation_0-merror:0.00087\tvalidation_1-merror:0.17958\n",
      "[92]\tvalidation_0-merror:0.00087\tvalidation_1-merror:0.18081\n",
      "[93]\tvalidation_0-merror:0.00087\tvalidation_1-merror:0.18081\n",
      "[94]\tvalidation_0-merror:0.00087\tvalidation_1-merror:0.18143\n",
      "[95]\tvalidation_0-merror:0.00087\tvalidation_1-merror:0.18143\n",
      "[96]\tvalidation_0-merror:0.00076\tvalidation_1-merror:0.18143\n",
      "[97]\tvalidation_0-merror:0.00076\tvalidation_1-merror:0.18143\n",
      "[98]\tvalidation_0-merror:0.00076\tvalidation_1-merror:0.18081\n",
      "[99]\tvalidation_0-merror:0.00076\tvalidation_1-merror:0.18081\n"
     ]
    },
    {
     "data": {
      "text/plain": [
       "RandomizedSearchCV(cv=5,\n",
       "                   estimator=XGBClassifier(base_score=None, booster=None,\n",
       "                                           colsample_bylevel=None,\n",
       "                                           colsample_bynode=None,\n",
       "                                           colsample_bytree=None, gamma=None,\n",
       "                                           gpu_id=None, importance_type='gain',\n",
       "                                           interaction_constraints=None,\n",
       "                                           learning_rate=None,\n",
       "                                           max_delta_step=None, max_depth=None,\n",
       "                                           min_child_weight=None, missing=nan,\n",
       "                                           monotone_constraints=None,\n",
       "                                           n_estimators=100,...\n",
       "                                           reg_lambda=None,\n",
       "                                           scale_pos_weight=None,\n",
       "                                           subsample=None, tree_method=None,\n",
       "                                           validate_parameters=None,\n",
       "                                           verbosity=None),\n",
       "                   n_iter=20, n_jobs=-1,\n",
       "                   param_distributions={'learning_rate': [0.01, 0.015, 0.025,\n",
       "                                                          0.05, 0.1],\n",
       "                                        'max_depth': [3, 5, 7, 9, 12, 15, 17,\n",
       "                                                      25],\n",
       "                                        'min_child_weight': [1, 3, 5, 7],\n",
       "                                        'subsample': array([0.6, 0.7, 0.8, 0.9, 1. ])},\n",
       "                   return_train_score=True, scoring='accuracy', verbose=10)"
      ]
     },
     "execution_count": 13,
     "metadata": {},
     "output_type": "execute_result"
    }
   ],
   "source": [
    "xgb_clf = xgb.XGBClassifier()\n",
    "\n",
    "xgb_param_grid = {'learning_rate': [.01, .015, .025, .05, .1],\n",
    "#                   'Gamma': [.05, .1, .3, .5, .7, .9, 1],\n",
    "                  'max_depth': [3, 5, 7, 9, 12, 15, 17, 25],\n",
    "                  'min_child_weight': [1, 3, 5, 7],\n",
    "                  'subsample': np.linspace(0.6, 1, 5)}\n",
    "\n",
    "fit_params = {\"early_stopping_rounds\" : 20,\n",
    "             \"eval_metric\" : \"merror\",\n",
    "             \"eval_set\" : [(X_train, y_train), (X_val, y_val)]}\n",
    "\n",
    "# Create a random search object\n",
    "xgb_random = RandomizedSearchCV(estimator = xgb_clf,\n",
    "                                param_distributions = xgb_param_grid,\n",
    "                                n_iter = 20, # n_iters in param combinations\n",
    "                                scoring='accuracy',\n",
    "                                n_jobs=-1,\n",
    "                                cv = 5,\n",
    "                                refit=True,\n",
    "                                return_train_score = True,\n",
    "                                verbose=10)\n",
    "\n",
    "# Fit to the training data\n",
    "xgb_random.fit(X_train, y_train, **fit_params)"
   ]
  },
  {
   "cell_type": "code",
   "execution_count": 14,
   "metadata": {},
   "outputs": [],
   "source": [
    "pred_train = xgb_random.best_estimator_.predict(X_train)\n",
    "pred_val = xgb_random.best_estimator_.predict(X_val)\n",
    "pred_test = xgb_random.best_estimator_.predict(X_test)"
   ]
  },
  {
   "cell_type": "code",
   "execution_count": 15,
   "metadata": {},
   "outputs": [],
   "source": [
    "from sklearn.metrics import accuracy_score"
   ]
  },
  {
   "cell_type": "code",
   "execution_count": 16,
   "metadata": {},
   "outputs": [
    {
     "name": "stdout",
     "output_type": "stream",
     "text": [
      "0.9991279703509919\n",
      "0.8210332103321033\n",
      "0.34798534798534797\n"
     ]
    }
   ],
   "source": [
    "print(accuracy_score(y_train, pred_train))\n",
    "print(accuracy_score(y_val, pred_val))\n",
    "print(accuracy_score(y_test, pred_test))"
   ]
  },
  {
   "cell_type": "code",
   "execution_count": 17,
   "metadata": {},
   "outputs": [
    {
     "data": {
      "text/plain": [
       "XGBClassifier(base_score=0.5, booster='gbtree', colsample_bylevel=1,\n",
       "              colsample_bynode=1, colsample_bytree=1, gamma=0, gpu_id=-1,\n",
       "              importance_type='gain', interaction_constraints='',\n",
       "              learning_rate=0.1, max_delta_step=0, max_depth=9,\n",
       "              min_child_weight=5, missing=nan, monotone_constraints='()',\n",
       "              n_estimators=100, n_jobs=0, num_parallel_tree=1,\n",
       "              objective='multi:softprob', random_state=0, reg_alpha=0,\n",
       "              reg_lambda=1, scale_pos_weight=None, subsample=0.7,\n",
       "              tree_method='exact', validate_parameters=1, verbosity=None)"
      ]
     },
     "execution_count": 17,
     "metadata": {},
     "output_type": "execute_result"
    }
   ],
   "source": [
    "xgb_random.best_estimator_"
   ]
  },
  {
   "cell_type": "code",
   "execution_count": 18,
   "metadata": {},
   "outputs": [],
   "source": [
    "xgb_cv_result_df = pd.DataFrame(xgb_random.cv_results_)"
   ]
  },
  {
   "cell_type": "code",
   "execution_count": 19,
   "metadata": {},
   "outputs": [],
   "source": [
    "df_list = []\n",
    "for i in range(20):\n",
    "    df_list.append(pd.DataFrame([xgb_cv_result_df.loc[i, \"params\"]]))\n",
    "    \n",
    "xgb_param_table = pd.concat(df_list)"
   ]
  },
  {
   "cell_type": "code",
   "execution_count": 20,
   "metadata": {},
   "outputs": [],
   "source": [
    "xgb_param_table['mean_test_score'] = xgb_cv_result_df['mean_test_score'].values"
   ]
  },
  {
   "cell_type": "code",
   "execution_count": 21,
   "metadata": {},
   "outputs": [
    {
     "data": {
      "text/html": [
       "<div>\n",
       "<style scoped>\n",
       "    .dataframe tbody tr th:only-of-type {\n",
       "        vertical-align: middle;\n",
       "    }\n",
       "\n",
       "    .dataframe tbody tr th {\n",
       "        vertical-align: top;\n",
       "    }\n",
       "\n",
       "    .dataframe thead th {\n",
       "        text-align: right;\n",
       "    }\n",
       "</style>\n",
       "<table border=\"1\" class=\"dataframe\">\n",
       "  <thead>\n",
       "    <tr style=\"text-align: right;\">\n",
       "      <th></th>\n",
       "      <th>subsample</th>\n",
       "      <th>min_child_weight</th>\n",
       "      <th>max_depth</th>\n",
       "      <th>learning_rate</th>\n",
       "      <th>mean_test_score</th>\n",
       "    </tr>\n",
       "  </thead>\n",
       "  <tbody>\n",
       "    <tr>\n",
       "      <th>0</th>\n",
       "      <td>1.0</td>\n",
       "      <td>3</td>\n",
       "      <td>5</td>\n",
       "      <td>0.015</td>\n",
       "      <td>0.766079</td>\n",
       "    </tr>\n",
       "    <tr>\n",
       "      <th>0</th>\n",
       "      <td>0.9</td>\n",
       "      <td>1</td>\n",
       "      <td>7</td>\n",
       "      <td>0.010</td>\n",
       "      <td>0.772073</td>\n",
       "    </tr>\n",
       "    <tr>\n",
       "      <th>0</th>\n",
       "      <td>0.7</td>\n",
       "      <td>7</td>\n",
       "      <td>15</td>\n",
       "      <td>0.015</td>\n",
       "      <td>0.775997</td>\n",
       "    </tr>\n",
       "    <tr>\n",
       "      <th>0</th>\n",
       "      <td>0.9</td>\n",
       "      <td>7</td>\n",
       "      <td>5</td>\n",
       "      <td>0.025</td>\n",
       "      <td>0.776107</td>\n",
       "    </tr>\n",
       "    <tr>\n",
       "      <th>0</th>\n",
       "      <td>1.0</td>\n",
       "      <td>3</td>\n",
       "      <td>17</td>\n",
       "      <td>0.015</td>\n",
       "      <td>0.776652</td>\n",
       "    </tr>\n",
       "    <tr>\n",
       "      <th>0</th>\n",
       "      <td>1.0</td>\n",
       "      <td>5</td>\n",
       "      <td>12</td>\n",
       "      <td>0.015</td>\n",
       "      <td>0.781557</td>\n",
       "    </tr>\n",
       "    <tr>\n",
       "      <th>0</th>\n",
       "      <td>0.6</td>\n",
       "      <td>3</td>\n",
       "      <td>12</td>\n",
       "      <td>0.025</td>\n",
       "      <td>0.782866</td>\n",
       "    </tr>\n",
       "    <tr>\n",
       "      <th>0</th>\n",
       "      <td>0.8</td>\n",
       "      <td>3</td>\n",
       "      <td>15</td>\n",
       "      <td>0.015</td>\n",
       "      <td>0.783519</td>\n",
       "    </tr>\n",
       "    <tr>\n",
       "      <th>0</th>\n",
       "      <td>1.0</td>\n",
       "      <td>3</td>\n",
       "      <td>7</td>\n",
       "      <td>0.050</td>\n",
       "      <td>0.793439</td>\n",
       "    </tr>\n",
       "    <tr>\n",
       "      <th>0</th>\n",
       "      <td>0.6</td>\n",
       "      <td>7</td>\n",
       "      <td>5</td>\n",
       "      <td>0.050</td>\n",
       "      <td>0.795510</td>\n",
       "    </tr>\n",
       "    <tr>\n",
       "      <th>0</th>\n",
       "      <td>0.9</td>\n",
       "      <td>3</td>\n",
       "      <td>15</td>\n",
       "      <td>0.050</td>\n",
       "      <td>0.800742</td>\n",
       "    </tr>\n",
       "    <tr>\n",
       "      <th>0</th>\n",
       "      <td>0.9</td>\n",
       "      <td>3</td>\n",
       "      <td>5</td>\n",
       "      <td>0.100</td>\n",
       "      <td>0.803249</td>\n",
       "    </tr>\n",
       "    <tr>\n",
       "      <th>0</th>\n",
       "      <td>0.6</td>\n",
       "      <td>1</td>\n",
       "      <td>5</td>\n",
       "      <td>0.100</td>\n",
       "      <td>0.804011</td>\n",
       "    </tr>\n",
       "    <tr>\n",
       "      <th>0</th>\n",
       "      <td>1.0</td>\n",
       "      <td>7</td>\n",
       "      <td>7</td>\n",
       "      <td>0.100</td>\n",
       "      <td>0.804665</td>\n",
       "    </tr>\n",
       "    <tr>\n",
       "      <th>0</th>\n",
       "      <td>0.6</td>\n",
       "      <td>1</td>\n",
       "      <td>9</td>\n",
       "      <td>0.100</td>\n",
       "      <td>0.804993</td>\n",
       "    </tr>\n",
       "    <tr>\n",
       "      <th>0</th>\n",
       "      <td>0.6</td>\n",
       "      <td>5</td>\n",
       "      <td>7</td>\n",
       "      <td>0.100</td>\n",
       "      <td>0.805647</td>\n",
       "    </tr>\n",
       "    <tr>\n",
       "      <th>0</th>\n",
       "      <td>0.6</td>\n",
       "      <td>3</td>\n",
       "      <td>25</td>\n",
       "      <td>0.100</td>\n",
       "      <td>0.805974</td>\n",
       "    </tr>\n",
       "    <tr>\n",
       "      <th>0</th>\n",
       "      <td>0.6</td>\n",
       "      <td>7</td>\n",
       "      <td>12</td>\n",
       "      <td>0.100</td>\n",
       "      <td>0.806955</td>\n",
       "    </tr>\n",
       "    <tr>\n",
       "      <th>0</th>\n",
       "      <td>0.8</td>\n",
       "      <td>7</td>\n",
       "      <td>9</td>\n",
       "      <td>0.100</td>\n",
       "      <td>0.807173</td>\n",
       "    </tr>\n",
       "    <tr>\n",
       "      <th>0</th>\n",
       "      <td>0.7</td>\n",
       "      <td>5</td>\n",
       "      <td>9</td>\n",
       "      <td>0.100</td>\n",
       "      <td>0.807609</td>\n",
       "    </tr>\n",
       "  </tbody>\n",
       "</table>\n",
       "</div>"
      ],
      "text/plain": [
       "   subsample  min_child_weight  max_depth  learning_rate  mean_test_score\n",
       "0        1.0                 3          5          0.015         0.766079\n",
       "0        0.9                 1          7          0.010         0.772073\n",
       "0        0.7                 7         15          0.015         0.775997\n",
       "0        0.9                 7          5          0.025         0.776107\n",
       "0        1.0                 3         17          0.015         0.776652\n",
       "0        1.0                 5         12          0.015         0.781557\n",
       "0        0.6                 3         12          0.025         0.782866\n",
       "0        0.8                 3         15          0.015         0.783519\n",
       "0        1.0                 3          7          0.050         0.793439\n",
       "0        0.6                 7          5          0.050         0.795510\n",
       "0        0.9                 3         15          0.050         0.800742\n",
       "0        0.9                 3          5          0.100         0.803249\n",
       "0        0.6                 1          5          0.100         0.804011\n",
       "0        1.0                 7          7          0.100         0.804665\n",
       "0        0.6                 1          9          0.100         0.804993\n",
       "0        0.6                 5          7          0.100         0.805647\n",
       "0        0.6                 3         25          0.100         0.805974\n",
       "0        0.6                 7         12          0.100         0.806955\n",
       "0        0.8                 7          9          0.100         0.807173\n",
       "0        0.7                 5          9          0.100         0.807609"
      ]
     },
     "execution_count": 21,
     "metadata": {},
     "output_type": "execute_result"
    }
   ],
   "source": [
    "xgb_param_table.sort_values(by='mean_test_score', axis=0)"
   ]
  },
  {
   "cell_type": "code",
   "execution_count": null,
   "metadata": {},
   "outputs": [],
   "source": []
  }
 ],
 "metadata": {
  "kernelspec": {
   "display_name": "Python 3",
   "language": "python",
   "name": "python3"
  },
  "language_info": {
   "codemirror_mode": {
    "name": "ipython",
    "version": 3
   },
   "file_extension": ".py",
   "mimetype": "text/x-python",
   "name": "python",
   "nbconvert_exporter": "python",
   "pygments_lexer": "ipython3",
   "version": "3.6.9"
  }
 },
 "nbformat": 4,
 "nbformat_minor": 4
}
