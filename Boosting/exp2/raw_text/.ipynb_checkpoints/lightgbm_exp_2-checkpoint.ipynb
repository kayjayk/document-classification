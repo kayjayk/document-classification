{
 "cells": [
  {
   "cell_type": "markdown",
   "metadata": {},
   "source": [
    "## Data Handling"
   ]
  },
  {
   "cell_type": "code",
   "execution_count": 1,
   "metadata": {},
   "outputs": [],
   "source": [
    "from sklearn.feature_extraction.text import TfidfVectorizer\n",
    "import pandas as pd\n",
    "import numpy as np\n",
    "np.random.seed(4444)"
   ]
  },
  {
   "cell_type": "code",
   "execution_count": 3,
   "metadata": {},
   "outputs": [
    {
     "data": {
      "text/html": [
       "<div>\n",
       "<style scoped>\n",
       "    .dataframe tbody tr th:only-of-type {\n",
       "        vertical-align: middle;\n",
       "    }\n",
       "\n",
       "    .dataframe tbody tr th {\n",
       "        vertical-align: top;\n",
       "    }\n",
       "\n",
       "    .dataframe thead th {\n",
       "        text-align: right;\n",
       "    }\n",
       "</style>\n",
       "<table border=\"1\" class=\"dataframe\">\n",
       "  <thead>\n",
       "    <tr style=\"text-align: right;\">\n",
       "      <th></th>\n",
       "      <th>file_name</th>\n",
       "      <th>label</th>\n",
       "      <th>raw_text</th>\n",
       "      <th>dataset_n</th>\n",
       "      <th>train_val_test</th>\n",
       "    </tr>\n",
       "  </thead>\n",
       "  <tbody>\n",
       "    <tr>\n",
       "      <th>0</th>\n",
       "      <td>R1509261.txt</td>\n",
       "      <td>0</td>\n",
       "      <td>보 도 자 료\\nhttp://www.msip.go.kr 보도일시 2015. 9. 4...</td>\n",
       "      <td>0</td>\n",
       "      <td>0</td>\n",
       "    </tr>\n",
       "    <tr>\n",
       "      <th>1</th>\n",
       "      <td>R2003733.txt</td>\n",
       "      <td>0</td>\n",
       "      <td>보도일시 2020. 3. 18.(수) 조간(온라인 3. 17. 12:00)부터 보도...</td>\n",
       "      <td>0</td>\n",
       "      <td>0</td>\n",
       "    </tr>\n",
       "    <tr>\n",
       "      <th>2</th>\n",
       "      <td>D1507076-1.txt</td>\n",
       "      <td>0</td>\n",
       "      <td>보 도 자 료\\nhttp://www.msip.go.kr 보도일시 2015. 7. 1...</td>\n",
       "      <td>0</td>\n",
       "      <td>0</td>\n",
       "    </tr>\n",
       "    <tr>\n",
       "      <th>3</th>\n",
       "      <td>R2005031.txt</td>\n",
       "      <td>0</td>\n",
       "      <td>보 도 자 료\\n배포일시 2020. 4. 29.(수) 총 4매(본문2) 담당 부서 ...</td>\n",
       "      <td>0</td>\n",
       "      <td>0</td>\n",
       "    </tr>\n",
       "    <tr>\n",
       "      <th>4</th>\n",
       "      <td>R2006226.txt</td>\n",
       "      <td>0</td>\n",
       "      <td>&lt;전매체&gt; 2020년 6월 3일(수) 10:00(국무회의 개최시)부터 보도하여 주시...</td>\n",
       "      <td>0</td>\n",
       "      <td>0</td>\n",
       "    </tr>\n",
       "  </tbody>\n",
       "</table>\n",
       "</div>"
      ],
      "text/plain": [
       "        file_name  label                                           raw_text  \\\n",
       "0    R1509261.txt      0  보 도 자 료\\nhttp://www.msip.go.kr 보도일시 2015. 9. 4...   \n",
       "1    R2003733.txt      0  보도일시 2020. 3. 18.(수) 조간(온라인 3. 17. 12:00)부터 보도...   \n",
       "2  D1507076-1.txt      0  보 도 자 료\\nhttp://www.msip.go.kr 보도일시 2015. 7. 1...   \n",
       "3    R2005031.txt      0  보 도 자 료\\n배포일시 2020. 4. 29.(수) 총 4매(본문2) 담당 부서 ...   \n",
       "4    R2006226.txt      0  <전매체> 2020년 6월 3일(수) 10:00(국무회의 개최시)부터 보도하여 주시...   \n",
       "\n",
       "   dataset_n  train_val_test  \n",
       "0          0               0  \n",
       "1          0               0  \n",
       "2          0               0  \n",
       "3          0               0  \n",
       "4          0               0  "
      ]
     },
     "execution_count": 3,
     "metadata": {},
     "output_type": "execute_result"
    }
   ],
   "source": [
    "df = pd.read_csv('../../../../../jaeyeun/01_nh_poc/15_split_data_set_and_make_json_for_train_test_set/split_70_15_15.csv')\n",
    "\n",
    "df.head()"
   ]
  },
  {
   "cell_type": "markdown",
   "metadata": {},
   "source": [
    "* Train : KDI 70+15 (train+val)\n",
    "* Val : KDI 15(test)\n",
    "* Test : legal 273(train+val+test)"
   ]
  },
  {
   "cell_type": "code",
   "execution_count": 4,
   "metadata": {},
   "outputs": [],
   "source": [
    "X_train_df = df[(df['dataset_n'] == 0) & ((df['train_val_test'] == 0) | (df['train_val_test'] == 1))]\n",
    "X_val_df = df[(df['dataset_n'] == 0) & (df['train_val_test'] == 2)]\n",
    "X_test_df = df[df['dataset_n'] != 0]\n",
    "y_train = df[(df['dataset_n'] == 0) & ((df['train_val_test'] == 0) | (df['train_val_test'] == 1))]['label']\n",
    "y_val = df[(df['dataset_n'] == 0) & (df['train_val_test'] == 2)]['label']\n",
    "y_test = df[df['dataset_n'] != 0]['label']"
   ]
  },
  {
   "cell_type": "code",
   "execution_count": 5,
   "metadata": {},
   "outputs": [
    {
     "name": "stdout",
     "output_type": "stream",
     "text": [
      "(9174, 5)\n",
      "(1626, 5)\n",
      "(273, 5)\n",
      "(9174,)\n",
      "(1626,)\n",
      "(273,)\n"
     ]
    }
   ],
   "source": [
    "print(X_train_df.shape)\n",
    "print(X_val_df.shape)\n",
    "print(X_test_df.shape)\n",
    "print(y_train.shape)\n",
    "print(y_val.shape)\n",
    "print(y_test.shape)"
   ]
  },
  {
   "cell_type": "code",
   "execution_count": 6,
   "metadata": {},
   "outputs": [],
   "source": [
    "n_features = 100000\n",
    "tfidf_vectorizer = TfidfVectorizer(\n",
    "    max_df=0.9, # 0.9 만큼의 문서 이상에서 나오면 거른다.\n",
    "    min_df=5, # 5개 미만의 문서에서 나오면 거른다.\n",
    "    sublinear_tf = True, # tf value를 완만하게 처리 (outlier 처리 효과)\n",
    "    ngram_range = (1, 3),\n",
    "    max_features=n_features)"
   ]
  },
  {
   "cell_type": "code",
   "execution_count": 7,
   "metadata": {},
   "outputs": [],
   "source": [
    "X_train_tfidf = tfidf_vectorizer.fit(X_train_df['raw_text'])\n",
    "# X_test_tfidf = tfidf_vectorizer.fit_transform(prep_text_test)\n",
    "# X_test_hash = hash_vectorizer.fit_transform(prep_text_test)"
   ]
  },
  {
   "cell_type": "code",
   "execution_count": 8,
   "metadata": {},
   "outputs": [],
   "source": [
    "X_train = X_train_tfidf.transform(X_train_df['raw_text'])\n",
    "X_val = X_train_tfidf.transform(X_val_df['raw_text'])\n",
    "X_test = X_train_tfidf.transform(X_test_df['raw_text'])"
   ]
  },
  {
   "cell_type": "code",
   "execution_count": 9,
   "metadata": {},
   "outputs": [
    {
     "name": "stdout",
     "output_type": "stream",
     "text": [
      "(9174, 100000)\n",
      "(1626, 100000)\n",
      "(273, 100000)\n"
     ]
    }
   ],
   "source": [
    "print(X_train.shape)\n",
    "print(X_val.shape)\n",
    "print(X_test.shape)"
   ]
  },
  {
   "cell_type": "markdown",
   "metadata": {},
   "source": [
    "## Classify"
   ]
  },
  {
   "cell_type": "markdown",
   "metadata": {},
   "source": [
    "* LightGBM RandomSearch"
   ]
  },
  {
   "cell_type": "code",
   "execution_count": 10,
   "metadata": {},
   "outputs": [],
   "source": [
    "from sklearn.model_selection import RandomizedSearchCV\n",
    "import lightgbm as lgbm"
   ]
  },
  {
   "cell_type": "code",
   "execution_count": 12,
   "metadata": {},
   "outputs": [
    {
     "name": "stdout",
     "output_type": "stream",
     "text": [
      "Fitting 5 folds for each of 20 candidates, totalling 100 fits\n"
     ]
    },
    {
     "name": "stderr",
     "output_type": "stream",
     "text": [
      "[Parallel(n_jobs=-1)]: Using backend LokyBackend with 32 concurrent workers.\n",
      "[Parallel(n_jobs=-1)]: Done   8 tasks      | elapsed: 18.7min\n",
      "[Parallel(n_jobs=-1)]: Done  21 tasks      | elapsed: 26.5min\n",
      "[Parallel(n_jobs=-1)]: Done  34 tasks      | elapsed: 32.0min\n",
      "[Parallel(n_jobs=-1)]: Done  48 out of 100 | elapsed: 41.0min remaining: 44.4min\n",
      "[Parallel(n_jobs=-1)]: Done  59 out of 100 | elapsed: 48.0min remaining: 33.3min\n",
      "[Parallel(n_jobs=-1)]: Done  70 out of 100 | elapsed: 51.7min remaining: 22.2min\n",
      "[Parallel(n_jobs=-1)]: Done  81 out of 100 | elapsed: 57.6min remaining: 13.5min\n",
      "[Parallel(n_jobs=-1)]: Done  92 out of 100 | elapsed: 62.4min remaining:  5.4min\n",
      "[Parallel(n_jobs=-1)]: Done 100 out of 100 | elapsed: 68.4min finished\n"
     ]
    },
    {
     "name": "stdout",
     "output_type": "stream",
     "text": [
      "[1]\ttraining's multi_error: 0.427186\ttraining's multi_logloss: 1.95076\tvalid_1's multi_error: 0.448954\tvalid_1's multi_logloss: 1.97024\n",
      "Training until validation scores don't improve for 20 rounds\n",
      "[2]\ttraining's multi_error: 0.255941\ttraining's multi_logloss: 1.74073\tvalid_1's multi_error: 0.292128\tvalid_1's multi_logloss: 1.77589\n",
      "[3]\ttraining's multi_error: 0.188685\ttraining's multi_logloss: 1.57724\tvalid_1's multi_error: 0.238007\tvalid_1's multi_logloss: 1.62931\n",
      "[4]\ttraining's multi_error: 0.166122\ttraining's multi_logloss: 1.44496\tvalid_1's multi_error: 0.215867\tvalid_1's multi_logloss: 1.51044\n",
      "[5]\ttraining's multi_error: 0.154676\ttraining's multi_logloss: 1.33308\tvalid_1's multi_error: 0.207872\tvalid_1's multi_logloss: 1.41125\n",
      "[6]\ttraining's multi_error: 0.148354\ttraining's multi_logloss: 1.23753\tvalid_1's multi_error: 0.204797\tvalid_1's multi_logloss: 1.3281\n",
      "[7]\ttraining's multi_error: 0.141269\ttraining's multi_logloss: 1.15417\tvalid_1's multi_error: 0.200492\tvalid_1's multi_logloss: 1.25682\n",
      "[8]\ttraining's multi_error: 0.135601\ttraining's multi_logloss: 1.08081\tvalid_1's multi_error: 0.199877\tvalid_1's multi_logloss: 1.19345\n",
      "[9]\ttraining's multi_error: 0.131349\ttraining's multi_logloss: 1.01582\tvalid_1's multi_error: 0.198032\tvalid_1's multi_logloss: 1.13786\n",
      "[10]\ttraining's multi_error: 0.126226\ttraining's multi_logloss: 0.956965\tvalid_1's multi_error: 0.199262\tvalid_1's multi_logloss: 1.08902\n",
      "[11]\ttraining's multi_error: 0.122847\ttraining's multi_logloss: 0.903882\tvalid_1's multi_error: 0.198032\tvalid_1's multi_logloss: 1.04522\n",
      "[12]\ttraining's multi_error: 0.120776\ttraining's multi_logloss: 0.856087\tvalid_1's multi_error: 0.196802\tvalid_1's multi_logloss: 1.00614\n",
      "[13]\ttraining's multi_error: 0.117724\ttraining's multi_logloss: 0.812532\tvalid_1's multi_error: 0.194342\tvalid_1's multi_logloss: 0.971845\n",
      "[14]\ttraining's multi_error: 0.11598\ttraining's multi_logloss: 0.772351\tvalid_1's multi_error: 0.195572\tvalid_1's multi_logloss: 0.940124\n",
      "[15]\ttraining's multi_error: 0.11271\ttraining's multi_logloss: 0.735799\tvalid_1's multi_error: 0.195572\tvalid_1's multi_logloss: 0.911332\n",
      "[16]\ttraining's multi_error: 0.110421\ttraining's multi_logloss: 0.701857\tvalid_1's multi_error: 0.198032\tvalid_1's multi_logloss: 0.885331\n",
      "[17]\ttraining's multi_error: 0.107478\ttraining's multi_logloss: 0.670431\tvalid_1's multi_error: 0.194342\tvalid_1's multi_logloss: 0.860934\n",
      "[18]\ttraining's multi_error: 0.104971\ttraining's multi_logloss: 0.641311\tvalid_1's multi_error: 0.191267\tvalid_1's multi_logloss: 0.83883\n",
      "[19]\ttraining's multi_error: 0.102354\ttraining's multi_logloss: 0.613784\tvalid_1's multi_error: 0.194957\tvalid_1's multi_logloss: 0.818685\n",
      "[20]\ttraining's multi_error: 0.0993024\ttraining's multi_logloss: 0.587689\tvalid_1's multi_error: 0.194957\tvalid_1's multi_logloss: 0.798848\n",
      "[21]\ttraining's multi_error: 0.0971223\ttraining's multi_logloss: 0.563571\tvalid_1's multi_error: 0.191882\tvalid_1's multi_logloss: 0.781918\n",
      "[22]\ttraining's multi_error: 0.0936342\ttraining's multi_logloss: 0.540737\tvalid_1's multi_error: 0.190037\tvalid_1's multi_logloss: 0.765694\n",
      "[23]\ttraining's multi_error: 0.0915631\ttraining's multi_logloss: 0.519161\tvalid_1's multi_error: 0.187577\tvalid_1's multi_logloss: 0.750757\n",
      "[24]\ttraining's multi_error: 0.088947\ttraining's multi_logloss: 0.499239\tvalid_1's multi_error: 0.185732\tvalid_1's multi_logloss: 0.736894\n",
      "[25]\ttraining's multi_error: 0.086876\ttraining's multi_logloss: 0.480441\tvalid_1's multi_error: 0.182657\tvalid_1's multi_logloss: 0.723571\n",
      "[26]\ttraining's multi_error: 0.0843689\ttraining's multi_logloss: 0.462421\tvalid_1's multi_error: 0.182657\tvalid_1's multi_logloss: 0.711852\n",
      "[27]\ttraining's multi_error: 0.0812078\ttraining's multi_logloss: 0.445915\tvalid_1's multi_error: 0.183272\tvalid_1's multi_logloss: 0.701194\n",
      "[28]\ttraining's multi_error: 0.0793547\ttraining's multi_logloss: 0.429325\tvalid_1's multi_error: 0.182042\tvalid_1's multi_logloss: 0.690722\n",
      "[29]\ttraining's multi_error: 0.0765206\ttraining's multi_logloss: 0.414266\tvalid_1's multi_error: 0.182657\tvalid_1's multi_logloss: 0.681012\n",
      "[30]\ttraining's multi_error: 0.0746675\ttraining's multi_logloss: 0.400032\tvalid_1's multi_error: 0.182657\tvalid_1's multi_logloss: 0.672833\n",
      "[31]\ttraining's multi_error: 0.0724875\ttraining's multi_logloss: 0.386119\tvalid_1's multi_error: 0.181427\tvalid_1's multi_logloss: 0.66387\n",
      "[32]\ttraining's multi_error: 0.0700894\ttraining's multi_logloss: 0.373005\tvalid_1's multi_error: 0.184502\tvalid_1's multi_logloss: 0.656769\n",
      "[33]\ttraining's multi_error: 0.0676913\ttraining's multi_logloss: 0.36091\tvalid_1's multi_error: 0.183272\tvalid_1's multi_logloss: 0.649699\n",
      "[34]\ttraining's multi_error: 0.0644212\ttraining's multi_logloss: 0.348682\tvalid_1's multi_error: 0.183272\tvalid_1's multi_logloss: 0.643139\n",
      "[35]\ttraining's multi_error: 0.0620231\ttraining's multi_logloss: 0.337534\tvalid_1's multi_error: 0.183887\tvalid_1's multi_logloss: 0.637051\n",
      "[36]\ttraining's multi_error: 0.06017\ttraining's multi_logloss: 0.326403\tvalid_1's multi_error: 0.183272\tvalid_1's multi_logloss: 0.631174\n",
      "[37]\ttraining's multi_error: 0.058099\ttraining's multi_logloss: 0.315946\tvalid_1's multi_error: 0.183887\tvalid_1's multi_logloss: 0.625769\n",
      "[38]\ttraining's multi_error: 0.0555919\ttraining's multi_logloss: 0.305927\tvalid_1's multi_error: 0.181427\tvalid_1's multi_logloss: 0.620378\n",
      "[39]\ttraining's multi_error: 0.0530848\ttraining's multi_logloss: 0.296312\tvalid_1's multi_error: 0.183272\tvalid_1's multi_logloss: 0.615976\n",
      "[40]\ttraining's multi_error: 0.0513407\ttraining's multi_logloss: 0.287388\tvalid_1's multi_error: 0.182042\tvalid_1's multi_logloss: 0.611928\n",
      "[41]\ttraining's multi_error: 0.0501417\ttraining's multi_logloss: 0.278392\tvalid_1's multi_error: 0.181427\tvalid_1's multi_logloss: 0.607765\n",
      "[42]\ttraining's multi_error: 0.0474166\ttraining's multi_logloss: 0.269865\tvalid_1's multi_error: 0.178967\tvalid_1's multi_logloss: 0.603854\n",
      "[43]\ttraining's multi_error: 0.0449095\ttraining's multi_logloss: 0.261363\tvalid_1's multi_error: 0.180197\tvalid_1's multi_logloss: 0.600157\n",
      "[44]\ttraining's multi_error: 0.0422934\ttraining's multi_logloss: 0.253162\tvalid_1's multi_error: 0.177737\tvalid_1's multi_logloss: 0.596367\n",
      "[45]\ttraining's multi_error: 0.0404404\ttraining's multi_logloss: 0.24536\tvalid_1's multi_error: 0.180197\tvalid_1's multi_logloss: 0.592872\n",
      "[46]\ttraining's multi_error: 0.0384783\ttraining's multi_logloss: 0.238119\tvalid_1's multi_error: 0.177737\tvalid_1's multi_logloss: 0.589303\n",
      "[47]\ttraining's multi_error: 0.0367342\ttraining's multi_logloss: 0.231003\tvalid_1's multi_error: 0.178352\tvalid_1's multi_logloss: 0.586413\n",
      "[48]\ttraining's multi_error: 0.0348812\ttraining's multi_logloss: 0.224053\tvalid_1's multi_error: 0.179582\tvalid_1's multi_logloss: 0.584372\n",
      "[49]\ttraining's multi_error: 0.0325921\ttraining's multi_logloss: 0.217297\tvalid_1's multi_error: 0.178967\tvalid_1's multi_logloss: 0.581745\n",
      "[50]\ttraining's multi_error: 0.030412\ttraining's multi_logloss: 0.210854\tvalid_1's multi_error: 0.177122\tvalid_1's multi_logloss: 0.579184\n",
      "[51]\ttraining's multi_error: 0.02845\ttraining's multi_logloss: 0.204836\tvalid_1's multi_error: 0.177122\tvalid_1's multi_logloss: 0.576926\n",
      "[52]\ttraining's multi_error: 0.0265969\ttraining's multi_logloss: 0.198807\tvalid_1's multi_error: 0.175892\tvalid_1's multi_logloss: 0.573788\n",
      "[53]\ttraining's multi_error: 0.0248528\ttraining's multi_logloss: 0.192978\tvalid_1's multi_error: 0.174047\tvalid_1's multi_logloss: 0.571338\n",
      "[54]\ttraining's multi_error: 0.0236538\ttraining's multi_logloss: 0.187454\tvalid_1's multi_error: 0.174662\tvalid_1's multi_logloss: 0.569262\n",
      "[55]\ttraining's multi_error: 0.0225638\ttraining's multi_logloss: 0.182128\tvalid_1's multi_error: 0.174047\tvalid_1's multi_logloss: 0.567172\n",
      "[56]\ttraining's multi_error: 0.0211467\ttraining's multi_logloss: 0.177263\tvalid_1's multi_error: 0.172202\tvalid_1's multi_logloss: 0.564996\n",
      "[57]\ttraining's multi_error: 0.0196207\ttraining's multi_logloss: 0.172396\tvalid_1's multi_error: 0.172817\tvalid_1's multi_logloss: 0.563851\n",
      "[58]\ttraining's multi_error: 0.0177676\ttraining's multi_logloss: 0.167796\tvalid_1's multi_error: 0.172202\tvalid_1's multi_logloss: 0.562397\n",
      "[59]\ttraining's multi_error: 0.0170046\ttraining's multi_logloss: 0.163153\tvalid_1's multi_error: 0.170972\tvalid_1's multi_logloss: 0.560645\n",
      "[60]\ttraining's multi_error: 0.0163506\ttraining's multi_logloss: 0.159009\tvalid_1's multi_error: 0.170972\tvalid_1's multi_logloss: 0.558539\n",
      "[61]\ttraining's multi_error: 0.0152605\ttraining's multi_logloss: 0.154573\tvalid_1's multi_error: 0.169742\tvalid_1's multi_logloss: 0.556395\n",
      "[62]\ttraining's multi_error: 0.0142795\ttraining's multi_logloss: 0.150398\tvalid_1's multi_error: 0.171587\tvalid_1's multi_logloss: 0.555433\n",
      "[63]\ttraining's multi_error: 0.0131894\ttraining's multi_logloss: 0.146542\tvalid_1's multi_error: 0.172202\tvalid_1's multi_logloss: 0.554358\n",
      "[64]\ttraining's multi_error: 0.0123174\ttraining's multi_logloss: 0.142788\tvalid_1's multi_error: 0.171587\tvalid_1's multi_logloss: 0.553235\n",
      "[65]\ttraining's multi_error: 0.0118814\ttraining's multi_logloss: 0.138961\tvalid_1's multi_error: 0.170357\tvalid_1's multi_logloss: 0.55251\n",
      "[66]\ttraining's multi_error: 0.0102463\ttraining's multi_logloss: 0.135467\tvalid_1's multi_error: 0.172202\tvalid_1's multi_logloss: 0.552019\n",
      "[67]\ttraining's multi_error: 0.00948332\ttraining's multi_logloss: 0.13202\tvalid_1's multi_error: 0.170972\tvalid_1's multi_logloss: 0.550737\n",
      "[68]\ttraining's multi_error: 0.00850229\ttraining's multi_logloss: 0.128832\tvalid_1's multi_error: 0.170972\tvalid_1's multi_logloss: 0.550052\n",
      "[69]\ttraining's multi_error: 0.00795727\ttraining's multi_logloss: 0.125757\tvalid_1's multi_error: 0.169742\tvalid_1's multi_logloss: 0.548831\n",
      "[70]\ttraining's multi_error: 0.00763026\ttraining's multi_logloss: 0.122823\tvalid_1's multi_error: 0.169742\tvalid_1's multi_logloss: 0.548116\n",
      "[71]\ttraining's multi_error: 0.00719424\ttraining's multi_logloss: 0.119757\tvalid_1's multi_error: 0.169742\tvalid_1's multi_logloss: 0.547099\n",
      "[72]\ttraining's multi_error: 0.00708524\ttraining's multi_logloss: 0.116736\tvalid_1's multi_error: 0.169742\tvalid_1's multi_logloss: 0.54687\n",
      "[73]\ttraining's multi_error: 0.00675823\ttraining's multi_logloss: 0.113994\tvalid_1's multi_error: 0.169742\tvalid_1's multi_logloss: 0.546515\n",
      "[74]\ttraining's multi_error: 0.00654022\ttraining's multi_logloss: 0.111331\tvalid_1's multi_error: 0.170357\tvalid_1's multi_logloss: 0.546204\n",
      "[75]\ttraining's multi_error: 0.0059952\ttraining's multi_logloss: 0.108645\tvalid_1's multi_error: 0.169742\tvalid_1's multi_logloss: 0.545684\n",
      "[76]\ttraining's multi_error: 0.00523218\ttraining's multi_logloss: 0.106209\tvalid_1's multi_error: 0.169127\tvalid_1's multi_logloss: 0.545059\n",
      "[77]\ttraining's multi_error: 0.00479616\ttraining's multi_logloss: 0.103858\tvalid_1's multi_error: 0.168512\tvalid_1's multi_logloss: 0.54564\n",
      "[78]\ttraining's multi_error: 0.00446915\ttraining's multi_logloss: 0.101445\tvalid_1's multi_error: 0.167897\tvalid_1's multi_logloss: 0.545013\n",
      "[79]\ttraining's multi_error: 0.00403314\ttraining's multi_logloss: 0.0990771\tvalid_1's multi_error: 0.168512\tvalid_1's multi_logloss: 0.545095\n",
      "[80]\ttraining's multi_error: 0.00370613\ttraining's multi_logloss: 0.0968934\tvalid_1's multi_error: 0.167282\tvalid_1's multi_logloss: 0.544529\n",
      "[81]\ttraining's multi_error: 0.00348812\ttraining's multi_logloss: 0.0945506\tvalid_1's multi_error: 0.165437\tvalid_1's multi_logloss: 0.54382\n",
      "[82]\ttraining's multi_error: 0.00337911\ttraining's multi_logloss: 0.0924642\tvalid_1's multi_error: 0.166052\tvalid_1's multi_logloss: 0.543648\n",
      "[83]\ttraining's multi_error: 0.0029431\ttraining's multi_logloss: 0.090358\tvalid_1's multi_error: 0.166667\tvalid_1's multi_logloss: 0.543677\n",
      "[84]\ttraining's multi_error: 0.0029431\ttraining's multi_logloss: 0.0884863\tvalid_1's multi_error: 0.166052\tvalid_1's multi_logloss: 0.543294\n",
      "[85]\ttraining's multi_error: 0.00250709\ttraining's multi_logloss: 0.0864822\tvalid_1's multi_error: 0.166052\tvalid_1's multi_logloss: 0.542727\n",
      "[86]\ttraining's multi_error: 0.00250709\ttraining's multi_logloss: 0.0846532\tvalid_1's multi_error: 0.164822\tvalid_1's multi_logloss: 0.542759\n",
      "[87]\ttraining's multi_error: 0.00228908\ttraining's multi_logloss: 0.0828676\tvalid_1's multi_error: 0.167282\tvalid_1's multi_logloss: 0.542286\n",
      "[88]\ttraining's multi_error: 0.00228908\ttraining's multi_logloss: 0.081102\tvalid_1's multi_error: 0.164822\tvalid_1's multi_logloss: 0.542098\n",
      "[89]\ttraining's multi_error: 0.00185306\ttraining's multi_logloss: 0.0794189\tvalid_1's multi_error: 0.165437\tvalid_1's multi_logloss: 0.541629\n",
      "[90]\ttraining's multi_error: 0.00185306\ttraining's multi_logloss: 0.0777191\tvalid_1's multi_error: 0.165437\tvalid_1's multi_logloss: 0.541745\n",
      "[91]\ttraining's multi_error: 0.00174406\ttraining's multi_logloss: 0.0762644\tvalid_1's multi_error: 0.164207\tvalid_1's multi_logloss: 0.541857\n",
      "[92]\ttraining's multi_error: 0.00163506\ttraining's multi_logloss: 0.0747882\tvalid_1's multi_error: 0.165437\tvalid_1's multi_logloss: 0.542271\n",
      "[93]\ttraining's multi_error: 0.00152605\ttraining's multi_logloss: 0.0732186\tvalid_1's multi_error: 0.165437\tvalid_1's multi_logloss: 0.542085\n",
      "[94]\ttraining's multi_error: 0.00152605\ttraining's multi_logloss: 0.0717894\tvalid_1's multi_error: 0.163592\tvalid_1's multi_logloss: 0.541991\n",
      "[95]\ttraining's multi_error: 0.00141705\ttraining's multi_logloss: 0.0703623\tvalid_1's multi_error: 0.164207\tvalid_1's multi_logloss: 0.541878\n",
      "[96]\ttraining's multi_error: 0.00141705\ttraining's multi_logloss: 0.0689594\tvalid_1's multi_error: 0.163592\tvalid_1's multi_logloss: 0.541689\n",
      "[97]\ttraining's multi_error: 0.00119904\ttraining's multi_logloss: 0.0677237\tvalid_1's multi_error: 0.166052\tvalid_1's multi_logloss: 0.541561\n",
      "[98]\ttraining's multi_error: 0.00119904\ttraining's multi_logloss: 0.0663424\tvalid_1's multi_error: 0.164822\tvalid_1's multi_logloss: 0.541592\n",
      "[99]\ttraining's multi_error: 0.00119904\ttraining's multi_logloss: 0.0650478\tvalid_1's multi_error: 0.164207\tvalid_1's multi_logloss: 0.540955\n",
      "[100]\ttraining's multi_error: 0.00119904\ttraining's multi_logloss: 0.0637894\tvalid_1's multi_error: 0.163592\tvalid_1's multi_logloss: 0.540679\n",
      "Did not meet early stopping. Best iteration is:\n",
      "[97]\ttraining's multi_error: 0.00119904\ttraining's multi_logloss: 0.0677237\tvalid_1's multi_error: 0.166052\tvalid_1's multi_logloss: 0.541561\n"
     ]
    },
    {
     "data": {
      "text/plain": [
       "RandomizedSearchCV(cv=5, estimator=LGBMClassifier(), n_iter=20, n_jobs=-1,\n",
       "                   param_distributions={'learning_rate': [0.01, 0.015, 0.025,\n",
       "                                                          0.05, 0.1],\n",
       "                                        'max_depth': [3, 5, 7, 9, 12, 15, 17,\n",
       "                                                      25],\n",
       "                                        'min_child_weight': [1, 3, 5, 7],\n",
       "                                        'subsample': array([0.6, 0.7, 0.8, 0.9, 1. ])},\n",
       "                   return_train_score=True, scoring='accuracy', verbose=10)"
      ]
     },
     "execution_count": 12,
     "metadata": {},
     "output_type": "execute_result"
    }
   ],
   "source": [
    "lgbm_clf = lgbm.LGBMClassifier()\n",
    "\n",
    "lgbm_param_grid = {'learning_rate': [.01, .015, .025, .05, .1],\n",
    "#                   'Gamma': [.05, .1, .3, .5, .7, .9, 1],\n",
    "                  'max_depth': [3, 5, 7, 9, 12, 15, 17, 25],\n",
    "                  'min_child_weight': [1, 3, 5, 7],\n",
    "                  'subsample': np.linspace(0.6, 1, 5)}\n",
    "\n",
    "fit_params = {\"early_stopping_rounds\" : 20,\n",
    "             \"eval_metric\" : \"multi_error\",\n",
    "             \"eval_set\" : [(X_train, y_train), (X_val, y_val)]}\n",
    "\n",
    "# Create a random search object\n",
    "lgbm_random = RandomizedSearchCV(estimator = lgbm_clf,\n",
    "                                param_distributions = lgbm_param_grid,\n",
    "                                n_iter = 20, # n_iters in param combinations\n",
    "                                scoring='accuracy',\n",
    "                                n_jobs=-1,\n",
    "                                cv = 5,\n",
    "                                refit=True,\n",
    "                                return_train_score = True,\n",
    "                                verbose=10)\n",
    "\n",
    "# Fit to the training data\n",
    "lgbm_random.fit(X_train, y_train, **fit_params)"
   ]
  },
  {
   "cell_type": "code",
   "execution_count": 13,
   "metadata": {},
   "outputs": [],
   "source": [
    "pred_train = lgbm_random.best_estimator_.predict(X_train)\n",
    "pred_val = lgbm_random.best_estimator_.predict(X_val)\n",
    "pred_test = lgbm_random.best_estimator_.predict(X_test)"
   ]
  },
  {
   "cell_type": "code",
   "execution_count": 14,
   "metadata": {},
   "outputs": [],
   "source": [
    "from sklearn.metrics import accuracy_score\n",
    "\n",
    "print(accuracy_score(y_train, pred_train))\n",
    "print(accuracy_score(y_val, pred_val))\n",
    "print(accuracy_score(y_test, pred_test))"
   ]
  },
  {
   "cell_type": "code",
   "execution_count": 17,
   "metadata": {},
   "outputs": [],
   "source": [
    "cv_result_df = pd.DataFrame(lgbm_random.cv_results_)\n",
    "\n",
    "df_list = []\n",
    "for i in range(20):\n",
    "    df_list.append(pd.DataFrame([cv_result_df.loc[i, \"params\"]]))\n",
    "    \n",
    "param_table = pd.concat(df_list)\n",
    "\n",
    "param_table['mean_test_score'] = cv_result_df['mean_test_score'].values\n",
    "\n",
    "param_table.sort_values(by='mean_test_score', axis=0)"
   ]
  }
 ],
 "metadata": {
  "kernelspec": {
   "display_name": "Python 3",
   "language": "python",
   "name": "python3"
  },
  "language_info": {
   "codemirror_mode": {
    "name": "ipython",
    "version": 3
   },
   "file_extension": ".py",
   "mimetype": "text/x-python",
   "name": "python",
   "nbconvert_exporter": "python",
   "pygments_lexer": "ipython3",
   "version": "3.6.9"
  }
 },
 "nbformat": 4,
 "nbformat_minor": 4
}
