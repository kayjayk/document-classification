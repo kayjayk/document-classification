{
 "cells": [
  {
   "cell_type": "markdown",
   "metadata": {},
   "source": [
    "## Data Handling"
   ]
  },
  {
   "cell_type": "code",
   "execution_count": 1,
   "metadata": {},
   "outputs": [],
   "source": [
    "from sklearn.feature_extraction.text import TfidfVectorizer\n",
    "import pandas as pd\n",
    "import numpy as np"
   ]
  },
  {
   "cell_type": "code",
   "execution_count": 2,
   "metadata": {},
   "outputs": [
    {
     "data": {
      "text/html": [
       "<div>\n",
       "<style scoped>\n",
       "    .dataframe tbody tr th:only-of-type {\n",
       "        vertical-align: middle;\n",
       "    }\n",
       "\n",
       "    .dataframe tbody tr th {\n",
       "        vertical-align: top;\n",
       "    }\n",
       "\n",
       "    .dataframe thead th {\n",
       "        text-align: right;\n",
       "    }\n",
       "</style>\n",
       "<table border=\"1\" class=\"dataframe\">\n",
       "  <thead>\n",
       "    <tr style=\"text-align: right;\">\n",
       "      <th></th>\n",
       "      <th>file_name</th>\n",
       "      <th>label</th>\n",
       "      <th>raw_text</th>\n",
       "      <th>train_val_test</th>\n",
       "      <th>dataset_n</th>\n",
       "    </tr>\n",
       "  </thead>\n",
       "  <tbody>\n",
       "    <tr>\n",
       "      <th>0</th>\n",
       "      <td>(138)DGB유페이-카카오페이 제휴 계약서 검토 의견.txt</td>\n",
       "      <td>0</td>\n",
       "      <td>홍요 문서 무단 반출시 벌적 제재를 받을 수 있으며 모든 슬력물은 모니터링 됩니다....</td>\n",
       "      <td>0</td>\n",
       "      <td>2</td>\n",
       "    </tr>\n",
       "    <tr>\n",
       "      <th>1</th>\n",
       "      <td>(147)배민페이 제휴 계약서 검토 의견.txt</td>\n",
       "      <td>0</td>\n",
       "      <td>좋으 문서 무단 반출시 번적 제재를 방음 수 있으며 모든 솔력될은 모니터팅 8니다....</td>\n",
       "      <td>0</td>\n",
       "      <td>2</td>\n",
       "    </tr>\n",
       "    <tr>\n",
       "      <th>2</th>\n",
       "      <td>(83)㈜농협생명 펌뱅킹 수수료 인하 관련 검토.txt</td>\n",
       "      <td>0</td>\n",
       "      <td>변호사 팀장 부장              (2020.4.22.) 업 무 연 락...</td>\n",
       "      <td>0</td>\n",
       "      <td>1</td>\n",
       "    </tr>\n",
       "    <tr>\n",
       "      <th>3</th>\n",
       "      <td>(82)영업점 전용회선 통신망 고도화 추진 관련 법률 검토 회신.txt</td>\n",
       "      <td>0</td>\n",
       "      <td>오 2서 무단 바응시 번져 4206 을 수 위으미 모든 응릭62 모니터링 입니다,\\...</td>\n",
       "      <td>0</td>\n",
       "      <td>2</td>\n",
       "    </tr>\n",
       "    <tr>\n",
       "      <th>4</th>\n",
       "      <td>(36)카카오 이모티콘 광고 관련 계약 변경 건 검토 요청에 대한 회신.txt</td>\n",
       "      <td>0</td>\n",
       "      <td>계약 변경 합의서 검토   “농심(農心)을 가슴에 안고 농민(農民) 곁으로!”   ...</td>\n",
       "      <td>0</td>\n",
       "      <td>1</td>\n",
       "    </tr>\n",
       "  </tbody>\n",
       "</table>\n",
       "</div>"
      ],
      "text/plain": [
       "                                     file_name  label  \\\n",
       "0           (138)DGB유페이-카카오페이 제휴 계약서 검토 의견.txt      0   \n",
       "1                   (147)배민페이 제휴 계약서 검토 의견.txt      0   \n",
       "2               (83)㈜농협생명 펌뱅킹 수수료 인하 관련 검토.txt      0   \n",
       "3      (82)영업점 전용회선 통신망 고도화 추진 관련 법률 검토 회신.txt      0   \n",
       "4  (36)카카오 이모티콘 광고 관련 계약 변경 건 검토 요청에 대한 회신.txt      0   \n",
       "\n",
       "                                            raw_text  train_val_test  \\\n",
       "0  홍요 문서 무단 반출시 벌적 제재를 받을 수 있으며 모든 슬력물은 모니터링 됩니다....               0   \n",
       "1  좋으 문서 무단 반출시 번적 제재를 방음 수 있으며 모든 솔력될은 모니터팅 8니다....               0   \n",
       "2     변호사 팀장 부장              (2020.4.22.) 업 무 연 락...               0   \n",
       "3  오 2서 무단 바응시 번져 4206 을 수 위으미 모든 응릭62 모니터링 입니다,\\...               0   \n",
       "4  계약 변경 합의서 검토   “농심(農心)을 가슴에 안고 농민(農民) 곁으로!”   ...               0   \n",
       "\n",
       "   dataset_n  \n",
       "0          2  \n",
       "1          2  \n",
       "2          1  \n",
       "3          2  \n",
       "4          1  "
      ]
     },
     "execution_count": 2,
     "metadata": {},
     "output_type": "execute_result"
    }
   ],
   "source": [
    "df = pd.read_csv('../../../../jaeyeun/01_nh_poc/15_split_data_set_and_make_json_for_train_test_set/split_16_4_5.csv')\n",
    "\n",
    "df.head()"
   ]
  },
  {
   "cell_type": "markdown",
   "metadata": {},
   "source": [
    "* drop except kdi"
   ]
  },
  {
   "cell_type": "code",
   "execution_count": 33,
   "metadata": {},
   "outputs": [],
   "source": [
    "raw_text = df['raw_text']\n",
    "train_ids = df[(df['train_val_test'] == 0) | (df['train_val_test'] == 1)].index\n",
    "test_ids = df[df['train_val_test'] == 2].index\n",
    "y_train = df[(df['train_val_test'] == 0) | (df['train_val_test'] == 1)]['label']\n",
    "y_test = df[df['train_val_test'] == 2]['label']"
   ]
  },
  {
   "cell_type": "code",
   "execution_count": 37,
   "metadata": {},
   "outputs": [],
   "source": [
    "n_features = 100000\n",
    "tfidf_vectorizer = TfidfVectorizer(\n",
    "    max_df=0.9, # 0.9 만큼의 문서 이상에서 나오면 거른다.\n",
    "    min_df=5, # 5개 미만의 문서에서 나오면 거른다.\n",
    "    sublinear_tf = True, # tf value를 완만하게 처리 (outlier 처리 효과)\n",
    "    ngram_range = (1, 3),\n",
    "    max_features=n_features)"
   ]
  },
  {
   "cell_type": "code",
   "execution_count": 38,
   "metadata": {},
   "outputs": [],
   "source": [
    "X_tfidf = tfidf_vectorizer.fit_transform(raw_text)\n",
    "# X_test_tfidf = tfidf_vectorizer.fit_transform(prep_text_test)\n",
    "# X_test_hash = hash_vectorizer.fit_transform(prep_text_test)"
   ]
  },
  {
   "cell_type": "code",
   "execution_count": 39,
   "metadata": {},
   "outputs": [
    {
     "data": {
      "text/plain": [
       "(11073, 100000)"
      ]
     },
     "execution_count": 39,
     "metadata": {},
     "output_type": "execute_result"
    }
   ],
   "source": [
    "X_tfidf.shape"
   ]
  },
  {
   "cell_type": "markdown",
   "metadata": {},
   "source": [
    "* split x values"
   ]
  },
  {
   "cell_type": "code",
   "execution_count": 40,
   "metadata": {},
   "outputs": [],
   "source": [
    "'''\n",
    "because fit_transformed data is sparse matrix,\n",
    "make it dense matrix before split into train and test datasets\n",
    "and remake it sparse\n",
    "'''\n",
    "dense_X_tfidf = X_tfidf.toarray()"
   ]
  },
  {
   "cell_type": "code",
   "execution_count": 41,
   "metadata": {},
   "outputs": [],
   "source": [
    "X_tfidf_train = dense_X_tfidf[train_ids]\n",
    "# X_tfidf_val = dense_X_tfidf[val_ids]\n",
    "X_tfidf_test = dense_X_tfidf[test_ids]"
   ]
  },
  {
   "cell_type": "code",
   "execution_count": 42,
   "metadata": {},
   "outputs": [
    {
     "name": "stdout",
     "output_type": "stream",
     "text": [
      "(8850, 100000)\n",
      "(2223, 100000)\n"
     ]
    }
   ],
   "source": [
    "print(X_tfidf_train.shape)\n",
    "# print(X_tfidf_val.shape)\n",
    "print(X_tfidf_test.shape)"
   ]
  },
  {
   "cell_type": "code",
   "execution_count": 43,
   "metadata": {},
   "outputs": [],
   "source": [
    "from scipy import sparse"
   ]
  },
  {
   "cell_type": "code",
   "execution_count": 44,
   "metadata": {},
   "outputs": [],
   "source": [
    "X_train_tfidf_csr = sparse.csr_matrix(X_tfidf_train)\n",
    "# X_val_tfidf_csr = sparse.csr_matrix(X_tfidf_val)\n",
    "X_test_tfidf_csr = sparse.csr_matrix(X_tfidf_test)"
   ]
  },
  {
   "cell_type": "code",
   "execution_count": 45,
   "metadata": {},
   "outputs": [
    {
     "name": "stdout",
     "output_type": "stream",
     "text": [
      "(8850, 100000)\n",
      "(2223, 100000)\n"
     ]
    }
   ],
   "source": [
    "print(X_train_tfidf_csr.shape)\n",
    "# print(X_val_tfidf_csr.shape)\n",
    "print(X_test_tfidf_csr.shape)"
   ]
  },
  {
   "cell_type": "code",
   "execution_count": 46,
   "metadata": {},
   "outputs": [],
   "source": [
    "X_train = X_train_tfidf_csr\n",
    "# X_val = X_val_tfidf_csr\n",
    "X_test = X_test_tfidf_csr"
   ]
  },
  {
   "cell_type": "markdown",
   "metadata": {},
   "source": [
    "## Classify"
   ]
  },
  {
   "cell_type": "markdown",
   "metadata": {},
   "source": [
    "* XGBoost RandomSearch"
   ]
  },
  {
   "cell_type": "code",
   "execution_count": 47,
   "metadata": {},
   "outputs": [],
   "source": [
    "from sklearn.model_selection import RandomizedSearchCV\n",
    "import xgboost as xgb"
   ]
  },
  {
   "cell_type": "code",
   "execution_count": null,
   "metadata": {},
   "outputs": [
    {
     "name": "stdout",
     "output_type": "stream",
     "text": [
      "Fitting 5 folds for each of 20 candidates, totalling 100 fits\n"
     ]
    },
    {
     "name": "stderr",
     "output_type": "stream",
     "text": [
      "[Parallel(n_jobs=-1)]: Using backend LokyBackend with 32 concurrent workers.\n",
      "[Parallel(n_jobs=-1)]: Done   8 tasks      | elapsed: 38.0min\n",
      "[Parallel(n_jobs=-1)]: Done  21 tasks      | elapsed: 49.0min\n",
      "[Parallel(n_jobs=-1)]: Done  34 tasks      | elapsed: 70.4min\n"
     ]
    }
   ],
   "source": [
    "xgb_clf = xgb.XGBClassifier()\n",
    "\n",
    "xgb_param_grid = {'learning_rate': [.01, .015, .025, .05, .1],\n",
    "#                   'Gamma': [.05, .1, .3, .5, .7, .9, 1],\n",
    "                  'max_depth': [3, 5, 7, 9, 12, 15, 17, 25],\n",
    "                  'min_child_weight': [1, 3, 5, 7],\n",
    "                  'subsample': np.linspace(0.6, 1, 5)}\n",
    "\n",
    "fit_params = {\"early_stopping_rounds\" : 20,\n",
    "             \"eval_metric\" : \"merror\",\n",
    "             \"eval_set\" : [(X_train, y_train), (X_test, y_test)]}\n",
    "\n",
    "# Create a random search object\n",
    "xgb_random = RandomizedSearchCV(estimator = xgb_clf,\n",
    "                                param_distributions = xgb_param_grid,\n",
    "                                n_iter = 20, # n_iters in param combinations\n",
    "                                scoring='accuracy',\n",
    "                                n_jobs=-1,\n",
    "                                cv = 5,\n",
    "                                refit=True,\n",
    "                                return_train_score = True,\n",
    "                                verbose=10)\n",
    "\n",
    "# Fit to the training data\n",
    "xgb_random.fit(X_train, y_train, **fit_params)"
   ]
  },
  {
   "cell_type": "code",
   "execution_count": null,
   "metadata": {},
   "outputs": [],
   "source": [
    "pred_rand_best_test = xgb_random.best_estimator_.predict(X_test)"
   ]
  },
  {
   "cell_type": "code",
   "execution_count": null,
   "metadata": {},
   "outputs": [],
   "source": [
    "pred_rand_best_train = xgb_random.best_estimator_.predict(X_train)"
   ]
  },
  {
   "cell_type": "code",
   "execution_count": null,
   "metadata": {},
   "outputs": [],
   "source": [
    "from sklearn.metrics import accuracy_score"
   ]
  },
  {
   "cell_type": "code",
   "execution_count": null,
   "metadata": {},
   "outputs": [],
   "source": [
    "print(accuracy_score(y_test, pred_rand_best_test))"
   ]
  },
  {
   "cell_type": "code",
   "execution_count": null,
   "metadata": {},
   "outputs": [],
   "source": [
    "print(accuracy_score(y_train, pred_rand_best_train))"
   ]
  },
  {
   "cell_type": "code",
   "execution_count": 27,
   "metadata": {},
   "outputs": [
    {
     "data": {
      "text/plain": [
       "XGBClassifier(base_score=0.5, booster='gbtree', colsample_bylevel=1,\n",
       "              colsample_bynode=1, colsample_bytree=1, gamma=0, gpu_id=-1,\n",
       "              importance_type='gain', interaction_constraints='',\n",
       "              learning_rate=0.1, max_delta_step=0, max_depth=9,\n",
       "              min_child_weight=5, missing=nan, monotone_constraints='()',\n",
       "              n_estimators=100, n_jobs=0, num_parallel_tree=1,\n",
       "              objective='multi:softprob', random_state=0, reg_alpha=0,\n",
       "              reg_lambda=1, scale_pos_weight=None, subsample=0.8,\n",
       "              tree_method='exact', validate_parameters=1, verbosity=None)"
      ]
     },
     "execution_count": 27,
     "metadata": {},
     "output_type": "execute_result"
    }
   ],
   "source": [
    "xgb_random.best_estimator_"
   ]
  },
  {
   "cell_type": "code",
   "execution_count": 28,
   "metadata": {},
   "outputs": [
    {
     "data": {
      "text/html": [
       "<div>\n",
       "<style scoped>\n",
       "    .dataframe tbody tr th:only-of-type {\n",
       "        vertical-align: middle;\n",
       "    }\n",
       "\n",
       "    .dataframe tbody tr th {\n",
       "        vertical-align: top;\n",
       "    }\n",
       "\n",
       "    .dataframe thead th {\n",
       "        text-align: right;\n",
       "    }\n",
       "</style>\n",
       "<table border=\"1\" class=\"dataframe\">\n",
       "  <thead>\n",
       "    <tr style=\"text-align: right;\">\n",
       "      <th></th>\n",
       "      <th>mean_test_score</th>\n",
       "      <th>params</th>\n",
       "    </tr>\n",
       "  </thead>\n",
       "  <tbody>\n",
       "    <tr>\n",
       "      <th>0</th>\n",
       "      <td>0.752192</td>\n",
       "      <td>{'subsample': 1.0, 'min_child_weight': 1, 'max...</td>\n",
       "    </tr>\n",
       "    <tr>\n",
       "      <th>1</th>\n",
       "      <td>0.773952</td>\n",
       "      <td>{'subsample': 1.0, 'min_child_weight': 5, 'max...</td>\n",
       "    </tr>\n",
       "    <tr>\n",
       "      <th>2</th>\n",
       "      <td>0.795568</td>\n",
       "      <td>{'subsample': 0.8, 'min_child_weight': 5, 'max...</td>\n",
       "    </tr>\n",
       "    <tr>\n",
       "      <th>3</th>\n",
       "      <td>0.794154</td>\n",
       "      <td>{'subsample': 0.6, 'min_child_weight': 5, 'max...</td>\n",
       "    </tr>\n",
       "    <tr>\n",
       "      <th>4</th>\n",
       "      <td>0.775505</td>\n",
       "      <td>{'subsample': 1.0, 'min_child_weight': 1, 'max...</td>\n",
       "    </tr>\n",
       "    <tr>\n",
       "      <th>5</th>\n",
       "      <td>0.792744</td>\n",
       "      <td>{'subsample': 1.0, 'min_child_weight': 7, 'max...</td>\n",
       "    </tr>\n",
       "    <tr>\n",
       "      <th>6</th>\n",
       "      <td>0.791471</td>\n",
       "      <td>{'subsample': 0.6, 'min_child_weight': 1, 'max...</td>\n",
       "    </tr>\n",
       "    <tr>\n",
       "      <th>7</th>\n",
       "      <td>0.788787</td>\n",
       "      <td>{'subsample': 0.7, 'min_child_weight': 1, 'max...</td>\n",
       "    </tr>\n",
       "    <tr>\n",
       "      <th>8</th>\n",
       "      <td>0.759682</td>\n",
       "      <td>{'subsample': 0.9, 'min_child_weight': 5, 'max...</td>\n",
       "    </tr>\n",
       "    <tr>\n",
       "      <th>9</th>\n",
       "      <td>0.790623</td>\n",
       "      <td>{'subsample': 0.9, 'min_child_weight': 1, 'max...</td>\n",
       "    </tr>\n",
       "    <tr>\n",
       "      <th>10</th>\n",
       "      <td>0.775083</td>\n",
       "      <td>{'subsample': 0.7, 'min_child_weight': 3, 'max...</td>\n",
       "    </tr>\n",
       "    <tr>\n",
       "      <th>11</th>\n",
       "      <td>0.790199</td>\n",
       "      <td>{'subsample': 0.9, 'min_child_weight': 1, 'max...</td>\n",
       "    </tr>\n",
       "    <tr>\n",
       "      <th>12</th>\n",
       "      <td>0.755585</td>\n",
       "      <td>{'subsample': 0.7, 'min_child_weight': 3, 'max...</td>\n",
       "    </tr>\n",
       "    <tr>\n",
       "      <th>13</th>\n",
       "      <td>0.769430</td>\n",
       "      <td>{'subsample': 0.6, 'min_child_weight': 7, 'max...</td>\n",
       "    </tr>\n",
       "    <tr>\n",
       "      <th>14</th>\n",
       "      <td>0.779320</td>\n",
       "      <td>{'subsample': 0.7, 'min_child_weight': 5, 'max...</td>\n",
       "    </tr>\n",
       "    <tr>\n",
       "      <th>15</th>\n",
       "      <td>0.779321</td>\n",
       "      <td>{'subsample': 0.9, 'min_child_weight': 5, 'max...</td>\n",
       "    </tr>\n",
       "    <tr>\n",
       "      <th>16</th>\n",
       "      <td>0.786243</td>\n",
       "      <td>{'subsample': 0.8, 'min_child_weight': 1, 'max...</td>\n",
       "    </tr>\n",
       "    <tr>\n",
       "      <th>17</th>\n",
       "      <td>0.791331</td>\n",
       "      <td>{'subsample': 1.0, 'min_child_weight': 7, 'max...</td>\n",
       "    </tr>\n",
       "    <tr>\n",
       "      <th>18</th>\n",
       "      <td>0.788645</td>\n",
       "      <td>{'subsample': 0.7, 'min_child_weight': 1, 'max...</td>\n",
       "    </tr>\n",
       "    <tr>\n",
       "      <th>19</th>\n",
       "      <td>0.768299</td>\n",
       "      <td>{'subsample': 1.0, 'min_child_weight': 7, 'max...</td>\n",
       "    </tr>\n",
       "  </tbody>\n",
       "</table>\n",
       "</div>"
      ],
      "text/plain": [
       "    mean_test_score                                             params\n",
       "0          0.752192  {'subsample': 1.0, 'min_child_weight': 1, 'max...\n",
       "1          0.773952  {'subsample': 1.0, 'min_child_weight': 5, 'max...\n",
       "2          0.795568  {'subsample': 0.8, 'min_child_weight': 5, 'max...\n",
       "3          0.794154  {'subsample': 0.6, 'min_child_weight': 5, 'max...\n",
       "4          0.775505  {'subsample': 1.0, 'min_child_weight': 1, 'max...\n",
       "5          0.792744  {'subsample': 1.0, 'min_child_weight': 7, 'max...\n",
       "6          0.791471  {'subsample': 0.6, 'min_child_weight': 1, 'max...\n",
       "7          0.788787  {'subsample': 0.7, 'min_child_weight': 1, 'max...\n",
       "8          0.759682  {'subsample': 0.9, 'min_child_weight': 5, 'max...\n",
       "9          0.790623  {'subsample': 0.9, 'min_child_weight': 1, 'max...\n",
       "10         0.775083  {'subsample': 0.7, 'min_child_weight': 3, 'max...\n",
       "11         0.790199  {'subsample': 0.9, 'min_child_weight': 1, 'max...\n",
       "12         0.755585  {'subsample': 0.7, 'min_child_weight': 3, 'max...\n",
       "13         0.769430  {'subsample': 0.6, 'min_child_weight': 7, 'max...\n",
       "14         0.779320  {'subsample': 0.7, 'min_child_weight': 5, 'max...\n",
       "15         0.779321  {'subsample': 0.9, 'min_child_weight': 5, 'max...\n",
       "16         0.786243  {'subsample': 0.8, 'min_child_weight': 1, 'max...\n",
       "17         0.791331  {'subsample': 1.0, 'min_child_weight': 7, 'max...\n",
       "18         0.788645  {'subsample': 0.7, 'min_child_weight': 1, 'max...\n",
       "19         0.768299  {'subsample': 1.0, 'min_child_weight': 7, 'max..."
      ]
     },
     "execution_count": 28,
     "metadata": {},
     "output_type": "execute_result"
    }
   ],
   "source": [
    "hr_random_df = pd.DataFrame(xgb_random.cv_results_)\n",
    "hr_random_df.loc[:, ['mean_test_score', \"params\"]]"
   ]
  },
  {
   "cell_type": "code",
   "execution_count": 29,
   "metadata": {},
   "outputs": [
    {
     "data": {
      "text/plain": [
       "{'subsample': 1.0,\n",
       " 'min_child_weight': 1,\n",
       " 'max_depth': 5,\n",
       " 'learning_rate': 0.01}"
      ]
     },
     "execution_count": 29,
     "metadata": {},
     "output_type": "execute_result"
    }
   ],
   "source": [
    "hr_random_df.loc[0, \"params\"]"
   ]
  },
  {
   "cell_type": "code",
   "execution_count": 30,
   "metadata": {},
   "outputs": [],
   "source": [
    "df_list = []\n",
    "for i in range(20):\n",
    "    df_list.append(pd.DataFrame([hr_random_df.loc[i, \"params\"]]))\n",
    "    \n",
    "hr_random_new = pd.concat(df_list)"
   ]
  },
  {
   "cell_type": "code",
   "execution_count": 31,
   "metadata": {},
   "outputs": [],
   "source": [
    "a = hr_random_df['mean_test_score']"
   ]
  },
  {
   "cell_type": "code",
   "execution_count": 32,
   "metadata": {},
   "outputs": [],
   "source": [
    "hr_random_new['mean_test_score'] = a.values"
   ]
  },
  {
   "cell_type": "code",
   "execution_count": 33,
   "metadata": {},
   "outputs": [
    {
     "data": {
      "text/html": [
       "<div>\n",
       "<style scoped>\n",
       "    .dataframe tbody tr th:only-of-type {\n",
       "        vertical-align: middle;\n",
       "    }\n",
       "\n",
       "    .dataframe tbody tr th {\n",
       "        vertical-align: top;\n",
       "    }\n",
       "\n",
       "    .dataframe thead th {\n",
       "        text-align: right;\n",
       "    }\n",
       "</style>\n",
       "<table border=\"1\" class=\"dataframe\">\n",
       "  <thead>\n",
       "    <tr style=\"text-align: right;\">\n",
       "      <th></th>\n",
       "      <th>subsample</th>\n",
       "      <th>min_child_weight</th>\n",
       "      <th>max_depth</th>\n",
       "      <th>learning_rate</th>\n",
       "      <th>mean_test_score</th>\n",
       "    </tr>\n",
       "  </thead>\n",
       "  <tbody>\n",
       "    <tr>\n",
       "      <th>0</th>\n",
       "      <td>1.0</td>\n",
       "      <td>1</td>\n",
       "      <td>5</td>\n",
       "      <td>0.010</td>\n",
       "      <td>0.752192</td>\n",
       "    </tr>\n",
       "    <tr>\n",
       "      <th>0</th>\n",
       "      <td>1.0</td>\n",
       "      <td>5</td>\n",
       "      <td>7</td>\n",
       "      <td>0.015</td>\n",
       "      <td>0.773952</td>\n",
       "    </tr>\n",
       "    <tr>\n",
       "      <th>0</th>\n",
       "      <td>0.8</td>\n",
       "      <td>5</td>\n",
       "      <td>9</td>\n",
       "      <td>0.100</td>\n",
       "      <td>0.795568</td>\n",
       "    </tr>\n",
       "    <tr>\n",
       "      <th>0</th>\n",
       "      <td>0.6</td>\n",
       "      <td>5</td>\n",
       "      <td>5</td>\n",
       "      <td>0.100</td>\n",
       "      <td>0.794154</td>\n",
       "    </tr>\n",
       "    <tr>\n",
       "      <th>0</th>\n",
       "      <td>1.0</td>\n",
       "      <td>1</td>\n",
       "      <td>17</td>\n",
       "      <td>0.015</td>\n",
       "      <td>0.775505</td>\n",
       "    </tr>\n",
       "    <tr>\n",
       "      <th>0</th>\n",
       "      <td>1.0</td>\n",
       "      <td>7</td>\n",
       "      <td>9</td>\n",
       "      <td>0.100</td>\n",
       "      <td>0.792744</td>\n",
       "    </tr>\n",
       "    <tr>\n",
       "      <th>0</th>\n",
       "      <td>0.6</td>\n",
       "      <td>1</td>\n",
       "      <td>17</td>\n",
       "      <td>0.015</td>\n",
       "      <td>0.791471</td>\n",
       "    </tr>\n",
       "    <tr>\n",
       "      <th>0</th>\n",
       "      <td>0.7</td>\n",
       "      <td>1</td>\n",
       "      <td>17</td>\n",
       "      <td>0.015</td>\n",
       "      <td>0.788787</td>\n",
       "    </tr>\n",
       "    <tr>\n",
       "      <th>0</th>\n",
       "      <td>0.9</td>\n",
       "      <td>5</td>\n",
       "      <td>5</td>\n",
       "      <td>0.010</td>\n",
       "      <td>0.759682</td>\n",
       "    </tr>\n",
       "    <tr>\n",
       "      <th>0</th>\n",
       "      <td>0.9</td>\n",
       "      <td>1</td>\n",
       "      <td>17</td>\n",
       "      <td>0.050</td>\n",
       "      <td>0.790623</td>\n",
       "    </tr>\n",
       "    <tr>\n",
       "      <th>0</th>\n",
       "      <td>0.7</td>\n",
       "      <td>3</td>\n",
       "      <td>5</td>\n",
       "      <td>0.025</td>\n",
       "      <td>0.775083</td>\n",
       "    </tr>\n",
       "    <tr>\n",
       "      <th>0</th>\n",
       "      <td>0.9</td>\n",
       "      <td>1</td>\n",
       "      <td>15</td>\n",
       "      <td>0.025</td>\n",
       "      <td>0.790199</td>\n",
       "    </tr>\n",
       "    <tr>\n",
       "      <th>0</th>\n",
       "      <td>0.7</td>\n",
       "      <td>3</td>\n",
       "      <td>3</td>\n",
       "      <td>0.025</td>\n",
       "      <td>0.755585</td>\n",
       "    </tr>\n",
       "    <tr>\n",
       "      <th>0</th>\n",
       "      <td>0.6</td>\n",
       "      <td>7</td>\n",
       "      <td>12</td>\n",
       "      <td>0.015</td>\n",
       "      <td>0.769430</td>\n",
       "    </tr>\n",
       "    <tr>\n",
       "      <th>0</th>\n",
       "      <td>0.7</td>\n",
       "      <td>5</td>\n",
       "      <td>12</td>\n",
       "      <td>0.025</td>\n",
       "      <td>0.779320</td>\n",
       "    </tr>\n",
       "    <tr>\n",
       "      <th>0</th>\n",
       "      <td>0.9</td>\n",
       "      <td>5</td>\n",
       "      <td>12</td>\n",
       "      <td>0.015</td>\n",
       "      <td>0.779321</td>\n",
       "    </tr>\n",
       "    <tr>\n",
       "      <th>0</th>\n",
       "      <td>0.8</td>\n",
       "      <td>1</td>\n",
       "      <td>3</td>\n",
       "      <td>0.100</td>\n",
       "      <td>0.786243</td>\n",
       "    </tr>\n",
       "    <tr>\n",
       "      <th>0</th>\n",
       "      <td>1.0</td>\n",
       "      <td>7</td>\n",
       "      <td>5</td>\n",
       "      <td>0.100</td>\n",
       "      <td>0.791331</td>\n",
       "    </tr>\n",
       "    <tr>\n",
       "      <th>0</th>\n",
       "      <td>0.7</td>\n",
       "      <td>1</td>\n",
       "      <td>12</td>\n",
       "      <td>0.050</td>\n",
       "      <td>0.788645</td>\n",
       "    </tr>\n",
       "    <tr>\n",
       "      <th>0</th>\n",
       "      <td>1.0</td>\n",
       "      <td>7</td>\n",
       "      <td>9</td>\n",
       "      <td>0.010</td>\n",
       "      <td>0.768299</td>\n",
       "    </tr>\n",
       "  </tbody>\n",
       "</table>\n",
       "</div>"
      ],
      "text/plain": [
       "   subsample  min_child_weight  max_depth  learning_rate  mean_test_score\n",
       "0        1.0                 1          5          0.010         0.752192\n",
       "0        1.0                 5          7          0.015         0.773952\n",
       "0        0.8                 5          9          0.100         0.795568\n",
       "0        0.6                 5          5          0.100         0.794154\n",
       "0        1.0                 1         17          0.015         0.775505\n",
       "0        1.0                 7          9          0.100         0.792744\n",
       "0        0.6                 1         17          0.015         0.791471\n",
       "0        0.7                 1         17          0.015         0.788787\n",
       "0        0.9                 5          5          0.010         0.759682\n",
       "0        0.9                 1         17          0.050         0.790623\n",
       "0        0.7                 3          5          0.025         0.775083\n",
       "0        0.9                 1         15          0.025         0.790199\n",
       "0        0.7                 3          3          0.025         0.755585\n",
       "0        0.6                 7         12          0.015         0.769430\n",
       "0        0.7                 5         12          0.025         0.779320\n",
       "0        0.9                 5         12          0.015         0.779321\n",
       "0        0.8                 1          3          0.100         0.786243\n",
       "0        1.0                 7          5          0.100         0.791331\n",
       "0        0.7                 1         12          0.050         0.788645\n",
       "0        1.0                 7          9          0.010         0.768299"
      ]
     },
     "execution_count": 33,
     "metadata": {},
     "output_type": "execute_result"
    }
   ],
   "source": [
    "hr_random_new"
   ]
  },
  {
   "cell_type": "code",
   "execution_count": 34,
   "metadata": {},
   "outputs": [
    {
     "data": {
      "text/html": [
       "<div>\n",
       "<style scoped>\n",
       "    .dataframe tbody tr th:only-of-type {\n",
       "        vertical-align: middle;\n",
       "    }\n",
       "\n",
       "    .dataframe tbody tr th {\n",
       "        vertical-align: top;\n",
       "    }\n",
       "\n",
       "    .dataframe thead th {\n",
       "        text-align: right;\n",
       "    }\n",
       "</style>\n",
       "<table border=\"1\" class=\"dataframe\">\n",
       "  <thead>\n",
       "    <tr style=\"text-align: right;\">\n",
       "      <th></th>\n",
       "      <th>subsample</th>\n",
       "      <th>min_child_weight</th>\n",
       "      <th>max_depth</th>\n",
       "      <th>learning_rate</th>\n",
       "      <th>mean_test_score</th>\n",
       "    </tr>\n",
       "  </thead>\n",
       "  <tbody>\n",
       "    <tr>\n",
       "      <th>0</th>\n",
       "      <td>1.0</td>\n",
       "      <td>1</td>\n",
       "      <td>5</td>\n",
       "      <td>0.010</td>\n",
       "      <td>0.752192</td>\n",
       "    </tr>\n",
       "    <tr>\n",
       "      <th>0</th>\n",
       "      <td>0.7</td>\n",
       "      <td>3</td>\n",
       "      <td>3</td>\n",
       "      <td>0.025</td>\n",
       "      <td>0.755585</td>\n",
       "    </tr>\n",
       "    <tr>\n",
       "      <th>0</th>\n",
       "      <td>0.9</td>\n",
       "      <td>5</td>\n",
       "      <td>5</td>\n",
       "      <td>0.010</td>\n",
       "      <td>0.759682</td>\n",
       "    </tr>\n",
       "    <tr>\n",
       "      <th>0</th>\n",
       "      <td>1.0</td>\n",
       "      <td>7</td>\n",
       "      <td>9</td>\n",
       "      <td>0.010</td>\n",
       "      <td>0.768299</td>\n",
       "    </tr>\n",
       "    <tr>\n",
       "      <th>0</th>\n",
       "      <td>0.6</td>\n",
       "      <td>7</td>\n",
       "      <td>12</td>\n",
       "      <td>0.015</td>\n",
       "      <td>0.769430</td>\n",
       "    </tr>\n",
       "    <tr>\n",
       "      <th>0</th>\n",
       "      <td>1.0</td>\n",
       "      <td>5</td>\n",
       "      <td>7</td>\n",
       "      <td>0.015</td>\n",
       "      <td>0.773952</td>\n",
       "    </tr>\n",
       "    <tr>\n",
       "      <th>0</th>\n",
       "      <td>0.7</td>\n",
       "      <td>3</td>\n",
       "      <td>5</td>\n",
       "      <td>0.025</td>\n",
       "      <td>0.775083</td>\n",
       "    </tr>\n",
       "    <tr>\n",
       "      <th>0</th>\n",
       "      <td>1.0</td>\n",
       "      <td>1</td>\n",
       "      <td>17</td>\n",
       "      <td>0.015</td>\n",
       "      <td>0.775505</td>\n",
       "    </tr>\n",
       "    <tr>\n",
       "      <th>0</th>\n",
       "      <td>0.7</td>\n",
       "      <td>5</td>\n",
       "      <td>12</td>\n",
       "      <td>0.025</td>\n",
       "      <td>0.779320</td>\n",
       "    </tr>\n",
       "    <tr>\n",
       "      <th>0</th>\n",
       "      <td>0.9</td>\n",
       "      <td>5</td>\n",
       "      <td>12</td>\n",
       "      <td>0.015</td>\n",
       "      <td>0.779321</td>\n",
       "    </tr>\n",
       "    <tr>\n",
       "      <th>0</th>\n",
       "      <td>0.8</td>\n",
       "      <td>1</td>\n",
       "      <td>3</td>\n",
       "      <td>0.100</td>\n",
       "      <td>0.786243</td>\n",
       "    </tr>\n",
       "    <tr>\n",
       "      <th>0</th>\n",
       "      <td>0.7</td>\n",
       "      <td>1</td>\n",
       "      <td>12</td>\n",
       "      <td>0.050</td>\n",
       "      <td>0.788645</td>\n",
       "    </tr>\n",
       "    <tr>\n",
       "      <th>0</th>\n",
       "      <td>0.7</td>\n",
       "      <td>1</td>\n",
       "      <td>17</td>\n",
       "      <td>0.015</td>\n",
       "      <td>0.788787</td>\n",
       "    </tr>\n",
       "    <tr>\n",
       "      <th>0</th>\n",
       "      <td>0.9</td>\n",
       "      <td>1</td>\n",
       "      <td>15</td>\n",
       "      <td>0.025</td>\n",
       "      <td>0.790199</td>\n",
       "    </tr>\n",
       "    <tr>\n",
       "      <th>0</th>\n",
       "      <td>0.9</td>\n",
       "      <td>1</td>\n",
       "      <td>17</td>\n",
       "      <td>0.050</td>\n",
       "      <td>0.790623</td>\n",
       "    </tr>\n",
       "    <tr>\n",
       "      <th>0</th>\n",
       "      <td>1.0</td>\n",
       "      <td>7</td>\n",
       "      <td>5</td>\n",
       "      <td>0.100</td>\n",
       "      <td>0.791331</td>\n",
       "    </tr>\n",
       "    <tr>\n",
       "      <th>0</th>\n",
       "      <td>0.6</td>\n",
       "      <td>1</td>\n",
       "      <td>17</td>\n",
       "      <td>0.015</td>\n",
       "      <td>0.791471</td>\n",
       "    </tr>\n",
       "    <tr>\n",
       "      <th>0</th>\n",
       "      <td>1.0</td>\n",
       "      <td>7</td>\n",
       "      <td>9</td>\n",
       "      <td>0.100</td>\n",
       "      <td>0.792744</td>\n",
       "    </tr>\n",
       "    <tr>\n",
       "      <th>0</th>\n",
       "      <td>0.6</td>\n",
       "      <td>5</td>\n",
       "      <td>5</td>\n",
       "      <td>0.100</td>\n",
       "      <td>0.794154</td>\n",
       "    </tr>\n",
       "    <tr>\n",
       "      <th>0</th>\n",
       "      <td>0.8</td>\n",
       "      <td>5</td>\n",
       "      <td>9</td>\n",
       "      <td>0.100</td>\n",
       "      <td>0.795568</td>\n",
       "    </tr>\n",
       "  </tbody>\n",
       "</table>\n",
       "</div>"
      ],
      "text/plain": [
       "   subsample  min_child_weight  max_depth  learning_rate  mean_test_score\n",
       "0        1.0                 1          5          0.010         0.752192\n",
       "0        0.7                 3          3          0.025         0.755585\n",
       "0        0.9                 5          5          0.010         0.759682\n",
       "0        1.0                 7          9          0.010         0.768299\n",
       "0        0.6                 7         12          0.015         0.769430\n",
       "0        1.0                 5          7          0.015         0.773952\n",
       "0        0.7                 3          5          0.025         0.775083\n",
       "0        1.0                 1         17          0.015         0.775505\n",
       "0        0.7                 5         12          0.025         0.779320\n",
       "0        0.9                 5         12          0.015         0.779321\n",
       "0        0.8                 1          3          0.100         0.786243\n",
       "0        0.7                 1         12          0.050         0.788645\n",
       "0        0.7                 1         17          0.015         0.788787\n",
       "0        0.9                 1         15          0.025         0.790199\n",
       "0        0.9                 1         17          0.050         0.790623\n",
       "0        1.0                 7          5          0.100         0.791331\n",
       "0        0.6                 1         17          0.015         0.791471\n",
       "0        1.0                 7          9          0.100         0.792744\n",
       "0        0.6                 5          5          0.100         0.794154\n",
       "0        0.8                 5          9          0.100         0.795568"
      ]
     },
     "execution_count": 34,
     "metadata": {},
     "output_type": "execute_result"
    }
   ],
   "source": [
    "hr_random_new.sort_values(by='mean_test_score', axis=0)"
   ]
  },
  {
   "cell_type": "code",
   "execution_count": null,
   "metadata": {},
   "outputs": [],
   "source": []
  }
 ],
 "metadata": {
  "kernelspec": {
   "display_name": "Python 3",
   "language": "python",
   "name": "python3"
  },
  "language_info": {
   "codemirror_mode": {
    "name": "ipython",
    "version": 3
   },
   "file_extension": ".py",
   "mimetype": "text/x-python",
   "name": "python",
   "nbconvert_exporter": "python",
   "pygments_lexer": "ipython3",
   "version": "3.6.9"
  }
 },
 "nbformat": 4,
 "nbformat_minor": 4
}
