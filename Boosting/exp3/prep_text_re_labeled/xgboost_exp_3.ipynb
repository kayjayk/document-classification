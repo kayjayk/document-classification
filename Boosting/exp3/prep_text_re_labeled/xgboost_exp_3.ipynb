{
 "cells": [
  {
   "cell_type": "markdown",
   "metadata": {},
   "source": [
    "## Data Handling"
   ]
  },
  {
   "cell_type": "code",
   "execution_count": 1,
   "metadata": {},
   "outputs": [],
   "source": [
    "from sklearn.feature_extraction.text import TfidfVectorizer\n",
    "import pandas as pd\n",
    "import numpy as np\n",
    "np.random.seed(4444)"
   ]
  },
  {
   "cell_type": "code",
   "execution_count": 3,
   "metadata": {},
   "outputs": [
    {
     "data": {
      "text/html": [
       "<div>\n",
       "<style scoped>\n",
       "    .dataframe tbody tr th:only-of-type {\n",
       "        vertical-align: middle;\n",
       "    }\n",
       "\n",
       "    .dataframe tbody tr th {\n",
       "        vertical-align: top;\n",
       "    }\n",
       "\n",
       "    .dataframe thead th {\n",
       "        text-align: right;\n",
       "    }\n",
       "</style>\n",
       "<table border=\"1\" class=\"dataframe\">\n",
       "  <thead>\n",
       "    <tr style=\"text-align: right;\">\n",
       "      <th></th>\n",
       "      <th>file_name</th>\n",
       "      <th>label</th>\n",
       "      <th>raw_text</th>\n",
       "      <th>dataset_n</th>\n",
       "      <th>prep_v9_text</th>\n",
       "      <th>label_2</th>\n",
       "      <th>train_val_test</th>\n",
       "    </tr>\n",
       "  </thead>\n",
       "  <tbody>\n",
       "    <tr>\n",
       "      <th>0</th>\n",
       "      <td>R1508073.txt</td>\n",
       "      <td>0</td>\n",
       "      <td>보 도 자 료\\nhttp://www.motie.go.kr\\n2015년 8월 5일(수...</td>\n",
       "      <td>0</td>\n",
       "      <td>이후N 가능N 문의N 산업N 스마트N 공장N 재부N 산업N 정보N 예산N 과장N 스...</td>\n",
       "      <td>0</td>\n",
       "      <td>0</td>\n",
       "    </tr>\n",
       "    <tr>\n",
       "      <th>1</th>\n",
       "      <td>D2006211.txt</td>\n",
       "      <td>0</td>\n",
       "      <td>보도일시 2020. 6. 24.(수) 조간(온라인 6. 23. 16:00)부터 보도...</td>\n",
       "      <td>0</td>\n",
       "      <td>온라인N 과학N 기술N 정보N 협력N 산업N 통상N 자원N 산업N 기술N 개발N 과...</td>\n",
       "      <td>0</td>\n",
       "      <td>0</td>\n",
       "    </tr>\n",
       "    <tr>\n",
       "      <th>2</th>\n",
       "      <td>D2006529.txt</td>\n",
       "      <td>0</td>\n",
       "      <td>기획조정관             과 장  김용훈   ...</td>\n",
       "      <td>0</td>\n",
       "      <td>기획N 혁신N 행정관N 이후N 게재N 특허청N 지식N 재산N 정책N 공개N 국민N ...</td>\n",
       "      <td>0</td>\n",
       "      <td>0</td>\n",
       "    </tr>\n",
       "    <tr>\n",
       "      <th>3</th>\n",
       "      <td>D2001017.txt</td>\n",
       "      <td>0</td>\n",
       "      <td>2020년 1월 30일(목) 석간부터 보도하여 주시기 바랍니다. * 통신․방송․인터...</td>\n",
       "      <td>0</td>\n",
       "      <td>이후N 가능N 문의N 창업N 촉진N 기훈N 과장N 정착N 그랜드N 챌린지N 스타트업...</td>\n",
       "      <td>0</td>\n",
       "      <td>0</td>\n",
       "    </tr>\n",
       "    <tr>\n",
       "      <th>4</th>\n",
       "      <td>R2007307.txt</td>\n",
       "      <td>0</td>\n",
       "      <td>과    장    최병석 ...</td>\n",
       "      <td>0</td>\n",
       "      <td>특허N 사업N 화관N 이후N 특허청N 지역N 창업N 기업N 지원N 온라인N line...</td>\n",
       "      <td>0</td>\n",
       "      <td>0</td>\n",
       "    </tr>\n",
       "  </tbody>\n",
       "</table>\n",
       "</div>"
      ],
      "text/plain": [
       "      file_name  label                                           raw_text  \\\n",
       "0  R1508073.txt      0  보 도 자 료\\nhttp://www.motie.go.kr\\n2015년 8월 5일(수...   \n",
       "1  D2006211.txt      0  보도일시 2020. 6. 24.(수) 조간(온라인 6. 23. 16:00)부터 보도...   \n",
       "2  D2006529.txt      0                   기획조정관             과 장  김용훈   ...   \n",
       "3  D2001017.txt      0  2020년 1월 30일(목) 석간부터 보도하여 주시기 바랍니다. * 통신․방송․인터...   \n",
       "4  R2007307.txt      0                                  과    장    최병석 ...   \n",
       "\n",
       "   dataset_n                                       prep_v9_text  label_2  \\\n",
       "0          0  이후N 가능N 문의N 산업N 스마트N 공장N 재부N 산업N 정보N 예산N 과장N 스...        0   \n",
       "1          0  온라인N 과학N 기술N 정보N 협력N 산업N 통상N 자원N 산업N 기술N 개발N 과...        0   \n",
       "2          0  기획N 혁신N 행정관N 이후N 게재N 특허청N 지식N 재산N 정책N 공개N 국민N ...        0   \n",
       "3          0  이후N 가능N 문의N 창업N 촉진N 기훈N 과장N 정착N 그랜드N 챌린지N 스타트업...        0   \n",
       "4          0  특허N 사업N 화관N 이후N 특허청N 지역N 창업N 기업N 지원N 온라인N line...        0   \n",
       "\n",
       "   train_val_test  \n",
       "0               0  \n",
       "1               0  \n",
       "2               0  \n",
       "3               0  \n",
       "4               0  "
      ]
     },
     "execution_count": 3,
     "metadata": {},
     "output_type": "execute_result"
    }
   ],
   "source": [
    "df = pd.read_csv('../../../../../../jaeyeun/01_nh_poc/16_re_label/split_70_15_15_re_1.csv')\n",
    "\n",
    "df.head()"
   ]
  },
  {
   "cell_type": "markdown",
   "metadata": {},
   "source": [
    "* exp3 combination"
   ]
  },
  {
   "cell_type": "code",
   "execution_count": 4,
   "metadata": {},
   "outputs": [],
   "source": [
    "X_train_df = df[df['train_val_test'] == 0]\n",
    "X_val_df = df[df['train_val_test'] == 1]\n",
    "X_test_df = df[df['train_val_test'] == 2]\n",
    "y_train = df[df['train_val_test'] == 0]['label_2']\n",
    "y_val = df[df['train_val_test'] == 1]['label_2']\n",
    "y_test = df[df['train_val_test'] == 2]['label_2']"
   ]
  },
  {
   "cell_type": "code",
   "execution_count": 5,
   "metadata": {},
   "outputs": [
    {
     "name": "stdout",
     "output_type": "stream",
     "text": [
      "(7742, 7)\n",
      "(1659, 7)\n",
      "(1672, 7)\n",
      "(7742,)\n",
      "(1659,)\n",
      "(1672,)\n"
     ]
    }
   ],
   "source": [
    "print(X_train_df.shape)\n",
    "print(X_val_df.shape)\n",
    "print(X_test_df.shape)\n",
    "print(y_train.shape)\n",
    "print(y_val.shape)\n",
    "print(y_test.shape)"
   ]
  },
  {
   "cell_type": "code",
   "execution_count": 6,
   "metadata": {},
   "outputs": [],
   "source": [
    "n_features = 100000\n",
    "tfidf_vectorizer = TfidfVectorizer(\n",
    "    max_df=0.9, # 0.9 만큼의 문서 이상에서 나오면 거른다.\n",
    "    min_df=5, # 5개 미만의 문서에서 나오면 거른다.\n",
    "    sublinear_tf = True, # tf value를 완만하게 처리 (outlier 처리 효과)\n",
    "    ngram_range = (1, 3),\n",
    "    max_features=n_features)"
   ]
  },
  {
   "cell_type": "markdown",
   "metadata": {},
   "source": [
    "* data is 'prep_v9_text'"
   ]
  },
  {
   "cell_type": "code",
   "execution_count": 7,
   "metadata": {},
   "outputs": [],
   "source": [
    "X_train_tfidf = tfidf_vectorizer.fit(X_train_df['prep_v9_text'])\n",
    "# X_test_tfidf = tfidf_vectorizer.fit_transform(prep_text_test)\n",
    "# X_test_hash = hash_vectorizer.fit_transform(prep_text_test)"
   ]
  },
  {
   "cell_type": "code",
   "execution_count": 8,
   "metadata": {},
   "outputs": [],
   "source": [
    "X_train = X_train_tfidf.transform(X_train_df['prep_v9_text'])\n",
    "X_val = X_train_tfidf.transform(X_val_df['prep_v9_text'])\n",
    "X_test = X_train_tfidf.transform(X_test_df['prep_v9_text'])"
   ]
  },
  {
   "cell_type": "code",
   "execution_count": 9,
   "metadata": {},
   "outputs": [
    {
     "name": "stdout",
     "output_type": "stream",
     "text": [
      "(7742, 100000)\n",
      "(1659, 100000)\n",
      "(1672, 100000)\n"
     ]
    }
   ],
   "source": [
    "print(X_train.shape)\n",
    "print(X_val.shape)\n",
    "print(X_test.shape)"
   ]
  },
  {
   "cell_type": "markdown",
   "metadata": {},
   "source": [
    "## Classify"
   ]
  },
  {
   "cell_type": "markdown",
   "metadata": {},
   "source": [
    "* XGBoost RandomSearch"
   ]
  },
  {
   "cell_type": "code",
   "execution_count": 10,
   "metadata": {},
   "outputs": [],
   "source": [
    "from sklearn.model_selection import RandomizedSearchCV\n",
    "import xgboost as xgb"
   ]
  },
  {
   "cell_type": "code",
   "execution_count": 11,
   "metadata": {},
   "outputs": [
    {
     "name": "stdout",
     "output_type": "stream",
     "text": [
      "Fitting 5 folds for each of 20 candidates, totalling 100 fits\n"
     ]
    },
    {
     "name": "stderr",
     "output_type": "stream",
     "text": [
      "[Parallel(n_jobs=-1)]: Using backend LokyBackend with 32 concurrent workers.\n",
      "[Parallel(n_jobs=-1)]: Done   8 tasks      | elapsed: 38.7min\n",
      "[Parallel(n_jobs=-1)]: Done  21 tasks      | elapsed: 50.7min\n",
      "[Parallel(n_jobs=-1)]: Done  34 tasks      | elapsed: 65.9min\n",
      "[Parallel(n_jobs=-1)]: Done  48 out of 100 | elapsed: 79.8min remaining: 86.4min\n",
      "[Parallel(n_jobs=-1)]: Done  59 out of 100 | elapsed: 88.3min remaining: 61.4min\n",
      "[Parallel(n_jobs=-1)]: Done  70 out of 100 | elapsed: 92.7min remaining: 39.7min\n",
      "[Parallel(n_jobs=-1)]: Done  81 out of 100 | elapsed: 98.8min remaining: 23.2min\n",
      "[Parallel(n_jobs=-1)]: Done  92 out of 100 | elapsed: 105.2min remaining:  9.2min\n",
      "[Parallel(n_jobs=-1)]: Done 100 out of 100 | elapsed: 118.8min finished\n"
     ]
    },
    {
     "name": "stdout",
     "output_type": "stream",
     "text": [
      "[0]\tvalidation_0-merror:0.19426\tvalidation_1-merror:0.25979\n",
      "Multiple eval metrics have been passed: 'validation_1-merror' will be used for early stopping.\n",
      "\n",
      "Will train until validation_1-merror hasn't improved in 20 rounds.\n",
      "[1]\tvalidation_0-merror:0.15565\tvalidation_1-merror:0.23026\n",
      "[2]\tvalidation_0-merror:0.13898\tvalidation_1-merror:0.21218\n",
      "[3]\tvalidation_0-merror:0.13007\tvalidation_1-merror:0.21157\n",
      "[4]\tvalidation_0-merror:0.12193\tvalidation_1-merror:0.20012\n",
      "[5]\tvalidation_0-merror:0.11444\tvalidation_1-merror:0.19952\n",
      "[6]\tvalidation_0-merror:0.10656\tvalidation_1-merror:0.19711\n",
      "[7]\tvalidation_0-merror:0.10062\tvalidation_1-merror:0.19048\n",
      "[8]\tvalidation_0-merror:0.09571\tvalidation_1-merror:0.19108\n",
      "[9]\tvalidation_0-merror:0.09132\tvalidation_1-merror:0.18987\n",
      "[10]\tvalidation_0-merror:0.08693\tvalidation_1-merror:0.18927\n",
      "[11]\tvalidation_0-merror:0.08318\tvalidation_1-merror:0.18746\n",
      "[12]\tvalidation_0-merror:0.07892\tvalidation_1-merror:0.18565\n",
      "[13]\tvalidation_0-merror:0.07530\tvalidation_1-merror:0.18264\n",
      "[14]\tvalidation_0-merror:0.07350\tvalidation_1-merror:0.18204\n",
      "[15]\tvalidation_0-merror:0.06923\tvalidation_1-merror:0.18204\n",
      "[16]\tvalidation_0-merror:0.06717\tvalidation_1-merror:0.17661\n",
      "[17]\tvalidation_0-merror:0.06484\tvalidation_1-merror:0.17782\n",
      "[18]\tvalidation_0-merror:0.06226\tvalidation_1-merror:0.17782\n",
      "[19]\tvalidation_0-merror:0.06006\tvalidation_1-merror:0.17722\n",
      "[20]\tvalidation_0-merror:0.05838\tvalidation_1-merror:0.18083\n",
      "[21]\tvalidation_0-merror:0.05632\tvalidation_1-merror:0.17842\n",
      "[22]\tvalidation_0-merror:0.05322\tvalidation_1-merror:0.17782\n",
      "[23]\tvalidation_0-merror:0.05038\tvalidation_1-merror:0.17480\n",
      "[24]\tvalidation_0-merror:0.04831\tvalidation_1-merror:0.17300\n",
      "[25]\tvalidation_0-merror:0.04676\tvalidation_1-merror:0.17601\n",
      "[26]\tvalidation_0-merror:0.04417\tvalidation_1-merror:0.17541\n",
      "[27]\tvalidation_0-merror:0.04263\tvalidation_1-merror:0.17661\n",
      "[28]\tvalidation_0-merror:0.04108\tvalidation_1-merror:0.17480\n",
      "[29]\tvalidation_0-merror:0.03940\tvalidation_1-merror:0.17541\n",
      "[30]\tvalidation_0-merror:0.03798\tvalidation_1-merror:0.17541\n",
      "[31]\tvalidation_0-merror:0.03668\tvalidation_1-merror:0.17119\n",
      "[32]\tvalidation_0-merror:0.03552\tvalidation_1-merror:0.16938\n",
      "[33]\tvalidation_0-merror:0.03423\tvalidation_1-merror:0.16878\n",
      "[34]\tvalidation_0-merror:0.03255\tvalidation_1-merror:0.17058\n",
      "[35]\tvalidation_0-merror:0.03152\tvalidation_1-merror:0.16878\n",
      "[36]\tvalidation_0-merror:0.03022\tvalidation_1-merror:0.16817\n",
      "[37]\tvalidation_0-merror:0.02829\tvalidation_1-merror:0.16817\n",
      "[38]\tvalidation_0-merror:0.02725\tvalidation_1-merror:0.16637\n",
      "[39]\tvalidation_0-merror:0.02545\tvalidation_1-merror:0.16817\n",
      "[40]\tvalidation_0-merror:0.02415\tvalidation_1-merror:0.16938\n",
      "[41]\tvalidation_0-merror:0.02325\tvalidation_1-merror:0.16757\n",
      "[42]\tvalidation_0-merror:0.02222\tvalidation_1-merror:0.16697\n",
      "[43]\tvalidation_0-merror:0.02196\tvalidation_1-merror:0.16516\n",
      "[44]\tvalidation_0-merror:0.02105\tvalidation_1-merror:0.16757\n",
      "[45]\tvalidation_0-merror:0.02002\tvalidation_1-merror:0.16395\n",
      "[46]\tvalidation_0-merror:0.01912\tvalidation_1-merror:0.16637\n",
      "[47]\tvalidation_0-merror:0.01899\tvalidation_1-merror:0.16516\n",
      "[48]\tvalidation_0-merror:0.01886\tvalidation_1-merror:0.16516\n",
      "[49]\tvalidation_0-merror:0.01757\tvalidation_1-merror:0.16335\n",
      "[50]\tvalidation_0-merror:0.01731\tvalidation_1-merror:0.16275\n",
      "[51]\tvalidation_0-merror:0.01628\tvalidation_1-merror:0.16215\n",
      "[52]\tvalidation_0-merror:0.01589\tvalidation_1-merror:0.16154\n",
      "[53]\tvalidation_0-merror:0.01589\tvalidation_1-merror:0.16335\n",
      "[54]\tvalidation_0-merror:0.01485\tvalidation_1-merror:0.16215\n",
      "[55]\tvalidation_0-merror:0.01395\tvalidation_1-merror:0.16215\n",
      "[56]\tvalidation_0-merror:0.01434\tvalidation_1-merror:0.16154\n",
      "[57]\tvalidation_0-merror:0.01369\tvalidation_1-merror:0.16094\n",
      "[58]\tvalidation_0-merror:0.01382\tvalidation_1-merror:0.15973\n",
      "[59]\tvalidation_0-merror:0.01266\tvalidation_1-merror:0.15612\n",
      "[60]\tvalidation_0-merror:0.01227\tvalidation_1-merror:0.15793\n",
      "[61]\tvalidation_0-merror:0.01175\tvalidation_1-merror:0.15913\n",
      "[62]\tvalidation_0-merror:0.01124\tvalidation_1-merror:0.16034\n",
      "[63]\tvalidation_0-merror:0.01046\tvalidation_1-merror:0.15913\n",
      "[64]\tvalidation_0-merror:0.01059\tvalidation_1-merror:0.15973\n",
      "[65]\tvalidation_0-merror:0.01020\tvalidation_1-merror:0.15973\n",
      "[66]\tvalidation_0-merror:0.01008\tvalidation_1-merror:0.15672\n",
      "[67]\tvalidation_0-merror:0.00956\tvalidation_1-merror:0.15612\n",
      "[68]\tvalidation_0-merror:0.00943\tvalidation_1-merror:0.15491\n",
      "[69]\tvalidation_0-merror:0.00891\tvalidation_1-merror:0.15431\n",
      "[70]\tvalidation_0-merror:0.00878\tvalidation_1-merror:0.15371\n",
      "[71]\tvalidation_0-merror:0.00814\tvalidation_1-merror:0.15491\n",
      "[72]\tvalidation_0-merror:0.00749\tvalidation_1-merror:0.15371\n",
      "[73]\tvalidation_0-merror:0.00685\tvalidation_1-merror:0.15431\n",
      "[74]\tvalidation_0-merror:0.00723\tvalidation_1-merror:0.15310\n",
      "[75]\tvalidation_0-merror:0.00672\tvalidation_1-merror:0.15431\n",
      "[76]\tvalidation_0-merror:0.00633\tvalidation_1-merror:0.15431\n",
      "[77]\tvalidation_0-merror:0.00607\tvalidation_1-merror:0.15491\n",
      "[78]\tvalidation_0-merror:0.00607\tvalidation_1-merror:0.15250\n",
      "[79]\tvalidation_0-merror:0.00568\tvalidation_1-merror:0.15310\n",
      "[80]\tvalidation_0-merror:0.00568\tvalidation_1-merror:0.15431\n",
      "[81]\tvalidation_0-merror:0.00530\tvalidation_1-merror:0.15431\n",
      "[82]\tvalidation_0-merror:0.00504\tvalidation_1-merror:0.15551\n",
      "[83]\tvalidation_0-merror:0.00452\tvalidation_1-merror:0.15793\n",
      "[84]\tvalidation_0-merror:0.00452\tvalidation_1-merror:0.15551\n",
      "[85]\tvalidation_0-merror:0.00452\tvalidation_1-merror:0.15551\n",
      "[86]\tvalidation_0-merror:0.00400\tvalidation_1-merror:0.15310\n",
      "[87]\tvalidation_0-merror:0.00387\tvalidation_1-merror:0.15190\n",
      "[88]\tvalidation_0-merror:0.00400\tvalidation_1-merror:0.15431\n",
      "[89]\tvalidation_0-merror:0.00362\tvalidation_1-merror:0.15250\n",
      "[90]\tvalidation_0-merror:0.00349\tvalidation_1-merror:0.15371\n",
      "[91]\tvalidation_0-merror:0.00323\tvalidation_1-merror:0.15310\n",
      "[92]\tvalidation_0-merror:0.00323\tvalidation_1-merror:0.15491\n",
      "[93]\tvalidation_0-merror:0.00284\tvalidation_1-merror:0.15431\n",
      "[94]\tvalidation_0-merror:0.00310\tvalidation_1-merror:0.15310\n",
      "[95]\tvalidation_0-merror:0.00258\tvalidation_1-merror:0.15250\n",
      "[96]\tvalidation_0-merror:0.00232\tvalidation_1-merror:0.15310\n",
      "[97]\tvalidation_0-merror:0.00220\tvalidation_1-merror:0.15190\n",
      "[98]\tvalidation_0-merror:0.00220\tvalidation_1-merror:0.15130\n",
      "[99]\tvalidation_0-merror:0.00232\tvalidation_1-merror:0.15190\n"
     ]
    },
    {
     "data": {
      "text/plain": [
       "RandomizedSearchCV(cv=5,\n",
       "                   estimator=XGBClassifier(base_score=None, booster=None,\n",
       "                                           colsample_bylevel=None,\n",
       "                                           colsample_bynode=None,\n",
       "                                           colsample_bytree=None, gamma=None,\n",
       "                                           gpu_id=None, importance_type='gain',\n",
       "                                           interaction_constraints=None,\n",
       "                                           learning_rate=None,\n",
       "                                           max_delta_step=None, max_depth=None,\n",
       "                                           min_child_weight=None, missing=nan,\n",
       "                                           monotone_constraints=None,\n",
       "                                           n_estimators=100,...\n",
       "                                           reg_lambda=None,\n",
       "                                           scale_pos_weight=None,\n",
       "                                           subsample=None, tree_method=None,\n",
       "                                           validate_parameters=None,\n",
       "                                           verbosity=None),\n",
       "                   n_iter=20, n_jobs=-1,\n",
       "                   param_distributions={'learning_rate': [0.01, 0.015, 0.025,\n",
       "                                                          0.05, 0.1],\n",
       "                                        'max_depth': [3, 5, 7, 9, 12, 15, 17,\n",
       "                                                      25],\n",
       "                                        'min_child_weight': [1, 3, 5, 7],\n",
       "                                        'subsample': array([0.6, 0.7, 0.8, 0.9, 1. ])},\n",
       "                   return_train_score=True, scoring='accuracy', verbose=10)"
      ]
     },
     "execution_count": 11,
     "metadata": {},
     "output_type": "execute_result"
    }
   ],
   "source": [
    "xgb_clf = xgb.XGBClassifier()\n",
    "\n",
    "xgb_param_grid = {'learning_rate': [.01, .015, .025, .05, .1],\n",
    "#                   'Gamma': [.05, .1, .3, .5, .7, .9, 1],\n",
    "                  'max_depth': [3, 5, 7, 9, 12, 15, 17, 25],\n",
    "                  'min_child_weight': [1, 3, 5, 7],\n",
    "                  'subsample': np.linspace(0.6, 1, 5)}\n",
    "\n",
    "fit_params = {\"early_stopping_rounds\" : 20,\n",
    "             \"eval_metric\" : \"merror\",\n",
    "             \"eval_set\" : [(X_train, y_train), (X_val, y_val)]}\n",
    "\n",
    "# Create a random search object\n",
    "xgb_random = RandomizedSearchCV(estimator = xgb_clf,\n",
    "                                param_distributions = xgb_param_grid,\n",
    "                                n_iter = 20, # n_iters in param combinations\n",
    "                                scoring='accuracy',\n",
    "                                n_jobs=-1,\n",
    "                                cv = 5,\n",
    "                                refit=True,\n",
    "                                return_train_score = True,\n",
    "                                verbose=10)\n",
    "\n",
    "# Fit to the training data\n",
    "xgb_random.fit(X_train, y_train, **fit_params)"
   ]
  },
  {
   "cell_type": "code",
   "execution_count": 12,
   "metadata": {},
   "outputs": [],
   "source": [
    "pred_train = xgb_random.best_estimator_.predict(X_train)\n",
    "pred_val = xgb_random.best_estimator_.predict(X_val)\n",
    "pred_test = xgb_random.best_estimator_.predict(X_test)"
   ]
  },
  {
   "cell_type": "code",
   "execution_count": 13,
   "metadata": {},
   "outputs": [],
   "source": [
    "from sklearn.metrics import accuracy_score"
   ]
  },
  {
   "cell_type": "code",
   "execution_count": 14,
   "metadata": {},
   "outputs": [
    {
     "name": "stdout",
     "output_type": "stream",
     "text": [
      "0.9978041849651252\n",
      "0.8487040385774564\n",
      "0.8588516746411483\n"
     ]
    }
   ],
   "source": [
    "print(accuracy_score(y_train, pred_train))\n",
    "print(accuracy_score(y_val, pred_val))\n",
    "print(accuracy_score(y_test, pred_test))"
   ]
  },
  {
   "cell_type": "code",
   "execution_count": 15,
   "metadata": {},
   "outputs": [
    {
     "data": {
      "text/plain": [
       "XGBClassifier(base_score=0.5, booster='gbtree', colsample_bylevel=1,\n",
       "              colsample_bynode=1, colsample_bytree=1, gamma=0, gpu_id=-1,\n",
       "              importance_type='gain', interaction_constraints='',\n",
       "              learning_rate=0.1, max_delta_step=0, max_depth=17,\n",
       "              min_child_weight=5, missing=nan, monotone_constraints='()',\n",
       "              n_estimators=100, n_jobs=0, num_parallel_tree=1,\n",
       "              objective='multi:softprob', random_state=0, reg_alpha=0,\n",
       "              reg_lambda=1, scale_pos_weight=None, subsample=0.6,\n",
       "              tree_method='exact', validate_parameters=1, verbosity=None)"
      ]
     },
     "execution_count": 15,
     "metadata": {},
     "output_type": "execute_result"
    }
   ],
   "source": [
    "xgb_random.best_estimator_"
   ]
  },
  {
   "cell_type": "code",
   "execution_count": 16,
   "metadata": {},
   "outputs": [],
   "source": [
    "xgb_cv_result_df = pd.DataFrame(xgb_random.cv_results_)"
   ]
  },
  {
   "cell_type": "code",
   "execution_count": 17,
   "metadata": {},
   "outputs": [],
   "source": [
    "df_list = []\n",
    "for i in range(20):\n",
    "    df_list.append(pd.DataFrame([xgb_cv_result_df.loc[i, \"params\"]]))\n",
    "    \n",
    "xgb_param_table = pd.concat(df_list)"
   ]
  },
  {
   "cell_type": "code",
   "execution_count": 18,
   "metadata": {},
   "outputs": [],
   "source": [
    "xgb_param_table['mean_test_score'] = xgb_cv_result_df['mean_test_score'].values"
   ]
  },
  {
   "cell_type": "code",
   "execution_count": 19,
   "metadata": {},
   "outputs": [
    {
     "data": {
      "text/html": [
       "<div>\n",
       "<style scoped>\n",
       "    .dataframe tbody tr th:only-of-type {\n",
       "        vertical-align: middle;\n",
       "    }\n",
       "\n",
       "    .dataframe tbody tr th {\n",
       "        vertical-align: top;\n",
       "    }\n",
       "\n",
       "    .dataframe thead th {\n",
       "        text-align: right;\n",
       "    }\n",
       "</style>\n",
       "<table border=\"1\" class=\"dataframe\">\n",
       "  <thead>\n",
       "    <tr style=\"text-align: right;\">\n",
       "      <th></th>\n",
       "      <th>subsample</th>\n",
       "      <th>min_child_weight</th>\n",
       "      <th>max_depth</th>\n",
       "      <th>learning_rate</th>\n",
       "      <th>mean_test_score</th>\n",
       "    </tr>\n",
       "  </thead>\n",
       "  <tbody>\n",
       "    <tr>\n",
       "      <th>0</th>\n",
       "      <td>0.6</td>\n",
       "      <td>7</td>\n",
       "      <td>25</td>\n",
       "      <td>0.010</td>\n",
       "      <td>0.809864</td>\n",
       "    </tr>\n",
       "    <tr>\n",
       "      <th>0</th>\n",
       "      <td>0.8</td>\n",
       "      <td>5</td>\n",
       "      <td>9</td>\n",
       "      <td>0.015</td>\n",
       "      <td>0.812836</td>\n",
       "    </tr>\n",
       "    <tr>\n",
       "      <th>0</th>\n",
       "      <td>1.0</td>\n",
       "      <td>3</td>\n",
       "      <td>9</td>\n",
       "      <td>0.015</td>\n",
       "      <td>0.814126</td>\n",
       "    </tr>\n",
       "    <tr>\n",
       "      <th>0</th>\n",
       "      <td>1.0</td>\n",
       "      <td>7</td>\n",
       "      <td>12</td>\n",
       "      <td>0.015</td>\n",
       "      <td>0.814644</td>\n",
       "    </tr>\n",
       "    <tr>\n",
       "      <th>0</th>\n",
       "      <td>0.9</td>\n",
       "      <td>1</td>\n",
       "      <td>25</td>\n",
       "      <td>0.010</td>\n",
       "      <td>0.816452</td>\n",
       "    </tr>\n",
       "    <tr>\n",
       "      <th>0</th>\n",
       "      <td>0.9</td>\n",
       "      <td>3</td>\n",
       "      <td>12</td>\n",
       "      <td>0.010</td>\n",
       "      <td>0.816838</td>\n",
       "    </tr>\n",
       "    <tr>\n",
       "      <th>0</th>\n",
       "      <td>1.0</td>\n",
       "      <td>5</td>\n",
       "      <td>15</td>\n",
       "      <td>0.025</td>\n",
       "      <td>0.817744</td>\n",
       "    </tr>\n",
       "    <tr>\n",
       "      <th>0</th>\n",
       "      <td>1.0</td>\n",
       "      <td>7</td>\n",
       "      <td>12</td>\n",
       "      <td>0.025</td>\n",
       "      <td>0.818001</td>\n",
       "    </tr>\n",
       "    <tr>\n",
       "      <th>0</th>\n",
       "      <td>0.7</td>\n",
       "      <td>1</td>\n",
       "      <td>7</td>\n",
       "      <td>0.010</td>\n",
       "      <td>0.820068</td>\n",
       "    </tr>\n",
       "    <tr>\n",
       "      <th>0</th>\n",
       "      <td>0.7</td>\n",
       "      <td>3</td>\n",
       "      <td>12</td>\n",
       "      <td>0.010</td>\n",
       "      <td>0.820714</td>\n",
       "    </tr>\n",
       "    <tr>\n",
       "      <th>0</th>\n",
       "      <td>0.7</td>\n",
       "      <td>3</td>\n",
       "      <td>7</td>\n",
       "      <td>0.015</td>\n",
       "      <td>0.823168</td>\n",
       "    </tr>\n",
       "    <tr>\n",
       "      <th>0</th>\n",
       "      <td>0.6</td>\n",
       "      <td>7</td>\n",
       "      <td>15</td>\n",
       "      <td>0.025</td>\n",
       "      <td>0.826529</td>\n",
       "    </tr>\n",
       "    <tr>\n",
       "      <th>0</th>\n",
       "      <td>0.9</td>\n",
       "      <td>1</td>\n",
       "      <td>25</td>\n",
       "      <td>0.025</td>\n",
       "      <td>0.828077</td>\n",
       "    </tr>\n",
       "    <tr>\n",
       "      <th>0</th>\n",
       "      <td>0.8</td>\n",
       "      <td>1</td>\n",
       "      <td>7</td>\n",
       "      <td>0.050</td>\n",
       "      <td>0.828722</td>\n",
       "    </tr>\n",
       "    <tr>\n",
       "      <th>0</th>\n",
       "      <td>0.7</td>\n",
       "      <td>5</td>\n",
       "      <td>9</td>\n",
       "      <td>0.025</td>\n",
       "      <td>0.829755</td>\n",
       "    </tr>\n",
       "    <tr>\n",
       "      <th>0</th>\n",
       "      <td>0.9</td>\n",
       "      <td>5</td>\n",
       "      <td>15</td>\n",
       "      <td>0.050</td>\n",
       "      <td>0.834534</td>\n",
       "    </tr>\n",
       "    <tr>\n",
       "      <th>0</th>\n",
       "      <td>0.9</td>\n",
       "      <td>5</td>\n",
       "      <td>7</td>\n",
       "      <td>0.050</td>\n",
       "      <td>0.835180</td>\n",
       "    </tr>\n",
       "    <tr>\n",
       "      <th>0</th>\n",
       "      <td>0.6</td>\n",
       "      <td>3</td>\n",
       "      <td>7</td>\n",
       "      <td>0.050</td>\n",
       "      <td>0.835696</td>\n",
       "    </tr>\n",
       "    <tr>\n",
       "      <th>0</th>\n",
       "      <td>0.6</td>\n",
       "      <td>1</td>\n",
       "      <td>5</td>\n",
       "      <td>0.100</td>\n",
       "      <td>0.848615</td>\n",
       "    </tr>\n",
       "    <tr>\n",
       "      <th>0</th>\n",
       "      <td>0.6</td>\n",
       "      <td>5</td>\n",
       "      <td>17</td>\n",
       "      <td>0.100</td>\n",
       "      <td>0.851585</td>\n",
       "    </tr>\n",
       "  </tbody>\n",
       "</table>\n",
       "</div>"
      ],
      "text/plain": [
       "   subsample  min_child_weight  max_depth  learning_rate  mean_test_score\n",
       "0        0.6                 7         25          0.010         0.809864\n",
       "0        0.8                 5          9          0.015         0.812836\n",
       "0        1.0                 3          9          0.015         0.814126\n",
       "0        1.0                 7         12          0.015         0.814644\n",
       "0        0.9                 1         25          0.010         0.816452\n",
       "0        0.9                 3         12          0.010         0.816838\n",
       "0        1.0                 5         15          0.025         0.817744\n",
       "0        1.0                 7         12          0.025         0.818001\n",
       "0        0.7                 1          7          0.010         0.820068\n",
       "0        0.7                 3         12          0.010         0.820714\n",
       "0        0.7                 3          7          0.015         0.823168\n",
       "0        0.6                 7         15          0.025         0.826529\n",
       "0        0.9                 1         25          0.025         0.828077\n",
       "0        0.8                 1          7          0.050         0.828722\n",
       "0        0.7                 5          9          0.025         0.829755\n",
       "0        0.9                 5         15          0.050         0.834534\n",
       "0        0.9                 5          7          0.050         0.835180\n",
       "0        0.6                 3          7          0.050         0.835696\n",
       "0        0.6                 1          5          0.100         0.848615\n",
       "0        0.6                 5         17          0.100         0.851585"
      ]
     },
     "execution_count": 19,
     "metadata": {},
     "output_type": "execute_result"
    }
   ],
   "source": [
    "xgb_param_table.sort_values(by='mean_test_score', axis=0)"
   ]
  }
 ],
 "metadata": {
  "kernelspec": {
   "display_name": "Python 3",
   "language": "python",
   "name": "python3"
  },
  "language_info": {
   "codemirror_mode": {
    "name": "ipython",
    "version": 3
   },
   "file_extension": ".py",
   "mimetype": "text/x-python",
   "name": "python",
   "nbconvert_exporter": "python",
   "pygments_lexer": "ipython3",
   "version": "3.6.9"
  }
 },
 "nbformat": 4,
 "nbformat_minor": 4
}
