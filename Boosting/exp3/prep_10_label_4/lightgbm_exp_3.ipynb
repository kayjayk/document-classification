{
 "cells": [
  {
   "cell_type": "markdown",
   "metadata": {},
   "source": [
    "## Data Handling"
   ]
  },
  {
   "cell_type": "code",
   "execution_count": 2,
   "metadata": {},
   "outputs": [],
   "source": [
    "from sklearn.feature_extraction.text import TfidfVectorizer\n",
    "from sklearn.metrics import accuracy_score\n",
    "import pandas as pd\n",
    "import numpy as np\n",
    "import pickle\n",
    "import matplotlib\n",
    "import matplotlib.font_manager as fm\n",
    "import matplotlib.pyplot as plt\n",
    "np.random.seed(4444)"
   ]
  },
  {
   "cell_type": "code",
   "execution_count": 6,
   "metadata": {},
   "outputs": [
    {
     "data": {
      "text/html": [
       "<div>\n",
       "<style scoped>\n",
       "    .dataframe tbody tr th:only-of-type {\n",
       "        vertical-align: middle;\n",
       "    }\n",
       "\n",
       "    .dataframe tbody tr th {\n",
       "        vertical-align: top;\n",
       "    }\n",
       "\n",
       "    .dataframe thead th {\n",
       "        text-align: right;\n",
       "    }\n",
       "</style>\n",
       "<table border=\"1\" class=\"dataframe\">\n",
       "  <thead>\n",
       "    <tr style=\"text-align: right;\">\n",
       "      <th></th>\n",
       "      <th>file_name</th>\n",
       "      <th>raw_text</th>\n",
       "      <th>dataset_n</th>\n",
       "      <th>label_1</th>\n",
       "      <th>label_2</th>\n",
       "      <th>label_3</th>\n",
       "      <th>label_4</th>\n",
       "      <th>train_val_test</th>\n",
       "      <th>prep_v10_text</th>\n",
       "    </tr>\n",
       "  </thead>\n",
       "  <tbody>\n",
       "    <tr>\n",
       "      <th>0</th>\n",
       "      <td>D1512065.txt</td>\n",
       "      <td>보 도 자 료\\nhttp://www.motie.go.kr 2015년 12월28일(월...</td>\n",
       "      <td>0</td>\n",
       "      <td>0</td>\n",
       "      <td>0</td>\n",
       "      <td>0</td>\n",
       "      <td>0</td>\n",
       "      <td>0</td>\n",
       "      <td>가능N 국가N 기술N 표준원N 기술N 규제N 조정N 오광N 과장N 연구사N 기업N ...</td>\n",
       "    </tr>\n",
       "    <tr>\n",
       "      <th>1</th>\n",
       "      <td>R2002420.txt</td>\n",
       "      <td>보 도 자 료 작성과 공공데이터정책과\\n2020년 2월 13일(목) 조간 (2. 1...</td>\n",
       "      <td>0</td>\n",
       "      <td>0</td>\n",
       "      <td>0</td>\n",
       "      <td>0</td>\n",
       "      <td>0</td>\n",
       "      <td>0</td>\n",
       "      <td>공공N 데이터N 정책N 이후N 남호N 공공N 데이터N 청년N 인턴N 참가N 청년N ...</td>\n",
       "    </tr>\n",
       "    <tr>\n",
       "      <th>2</th>\n",
       "      <td>R2002370.txt</td>\n",
       "      <td>2020년 2월 11일(화) 석간부터 보도하여 주시기 바랍니다. * 통신․방송․인터...</td>\n",
       "      <td>0</td>\n",
       "      <td>0</td>\n",
       "      <td>0</td>\n",
       "      <td>0</td>\n",
       "      <td>0</td>\n",
       "      <td>0</td>\n",
       "      <td>가능N 벤처N 투자N 과장N 벤처N 혁신N 정책N 과장N 벤처N 생태N 민간N 중심...</td>\n",
       "    </tr>\n",
       "    <tr>\n",
       "      <th>3</th>\n",
       "      <td>R2004373.txt</td>\n",
       "      <td>보도참고자료\\nhttp://www.motie.go.kr 배포 즉시 보도하여 주시기 ...</td>\n",
       "      <td>0</td>\n",
       "      <td>0</td>\n",
       "      <td>0</td>\n",
       "      <td>0</td>\n",
       "      <td>0</td>\n",
       "      <td>0</td>\n",
       "      <td>즉시N 기정N 통부N 연구N 개발N 정책N 판식N 정보N 기술N 정책N 연구N 제도...</td>\n",
       "    </tr>\n",
       "    <tr>\n",
       "      <th>4</th>\n",
       "      <td>D1506066.txt</td>\n",
       "      <td>보 도 자 료\\n보도일시 2015. 6. 12.(금) 조간(온라인 6. 11. 12...</td>\n",
       "      <td>0</td>\n",
       "      <td>0</td>\n",
       "      <td>0</td>\n",
       "      <td>0</td>\n",
       "      <td>0</td>\n",
       "      <td>0</td>\n",
       "      <td>온라인N 이후N 디지털N 정책N 과장N 지운N 스마트미디어N 엑스N 캠프N 신규N ...</td>\n",
       "    </tr>\n",
       "  </tbody>\n",
       "</table>\n",
       "</div>"
      ],
      "text/plain": [
       "      file_name                                           raw_text  dataset_n  \\\n",
       "0  D1512065.txt  보 도 자 료\\nhttp://www.motie.go.kr 2015년 12월28일(월...          0   \n",
       "1  R2002420.txt  보 도 자 료 작성과 공공데이터정책과\\n2020년 2월 13일(목) 조간 (2. 1...          0   \n",
       "2  R2002370.txt  2020년 2월 11일(화) 석간부터 보도하여 주시기 바랍니다. * 통신․방송․인터...          0   \n",
       "3  R2004373.txt  보도참고자료\\nhttp://www.motie.go.kr 배포 즉시 보도하여 주시기 ...          0   \n",
       "4  D1506066.txt  보 도 자 료\\n보도일시 2015. 6. 12.(금) 조간(온라인 6. 11. 12...          0   \n",
       "\n",
       "   label_1  label_2  label_3  label_4  train_val_test  \\\n",
       "0        0        0        0        0               0   \n",
       "1        0        0        0        0               0   \n",
       "2        0        0        0        0               0   \n",
       "3        0        0        0        0               0   \n",
       "4        0        0        0        0               0   \n",
       "\n",
       "                                       prep_v10_text  \n",
       "0  가능N 국가N 기술N 표준원N 기술N 규제N 조정N 오광N 과장N 연구사N 기업N ...  \n",
       "1  공공N 데이터N 정책N 이후N 남호N 공공N 데이터N 청년N 인턴N 참가N 청년N ...  \n",
       "2  가능N 벤처N 투자N 과장N 벤처N 혁신N 정책N 과장N 벤처N 생태N 민간N 중심...  \n",
       "3  즉시N 기정N 통부N 연구N 개발N 정책N 판식N 정보N 기술N 정책N 연구N 제도...  \n",
       "4  온라인N 이후N 디지털N 정책N 과장N 지운N 스마트미디어N 엑스N 캠프N 신규N ...  "
      ]
     },
     "execution_count": 6,
     "metadata": {},
     "output_type": "execute_result"
    }
   ],
   "source": [
    "df = pd.read_csv('../../../../../../jaeyeun/01_nh_poc/16_re_label/split_70_15_15_re_3_prep_v10.csv')\n",
    "\n",
    "df.head()"
   ]
  },
  {
   "cell_type": "markdown",
   "metadata": {},
   "source": [
    "* exp3 combination & label_4"
   ]
  },
  {
   "cell_type": "code",
   "execution_count": 7,
   "metadata": {},
   "outputs": [],
   "source": [
    "X_train_df = df[df['train_val_test'] == 0]\n",
    "X_val_df = df[df['train_val_test'] == 1]\n",
    "X_test_df = df[df['train_val_test'] == 2]\n",
    "y_train = df[df['train_val_test'] == 0]['label_4']\n",
    "y_val = df[df['train_val_test'] == 1]['label_4']\n",
    "y_test = df[df['train_val_test'] == 2]['label_4']"
   ]
  },
  {
   "cell_type": "code",
   "execution_count": 8,
   "metadata": {},
   "outputs": [
    {
     "name": "stdout",
     "output_type": "stream",
     "text": [
      "(7741, 9)\n",
      "(1663, 9)\n",
      "(1669, 9)\n",
      "(7741,)\n",
      "(1663,)\n",
      "(1669,)\n"
     ]
    }
   ],
   "source": [
    "print(X_train_df.shape)\n",
    "print(X_val_df.shape)\n",
    "print(X_test_df.shape)\n",
    "print(y_train.shape)\n",
    "print(y_val.shape)\n",
    "print(y_test.shape)"
   ]
  },
  {
   "cell_type": "code",
   "execution_count": 9,
   "metadata": {},
   "outputs": [],
   "source": [
    "n_features = 100000\n",
    "tfidf_vectorizer = TfidfVectorizer(\n",
    "    max_df=0.9, # 0.9 만큼의 문서 이상에서 나오면 거른다.\n",
    "    min_df=5, # 5개 미만의 문서에서 나오면 거른다.\n",
    "    sublinear_tf = True, # tf value를 완만하게 처리 (outlier 처리 효과)\n",
    "    ngram_range = (1, 3),\n",
    "    max_features=n_features)"
   ]
  },
  {
   "cell_type": "markdown",
   "metadata": {},
   "source": [
    "* data is 'prep_v10_text'"
   ]
  },
  {
   "cell_type": "code",
   "execution_count": 10,
   "metadata": {},
   "outputs": [],
   "source": [
    "X_train_tfidf = tfidf_vectorizer.fit(X_train_df['prep_v10_text'])\n",
    "# X_test_tfidf = tfidf_vectorizer.fit_transform(prep_text_test)\n",
    "# X_test_hash = hash_vectorizer.fit_transform(prep_text_test)"
   ]
  },
  {
   "cell_type": "code",
   "execution_count": 11,
   "metadata": {},
   "outputs": [],
   "source": [
    "X_train = X_train_tfidf.transform(X_train_df['prep_v10_text'])\n",
    "X_val = X_train_tfidf.transform(X_val_df['prep_v10_text'])\n",
    "X_test = X_train_tfidf.transform(X_test_df['prep_v10_text'])"
   ]
  },
  {
   "cell_type": "code",
   "execution_count": 12,
   "metadata": {},
   "outputs": [
    {
     "name": "stdout",
     "output_type": "stream",
     "text": [
      "(7741, 100000)\n",
      "(1663, 100000)\n",
      "(1669, 100000)\n"
     ]
    }
   ],
   "source": [
    "print(X_train.shape)\n",
    "print(X_val.shape)\n",
    "print(X_test.shape)"
   ]
  },
  {
   "cell_type": "markdown",
   "metadata": {},
   "source": [
    "## Classify"
   ]
  },
  {
   "cell_type": "markdown",
   "metadata": {},
   "source": [
    "* learn by LightGBM RandomSearch"
   ]
  },
  {
   "cell_type": "code",
   "execution_count": 25,
   "metadata": {},
   "outputs": [],
   "source": [
    "from sklearn.model_selection import RandomizedSearchCV\n",
    "import lightgbm as lgbm"
   ]
  },
  {
   "cell_type": "code",
   "execution_count": 11,
   "metadata": {
    "collapsed": true,
    "jupyter": {
     "outputs_hidden": true
    }
   },
   "outputs": [
    {
     "name": "stdout",
     "output_type": "stream",
     "text": [
      "Fitting 5 folds for each of 20 candidates, totalling 100 fits\n"
     ]
    },
    {
     "name": "stderr",
     "output_type": "stream",
     "text": [
      "[Parallel(n_jobs=64)]: Using backend LokyBackend with 64 concurrent workers.\n",
      "[Parallel(n_jobs=64)]: Done   6 out of 100 | elapsed: 16.8min remaining: 263.2min\n",
      "[Parallel(n_jobs=64)]: Done  17 out of 100 | elapsed: 22.3min remaining: 109.1min\n",
      "[Parallel(n_jobs=64)]: Done  28 out of 100 | elapsed: 24.9min remaining: 64.1min\n",
      "[Parallel(n_jobs=64)]: Done  39 out of 100 | elapsed: 32.1min remaining: 50.1min\n",
      "[Parallel(n_jobs=64)]: Done  50 out of 100 | elapsed: 39.5min remaining: 39.5min\n",
      "[Parallel(n_jobs=64)]: Done  61 out of 100 | elapsed: 41.1min remaining: 26.3min\n",
      "[Parallel(n_jobs=64)]: Done  72 out of 100 | elapsed: 43.2min remaining: 16.8min\n",
      "[Parallel(n_jobs=64)]: Done  83 out of 100 | elapsed: 47.0min remaining:  9.6min\n",
      "[Parallel(n_jobs=64)]: Done  94 out of 100 | elapsed: 49.3min remaining:  3.1min\n",
      "[Parallel(n_jobs=64)]: Done 100 out of 100 | elapsed: 55.4min finished\n"
     ]
    },
    {
     "name": "stdout",
     "output_type": "stream",
     "text": [
      "[1]\ttraining's multi_error: 0.354864\ttraining's multi_logloss: 1.94718\tvalid_1's multi_error: 0.398677\tvalid_1's multi_logloss: 1.97064\n",
      "Training until validation scores don't improve for 20 rounds\n",
      "[2]\ttraining's multi_error: 0.201395\ttraining's multi_logloss: 1.73006\tvalid_1's multi_error: 0.255562\tvalid_1's multi_logloss: 1.76992\n",
      "[3]\ttraining's multi_error: 0.154631\ttraining's multi_logloss: 1.56097\tvalid_1's multi_error: 0.217078\tvalid_1's multi_logloss: 1.61779\n",
      "[4]\ttraining's multi_error: 0.132283\ttraining's multi_logloss: 1.42156\tvalid_1's multi_error: 0.19543\tvalid_1's multi_logloss: 1.49294\n",
      "[5]\ttraining's multi_error: 0.119623\ttraining's multi_logloss: 1.30372\tvalid_1's multi_error: 0.190018\tvalid_1's multi_logloss: 1.38774\n",
      "[6]\ttraining's multi_error: 0.111484\ttraining's multi_logloss: 1.2008\tvalid_1's multi_error: 0.185207\tvalid_1's multi_logloss: 1.29681\n",
      "[7]\ttraining's multi_error: 0.1058\ttraining's multi_logloss: 1.11157\tvalid_1's multi_error: 0.184606\tvalid_1's multi_logloss: 1.21814\n",
      "[8]\ttraining's multi_error: 0.10115\ttraining's multi_logloss: 1.0325\tvalid_1's multi_error: 0.179194\tvalid_1's multi_logloss: 1.14988\n",
      "[9]\ttraining's multi_error: 0.0957241\ttraining's multi_logloss: 0.962051\tvalid_1's multi_error: 0.180397\tvalid_1's multi_logloss: 1.0891\n",
      "[10]\ttraining's multi_error: 0.0897817\ttraining's multi_logloss: 0.899775\tvalid_1's multi_error: 0.179796\tvalid_1's multi_logloss: 1.03547\n",
      "[11]\ttraining's multi_error: 0.0873272\ttraining's multi_logloss: 0.843477\tvalid_1's multi_error: 0.177992\tvalid_1's multi_logloss: 0.985642\n",
      "[12]\ttraining's multi_error: 0.0838393\ttraining's multi_logloss: 0.792913\tvalid_1's multi_error: 0.174384\tvalid_1's multi_logloss: 0.94303\n",
      "[13]\ttraining's multi_error: 0.0789304\ttraining's multi_logloss: 0.745726\tvalid_1's multi_error: 0.171377\tvalid_1's multi_logloss: 0.903533\n",
      "[14]\ttraining's multi_error: 0.0759592\ttraining's multi_logloss: 0.703593\tvalid_1's multi_error: 0.171978\tvalid_1's multi_logloss: 0.869316\n",
      "[15]\ttraining's multi_error: 0.0731172\ttraining's multi_logloss: 0.664102\tvalid_1's multi_error: 0.16837\tvalid_1's multi_logloss: 0.836487\n",
      "[16]\ttraining's multi_error: 0.0704043\ttraining's multi_logloss: 0.627736\tvalid_1's multi_error: 0.167769\tvalid_1's multi_logloss: 0.80756\n",
      "[17]\ttraining's multi_error: 0.0684666\ttraining's multi_logloss: 0.593914\tvalid_1's multi_error: 0.167168\tvalid_1's multi_logloss: 0.780802\n",
      "[18]\ttraining's multi_error: 0.0653662\ttraining's multi_logloss: 0.563253\tvalid_1's multi_error: 0.165965\tvalid_1's multi_logloss: 0.755965\n",
      "[19]\ttraining's multi_error: 0.0632993\ttraining's multi_logloss: 0.534853\tvalid_1's multi_error: 0.16356\tvalid_1's multi_logloss: 0.732516\n",
      "[20]\ttraining's multi_error: 0.0596822\ttraining's multi_logloss: 0.508759\tvalid_1's multi_error: 0.161756\tvalid_1's multi_logloss: 0.711391\n",
      "[21]\ttraining's multi_error: 0.0573569\ttraining's multi_logloss: 0.484631\tvalid_1's multi_error: 0.161756\tvalid_1's multi_logloss: 0.692177\n",
      "[22]\ttraining's multi_error: 0.0547733\ttraining's multi_logloss: 0.462074\tvalid_1's multi_error: 0.160553\tvalid_1's multi_logloss: 0.673826\n",
      "[23]\ttraining's multi_error: 0.0523188\ttraining's multi_logloss: 0.440372\tvalid_1's multi_error: 0.161756\tvalid_1's multi_logloss: 0.656163\n",
      "[24]\ttraining's multi_error: 0.0502519\ttraining's multi_logloss: 0.420648\tvalid_1's multi_error: 0.161756\tvalid_1's multi_logloss: 0.640414\n",
      "[25]\ttraining's multi_error: 0.0485725\ttraining's multi_logloss: 0.402057\tvalid_1's multi_error: 0.161155\tvalid_1's multi_logloss: 0.625904\n",
      "[26]\ttraining's multi_error: 0.0470223\ttraining's multi_logloss: 0.385051\tvalid_1's multi_error: 0.161155\tvalid_1's multi_logloss: 0.611976\n",
      "[27]\ttraining's multi_error: 0.0459889\ttraining's multi_logloss: 0.368439\tvalid_1's multi_error: 0.160553\tvalid_1's multi_logloss: 0.599205\n",
      "[28]\ttraining's multi_error: 0.0428885\ttraining's multi_logloss: 0.352977\tvalid_1's multi_error: 0.159351\tvalid_1's multi_logloss: 0.5883\n",
      "[29]\ttraining's multi_error: 0.04108\ttraining's multi_logloss: 0.338962\tvalid_1's multi_error: 0.156945\tvalid_1's multi_logloss: 0.57772\n",
      "[30]\ttraining's multi_error: 0.0392714\ttraining's multi_logloss: 0.325531\tvalid_1's multi_error: 0.151533\tvalid_1's multi_logloss: 0.567217\n",
      "[31]\ttraining's multi_error: 0.037592\ttraining's multi_logloss: 0.312636\tvalid_1's multi_error: 0.153337\tvalid_1's multi_logloss: 0.557584\n",
      "[32]\ttraining's multi_error: 0.036171\ttraining's multi_logloss: 0.300808\tvalid_1's multi_error: 0.152736\tvalid_1's multi_logloss: 0.5484\n",
      "[33]\ttraining's multi_error: 0.0337166\ttraining's multi_logloss: 0.289911\tvalid_1's multi_error: 0.150331\tvalid_1's multi_logloss: 0.539998\n",
      "[34]\ttraining's multi_error: 0.0329415\ttraining's multi_logloss: 0.279017\tvalid_1's multi_error: 0.149128\tvalid_1's multi_logloss: 0.532057\n",
      "[35]\ttraining's multi_error: 0.0320372\ttraining's multi_logloss: 0.268954\tvalid_1's multi_error: 0.150932\tvalid_1's multi_logloss: 0.525129\n",
      "[36]\ttraining's multi_error: 0.030487\ttraining's multi_logloss: 0.259225\tvalid_1's multi_error: 0.149128\tvalid_1's multi_logloss: 0.518198\n",
      "[37]\ttraining's multi_error: 0.0299703\ttraining's multi_logloss: 0.250367\tvalid_1's multi_error: 0.149128\tvalid_1's multi_logloss: 0.512072\n",
      "[38]\ttraining's multi_error: 0.0288076\ttraining's multi_logloss: 0.241847\tvalid_1's multi_error: 0.149729\tvalid_1's multi_logloss: 0.505679\n",
      "[39]\ttraining's multi_error: 0.0282909\ttraining's multi_logloss: 0.233559\tvalid_1's multi_error: 0.14552\tvalid_1's multi_logloss: 0.49969\n",
      "[40]\ttraining's multi_error: 0.0279034\ttraining's multi_logloss: 0.226458\tvalid_1's multi_error: 0.144919\tvalid_1's multi_logloss: 0.494245\n",
      "[41]\ttraining's multi_error: 0.0266115\ttraining's multi_logloss: 0.218965\tvalid_1's multi_error: 0.14552\tvalid_1's multi_logloss: 0.489263\n",
      "[42]\ttraining's multi_error: 0.0259656\ttraining's multi_logloss: 0.212389\tvalid_1's multi_error: 0.144919\tvalid_1's multi_logloss: 0.484607\n",
      "[43]\ttraining's multi_error: 0.0245446\ttraining's multi_logloss: 0.205437\tvalid_1's multi_error: 0.14552\tvalid_1's multi_logloss: 0.480963\n",
      "[44]\ttraining's multi_error: 0.0235112\ttraining's multi_logloss: 0.199287\tvalid_1's multi_error: 0.144919\tvalid_1's multi_logloss: 0.476539\n",
      "[45]\ttraining's multi_error: 0.0220902\ttraining's multi_logloss: 0.193274\tvalid_1's multi_error: 0.143716\tvalid_1's multi_logloss: 0.4721\n",
      "[46]\ttraining's multi_error: 0.0215734\ttraining's multi_logloss: 0.187781\tvalid_1's multi_error: 0.142514\tvalid_1's multi_logloss: 0.467942\n",
      "[47]\ttraining's multi_error: 0.0214443\ttraining's multi_logloss: 0.182278\tvalid_1's multi_error: 0.142514\tvalid_1's multi_logloss: 0.464249\n",
      "[48]\ttraining's multi_error: 0.02054\ttraining's multi_logloss: 0.17667\tvalid_1's multi_error: 0.140108\tvalid_1's multi_logloss: 0.46046\n",
      "[49]\ttraining's multi_error: 0.0197649\ttraining's multi_logloss: 0.171719\tvalid_1's multi_error: 0.138304\tvalid_1's multi_logloss: 0.456258\n",
      "[50]\ttraining's multi_error: 0.0188606\ttraining's multi_logloss: 0.167141\tvalid_1's multi_error: 0.138906\tvalid_1's multi_logloss: 0.45377\n",
      "[51]\ttraining's multi_error: 0.0180855\ttraining's multi_logloss: 0.162144\tvalid_1's multi_error: 0.1365\tvalid_1's multi_logloss: 0.450962\n",
      "[52]\ttraining's multi_error: 0.0170521\ttraining's multi_logloss: 0.158039\tvalid_1's multi_error: 0.1365\tvalid_1's multi_logloss: 0.448349\n",
      "[53]\ttraining's multi_error: 0.0165353\ttraining's multi_logloss: 0.153823\tvalid_1's multi_error: 0.135298\tvalid_1's multi_logloss: 0.445454\n",
      "[54]\ttraining's multi_error: 0.0165353\ttraining's multi_logloss: 0.150151\tvalid_1's multi_error: 0.134095\tvalid_1's multi_logloss: 0.44287\n",
      "[55]\ttraining's multi_error: 0.0160186\ttraining's multi_logloss: 0.146227\tvalid_1's multi_error: 0.134696\tvalid_1's multi_logloss: 0.440648\n",
      "[56]\ttraining's multi_error: 0.0152435\ttraining's multi_logloss: 0.142889\tvalid_1's multi_error: 0.134095\tvalid_1's multi_logloss: 0.438654\n",
      "[57]\ttraining's multi_error: 0.0144684\ttraining's multi_logloss: 0.139288\tvalid_1's multi_error: 0.134696\tvalid_1's multi_logloss: 0.436317\n",
      "[58]\ttraining's multi_error: 0.0139517\ttraining's multi_logloss: 0.136169\tvalid_1's multi_error: 0.134696\tvalid_1's multi_logloss: 0.434313\n",
      "[59]\ttraining's multi_error: 0.0135641\ttraining's multi_logloss: 0.133225\tvalid_1's multi_error: 0.134696\tvalid_1's multi_logloss: 0.432213\n",
      "[60]\ttraining's multi_error: 0.012789\ttraining's multi_logloss: 0.130242\tvalid_1's multi_error: 0.132892\tvalid_1's multi_logloss: 0.430029\n",
      "[61]\ttraining's multi_error: 0.0118848\ttraining's multi_logloss: 0.12732\tvalid_1's multi_error: 0.133494\tvalid_1's multi_logloss: 0.428177\n",
      "[62]\ttraining's multi_error: 0.0112389\ttraining's multi_logloss: 0.124523\tvalid_1's multi_error: 0.134095\tvalid_1's multi_logloss: 0.426517\n",
      "[63]\ttraining's multi_error: 0.0108513\ttraining's multi_logloss: 0.12188\tvalid_1's multi_error: 0.132892\tvalid_1's multi_logloss: 0.425019\n",
      "[64]\ttraining's multi_error: 0.0102054\ttraining's multi_logloss: 0.119224\tvalid_1's multi_error: 0.13169\tvalid_1's multi_logloss: 0.423147\n",
      "[65]\ttraining's multi_error: 0.00981785\ttraining's multi_logloss: 0.116665\tvalid_1's multi_error: 0.130487\tvalid_1's multi_logloss: 0.420838\n",
      "[66]\ttraining's multi_error: 0.00917194\ttraining's multi_logloss: 0.114354\tvalid_1's multi_error: 0.130487\tvalid_1's multi_logloss: 0.419611\n",
      "[67]\ttraining's multi_error: 0.00878439\ttraining's multi_logloss: 0.112205\tvalid_1's multi_error: 0.129886\tvalid_1's multi_logloss: 0.418019\n",
      "[68]\ttraining's multi_error: 0.00852603\ttraining's multi_logloss: 0.10998\tvalid_1's multi_error: 0.129886\tvalid_1's multi_logloss: 0.416122\n",
      "[69]\ttraining's multi_error: 0.00852603\ttraining's multi_logloss: 0.107813\tvalid_1's multi_error: 0.129284\tvalid_1's multi_logloss: 0.414729\n",
      "[70]\ttraining's multi_error: 0.00826767\ttraining's multi_logloss: 0.105678\tvalid_1's multi_error: 0.129886\tvalid_1's multi_logloss: 0.413412\n",
      "[71]\ttraining's multi_error: 0.00788012\ttraining's multi_logloss: 0.103586\tvalid_1's multi_error: 0.129284\tvalid_1's multi_logloss: 0.41202\n",
      "[72]\ttraining's multi_error: 0.00697584\ttraining's multi_logloss: 0.101418\tvalid_1's multi_error: 0.128683\tvalid_1's multi_logloss: 0.410603\n",
      "[73]\ttraining's multi_error: 0.00697584\ttraining's multi_logloss: 0.0994638\tvalid_1's multi_error: 0.128683\tvalid_1's multi_logloss: 0.409363\n",
      "[74]\ttraining's multi_error: 0.00671748\ttraining's multi_logloss: 0.0976435\tvalid_1's multi_error: 0.128683\tvalid_1's multi_logloss: 0.408144\n",
      "[75]\ttraining's multi_error: 0.00645911\ttraining's multi_logloss: 0.0957838\tvalid_1's multi_error: 0.129284\tvalid_1's multi_logloss: 0.407522\n",
      "[76]\ttraining's multi_error: 0.0058132\ttraining's multi_logloss: 0.0941231\tvalid_1's multi_error: 0.128683\tvalid_1's multi_logloss: 0.406891\n",
      "[77]\ttraining's multi_error: 0.00555484\ttraining's multi_logloss: 0.092392\tvalid_1's multi_error: 0.129284\tvalid_1's multi_logloss: 0.40535\n",
      "[78]\ttraining's multi_error: 0.00542566\ttraining's multi_logloss: 0.0908053\tvalid_1's multi_error: 0.129886\tvalid_1's multi_logloss: 0.404954\n",
      "[79]\ttraining's multi_error: 0.00542566\ttraining's multi_logloss: 0.0891782\tvalid_1's multi_error: 0.128683\tvalid_1's multi_logloss: 0.404201\n",
      "[80]\ttraining's multi_error: 0.00529647\ttraining's multi_logloss: 0.0877285\tvalid_1's multi_error: 0.129284\tvalid_1's multi_logloss: 0.403459\n",
      "[81]\ttraining's multi_error: 0.00516729\ttraining's multi_logloss: 0.086251\tvalid_1's multi_error: 0.13169\tvalid_1's multi_logloss: 0.402738\n",
      "[82]\ttraining's multi_error: 0.00465056\ttraining's multi_logloss: 0.0846665\tvalid_1's multi_error: 0.130487\tvalid_1's multi_logloss: 0.401808\n",
      "[83]\ttraining's multi_error: 0.00465056\ttraining's multi_logloss: 0.0831885\tvalid_1's multi_error: 0.129886\tvalid_1's multi_logloss: 0.401039\n",
      "[84]\ttraining's multi_error: 0.00465056\ttraining's multi_logloss: 0.0818635\tvalid_1's multi_error: 0.128683\tvalid_1's multi_logloss: 0.400471\n",
      "[85]\ttraining's multi_error: 0.00400465\ttraining's multi_logloss: 0.0805932\tvalid_1's multi_error: 0.129284\tvalid_1's multi_logloss: 0.399889\n",
      "[86]\ttraining's multi_error: 0.00374629\ttraining's multi_logloss: 0.0792884\tvalid_1's multi_error: 0.128082\tvalid_1's multi_logloss: 0.398854\n",
      "[87]\ttraining's multi_error: 0.00348792\ttraining's multi_logloss: 0.0780308\tvalid_1's multi_error: 0.128683\tvalid_1's multi_logloss: 0.39859\n",
      "[88]\ttraining's multi_error: 0.00348792\ttraining's multi_logloss: 0.0768637\tvalid_1's multi_error: 0.125676\tvalid_1's multi_logloss: 0.397982\n",
      "[89]\ttraining's multi_error: 0.00322956\ttraining's multi_logloss: 0.0756586\tvalid_1's multi_error: 0.128082\tvalid_1's multi_logloss: 0.397744\n",
      "[90]\ttraining's multi_error: 0.00322956\ttraining's multi_logloss: 0.074447\tvalid_1's multi_error: 0.128683\tvalid_1's multi_logloss: 0.397163\n",
      "[91]\ttraining's multi_error: 0.00284201\ttraining's multi_logloss: 0.0733847\tvalid_1's multi_error: 0.130487\tvalid_1's multi_logloss: 0.396522\n",
      "[92]\ttraining's multi_error: 0.00271283\ttraining's multi_logloss: 0.0723213\tvalid_1's multi_error: 0.128683\tvalid_1's multi_logloss: 0.396284\n",
      "[93]\ttraining's multi_error: 0.00271283\ttraining's multi_logloss: 0.0713025\tvalid_1's multi_error: 0.128082\tvalid_1's multi_logloss: 0.395686\n",
      "[94]\ttraining's multi_error: 0.00284201\ttraining's multi_logloss: 0.0703369\tvalid_1's multi_error: 0.128683\tvalid_1's multi_logloss: 0.39535\n",
      "[95]\ttraining's multi_error: 0.00284201\ttraining's multi_logloss: 0.0692225\tvalid_1's multi_error: 0.12748\tvalid_1's multi_logloss: 0.395324\n",
      "[96]\ttraining's multi_error: 0.00258365\ttraining's multi_logloss: 0.0682934\tvalid_1's multi_error: 0.128683\tvalid_1's multi_logloss: 0.394561\n",
      "[97]\ttraining's multi_error: 0.00245446\ttraining's multi_logloss: 0.0673688\tvalid_1's multi_error: 0.126278\tvalid_1's multi_logloss: 0.394169\n",
      "[98]\ttraining's multi_error: 0.00245446\ttraining's multi_logloss: 0.0663994\tvalid_1's multi_error: 0.126278\tvalid_1's multi_logloss: 0.393722\n",
      "[99]\ttraining's multi_error: 0.00258365\ttraining's multi_logloss: 0.0654566\tvalid_1's multi_error: 0.126278\tvalid_1's multi_logloss: 0.393509\n",
      "[100]\ttraining's multi_error: 0.00245446\ttraining's multi_logloss: 0.0645639\tvalid_1's multi_error: 0.12748\tvalid_1's multi_logloss: 0.393502\n",
      "Did not meet early stopping. Best iteration is:\n",
      "[97]\ttraining's multi_error: 0.00245446\ttraining's multi_logloss: 0.0673688\tvalid_1's multi_error: 0.126278\tvalid_1's multi_logloss: 0.394169\n"
     ]
    },
    {
     "data": {
      "text/plain": [
       "RandomizedSearchCV(cv=5, estimator=LGBMClassifier(), n_iter=20, n_jobs=64,\n",
       "                   param_distributions={'device': ['gpu'],\n",
       "                                        'learning_rate': [0.01, 0.015, 0.025,\n",
       "                                                          0.05, 0.1],\n",
       "                                        'max_depth': [3, 5, 7, 9, 12, 15, 17,\n",
       "                                                      25],\n",
       "                                        'min_child_weight': [1, 3, 5, 7],\n",
       "                                        'subsample': array([0.6, 0.7, 0.8, 0.9, 1. ])},\n",
       "                   return_train_score=True, scoring='accuracy', verbose=10)"
      ]
     },
     "execution_count": 11,
     "metadata": {},
     "output_type": "execute_result"
    }
   ],
   "source": [
    "lgbm_clf = lgbm.LGBMClassifier()\n",
    "\n",
    "lgbm_param_grid = {'learning_rate': [.01, .015, .025, .05, .1],\n",
    "#                   'Gamma': [.05, .1, .3, .5, .7, .9, 1],\n",
    "                  'max_depth': [3, 5, 7, 9, 12, 15, 17, 25],\n",
    "                  'min_child_weight': [1, 3, 5, 7],\n",
    "                   'device': ['gpu'],\n",
    "                  'subsample': np.linspace(0.6, 1, 5)}\n",
    "\n",
    "fit_params = {\"early_stopping_rounds\" : 20,\n",
    "             \"eval_metric\" : \"multi_error\",\n",
    "             \"eval_set\" : [(X_train, y_train), (X_val, y_val)]}\n",
    "\n",
    "# Create a random search object\n",
    "lgbm_random = RandomizedSearchCV(estimator = lgbm_clf,\n",
    "                                param_distributions = lgbm_param_grid,\n",
    "                                n_iter = 20, # n_iters in param combinations\n",
    "                                scoring='accuracy',\n",
    "                                n_jobs=64,\n",
    "                                cv = 5,\n",
    "                                refit=True,\n",
    "                                return_train_score = True,\n",
    "                                verbose=10)\n",
    "\n",
    "# Fit to the training data\n",
    "lgbm_random.fit(X_train, y_train, **fit_params)"
   ]
  },
  {
   "cell_type": "markdown",
   "metadata": {},
   "source": [
    "* Inference"
   ]
  },
  {
   "cell_type": "code",
   "execution_count": 73,
   "metadata": {},
   "outputs": [],
   "source": [
    "pred_train = lgbm_random.best_estimator_.predict(X_train)\n",
    "pred_val = lgbm_random.best_estimator_.predict(X_val)\n",
    "pred_test = lgbm_random.best_estimator_.predict(X_test)"
   ]
  },
  {
   "cell_type": "markdown",
   "metadata": {},
   "source": [
    "# Analysis"
   ]
  },
  {
   "cell_type": "markdown",
   "metadata": {},
   "source": [
    "* metric"
   ]
  },
  {
   "cell_type": "code",
   "execution_count": 13,
   "metadata": {},
   "outputs": [
    {
     "name": "stdout",
     "output_type": "stream",
     "text": [
      "0.9975455367523576\n",
      "0.8737221888153939\n",
      "0.871779508687837\n"
     ]
    }
   ],
   "source": [
    "print(accuracy_score(y_train, pred_train))\n",
    "print(accuracy_score(y_val, pred_val))\n",
    "print(accuracy_score(y_test, pred_test))"
   ]
  },
  {
   "cell_type": "code",
   "execution_count": 18,
   "metadata": {},
   "outputs": [],
   "source": [
    "with open('./LightGBM_model.txt', 'wb') as f:\n",
    "    pickle.dump(lgbm_random, f)"
   ]
  },
  {
   "cell_type": "code",
   "execution_count": 3,
   "metadata": {},
   "outputs": [],
   "source": [
    "with open('./LightGBM_model.txt', 'rb') as f:\n",
    "    lgbm_random = pickle.load(f)"
   ]
  },
  {
   "cell_type": "code",
   "execution_count": 4,
   "metadata": {},
   "outputs": [
    {
     "data": {
      "text/html": [
       "<div>\n",
       "<style scoped>\n",
       "    .dataframe tbody tr th:only-of-type {\n",
       "        vertical-align: middle;\n",
       "    }\n",
       "\n",
       "    .dataframe tbody tr th {\n",
       "        vertical-align: top;\n",
       "    }\n",
       "\n",
       "    .dataframe thead th {\n",
       "        text-align: right;\n",
       "    }\n",
       "</style>\n",
       "<table border=\"1\" class=\"dataframe\">\n",
       "  <thead>\n",
       "    <tr style=\"text-align: right;\">\n",
       "      <th></th>\n",
       "      <th>subsample</th>\n",
       "      <th>min_child_weight</th>\n",
       "      <th>max_depth</th>\n",
       "      <th>learning_rate</th>\n",
       "      <th>device</th>\n",
       "      <th>mean_test_score</th>\n",
       "    </tr>\n",
       "  </thead>\n",
       "  <tbody>\n",
       "    <tr>\n",
       "      <th>0</th>\n",
       "      <td>0.6</td>\n",
       "      <td>1</td>\n",
       "      <td>3</td>\n",
       "      <td>0.010</td>\n",
       "      <td>gpu</td>\n",
       "      <td>0.776899</td>\n",
       "    </tr>\n",
       "    <tr>\n",
       "      <th>0</th>\n",
       "      <td>0.8</td>\n",
       "      <td>5</td>\n",
       "      <td>3</td>\n",
       "      <td>0.015</td>\n",
       "      <td>gpu</td>\n",
       "      <td>0.790722</td>\n",
       "    </tr>\n",
       "    <tr>\n",
       "      <th>0</th>\n",
       "      <td>0.9</td>\n",
       "      <td>7</td>\n",
       "      <td>5</td>\n",
       "      <td>0.010</td>\n",
       "      <td>gpu</td>\n",
       "      <td>0.810358</td>\n",
       "    </tr>\n",
       "    <tr>\n",
       "      <th>0</th>\n",
       "      <td>0.8</td>\n",
       "      <td>5</td>\n",
       "      <td>9</td>\n",
       "      <td>0.010</td>\n",
       "      <td>gpu</td>\n",
       "      <td>0.823664</td>\n",
       "    </tr>\n",
       "    <tr>\n",
       "      <th>0</th>\n",
       "      <td>0.6</td>\n",
       "      <td>1</td>\n",
       "      <td>5</td>\n",
       "      <td>0.025</td>\n",
       "      <td>gpu</td>\n",
       "      <td>0.831674</td>\n",
       "    </tr>\n",
       "    <tr>\n",
       "      <th>0</th>\n",
       "      <td>0.8</td>\n",
       "      <td>3</td>\n",
       "      <td>5</td>\n",
       "      <td>0.025</td>\n",
       "      <td>gpu</td>\n",
       "      <td>0.833224</td>\n",
       "    </tr>\n",
       "    <tr>\n",
       "      <th>0</th>\n",
       "      <td>0.9</td>\n",
       "      <td>7</td>\n",
       "      <td>15</td>\n",
       "      <td>0.025</td>\n",
       "      <td>gpu</td>\n",
       "      <td>0.835550</td>\n",
       "    </tr>\n",
       "    <tr>\n",
       "      <th>0</th>\n",
       "      <td>1.0</td>\n",
       "      <td>5</td>\n",
       "      <td>15</td>\n",
       "      <td>0.015</td>\n",
       "      <td>gpu</td>\n",
       "      <td>0.836195</td>\n",
       "    </tr>\n",
       "    <tr>\n",
       "      <th>0</th>\n",
       "      <td>0.6</td>\n",
       "      <td>7</td>\n",
       "      <td>25</td>\n",
       "      <td>0.025</td>\n",
       "      <td>gpu</td>\n",
       "      <td>0.837228</td>\n",
       "    </tr>\n",
       "    <tr>\n",
       "      <th>0</th>\n",
       "      <td>0.8</td>\n",
       "      <td>7</td>\n",
       "      <td>15</td>\n",
       "      <td>0.025</td>\n",
       "      <td>gpu</td>\n",
       "      <td>0.837876</td>\n",
       "    </tr>\n",
       "    <tr>\n",
       "      <th>0</th>\n",
       "      <td>0.9</td>\n",
       "      <td>7</td>\n",
       "      <td>7</td>\n",
       "      <td>0.025</td>\n",
       "      <td>gpu</td>\n",
       "      <td>0.838262</td>\n",
       "    </tr>\n",
       "    <tr>\n",
       "      <th>0</th>\n",
       "      <td>0.7</td>\n",
       "      <td>3</td>\n",
       "      <td>7</td>\n",
       "      <td>0.025</td>\n",
       "      <td>gpu</td>\n",
       "      <td>0.838908</td>\n",
       "    </tr>\n",
       "    <tr>\n",
       "      <th>0</th>\n",
       "      <td>0.7</td>\n",
       "      <td>5</td>\n",
       "      <td>12</td>\n",
       "      <td>0.025</td>\n",
       "      <td>gpu</td>\n",
       "      <td>0.840847</td>\n",
       "    </tr>\n",
       "    <tr>\n",
       "      <th>0</th>\n",
       "      <td>0.8</td>\n",
       "      <td>3</td>\n",
       "      <td>17</td>\n",
       "      <td>0.025</td>\n",
       "      <td>gpu</td>\n",
       "      <td>0.842140</td>\n",
       "    </tr>\n",
       "    <tr>\n",
       "      <th>0</th>\n",
       "      <td>1.0</td>\n",
       "      <td>3</td>\n",
       "      <td>17</td>\n",
       "      <td>0.025</td>\n",
       "      <td>gpu</td>\n",
       "      <td>0.842269</td>\n",
       "    </tr>\n",
       "    <tr>\n",
       "      <th>0</th>\n",
       "      <td>0.8</td>\n",
       "      <td>3</td>\n",
       "      <td>5</td>\n",
       "      <td>0.050</td>\n",
       "      <td>gpu</td>\n",
       "      <td>0.844721</td>\n",
       "    </tr>\n",
       "    <tr>\n",
       "      <th>0</th>\n",
       "      <td>0.8</td>\n",
       "      <td>3</td>\n",
       "      <td>9</td>\n",
       "      <td>0.050</td>\n",
       "      <td>gpu</td>\n",
       "      <td>0.851568</td>\n",
       "    </tr>\n",
       "    <tr>\n",
       "      <th>0</th>\n",
       "      <td>0.6</td>\n",
       "      <td>1</td>\n",
       "      <td>17</td>\n",
       "      <td>0.050</td>\n",
       "      <td>gpu</td>\n",
       "      <td>0.852730</td>\n",
       "    </tr>\n",
       "    <tr>\n",
       "      <th>0</th>\n",
       "      <td>1.0</td>\n",
       "      <td>3</td>\n",
       "      <td>12</td>\n",
       "      <td>0.100</td>\n",
       "      <td>gpu</td>\n",
       "      <td>0.856347</td>\n",
       "    </tr>\n",
       "    <tr>\n",
       "      <th>0</th>\n",
       "      <td>1.0</td>\n",
       "      <td>7</td>\n",
       "      <td>9</td>\n",
       "      <td>0.100</td>\n",
       "      <td>gpu</td>\n",
       "      <td>0.856476</td>\n",
       "    </tr>\n",
       "  </tbody>\n",
       "</table>\n",
       "</div>"
      ],
      "text/plain": [
       "   subsample  min_child_weight  max_depth  learning_rate device  \\\n",
       "0        0.6                 1          3          0.010    gpu   \n",
       "0        0.8                 5          3          0.015    gpu   \n",
       "0        0.9                 7          5          0.010    gpu   \n",
       "0        0.8                 5          9          0.010    gpu   \n",
       "0        0.6                 1          5          0.025    gpu   \n",
       "0        0.8                 3          5          0.025    gpu   \n",
       "0        0.9                 7         15          0.025    gpu   \n",
       "0        1.0                 5         15          0.015    gpu   \n",
       "0        0.6                 7         25          0.025    gpu   \n",
       "0        0.8                 7         15          0.025    gpu   \n",
       "0        0.9                 7          7          0.025    gpu   \n",
       "0        0.7                 3          7          0.025    gpu   \n",
       "0        0.7                 5         12          0.025    gpu   \n",
       "0        0.8                 3         17          0.025    gpu   \n",
       "0        1.0                 3         17          0.025    gpu   \n",
       "0        0.8                 3          5          0.050    gpu   \n",
       "0        0.8                 3          9          0.050    gpu   \n",
       "0        0.6                 1         17          0.050    gpu   \n",
       "0        1.0                 3         12          0.100    gpu   \n",
       "0        1.0                 7          9          0.100    gpu   \n",
       "\n",
       "   mean_test_score  \n",
       "0         0.776899  \n",
       "0         0.790722  \n",
       "0         0.810358  \n",
       "0         0.823664  \n",
       "0         0.831674  \n",
       "0         0.833224  \n",
       "0         0.835550  \n",
       "0         0.836195  \n",
       "0         0.837228  \n",
       "0         0.837876  \n",
       "0         0.838262  \n",
       "0         0.838908  \n",
       "0         0.840847  \n",
       "0         0.842140  \n",
       "0         0.842269  \n",
       "0         0.844721  \n",
       "0         0.851568  \n",
       "0         0.852730  \n",
       "0         0.856347  \n",
       "0         0.856476  "
      ]
     },
     "execution_count": 4,
     "metadata": {},
     "output_type": "execute_result"
    }
   ],
   "source": [
    "cv_result_df = pd.DataFrame(lgbm_random.cv_results_)\n",
    "\n",
    "df_list = []\n",
    "for i in range(20):\n",
    "    df_list.append(pd.DataFrame([cv_result_df.loc[i, \"params\"]]))\n",
    "    \n",
    "param_table = pd.concat(df_list)\n",
    "\n",
    "param_table['mean_test_score'] = cv_result_df['mean_test_score'].values\n",
    "\n",
    "param_table.sort_values(by='mean_test_score', axis=0)"
   ]
  },
  {
   "cell_type": "markdown",
   "metadata": {},
   "source": [
    "* Top-2 accuracy"
   ]
  },
  {
   "cell_type": "code",
   "execution_count": 13,
   "metadata": {},
   "outputs": [
    {
     "data": {
      "text/plain": [
       "array([8, 0])"
      ]
     },
     "execution_count": 13,
     "metadata": {},
     "output_type": "execute_result"
    }
   ],
   "source": [
    "np.argsort(lgbm_random.best_estimator_.predict_proba(X_test)[0])[-2:]"
   ]
  },
  {
   "cell_type": "code",
   "execution_count": 14,
   "metadata": {},
   "outputs": [
    {
     "data": {
      "text/plain": [
       "array([0, 0, 0, ..., 8, 8, 8])"
      ]
     },
     "execution_count": 14,
     "metadata": {},
     "output_type": "execute_result"
    }
   ],
   "source": [
    "np.array(y_test)"
   ]
  },
  {
   "cell_type": "code",
   "execution_count": 15,
   "metadata": {},
   "outputs": [],
   "source": [
    "probs = lgbm_random.best_estimator_.predict_proba(X_test)"
   ]
  },
  {
   "cell_type": "code",
   "execution_count": 16,
   "metadata": {},
   "outputs": [
    {
     "data": {
      "text/plain": [
       "array([[8, 0],\n",
       "       [8, 0],\n",
       "       [3, 0],\n",
       "       ...,\n",
       "       [7, 1],\n",
       "       [8, 1],\n",
       "       [8, 1]])"
      ]
     },
     "execution_count": 16,
     "metadata": {},
     "output_type": "execute_result"
    }
   ],
   "source": [
    "best_n = np.argsort(probs, axis=1)[:, -2:]\n",
    "best_n"
   ]
  },
  {
   "cell_type": "code",
   "execution_count": 17,
   "metadata": {},
   "outputs": [
    {
     "data": {
      "text/plain": [
       "0.9592570401437986"
      ]
     },
     "execution_count": 17,
     "metadata": {},
     "output_type": "execute_result"
    }
   ],
   "source": [
    "np.mean(np.array([1 if np.array(y_test)[k] in best_n[k] else 0 for k in range(len(best_n))]))"
   ]
  },
  {
   "cell_type": "markdown",
   "metadata": {},
   "source": [
    "* importance"
   ]
  },
  {
   "cell_type": "code",
   "execution_count": 19,
   "metadata": {},
   "outputs": [],
   "source": [
    "feature_array = np.array(X_train_tfidf.get_feature_names())\n",
    "importances = lgbm_random.best_estimator_.feature_importances_"
   ]
  },
  {
   "cell_type": "code",
   "execution_count": 20,
   "metadata": {},
   "outputs": [],
   "source": [
    "tfidf_sorting = np.argsort(importances)[::-1]"
   ]
  },
  {
   "cell_type": "code",
   "execution_count": 21,
   "metadata": {},
   "outputs": [],
   "source": [
    "n = 20\n",
    "top_n = feature_array[tfidf_sorting][:n]"
   ]
  },
  {
   "cell_type": "code",
   "execution_count": 22,
   "metadata": {},
   "outputs": [],
   "source": [
    "for i in range(len(top_n)):\n",
    "    top_n[i] = top_n[i].replace('n', '')"
   ]
  },
  {
   "cell_type": "code",
   "execution_count": 23,
   "metadata": {},
   "outputs": [
    {
     "data": {
      "text/plain": [
       "array(['가능', '금융', '안전', '정책', '보건복지부', '경제', '사업', '지원', '주요', '기업',\n",
       "       '산업', '이번', '계획', '연락', '교육', '기술', '기준', '경우', '고용', '기관'],\n",
       "      dtype='<U37')"
      ]
     },
     "execution_count": 23,
     "metadata": {},
     "output_type": "execute_result"
    }
   ],
   "source": [
    "top_n"
   ]
  },
  {
   "cell_type": "code",
   "execution_count": 24,
   "metadata": {},
   "outputs": [
    {
     "ename": "NameError",
     "evalue": "name 'lgbm' is not defined",
     "output_type": "error",
     "traceback": [
      "\u001b[0;31m---------------------------------------------------------------------------\u001b[0m",
      "\u001b[0;31mNameError\u001b[0m                                 Traceback (most recent call last)",
      "\u001b[0;32m<ipython-input-24-ae55b6df43e9>\u001b[0m in \u001b[0;36m<module>\u001b[0;34m\u001b[0m\n\u001b[0;32m----> 1\u001b[0;31m \u001b[0mlgbm\u001b[0m\u001b[0;34m.\u001b[0m\u001b[0mplot_importance\u001b[0m\u001b[0;34m(\u001b[0m\u001b[0mlgbm_random\u001b[0m\u001b[0;34m.\u001b[0m\u001b[0mbest_estimator_\u001b[0m\u001b[0;34m,\u001b[0m \u001b[0mmax_num_features\u001b[0m\u001b[0;34m=\u001b[0m\u001b[0;36m10\u001b[0m\u001b[0;34m)\u001b[0m\u001b[0;34m\u001b[0m\u001b[0;34m\u001b[0m\u001b[0m\n\u001b[0m",
      "\u001b[0;31mNameError\u001b[0m: name 'lgbm' is not defined"
     ]
    }
   ],
   "source": [
    "lgbm.plot_importance(lgbm_random.best_estimator_, max_num_features=10)"
   ]
  },
  {
   "cell_type": "code",
   "execution_count": 26,
   "metadata": {},
   "outputs": [],
   "source": [
    "top_n_label = top_n"
   ]
  },
  {
   "cell_type": "code",
   "execution_count": 27,
   "metadata": {},
   "outputs": [],
   "source": [
    "top_n_importances = np.array(sorted(importances)[-20:])\n",
    "index = np.arange(len(top_n_label))"
   ]
  },
  {
   "cell_type": "code",
   "execution_count": 28,
   "metadata": {},
   "outputs": [],
   "source": [
    "filter_index = [1,2,3,6,7,9,10,14,15,18]"
   ]
  },
  {
   "cell_type": "code",
   "execution_count": 29,
   "metadata": {},
   "outputs": [],
   "source": [
    "mod_10_label = top_n_label[filter_index]\n",
    "mod_10_imp = top_n_importances[filter_index]\n",
    "index = np.arange(len(mod_10_label))"
   ]
  },
  {
   "cell_type": "markdown",
   "metadata": {},
   "source": [
    "* font"
   ]
  },
  {
   "cell_type": "code",
   "execution_count": 31,
   "metadata": {},
   "outputs": [
    {
     "data": {
      "text/plain": [
       "['/usr/share/fonts/truetype/nanum/NanumGothic.ttf',\n",
       " '/usr/share/fonts/truetype/nanum/NanumPen.ttf',\n",
       " '/usr/share/fonts/truetype/nanum/NanumGothicBold.ttf',\n",
       " '/usr/share/fonts/truetype/nanum/NanumBarunGothicBold.ttf',\n",
       " '/usr/share/fonts/truetype/nanum/NanumGothicLight.ttf',\n",
       " '/usr/share/fonts/truetype/nanum/NanumMyeongjoBold.ttf',\n",
       " '/usr/share/fonts/truetype/nanum/NanumBarunGothic.ttf',\n",
       " '/usr/share/fonts/truetype/nanum/NanumBrush.ttf',\n",
       " '/usr/share/fonts/truetype/nanum/NanumSquareL.ttf',\n",
       " '/usr/share/fonts/truetype/dejavu/DejaVuSans.ttf']"
      ]
     },
     "execution_count": 31,
     "metadata": {},
     "output_type": "execute_result"
    }
   ],
   "source": [
    "font_list = fm.findSystemFonts(fontpaths=None, fontext='ttf')\n",
    "font_list[:10]"
   ]
  },
  {
   "cell_type": "code",
   "execution_count": 32,
   "metadata": {},
   "outputs": [],
   "source": [
    "fm.get_fontconfig_fonts()\n",
    "# font_location = '/usr/share/fonts/truetype/nanum/NanumGothicOTF.ttf'\n",
    "font_location = '/usr/share/fonts/truetype/nanum/NanumGothic.ttf' # For Windows\n",
    "font_name = fm.FontProperties(fname=font_location).get_name()\n",
    "plt.rc('font', family=font_name)"
   ]
  },
  {
   "cell_type": "code",
   "execution_count": 37,
   "metadata": {},
   "outputs": [
    {
     "data": {
      "text/plain": [
       "['NanumGothic']"
      ]
     },
     "execution_count": 37,
     "metadata": {},
     "output_type": "execute_result"
    }
   ],
   "source": [
    "plt.rcParams['font.family']"
   ]
  },
  {
   "cell_type": "code",
   "execution_count": 35,
   "metadata": {},
   "outputs": [
    {
     "data": {
      "image/png": "[encoded data removed]",
      "text/plain": [
       "<Figure size 432x288 with 1 Axes>"
      ]
     },
     "metadata": {
      "needs_background": "light"
     },
     "output_type": "display_data"
    }
   ],
   "source": [
    "# plt.rc('font', family='Malgun Gothic')\n",
    "plt.barh(index, mod_10_imp)\n",
    "plt.title('Importance by words', fontsize=15)\n",
    "plt.ylabel('Word', fontsize=10)\n",
    "plt.xlabel('Importance', fontsize=10)\n",
    "plt.yticks(index, mod_10_label, fontsize=13, rotation=0)\n",
    "plt.rc('font', family=font_name)\n",
    "plt.show()"
   ]
  },
  {
   "cell_type": "markdown",
   "metadata": {},
   "source": [
    "* modify for confusion matrix and t-SNE"
   ]
  },
  {
   "cell_type": "code",
   "execution_count": 74,
   "metadata": {},
   "outputs": [
    {
     "name": "stderr",
     "output_type": "stream",
     "text": [
      "/usr/local/lib/python3.6/dist-packages/ipykernel_launcher.py:1: SettingWithCopyWarning: \n",
      "A value is trying to be set on a copy of a slice from a DataFrame.\n",
      "Try using .loc[row_indexer,col_indexer] = value instead\n",
      "\n",
      "See the caveats in the documentation: https://pandas.pydata.org/pandas-docs/stable/user_guide/indexing.html#returning-a-view-versus-a-copy\n",
      "  \"\"\"Entry point for launching an IPython kernel.\n"
     ]
    }
   ],
   "source": [
    "X_test_df['pred'] = pred_test"
   ]
  },
  {
   "cell_type": "code",
   "execution_count": 88,
   "metadata": {},
   "outputs": [],
   "source": [
    "pred_dic = {}\n",
    "count = 0\n",
    "proba = lgbm_random.best_estimator_.predict_proba(X_test)\n",
    "x_leave = lgbm_random.best_estimator_.predict_proba(X_test, pred_leaf=True)\n",
    "x_shap = lgbm_random.best_estimator_.predict_proba(X_test, pred_contrib=True)\n",
    "\n",
    "for idx, row in X_test_df.iterrows():\n",
    "    name = row['file_name']\n",
    "    label = row['label_4']\n",
    "    pred = row['pred']\n",
    "    dataset_n = row['dataset_n']\n",
    "    \n",
    "    pred_dic[name] = {'label':label,\n",
    "                      'pred':pred,\n",
    "                      'dataset_n':dataset_n,\n",
    "                      'softmax':proba[count],\n",
    "                      'X_leaves':x_leave[count],\n",
    "                      'X_SHAP_values':x_shap[count]}\n",
    "    count += 1"
   ]
  },
  {
   "cell_type": "code",
   "execution_count": 89,
   "metadata": {},
   "outputs": [],
   "source": [
    "with open('./lgbm_test_prediction.pickle', 'wb') as f:\n",
    "    pickle.dump(pred_dic, f)"
   ]
  },
  {
   "cell_type": "code",
   "execution_count": 77,
   "metadata": {},
   "outputs": [
    {
     "data": {
      "text/html": [
       "<div>\n",
       "<style scoped>\n",
       "    .dataframe tbody tr th:only-of-type {\n",
       "        vertical-align: middle;\n",
       "    }\n",
       "\n",
       "    .dataframe tbody tr th {\n",
       "        vertical-align: top;\n",
       "    }\n",
       "\n",
       "    .dataframe thead th {\n",
       "        text-align: right;\n",
       "    }\n",
       "</style>\n",
       "<table border=\"1\" class=\"dataframe\">\n",
       "  <thead>\n",
       "    <tr style=\"text-align: right;\">\n",
       "      <th></th>\n",
       "      <th>file_name</th>\n",
       "      <th>raw_text</th>\n",
       "      <th>dataset_n</th>\n",
       "      <th>label_1</th>\n",
       "      <th>label_2</th>\n",
       "      <th>label_3</th>\n",
       "      <th>label_4</th>\n",
       "      <th>train_val_test</th>\n",
       "      <th>prep_v10_text</th>\n",
       "      <th>pred</th>\n",
       "    </tr>\n",
       "  </thead>\n",
       "  <tbody>\n",
       "    <tr>\n",
       "      <th>911</th>\n",
       "      <td>R1803034.txt</td>\n",
       "      <td>문의           산업재산정책국            과 장 박호형...</td>\n",
       "      <td>0</td>\n",
       "      <td>0</td>\n",
       "      <td>0</td>\n",
       "      <td>0</td>\n",
       "      <td>0</td>\n",
       "      <td>2</td>\n",
       "      <td>산업N 재산N 정책N 산업N 재산N 정책N 균상N 즉시N 특허청N 발명N 진흥N 시...</td>\n",
       "      <td>0</td>\n",
       "    </tr>\n",
       "    <tr>\n",
       "      <th>912</th>\n",
       "      <td>R2002996.txt</td>\n",
       "      <td>2020년 2월 26일(수) 조간부터 보도하여 주시기 바랍니다. * 통신․방송․인터...</td>\n",
       "      <td>0</td>\n",
       "      <td>0</td>\n",
       "      <td>0</td>\n",
       "      <td>0</td>\n",
       "      <td>0</td>\n",
       "      <td>2</td>\n",
       "      <td>가능N 중소N 벤처N 기업N 기술N 개발N 과장N 중소기업N 기술N 정보N 흥원N ...</td>\n",
       "      <td>0</td>\n",
       "    </tr>\n",
       "    <tr>\n",
       "      <th>913</th>\n",
       "      <td>R2001686.txt</td>\n",
       "      <td>보도일시 2020. 1. 21.(화) 배포시점부터 보도해 주시기 바랍니다.\\n배포일...</td>\n",
       "      <td>0</td>\n",
       "      <td>0</td>\n",
       "      <td>0</td>\n",
       "      <td>0</td>\n",
       "      <td>0</td>\n",
       "      <td>2</td>\n",
       "      <td>시점N 정통부N 데이터N 진흥N 식품N 과학기술정책N 과장N 과장N 연구관N 인공지...</td>\n",
       "      <td>0</td>\n",
       "    </tr>\n",
       "    <tr>\n",
       "      <th>914</th>\n",
       "      <td>R2005891.txt</td>\n",
       "      <td>보 도 자 료\\nhttp://www.motie.go.kr 2020년 5월 22일(금...</td>\n",
       "      <td>0</td>\n",
       "      <td>0</td>\n",
       "      <td>0</td>\n",
       "      <td>0</td>\n",
       "      <td>0</td>\n",
       "      <td>2</td>\n",
       "      <td>가능N 인증N 산업N 진흥N 과장N 연구관N 기술N 제품N 제조업N 견인N 기술N ...</td>\n",
       "      <td>0</td>\n",
       "    </tr>\n",
       "    <tr>\n",
       "      <th>915</th>\n",
       "      <td>R1906707.txt</td>\n",
       "      <td>보 도 자 료\\n2019년 6월 20일(목) 조간부터 보도하여 주시기 바랍니다. (...</td>\n",
       "      <td>0</td>\n",
       "      <td>0</td>\n",
       "      <td>0</td>\n",
       "      <td>0</td>\n",
       "      <td>0</td>\n",
       "      <td>2</td>\n",
       "      <td>가능N 산업N 통상N 자원N 산업N 정책N 산업N 통상N 자원N 산업N 정책N 과장...</td>\n",
       "      <td>0</td>\n",
       "    </tr>\n",
       "    <tr>\n",
       "      <th>...</th>\n",
       "      <td>...</td>\n",
       "      <td>...</td>\n",
       "      <td>...</td>\n",
       "      <td>...</td>\n",
       "      <td>...</td>\n",
       "      <td>...</td>\n",
       "      <td>...</td>\n",
       "      <td>...</td>\n",
       "      <td>...</td>\n",
       "      <td>...</td>\n",
       "    </tr>\n",
       "    <tr>\n",
       "      <th>11068</th>\n",
       "      <td>(117)한국조폐공사와 비밀유지협약서 검토.txt</td>\n",
       "      <td>변호사 기획역             (2020.5.22) 업 무 연 락 수  ...</td>\n",
       "      <td>1</td>\n",
       "      <td>8</td>\n",
       "      <td>8</td>\n",
       "      <td>8</td>\n",
       "      <td>8</td>\n",
       "      <td>2</td>\n",
       "      <td>기획N 카드N 회원N 사업N 공공사업N 참조N 계장N 준법N 감시N 법무N 조폐공사...</td>\n",
       "      <td>0</td>\n",
       "    </tr>\n",
       "    <tr>\n",
       "      <th>11069</th>\n",
       "      <td>(65)NH농협은행 수련원 이용수칙 개정(안) 검토 회신.txt</td>\n",
       "      <td>코오 로서 무든 86@시 0러 제꺼 받음 수 외으며 모른 @럭음은 모니티팅 6니다\\...</td>\n",
       "      <td>2</td>\n",
       "      <td>8</td>\n",
       "      <td>8</td>\n",
       "      <td>8</td>\n",
       "      <td>8</td>\n",
       "      <td>2</td>\n",
       "      <td>모니N 농심N 가슴N 농민N 농심N 태을N 가슴N 농민N 농협N 은행N 농협N 은행...</td>\n",
       "      <td>1</td>\n",
       "    </tr>\n",
       "    <tr>\n",
       "      <th>11070</th>\n",
       "      <td>(49)사해행위 소송 실익 검토.txt</td>\n",
       "      <td>사해행위 소송 실익 검토   “농심(農心)을 가슴에 안고 농민(農民) 곁으로!”  ...</td>\n",
       "      <td>1</td>\n",
       "      <td>8</td>\n",
       "      <td>1</td>\n",
       "      <td>1</td>\n",
       "      <td>8</td>\n",
       "      <td>2</td>\n",
       "      <td>사해행위N 소송N 실익N 검토N 농심N 농심N 가슴N 농민N 농민N 수신N 은행N ...</td>\n",
       "      <td>1</td>\n",
       "    </tr>\n",
       "    <tr>\n",
       "      <th>11071</th>\n",
       "      <td>(24)고성군지부(경남) 민원 건 관련 질의에 대한 회신.txt</td>\n",
       "      <td>고성군지부 민원 건 관련 질의에 대한 회신   “농심(農心)을 가슴에 안고 농민(農...</td>\n",
       "      <td>1</td>\n",
       "      <td>8</td>\n",
       "      <td>8</td>\n",
       "      <td>8</td>\n",
       "      <td>8</td>\n",
       "      <td>2</td>\n",
       "      <td>고성군N 지부N 민원N 질의N 회신N 농심N 농심N 가슴N 농민N 농민N 수신N 은...</td>\n",
       "      <td>1</td>\n",
       "    </tr>\n",
       "    <tr>\n",
       "      <th>11072</th>\n",
       "      <td>(60)이사회 의결의 적정성 검토 회신.txt</td>\n",
       "      <td>응오 21 무단 반추시 0저 470 받은 수 있으며 모든 @력은 모니터림 입니다.\\...</td>\n",
       "      <td>2</td>\n",
       "      <td>8</td>\n",
       "      <td>8</td>\n",
       "      <td>8</td>\n",
       "      <td>8</td>\n",
       "      <td>2</td>\n",
       "      <td>무단N 추시N 모니터N 동심N 가슴N 농민N 하나N 농협N 은행N 수신N 은행N 여...</td>\n",
       "      <td>1</td>\n",
       "    </tr>\n",
       "  </tbody>\n",
       "</table>\n",
       "<p>1669 rows × 10 columns</p>\n",
       "</div>"
      ],
      "text/plain": [
       "                                 file_name  \\\n",
       "911                           R1803034.txt   \n",
       "912                           R2002996.txt   \n",
       "913                           R2001686.txt   \n",
       "914                           R2005891.txt   \n",
       "915                           R1906707.txt   \n",
       "...                                    ...   \n",
       "11068          (117)한국조폐공사와 비밀유지협약서 검토.txt   \n",
       "11069  (65)NH농협은행 수련원 이용수칙 개정(안) 검토 회신.txt   \n",
       "11070                (49)사해행위 소송 실익 검토.txt   \n",
       "11071  (24)고성군지부(경남) 민원 건 관련 질의에 대한 회신.txt   \n",
       "11072            (60)이사회 의결의 적정성 검토 회신.txt   \n",
       "\n",
       "                                                raw_text  dataset_n  label_1  \\\n",
       "911           문의           산업재산정책국            과 장 박호형...          0        0   \n",
       "912    2020년 2월 26일(수) 조간부터 보도하여 주시기 바랍니다. * 통신․방송․인터...          0        0   \n",
       "913    보도일시 2020. 1. 21.(화) 배포시점부터 보도해 주시기 바랍니다.\\n배포일...          0        0   \n",
       "914    보 도 자 료\\nhttp://www.motie.go.kr 2020년 5월 22일(금...          0        0   \n",
       "915    보 도 자 료\\n2019년 6월 20일(목) 조간부터 보도하여 주시기 바랍니다. (...          0        0   \n",
       "...                                                  ...        ...      ...   \n",
       "11068     변호사 기획역             (2020.5.22) 업 무 연 락 수  ...          1        8   \n",
       "11069  코오 로서 무든 86@시 0러 제꺼 받음 수 외으며 모른 @럭음은 모니티팅 6니다\\...          2        8   \n",
       "11070  사해행위 소송 실익 검토   “농심(農心)을 가슴에 안고 농민(農民) 곁으로!”  ...          1        8   \n",
       "11071  고성군지부 민원 건 관련 질의에 대한 회신   “농심(農心)을 가슴에 안고 농민(農...          1        8   \n",
       "11072  응오 21 무단 반추시 0저 470 받은 수 있으며 모든 @력은 모니터림 입니다.\\...          2        8   \n",
       "\n",
       "       label_2  label_3  label_4  train_val_test  \\\n",
       "911          0        0        0               2   \n",
       "912          0        0        0               2   \n",
       "913          0        0        0               2   \n",
       "914          0        0        0               2   \n",
       "915          0        0        0               2   \n",
       "...        ...      ...      ...             ...   \n",
       "11068        8        8        8               2   \n",
       "11069        8        8        8               2   \n",
       "11070        1        1        8               2   \n",
       "11071        8        8        8               2   \n",
       "11072        8        8        8               2   \n",
       "\n",
       "                                           prep_v10_text  pred  \n",
       "911    산업N 재산N 정책N 산업N 재산N 정책N 균상N 즉시N 특허청N 발명N 진흥N 시...     0  \n",
       "912    가능N 중소N 벤처N 기업N 기술N 개발N 과장N 중소기업N 기술N 정보N 흥원N ...     0  \n",
       "913    시점N 정통부N 데이터N 진흥N 식품N 과학기술정책N 과장N 과장N 연구관N 인공지...     0  \n",
       "914    가능N 인증N 산업N 진흥N 과장N 연구관N 기술N 제품N 제조업N 견인N 기술N ...     0  \n",
       "915    가능N 산업N 통상N 자원N 산업N 정책N 산업N 통상N 자원N 산업N 정책N 과장...     0  \n",
       "...                                                  ...   ...  \n",
       "11068  기획N 카드N 회원N 사업N 공공사업N 참조N 계장N 준법N 감시N 법무N 조폐공사...     0  \n",
       "11069  모니N 농심N 가슴N 농민N 농심N 태을N 가슴N 농민N 농협N 은행N 농협N 은행...     1  \n",
       "11070  사해행위N 소송N 실익N 검토N 농심N 농심N 가슴N 농민N 농민N 수신N 은행N ...     1  \n",
       "11071  고성군N 지부N 민원N 질의N 회신N 농심N 농심N 가슴N 농민N 농민N 수신N 은...     1  \n",
       "11072  무단N 추시N 모니터N 동심N 가슴N 농민N 하나N 농협N 은행N 수신N 은행N 여...     1  \n",
       "\n",
       "[1669 rows x 10 columns]"
      ]
     },
     "execution_count": 77,
     "metadata": {},
     "output_type": "execute_result"
    }
   ],
   "source": [
    "X_test_df"
   ]
  },
  {
   "cell_type": "code",
   "execution_count": null,
   "metadata": {},
   "outputs": [],
   "source": []
  },
  {
   "cell_type": "code",
   "execution_count": null,
   "metadata": {},
   "outputs": [],
   "source": []
  },
  {
   "cell_type": "code",
   "execution_count": null,
   "metadata": {},
   "outputs": [],
   "source": []
  },
  {
   "cell_type": "code",
   "execution_count": 39,
   "metadata": {},
   "outputs": [],
   "source": [
    "a = lgbm_random.best_estimator_"
   ]
  },
  {
   "cell_type": "code",
   "execution_count": 54,
   "metadata": {},
   "outputs": [
    {
     "data": {
      "text/plain": [
       "LGBMClassifier(device='gpu', max_depth=9, min_child_weight=7)"
      ]
     },
     "execution_count": 54,
     "metadata": {},
     "output_type": "execute_result"
    }
   ],
   "source": [
    "a"
   ]
  },
  {
   "cell_type": "code",
   "execution_count": 58,
   "metadata": {},
   "outputs": [],
   "source": [
    "x_leave = a.predict_proba(X_test, pred_leaf=True)\n",
    "x_shap_ = a.predict_proba(X_test, pred_leaf=True, pred_contrib=True)\n",
    "x_shap = a.predict_proba(X_test, pred_contrib=True)"
   ]
  },
  {
   "cell_type": "code",
   "execution_count": 60,
   "metadata": {},
   "outputs": [
    {
     "name": "stdout",
     "output_type": "stream",
     "text": [
      "(1669, 970)\n",
      "(1669, 1000010)\n",
      "(1669, 1000010)\n"
     ]
    }
   ],
   "source": [
    "print(x_leave.shape)\n",
    "print(x_shap_.shape)\n",
    "print(x_shap.shape)"
   ]
  }
 ],
 "metadata": {
  "kernelspec": {
   "display_name": "Python 3",
   "language": "python",
   "name": "python3"
  },
  "language_info": {
   "codemirror_mode": {
    "name": "ipython",
    "version": 3
   },
   "file_extension": ".py",
   "mimetype": "text/x-python",
   "name": "python",
   "nbconvert_exporter": "python",
   "pygments_lexer": "ipython3",
   "version": "3.6.9"
  }
 },
 "nbformat": 4,
 "nbformat_minor": 4
}
