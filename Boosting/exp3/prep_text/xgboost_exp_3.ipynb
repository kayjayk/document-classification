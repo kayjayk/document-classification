{
 "cells": [
  {
   "cell_type": "markdown",
   "metadata": {},
   "source": [
    "## Data Handling"
   ]
  },
  {
   "cell_type": "code",
   "execution_count": 1,
   "metadata": {},
   "outputs": [],
   "source": [
    "from sklearn.feature_extraction.text import TfidfVectorizer\n",
    "import pandas as pd\n",
    "import numpy as np\n",
    "np.random.seed(4444)"
   ]
  },
  {
   "cell_type": "code",
   "execution_count": 2,
   "metadata": {
    "collapsed": true,
    "jupyter": {
     "outputs_hidden": true
    }
   },
   "outputs": [
    {
     "data": {
      "text/html": [
       "<div>\n",
       "<style scoped>\n",
       "    .dataframe tbody tr th:only-of-type {\n",
       "        vertical-align: middle;\n",
       "    }\n",
       "\n",
       "    .dataframe tbody tr th {\n",
       "        vertical-align: top;\n",
       "    }\n",
       "\n",
       "    .dataframe thead th {\n",
       "        text-align: right;\n",
       "    }\n",
       "</style>\n",
       "<table border=\"1\" class=\"dataframe\">\n",
       "  <thead>\n",
       "    <tr style=\"text-align: right;\">\n",
       "      <th></th>\n",
       "      <th>file_name</th>\n",
       "      <th>label</th>\n",
       "      <th>raw_text</th>\n",
       "      <th>dataset_n</th>\n",
       "      <th>train_val_test</th>\n",
       "      <th>prep_v9_text</th>\n",
       "    </tr>\n",
       "  </thead>\n",
       "  <tbody>\n",
       "    <tr>\n",
       "      <th>0</th>\n",
       "      <td>R1509261.txt</td>\n",
       "      <td>0</td>\n",
       "      <td>보 도 자 료\\nhttp://www.msip.go.kr 보도일시 2015. 9. 4...</td>\n",
       "      <td>0</td>\n",
       "      <td>0</td>\n",
       "      <td>온라인N 제도N 혁신N 관호N 미래N 사이트N 플러그인N 지원N 대응N 현황N 공개...</td>\n",
       "    </tr>\n",
       "    <tr>\n",
       "      <th>1</th>\n",
       "      <td>R2003733.txt</td>\n",
       "      <td>0</td>\n",
       "      <td>보도일시 2020. 3. 18.(수) 조간(온라인 3. 17. 12:00)부터 보도...</td>\n",
       "      <td>0</td>\n",
       "      <td>0</td>\n",
       "      <td>온라인N 정보N 산업N 기반N 유승N ictS 분야N 창업N 벤처N 지원N 사업N ...</td>\n",
       "    </tr>\n",
       "    <tr>\n",
       "      <th>2</th>\n",
       "      <td>D1507076-1.txt</td>\n",
       "      <td>0</td>\n",
       "      <td>보 도 자 료\\nhttp://www.msip.go.kr 보도일시 2015. 7. 1...</td>\n",
       "      <td>0</td>\n",
       "      <td>0</td>\n",
       "      <td>이후N 연구N 예산N 내년도N 연구N 개발N r&amp;dN 경제N 혁신N 미래N 성장N ...</td>\n",
       "    </tr>\n",
       "    <tr>\n",
       "      <th>3</th>\n",
       "      <td>R2005031.txt</td>\n",
       "      <td>0</td>\n",
       "      <td>보 도 자 료\\n배포일시 2020. 4. 29.(수) 총 4매(본문2) 담당 부서 ...</td>\n",
       "      <td>0</td>\n",
       "      <td>0</td>\n",
       "      <td>첨단N 항공N 과장N 문석N 홍일산N 이후N 가능N 일상N 시대N 개막N 시행N 전...</td>\n",
       "    </tr>\n",
       "    <tr>\n",
       "      <th>4</th>\n",
       "      <td>R2006226.txt</td>\n",
       "      <td>0</td>\n",
       "      <td>&lt;전매체&gt; 2020년 6월 3일(수) 10:00(국무회의 개최시)부터 보도하여 주시...</td>\n",
       "      <td>0</td>\n",
       "      <td>0</td>\n",
       "      <td>국무회의N 개최N 문의N 기획N 재정관N 과장N 서기관N 위기N 혁신N 기회N 벤처...</td>\n",
       "    </tr>\n",
       "  </tbody>\n",
       "</table>\n",
       "</div>"
      ],
      "text/plain": [
       "        file_name  label                                           raw_text  \\\n",
       "0    R1509261.txt      0  보 도 자 료\\nhttp://www.msip.go.kr 보도일시 2015. 9. 4...   \n",
       "1    R2003733.txt      0  보도일시 2020. 3. 18.(수) 조간(온라인 3. 17. 12:00)부터 보도...   \n",
       "2  D1507076-1.txt      0  보 도 자 료\\nhttp://www.msip.go.kr 보도일시 2015. 7. 1...   \n",
       "3    R2005031.txt      0  보 도 자 료\\n배포일시 2020. 4. 29.(수) 총 4매(본문2) 담당 부서 ...   \n",
       "4    R2006226.txt      0  <전매체> 2020년 6월 3일(수) 10:00(국무회의 개최시)부터 보도하여 주시...   \n",
       "\n",
       "   dataset_n  train_val_test  \\\n",
       "0          0               0   \n",
       "1          0               0   \n",
       "2          0               0   \n",
       "3          0               0   \n",
       "4          0               0   \n",
       "\n",
       "                                        prep_v9_text  \n",
       "0  온라인N 제도N 혁신N 관호N 미래N 사이트N 플러그인N 지원N 대응N 현황N 공개...  \n",
       "1  온라인N 정보N 산업N 기반N 유승N ictS 분야N 창업N 벤처N 지원N 사업N ...  \n",
       "2  이후N 연구N 예산N 내년도N 연구N 개발N r&dN 경제N 혁신N 미래N 성장N ...  \n",
       "3  첨단N 항공N 과장N 문석N 홍일산N 이후N 가능N 일상N 시대N 개막N 시행N 전...  \n",
       "4  국무회의N 개최N 문의N 기획N 재정관N 과장N 서기관N 위기N 혁신N 기회N 벤처...  "
      ]
     },
     "execution_count": 2,
     "metadata": {},
     "output_type": "execute_result"
    }
   ],
   "source": [
    "df = pd.read_csv('../../../../../../jaeyeun/01_nh_poc/17_add_prep_text_to_excel/split_70_15_15_prep_v9.csv')\n",
    "\n",
    "df.head()"
   ]
  },
  {
   "cell_type": "markdown",
   "metadata": {},
   "source": [
    "* exp3 combination"
   ]
  },
  {
   "cell_type": "code",
   "execution_count": 3,
   "metadata": {},
   "outputs": [],
   "source": [
    "X_train_df = df[df['train_val_test'] == 0]\n",
    "X_val_df = df[df['train_val_test'] == 1]\n",
    "X_test_df = df[df['train_val_test'] == 2]\n",
    "y_train = df[df['train_val_test'] == 0]['label']\n",
    "y_val = df[df['train_val_test'] == 1]['label']\n",
    "y_test = df[df['train_val_test'] == 2]['label']"
   ]
  },
  {
   "cell_type": "code",
   "execution_count": 4,
   "metadata": {},
   "outputs": [
    {
     "name": "stdout",
     "output_type": "stream",
     "text": [
      "(7740, 6)\n",
      "(1662, 6)\n",
      "(1671, 6)\n",
      "(7740,)\n",
      "(1662,)\n",
      "(1671,)\n"
     ]
    }
   ],
   "source": [
    "print(X_train_df.shape)\n",
    "print(X_val_df.shape)\n",
    "print(X_test_df.shape)\n",
    "print(y_train.shape)\n",
    "print(y_val.shape)\n",
    "print(y_test.shape)"
   ]
  },
  {
   "cell_type": "code",
   "execution_count": 6,
   "metadata": {},
   "outputs": [],
   "source": [
    "n_features = 100000\n",
    "tfidf_vectorizer = TfidfVectorizer(\n",
    "    max_df=0.9, # 0.9 만큼의 문서 이상에서 나오면 거른다.\n",
    "    min_df=5, # 5개 미만의 문서에서 나오면 거른다.\n",
    "    sublinear_tf = True, # tf value를 완만하게 처리 (outlier 처리 효과)\n",
    "    ngram_range = (1, 3),\n",
    "    max_features=n_features)"
   ]
  },
  {
   "cell_type": "markdown",
   "metadata": {},
   "source": [
    "* data is 'prep_v9_text'"
   ]
  },
  {
   "cell_type": "code",
   "execution_count": 7,
   "metadata": {},
   "outputs": [],
   "source": [
    "X_train_tfidf = tfidf_vectorizer.fit(X_train_df['prep_v9_text'])\n",
    "# X_test_tfidf = tfidf_vectorizer.fit_transform(prep_text_test)\n",
    "# X_test_hash = hash_vectorizer.fit_transform(prep_text_test)"
   ]
  },
  {
   "cell_type": "code",
   "execution_count": 8,
   "metadata": {},
   "outputs": [],
   "source": [
    "X_train = X_train_tfidf.transform(X_train_df['prep_v9_text'])\n",
    "X_val = X_train_tfidf.transform(X_val_df['prep_v9_text'])\n",
    "X_test = X_train_tfidf.transform(X_test_df['prep_v9_text'])"
   ]
  },
  {
   "cell_type": "code",
   "execution_count": 9,
   "metadata": {},
   "outputs": [
    {
     "name": "stdout",
     "output_type": "stream",
     "text": [
      "(7740, 100000)\n",
      "(1662, 100000)\n",
      "(1671, 100000)\n"
     ]
    }
   ],
   "source": [
    "print(X_train.shape)\n",
    "print(X_val.shape)\n",
    "print(X_test.shape)"
   ]
  },
  {
   "cell_type": "markdown",
   "metadata": {},
   "source": [
    "## Classify"
   ]
  },
  {
   "cell_type": "markdown",
   "metadata": {},
   "source": [
    "* XGBoost RandomSearch"
   ]
  },
  {
   "cell_type": "code",
   "execution_count": 10,
   "metadata": {},
   "outputs": [],
   "source": [
    "from sklearn.model_selection import RandomizedSearchCV\n",
    "import xgboost as xgb"
   ]
  },
  {
   "cell_type": "code",
   "execution_count": 11,
   "metadata": {},
   "outputs": [
    {
     "name": "stdout",
     "output_type": "stream",
     "text": [
      "Fitting 5 folds for each of 20 candidates, totalling 100 fits\n"
     ]
    },
    {
     "name": "stderr",
     "output_type": "stream",
     "text": [
      "[Parallel(n_jobs=-1)]: Using backend LokyBackend with 32 concurrent workers.\n",
      "[Parallel(n_jobs=-1)]: Done   8 tasks      | elapsed: 84.7min\n",
      "[Parallel(n_jobs=-1)]: Done  21 tasks      | elapsed: 110.9min\n",
      "[Parallel(n_jobs=-1)]: Done  34 tasks      | elapsed: 152.6min\n",
      "[Parallel(n_jobs=-1)]: Done  48 out of 100 | elapsed: 170.3min remaining: 184.5min\n",
      "[Parallel(n_jobs=-1)]: Done  59 out of 100 | elapsed: 190.8min remaining: 132.6min\n",
      "[Parallel(n_jobs=-1)]: Done  70 out of 100 | elapsed: 206.4min remaining: 88.5min\n",
      "[Parallel(n_jobs=-1)]: Done  81 out of 100 | elapsed: 213.8min remaining: 50.1min\n",
      "[Parallel(n_jobs=-1)]: Done  92 out of 100 | elapsed: 226.1min remaining: 19.7min\n",
      "[Parallel(n_jobs=-1)]: Done 100 out of 100 | elapsed: 245.7min finished\n"
     ]
    },
    {
     "name": "stdout",
     "output_type": "stream",
     "text": [
      "[0]\tvalidation_0-merror:0.22209\tvalidation_1-merror:0.26354\n",
      "Multiple eval metrics have been passed: 'validation_1-merror' will be used for early stopping.\n",
      "\n",
      "Will train until validation_1-merror hasn't improved in 20 rounds.\n",
      "[1]\tvalidation_0-merror:0.19535\tvalidation_1-merror:0.24428\n",
      "[2]\tvalidation_0-merror:0.17481\tvalidation_1-merror:0.22804\n",
      "[3]\tvalidation_0-merror:0.16227\tvalidation_1-merror:0.22323\n",
      "[4]\tvalidation_0-merror:0.15310\tvalidation_1-merror:0.21661\n",
      "[5]\tvalidation_0-merror:0.14509\tvalidation_1-merror:0.21300\n",
      "[6]\tvalidation_0-merror:0.13669\tvalidation_1-merror:0.20698\n",
      "[7]\tvalidation_0-merror:0.13153\tvalidation_1-merror:0.19735\n",
      "[8]\tvalidation_0-merror:0.12726\tvalidation_1-merror:0.19916\n",
      "[9]\tvalidation_0-merror:0.12196\tvalidation_1-merror:0.20036\n",
      "[10]\tvalidation_0-merror:0.11589\tvalidation_1-merror:0.19976\n",
      "[11]\tvalidation_0-merror:0.11124\tvalidation_1-merror:0.19675\n",
      "[12]\tvalidation_0-merror:0.10581\tvalidation_1-merror:0.19434\n",
      "[13]\tvalidation_0-merror:0.10078\tvalidation_1-merror:0.19856\n",
      "[14]\tvalidation_0-merror:0.09806\tvalidation_1-merror:0.19434\n",
      "[15]\tvalidation_0-merror:0.09444\tvalidation_1-merror:0.19495\n",
      "[16]\tvalidation_0-merror:0.09147\tvalidation_1-merror:0.19073\n",
      "[17]\tvalidation_0-merror:0.08682\tvalidation_1-merror:0.19555\n",
      "[18]\tvalidation_0-merror:0.08463\tvalidation_1-merror:0.19374\n",
      "[19]\tvalidation_0-merror:0.08204\tvalidation_1-merror:0.19194\n",
      "[20]\tvalidation_0-merror:0.07920\tvalidation_1-merror:0.18773\n",
      "[21]\tvalidation_0-merror:0.07674\tvalidation_1-merror:0.18893\n",
      "[22]\tvalidation_0-merror:0.07287\tvalidation_1-merror:0.18833\n",
      "[23]\tvalidation_0-merror:0.07028\tvalidation_1-merror:0.18652\n",
      "[24]\tvalidation_0-merror:0.06847\tvalidation_1-merror:0.19194\n",
      "[25]\tvalidation_0-merror:0.06641\tvalidation_1-merror:0.19073\n",
      "[26]\tvalidation_0-merror:0.06434\tvalidation_1-merror:0.18833\n",
      "[27]\tvalidation_0-merror:0.06305\tvalidation_1-merror:0.18833\n",
      "[28]\tvalidation_0-merror:0.06059\tvalidation_1-merror:0.18773\n",
      "[29]\tvalidation_0-merror:0.05711\tvalidation_1-merror:0.18773\n",
      "[30]\tvalidation_0-merror:0.05556\tvalidation_1-merror:0.18652\n",
      "[31]\tvalidation_0-merror:0.05310\tvalidation_1-merror:0.18532\n",
      "[32]\tvalidation_0-merror:0.05090\tvalidation_1-merror:0.18412\n",
      "[33]\tvalidation_0-merror:0.04935\tvalidation_1-merror:0.18412\n",
      "[34]\tvalidation_0-merror:0.04845\tvalidation_1-merror:0.18592\n",
      "[35]\tvalidation_0-merror:0.04690\tvalidation_1-merror:0.18592\n",
      "[36]\tvalidation_0-merror:0.04496\tvalidation_1-merror:0.18412\n",
      "[37]\tvalidation_0-merror:0.04276\tvalidation_1-merror:0.18412\n",
      "[38]\tvalidation_0-merror:0.04160\tvalidation_1-merror:0.18231\n",
      "[39]\tvalidation_0-merror:0.04096\tvalidation_1-merror:0.17930\n",
      "[40]\tvalidation_0-merror:0.03915\tvalidation_1-merror:0.17810\n",
      "[41]\tvalidation_0-merror:0.03785\tvalidation_1-merror:0.17990\n",
      "[42]\tvalidation_0-merror:0.03695\tvalidation_1-merror:0.17810\n",
      "[43]\tvalidation_0-merror:0.03553\tvalidation_1-merror:0.18050\n",
      "[44]\tvalidation_0-merror:0.03488\tvalidation_1-merror:0.18171\n",
      "[45]\tvalidation_0-merror:0.03295\tvalidation_1-merror:0.17930\n",
      "[46]\tvalidation_0-merror:0.03217\tvalidation_1-merror:0.17990\n",
      "[47]\tvalidation_0-merror:0.03075\tvalidation_1-merror:0.18050\n",
      "[48]\tvalidation_0-merror:0.02946\tvalidation_1-merror:0.17750\n",
      "[49]\tvalidation_0-merror:0.02804\tvalidation_1-merror:0.17870\n",
      "[50]\tvalidation_0-merror:0.02700\tvalidation_1-merror:0.18111\n",
      "[51]\tvalidation_0-merror:0.02481\tvalidation_1-merror:0.18050\n",
      "[52]\tvalidation_0-merror:0.02532\tvalidation_1-merror:0.17990\n",
      "[53]\tvalidation_0-merror:0.02377\tvalidation_1-merror:0.17990\n",
      "[54]\tvalidation_0-merror:0.02261\tvalidation_1-merror:0.18111\n",
      "[55]\tvalidation_0-merror:0.02106\tvalidation_1-merror:0.17930\n",
      "[56]\tvalidation_0-merror:0.01964\tvalidation_1-merror:0.17750\n",
      "[57]\tvalidation_0-merror:0.01925\tvalidation_1-merror:0.17930\n",
      "[58]\tvalidation_0-merror:0.01899\tvalidation_1-merror:0.17689\n",
      "[59]\tvalidation_0-merror:0.01783\tvalidation_1-merror:0.17810\n",
      "[60]\tvalidation_0-merror:0.01692\tvalidation_1-merror:0.17689\n",
      "[61]\tvalidation_0-merror:0.01641\tvalidation_1-merror:0.17629\n",
      "[62]\tvalidation_0-merror:0.01576\tvalidation_1-merror:0.17750\n",
      "[63]\tvalidation_0-merror:0.01486\tvalidation_1-merror:0.17509\n",
      "[64]\tvalidation_0-merror:0.01447\tvalidation_1-merror:0.17629\n",
      "[65]\tvalidation_0-merror:0.01382\tvalidation_1-merror:0.17810\n",
      "[66]\tvalidation_0-merror:0.01344\tvalidation_1-merror:0.17689\n",
      "[67]\tvalidation_0-merror:0.01240\tvalidation_1-merror:0.17569\n",
      "[68]\tvalidation_0-merror:0.01202\tvalidation_1-merror:0.17569\n",
      "[69]\tvalidation_0-merror:0.01150\tvalidation_1-merror:0.17509\n",
      "[70]\tvalidation_0-merror:0.01047\tvalidation_1-merror:0.17449\n",
      "[71]\tvalidation_0-merror:0.01008\tvalidation_1-merror:0.17569\n",
      "[72]\tvalidation_0-merror:0.01008\tvalidation_1-merror:0.17509\n",
      "[73]\tvalidation_0-merror:0.00969\tvalidation_1-merror:0.17750\n",
      "[74]\tvalidation_0-merror:0.00904\tvalidation_1-merror:0.17629\n",
      "[75]\tvalidation_0-merror:0.00891\tvalidation_1-merror:0.17569\n",
      "[76]\tvalidation_0-merror:0.00879\tvalidation_1-merror:0.17629\n",
      "[77]\tvalidation_0-merror:0.00840\tvalidation_1-merror:0.17449\n",
      "[78]\tvalidation_0-merror:0.00814\tvalidation_1-merror:0.17930\n",
      "[79]\tvalidation_0-merror:0.00762\tvalidation_1-merror:0.17810\n",
      "[80]\tvalidation_0-merror:0.00724\tvalidation_1-merror:0.17689\n",
      "[81]\tvalidation_0-merror:0.00698\tvalidation_1-merror:0.17569\n",
      "[82]\tvalidation_0-merror:0.00594\tvalidation_1-merror:0.17569\n",
      "[83]\tvalidation_0-merror:0.00581\tvalidation_1-merror:0.17629\n",
      "[84]\tvalidation_0-merror:0.00556\tvalidation_1-merror:0.17509\n",
      "[85]\tvalidation_0-merror:0.00556\tvalidation_1-merror:0.17569\n",
      "[86]\tvalidation_0-merror:0.00517\tvalidation_1-merror:0.17569\n",
      "[87]\tvalidation_0-merror:0.00543\tvalidation_1-merror:0.17328\n",
      "[88]\tvalidation_0-merror:0.00465\tvalidation_1-merror:0.17389\n",
      "[89]\tvalidation_0-merror:0.00452\tvalidation_1-merror:0.17389\n",
      "[90]\tvalidation_0-merror:0.00465\tvalidation_1-merror:0.17328\n",
      "[91]\tvalidation_0-merror:0.00426\tvalidation_1-merror:0.17328\n",
      "[92]\tvalidation_0-merror:0.00413\tvalidation_1-merror:0.17389\n",
      "[93]\tvalidation_0-merror:0.00362\tvalidation_1-merror:0.17328\n",
      "[94]\tvalidation_0-merror:0.00388\tvalidation_1-merror:0.17208\n",
      "[95]\tvalidation_0-merror:0.00349\tvalidation_1-merror:0.17148\n",
      "[96]\tvalidation_0-merror:0.00349\tvalidation_1-merror:0.17148\n",
      "[97]\tvalidation_0-merror:0.00336\tvalidation_1-merror:0.17449\n",
      "[98]\tvalidation_0-merror:0.00284\tvalidation_1-merror:0.17208\n",
      "[99]\tvalidation_0-merror:0.00284\tvalidation_1-merror:0.17268\n"
     ]
    },
    {
     "data": {
      "text/plain": [
       "RandomizedSearchCV(cv=5,\n",
       "                   estimator=XGBClassifier(base_score=None, booster=None,\n",
       "                                           colsample_bylevel=None,\n",
       "                                           colsample_bynode=None,\n",
       "                                           colsample_bytree=None, gamma=None,\n",
       "                                           gpu_id=None, importance_type='gain',\n",
       "                                           interaction_constraints=None,\n",
       "                                           learning_rate=None,\n",
       "                                           max_delta_step=None, max_depth=None,\n",
       "                                           min_child_weight=None, missing=nan,\n",
       "                                           monotone_constraints=None,\n",
       "                                           n_estimators=100,...\n",
       "                                           reg_lambda=None,\n",
       "                                           scale_pos_weight=None,\n",
       "                                           subsample=None, tree_method=None,\n",
       "                                           validate_parameters=None,\n",
       "                                           verbosity=None),\n",
       "                   n_iter=20, n_jobs=-1,\n",
       "                   param_distributions={'learning_rate': [0.01, 0.015, 0.025,\n",
       "                                                          0.05, 0.1],\n",
       "                                        'max_depth': [3, 5, 7, 9, 12, 15, 17,\n",
       "                                                      25],\n",
       "                                        'min_child_weight': [1, 3, 5, 7],\n",
       "                                        'subsample': array([0.6, 0.7, 0.8, 0.9, 1. ])},\n",
       "                   return_train_score=True, scoring='accuracy', verbose=10)"
      ]
     },
     "execution_count": 11,
     "metadata": {},
     "output_type": "execute_result"
    }
   ],
   "source": [
    "xgb_clf = xgb.XGBClassifier()\n",
    "\n",
    "xgb_param_grid = {'learning_rate': [.01, .015, .025, .05, .1],\n",
    "#                   'Gamma': [.05, .1, .3, .5, .7, .9, 1],\n",
    "                  'max_depth': [3, 5, 7, 9, 12, 15, 17, 25],\n",
    "                  'min_child_weight': [1, 3, 5, 7],\n",
    "                  'subsample': np.linspace(0.6, 1, 5)}\n",
    "\n",
    "fit_params = {\"early_stopping_rounds\" : 20,\n",
    "             \"eval_metric\" : \"merror\",\n",
    "             \"eval_set\" : [(X_train, y_train), (X_val, y_val)]}\n",
    "\n",
    "# Create a random search object\n",
    "xgb_random = RandomizedSearchCV(estimator = xgb_clf,\n",
    "                                param_distributions = xgb_param_grid,\n",
    "                                n_iter = 20, # n_iters in param combinations\n",
    "                                scoring='accuracy',\n",
    "                                n_jobs=-1,\n",
    "                                cv = 5,\n",
    "                                refit=True,\n",
    "                                return_train_score = True,\n",
    "                                verbose=10)\n",
    "\n",
    "# Fit to the training data\n",
    "xgb_random.fit(X_train, y_train, **fit_params)"
   ]
  },
  {
   "cell_type": "code",
   "execution_count": 12,
   "metadata": {},
   "outputs": [],
   "source": [
    "pred_train = xgb_random.best_estimator_.predict(X_train)\n",
    "pred_val = xgb_random.best_estimator_.predict(X_val)\n",
    "pred_test = xgb_random.best_estimator_.predict(X_test)"
   ]
  },
  {
   "cell_type": "code",
   "execution_count": 13,
   "metadata": {},
   "outputs": [],
   "source": [
    "from sklearn.metrics import accuracy_score"
   ]
  },
  {
   "cell_type": "code",
   "execution_count": 14,
   "metadata": {},
   "outputs": [
    {
     "name": "stdout",
     "output_type": "stream",
     "text": [
      "0.9965116279069768\n",
      "0.8285198555956679\n",
      "0.8162776780371035\n"
     ]
    }
   ],
   "source": [
    "print(accuracy_score(y_train, pred_train))\n",
    "print(accuracy_score(y_val, pred_val))\n",
    "print(accuracy_score(y_test, pred_test))"
   ]
  },
  {
   "cell_type": "code",
   "execution_count": 15,
   "metadata": {},
   "outputs": [
    {
     "data": {
      "text/plain": [
       "XGBClassifier(base_score=0.5, booster='gbtree', colsample_bylevel=1,\n",
       "              colsample_bynode=1, colsample_bytree=1, gamma=0, gpu_id=-1,\n",
       "              importance_type='gain', interaction_constraints='',\n",
       "              learning_rate=0.1, max_delta_step=0, max_depth=17,\n",
       "              min_child_weight=5, missing=nan, monotone_constraints='()',\n",
       "              n_estimators=100, n_jobs=0, num_parallel_tree=1,\n",
       "              objective='multi:softprob', random_state=0, reg_alpha=0,\n",
       "              reg_lambda=1, scale_pos_weight=None, subsample=0.6,\n",
       "              tree_method='exact', validate_parameters=1, verbosity=None)"
      ]
     },
     "execution_count": 15,
     "metadata": {},
     "output_type": "execute_result"
    }
   ],
   "source": [
    "xgb_random.best_estimator_"
   ]
  },
  {
   "cell_type": "code",
   "execution_count": 16,
   "metadata": {},
   "outputs": [],
   "source": [
    "xgb_cv_result_df = pd.DataFrame(xgb_random.cv_results_)"
   ]
  },
  {
   "cell_type": "code",
   "execution_count": 17,
   "metadata": {},
   "outputs": [],
   "source": [
    "df_list = []\n",
    "for i in range(20):\n",
    "    df_list.append(pd.DataFrame([xgb_cv_result_df.loc[i, \"params\"]]))\n",
    "    \n",
    "xgb_param_table = pd.concat(df_list)"
   ]
  },
  {
   "cell_type": "code",
   "execution_count": 18,
   "metadata": {},
   "outputs": [],
   "source": [
    "xgb_param_table['mean_test_score'] = xgb_cv_result_df['mean_test_score'].values"
   ]
  },
  {
   "cell_type": "code",
   "execution_count": 19,
   "metadata": {},
   "outputs": [
    {
     "data": {
      "text/html": [
       "<div>\n",
       "<style scoped>\n",
       "    .dataframe tbody tr th:only-of-type {\n",
       "        vertical-align: middle;\n",
       "    }\n",
       "\n",
       "    .dataframe tbody tr th {\n",
       "        vertical-align: top;\n",
       "    }\n",
       "\n",
       "    .dataframe thead th {\n",
       "        text-align: right;\n",
       "    }\n",
       "</style>\n",
       "<table border=\"1\" class=\"dataframe\">\n",
       "  <thead>\n",
       "    <tr style=\"text-align: right;\">\n",
       "      <th></th>\n",
       "      <th>subsample</th>\n",
       "      <th>min_child_weight</th>\n",
       "      <th>max_depth</th>\n",
       "      <th>learning_rate</th>\n",
       "      <th>mean_test_score</th>\n",
       "    </tr>\n",
       "  </thead>\n",
       "  <tbody>\n",
       "    <tr>\n",
       "      <th>0</th>\n",
       "      <td>0.6</td>\n",
       "      <td>7</td>\n",
       "      <td>25</td>\n",
       "      <td>0.010</td>\n",
       "      <td>0.768475</td>\n",
       "    </tr>\n",
       "    <tr>\n",
       "      <th>0</th>\n",
       "      <td>1.0</td>\n",
       "      <td>7</td>\n",
       "      <td>12</td>\n",
       "      <td>0.015</td>\n",
       "      <td>0.774160</td>\n",
       "    </tr>\n",
       "    <tr>\n",
       "      <th>0</th>\n",
       "      <td>1.0</td>\n",
       "      <td>3</td>\n",
       "      <td>9</td>\n",
       "      <td>0.015</td>\n",
       "      <td>0.774677</td>\n",
       "    </tr>\n",
       "    <tr>\n",
       "      <th>0</th>\n",
       "      <td>0.7</td>\n",
       "      <td>1</td>\n",
       "      <td>7</td>\n",
       "      <td>0.010</td>\n",
       "      <td>0.778165</td>\n",
       "    </tr>\n",
       "    <tr>\n",
       "      <th>0</th>\n",
       "      <td>0.9</td>\n",
       "      <td>1</td>\n",
       "      <td>25</td>\n",
       "      <td>0.010</td>\n",
       "      <td>0.780103</td>\n",
       "    </tr>\n",
       "    <tr>\n",
       "      <th>0</th>\n",
       "      <td>0.8</td>\n",
       "      <td>5</td>\n",
       "      <td>9</td>\n",
       "      <td>0.015</td>\n",
       "      <td>0.782300</td>\n",
       "    </tr>\n",
       "    <tr>\n",
       "      <th>0</th>\n",
       "      <td>1.0</td>\n",
       "      <td>5</td>\n",
       "      <td>15</td>\n",
       "      <td>0.025</td>\n",
       "      <td>0.783333</td>\n",
       "    </tr>\n",
       "    <tr>\n",
       "      <th>0</th>\n",
       "      <td>0.7</td>\n",
       "      <td>3</td>\n",
       "      <td>12</td>\n",
       "      <td>0.010</td>\n",
       "      <td>0.784109</td>\n",
       "    </tr>\n",
       "    <tr>\n",
       "      <th>0</th>\n",
       "      <td>0.6</td>\n",
       "      <td>7</td>\n",
       "      <td>15</td>\n",
       "      <td>0.025</td>\n",
       "      <td>0.784238</td>\n",
       "    </tr>\n",
       "    <tr>\n",
       "      <th>0</th>\n",
       "      <td>0.7</td>\n",
       "      <td>3</td>\n",
       "      <td>7</td>\n",
       "      <td>0.015</td>\n",
       "      <td>0.784367</td>\n",
       "    </tr>\n",
       "    <tr>\n",
       "      <th>0</th>\n",
       "      <td>0.9</td>\n",
       "      <td>3</td>\n",
       "      <td>12</td>\n",
       "      <td>0.010</td>\n",
       "      <td>0.785013</td>\n",
       "    </tr>\n",
       "    <tr>\n",
       "      <th>0</th>\n",
       "      <td>0.9</td>\n",
       "      <td>1</td>\n",
       "      <td>25</td>\n",
       "      <td>0.025</td>\n",
       "      <td>0.786047</td>\n",
       "    </tr>\n",
       "    <tr>\n",
       "      <th>0</th>\n",
       "      <td>1.0</td>\n",
       "      <td>7</td>\n",
       "      <td>12</td>\n",
       "      <td>0.025</td>\n",
       "      <td>0.787726</td>\n",
       "    </tr>\n",
       "    <tr>\n",
       "      <th>0</th>\n",
       "      <td>0.7</td>\n",
       "      <td>5</td>\n",
       "      <td>9</td>\n",
       "      <td>0.025</td>\n",
       "      <td>0.791731</td>\n",
       "    </tr>\n",
       "    <tr>\n",
       "      <th>0</th>\n",
       "      <td>0.8</td>\n",
       "      <td>1</td>\n",
       "      <td>7</td>\n",
       "      <td>0.050</td>\n",
       "      <td>0.794574</td>\n",
       "    </tr>\n",
       "    <tr>\n",
       "      <th>0</th>\n",
       "      <td>0.9</td>\n",
       "      <td>5</td>\n",
       "      <td>7</td>\n",
       "      <td>0.050</td>\n",
       "      <td>0.795995</td>\n",
       "    </tr>\n",
       "    <tr>\n",
       "      <th>0</th>\n",
       "      <td>0.9</td>\n",
       "      <td>5</td>\n",
       "      <td>15</td>\n",
       "      <td>0.050</td>\n",
       "      <td>0.797674</td>\n",
       "    </tr>\n",
       "    <tr>\n",
       "      <th>0</th>\n",
       "      <td>0.6</td>\n",
       "      <td>1</td>\n",
       "      <td>5</td>\n",
       "      <td>0.100</td>\n",
       "      <td>0.798966</td>\n",
       "    </tr>\n",
       "    <tr>\n",
       "      <th>0</th>\n",
       "      <td>0.6</td>\n",
       "      <td>3</td>\n",
       "      <td>7</td>\n",
       "      <td>0.050</td>\n",
       "      <td>0.800258</td>\n",
       "    </tr>\n",
       "    <tr>\n",
       "      <th>0</th>\n",
       "      <td>0.6</td>\n",
       "      <td>5</td>\n",
       "      <td>17</td>\n",
       "      <td>0.100</td>\n",
       "      <td>0.805426</td>\n",
       "    </tr>\n",
       "  </tbody>\n",
       "</table>\n",
       "</div>"
      ],
      "text/plain": [
       "   subsample  min_child_weight  max_depth  learning_rate  mean_test_score\n",
       "0        0.6                 7         25          0.010         0.768475\n",
       "0        1.0                 7         12          0.015         0.774160\n",
       "0        1.0                 3          9          0.015         0.774677\n",
       "0        0.7                 1          7          0.010         0.778165\n",
       "0        0.9                 1         25          0.010         0.780103\n",
       "0        0.8                 5          9          0.015         0.782300\n",
       "0        1.0                 5         15          0.025         0.783333\n",
       "0        0.7                 3         12          0.010         0.784109\n",
       "0        0.6                 7         15          0.025         0.784238\n",
       "0        0.7                 3          7          0.015         0.784367\n",
       "0        0.9                 3         12          0.010         0.785013\n",
       "0        0.9                 1         25          0.025         0.786047\n",
       "0        1.0                 7         12          0.025         0.787726\n",
       "0        0.7                 5          9          0.025         0.791731\n",
       "0        0.8                 1          7          0.050         0.794574\n",
       "0        0.9                 5          7          0.050         0.795995\n",
       "0        0.9                 5         15          0.050         0.797674\n",
       "0        0.6                 1          5          0.100         0.798966\n",
       "0        0.6                 3          7          0.050         0.800258\n",
       "0        0.6                 5         17          0.100         0.805426"
      ]
     },
     "execution_count": 19,
     "metadata": {},
     "output_type": "execute_result"
    }
   ],
   "source": [
    "xgb_param_table.sort_values(by='mean_test_score', axis=0)"
   ]
  }
 ],
 "metadata": {
  "kernelspec": {
   "display_name": "Python 3",
   "language": "python",
   "name": "python3"
  },
  "language_info": {
   "codemirror_mode": {
    "name": "ipython",
    "version": 3
   },
   "file_extension": ".py",
   "mimetype": "text/x-python",
   "name": "python",
   "nbconvert_exporter": "python",
   "pygments_lexer": "ipython3",
   "version": "3.6.9"
  }
 },
 "nbformat": 4,
 "nbformat_minor": 4
}
