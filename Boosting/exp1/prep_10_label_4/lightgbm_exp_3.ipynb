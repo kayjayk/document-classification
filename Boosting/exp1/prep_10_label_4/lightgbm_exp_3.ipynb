{
 "cells": [
  {
   "cell_type": "markdown",
   "metadata": {},
   "source": [
    "## Data Handling"
   ]
  },
  {
   "cell_type": "code",
   "execution_count": 12,
   "metadata": {},
   "outputs": [],
   "source": [
    "from sklearn.feature_extraction.text import TfidfVectorizer\n",
    "import pandas as pd\n",
    "import numpy as np\n",
    "np.random.seed(4444)"
   ]
  },
  {
   "cell_type": "code",
   "execution_count": 13,
   "metadata": {},
   "outputs": [
    {
     "data": {
      "text/html": [
       "<div>\n",
       "<style scoped>\n",
       "    .dataframe tbody tr th:only-of-type {\n",
       "        vertical-align: middle;\n",
       "    }\n",
       "\n",
       "    .dataframe tbody tr th {\n",
       "        vertical-align: top;\n",
       "    }\n",
       "\n",
       "    .dataframe thead th {\n",
       "        text-align: right;\n",
       "    }\n",
       "</style>\n",
       "<table border=\"1\" class=\"dataframe\">\n",
       "  <thead>\n",
       "    <tr style=\"text-align: right;\">\n",
       "      <th></th>\n",
       "      <th>file_name</th>\n",
       "      <th>raw_text</th>\n",
       "      <th>dataset_n</th>\n",
       "      <th>label_1</th>\n",
       "      <th>label_2</th>\n",
       "      <th>label_3</th>\n",
       "      <th>label_4</th>\n",
       "      <th>train_val_test</th>\n",
       "      <th>prep_v10_text</th>\n",
       "    </tr>\n",
       "  </thead>\n",
       "  <tbody>\n",
       "    <tr>\n",
       "      <th>0</th>\n",
       "      <td>D1512065.txt</td>\n",
       "      <td>보 도 자 료\\nhttp://www.motie.go.kr 2015년 12월28일(월...</td>\n",
       "      <td>0</td>\n",
       "      <td>0</td>\n",
       "      <td>0</td>\n",
       "      <td>0</td>\n",
       "      <td>0</td>\n",
       "      <td>0</td>\n",
       "      <td>가능N 국가N 기술N 표준원N 기술N 규제N 조정N 오광N 과장N 연구사N 기업N ...</td>\n",
       "    </tr>\n",
       "    <tr>\n",
       "      <th>1</th>\n",
       "      <td>R2002420.txt</td>\n",
       "      <td>보 도 자 료 작성과 공공데이터정책과\\n2020년 2월 13일(목) 조간 (2. 1...</td>\n",
       "      <td>0</td>\n",
       "      <td>0</td>\n",
       "      <td>0</td>\n",
       "      <td>0</td>\n",
       "      <td>0</td>\n",
       "      <td>0</td>\n",
       "      <td>공공N 데이터N 정책N 이후N 남호N 공공N 데이터N 청년N 인턴N 참가N 청년N ...</td>\n",
       "    </tr>\n",
       "    <tr>\n",
       "      <th>2</th>\n",
       "      <td>R2002370.txt</td>\n",
       "      <td>2020년 2월 11일(화) 석간부터 보도하여 주시기 바랍니다. * 통신․방송․인터...</td>\n",
       "      <td>0</td>\n",
       "      <td>0</td>\n",
       "      <td>0</td>\n",
       "      <td>0</td>\n",
       "      <td>0</td>\n",
       "      <td>0</td>\n",
       "      <td>가능N 벤처N 투자N 과장N 벤처N 혁신N 정책N 과장N 벤처N 생태N 민간N 중심...</td>\n",
       "    </tr>\n",
       "    <tr>\n",
       "      <th>3</th>\n",
       "      <td>R2004373.txt</td>\n",
       "      <td>보도참고자료\\nhttp://www.motie.go.kr 배포 즉시 보도하여 주시기 ...</td>\n",
       "      <td>0</td>\n",
       "      <td>0</td>\n",
       "      <td>0</td>\n",
       "      <td>0</td>\n",
       "      <td>0</td>\n",
       "      <td>0</td>\n",
       "      <td>즉시N 기정N 통부N 연구N 개발N 정책N 판식N 정보N 기술N 정책N 연구N 제도...</td>\n",
       "    </tr>\n",
       "    <tr>\n",
       "      <th>4</th>\n",
       "      <td>D1506066.txt</td>\n",
       "      <td>보 도 자 료\\n보도일시 2015. 6. 12.(금) 조간(온라인 6. 11. 12...</td>\n",
       "      <td>0</td>\n",
       "      <td>0</td>\n",
       "      <td>0</td>\n",
       "      <td>0</td>\n",
       "      <td>0</td>\n",
       "      <td>0</td>\n",
       "      <td>온라인N 이후N 디지털N 정책N 과장N 지운N 스마트미디어N 엑스N 캠프N 신규N ...</td>\n",
       "    </tr>\n",
       "  </tbody>\n",
       "</table>\n",
       "</div>"
      ],
      "text/plain": [
       "      file_name                                           raw_text  dataset_n  \\\n",
       "0  D1512065.txt  보 도 자 료\\nhttp://www.motie.go.kr 2015년 12월28일(월...          0   \n",
       "1  R2002420.txt  보 도 자 료 작성과 공공데이터정책과\\n2020년 2월 13일(목) 조간 (2. 1...          0   \n",
       "2  R2002370.txt  2020년 2월 11일(화) 석간부터 보도하여 주시기 바랍니다. * 통신․방송․인터...          0   \n",
       "3  R2004373.txt  보도참고자료\\nhttp://www.motie.go.kr 배포 즉시 보도하여 주시기 ...          0   \n",
       "4  D1506066.txt  보 도 자 료\\n보도일시 2015. 6. 12.(금) 조간(온라인 6. 11. 12...          0   \n",
       "\n",
       "   label_1  label_2  label_3  label_4  train_val_test  \\\n",
       "0        0        0        0        0               0   \n",
       "1        0        0        0        0               0   \n",
       "2        0        0        0        0               0   \n",
       "3        0        0        0        0               0   \n",
       "4        0        0        0        0               0   \n",
       "\n",
       "                                       prep_v10_text  \n",
       "0  가능N 국가N 기술N 표준원N 기술N 규제N 조정N 오광N 과장N 연구사N 기업N ...  \n",
       "1  공공N 데이터N 정책N 이후N 남호N 공공N 데이터N 청년N 인턴N 참가N 청년N ...  \n",
       "2  가능N 벤처N 투자N 과장N 벤처N 혁신N 정책N 과장N 벤처N 생태N 민간N 중심...  \n",
       "3  즉시N 기정N 통부N 연구N 개발N 정책N 판식N 정보N 기술N 정책N 연구N 제도...  \n",
       "4  온라인N 이후N 디지털N 정책N 과장N 지운N 스마트미디어N 엑스N 캠프N 신규N ...  "
      ]
     },
     "execution_count": 13,
     "metadata": {},
     "output_type": "execute_result"
    }
   ],
   "source": [
    "df = pd.read_csv('../../../../../../jaeyeun/01_nh_poc/16_re_label/split_70_15_15_re_3_prep_v10.csv')\n",
    "\n",
    "df.head()"
   ]
  },
  {
   "cell_type": "markdown",
   "metadata": {},
   "source": [
    "* only for kdi dataset(exp1) & label_4"
   ]
  },
  {
   "cell_type": "code",
   "execution_count": 16,
   "metadata": {},
   "outputs": [],
   "source": [
    "df = df[df['dataset_n'] == 0]"
   ]
  },
  {
   "cell_type": "code",
   "execution_count": 17,
   "metadata": {},
   "outputs": [],
   "source": [
    "X_train_df = df[df['train_val_test'] == 0]\n",
    "X_val_df = df[df['train_val_test'] == 1]\n",
    "X_test_df = df[df['train_val_test'] == 2]\n",
    "y_train = df[df['train_val_test'] == 0]['label_4']\n",
    "y_val = df[df['train_val_test'] == 1]['label_4']\n",
    "y_test = df[df['train_val_test'] == 2]['label_4']"
   ]
  },
  {
   "cell_type": "code",
   "execution_count": 18,
   "metadata": {},
   "outputs": [
    {
     "name": "stdout",
     "output_type": "stream",
     "text": [
      "(7555, 9)\n",
      "(1621, 9)\n",
      "(1624, 9)\n",
      "(7555,)\n",
      "(1621,)\n",
      "(1624,)\n"
     ]
    }
   ],
   "source": [
    "print(X_train_df.shape)\n",
    "print(X_val_df.shape)\n",
    "print(X_test_df.shape)\n",
    "print(y_train.shape)\n",
    "print(y_val.shape)\n",
    "print(y_test.shape)"
   ]
  },
  {
   "cell_type": "code",
   "execution_count": 19,
   "metadata": {},
   "outputs": [],
   "source": [
    "n_features = 100000\n",
    "tfidf_vectorizer = TfidfVectorizer(\n",
    "    max_df=0.9, # 0.9 만큼의 문서 이상에서 나오면 거른다.\n",
    "    min_df=5, # 5개 미만의 문서에서 나오면 거른다.\n",
    "    sublinear_tf = True, # tf value를 완만하게 처리 (outlier 처리 효과)\n",
    "    ngram_range = (1, 3),\n",
    "    max_features=n_features)"
   ]
  },
  {
   "cell_type": "markdown",
   "metadata": {},
   "source": [
    "* data is 'prep_v10_text'"
   ]
  },
  {
   "cell_type": "code",
   "execution_count": 20,
   "metadata": {},
   "outputs": [],
   "source": [
    "X_train_tfidf = tfidf_vectorizer.fit(X_train_df['prep_v10_text'])\n",
    "# X_test_tfidf = tfidf_vectorizer.fit_transform(prep_text_test)\n",
    "# X_test_hash = hash_vectorizer.fit_transform(prep_text_test)"
   ]
  },
  {
   "cell_type": "code",
   "execution_count": 21,
   "metadata": {},
   "outputs": [],
   "source": [
    "X_train = X_train_tfidf.transform(X_train_df['prep_v10_text'])\n",
    "X_val = X_train_tfidf.transform(X_val_df['prep_v10_text'])\n",
    "X_test = X_train_tfidf.transform(X_test_df['prep_v10_text'])"
   ]
  },
  {
   "cell_type": "code",
   "execution_count": 22,
   "metadata": {},
   "outputs": [
    {
     "name": "stdout",
     "output_type": "stream",
     "text": [
      "(7555, 100000)\n",
      "(1621, 100000)\n",
      "(1624, 100000)\n"
     ]
    }
   ],
   "source": [
    "print(X_train.shape)\n",
    "print(X_val.shape)\n",
    "print(X_test.shape)"
   ]
  },
  {
   "cell_type": "markdown",
   "metadata": {},
   "source": [
    "## Classify"
   ]
  },
  {
   "cell_type": "markdown",
   "metadata": {},
   "source": [
    "* LightGBM RandomSearch"
   ]
  },
  {
   "cell_type": "code",
   "execution_count": 23,
   "metadata": {},
   "outputs": [],
   "source": [
    "from sklearn.model_selection import RandomizedSearchCV\n",
    "import lightgbm as lgbm"
   ]
  },
  {
   "cell_type": "code",
   "execution_count": 25,
   "metadata": {},
   "outputs": [
    {
     "name": "stdout",
     "output_type": "stream",
     "text": [
      "Fitting 5 folds for each of 20 candidates, totalling 100 fits\n"
     ]
    },
    {
     "name": "stderr",
     "output_type": "stream",
     "text": [
      "[Parallel(n_jobs=-1)]: Using backend LokyBackend with 32 concurrent workers.\n",
      "[Parallel(n_jobs=-1)]: Done   8 tasks      | elapsed:  8.7min\n",
      "[Parallel(n_jobs=-1)]: Done  21 tasks      | elapsed: 11.2min\n",
      "[Parallel(n_jobs=-1)]: Done  34 tasks      | elapsed: 19.1min\n",
      "[Parallel(n_jobs=-1)]: Done  48 out of 100 | elapsed: 24.2min remaining: 26.2min\n",
      "[Parallel(n_jobs=-1)]: Done  59 out of 100 | elapsed: 29.7min remaining: 20.6min\n",
      "[Parallel(n_jobs=-1)]: Done  70 out of 100 | elapsed: 32.4min remaining: 13.9min\n",
      "[Parallel(n_jobs=-1)]: Done  81 out of 100 | elapsed: 36.8min remaining:  8.6min\n",
      "[Parallel(n_jobs=-1)]: Done  92 out of 100 | elapsed: 39.4min remaining:  3.4min\n",
      "[Parallel(n_jobs=-1)]: Done 100 out of 100 | elapsed: 43.7min finished\n"
     ]
    },
    {
     "name": "stdout",
     "output_type": "stream",
     "text": [
      "[1]\ttraining's multi_error: 0.345731\ttraining's multi_logloss: 1.94319\tvalid_1's multi_error: 0.383714\tvalid_1's multi_logloss: 1.96544\n",
      "Training until validation scores don't improve for 20 rounds\n",
      "[2]\ttraining's multi_error: 0.19775\ttraining's multi_logloss: 1.72218\tvalid_1's multi_error: 0.241826\tvalid_1's multi_logloss: 1.76112\n",
      "[3]\ttraining's multi_error: 0.147055\ttraining's multi_logloss: 1.54963\tvalid_1's multi_error: 0.202961\tvalid_1's multi_logloss: 1.60478\n",
      "[4]\ttraining's multi_error: 0.124686\ttraining's multi_logloss: 1.40867\tvalid_1's multi_error: 0.183837\tvalid_1's multi_logloss: 1.47832\n",
      "[5]\ttraining's multi_error: 0.111979\ttraining's multi_logloss: 1.29008\tvalid_1's multi_error: 0.172116\tvalid_1's multi_logloss: 1.3729\n",
      "[6]\ttraining's multi_error: 0.104699\ttraining's multi_logloss: 1.18604\tvalid_1's multi_error: 0.166564\tvalid_1's multi_logloss: 1.28096\n",
      "[7]\ttraining's multi_error: 0.0987426\ttraining's multi_logloss: 1.09598\tvalid_1's multi_error: 0.167798\tvalid_1's multi_logloss: 1.20008\n",
      "[8]\ttraining's multi_error: 0.0943746\ttraining's multi_logloss: 1.01637\tvalid_1's multi_error: 0.163479\tvalid_1's multi_logloss: 1.13075\n",
      "[9]\ttraining's multi_error: 0.0894772\ttraining's multi_logloss: 0.945678\tvalid_1's multi_error: 0.161629\tvalid_1's multi_logloss: 1.06942\n",
      "[10]\ttraining's multi_error: 0.0841827\ttraining's multi_logloss: 0.882775\tvalid_1's multi_error: 0.160395\tvalid_1's multi_logloss: 1.01541\n",
      "[11]\ttraining's multi_error: 0.0796823\ttraining's multi_logloss: 0.825645\tvalid_1's multi_error: 0.159161\tvalid_1's multi_logloss: 0.967097\n",
      "[12]\ttraining's multi_error: 0.0750496\ttraining's multi_logloss: 0.77452\tvalid_1's multi_error: 0.160395\tvalid_1's multi_logloss: 0.923952\n",
      "[13]\ttraining's multi_error: 0.0720053\ttraining's multi_logloss: 0.727459\tvalid_1's multi_error: 0.158544\tvalid_1's multi_logloss: 0.884147\n",
      "[14]\ttraining's multi_error: 0.0698875\ttraining's multi_logloss: 0.684895\tvalid_1's multi_error: 0.158544\tvalid_1's multi_logloss: 0.848206\n",
      "[15]\ttraining's multi_error: 0.0668432\ttraining's multi_logloss: 0.644997\tvalid_1's multi_error: 0.15731\tvalid_1's multi_logloss: 0.814007\n",
      "[16]\ttraining's multi_error: 0.0641959\ttraining's multi_logloss: 0.608814\tvalid_1's multi_error: 0.154226\tvalid_1's multi_logloss: 0.783819\n",
      "[17]\ttraining's multi_error: 0.0619457\ttraining's multi_logloss: 0.575783\tvalid_1's multi_error: 0.153609\tvalid_1's multi_logloss: 0.756477\n",
      "[18]\ttraining's multi_error: 0.0600927\ttraining's multi_logloss: 0.544962\tvalid_1's multi_error: 0.154226\tvalid_1's multi_logloss: 0.731826\n",
      "[19]\ttraining's multi_error: 0.0582396\ttraining's multi_logloss: 0.516315\tvalid_1's multi_error: 0.153609\tvalid_1's multi_logloss: 0.707747\n",
      "[20]\ttraining's multi_error: 0.0557247\ttraining's multi_logloss: 0.49001\tvalid_1's multi_error: 0.150524\tvalid_1's multi_logloss: 0.685677\n",
      "[21]\ttraining's multi_error: 0.0534745\ttraining's multi_logloss: 0.465296\tvalid_1's multi_error: 0.151758\tvalid_1's multi_logloss: 0.666739\n",
      "[22]\ttraining's multi_error: 0.0512244\ttraining's multi_logloss: 0.442854\tvalid_1's multi_error: 0.152375\tvalid_1's multi_logloss: 0.649193\n",
      "[23]\ttraining's multi_error: 0.0493713\ttraining's multi_logloss: 0.421535\tvalid_1's multi_error: 0.152375\tvalid_1's multi_logloss: 0.632266\n",
      "[24]\ttraining's multi_error: 0.0476506\ttraining's multi_logloss: 0.401757\tvalid_1's multi_error: 0.151141\tvalid_1's multi_logloss: 0.616015\n",
      "[25]\ttraining's multi_error: 0.0454004\ttraining's multi_logloss: 0.383934\tvalid_1's multi_error: 0.149291\tvalid_1's multi_logloss: 0.601821\n",
      "[26]\ttraining's multi_error: 0.0418266\ttraining's multi_logloss: 0.366743\tvalid_1's multi_error: 0.151758\tvalid_1's multi_logloss: 0.587873\n",
      "[27]\ttraining's multi_error: 0.0403706\ttraining's multi_logloss: 0.350734\tvalid_1's multi_error: 0.149291\tvalid_1's multi_logloss: 0.575262\n",
      "[28]\ttraining's multi_error: 0.039047\ttraining's multi_logloss: 0.335388\tvalid_1's multi_error: 0.14744\tvalid_1's multi_logloss: 0.563366\n",
      "[29]\ttraining's multi_error: 0.0369292\ttraining's multi_logloss: 0.321413\tvalid_1's multi_error: 0.148674\tvalid_1's multi_logloss: 0.552503\n",
      "[30]\ttraining's multi_error: 0.0356056\ttraining's multi_logloss: 0.308431\tvalid_1's multi_error: 0.14744\tvalid_1's multi_logloss: 0.542547\n",
      "[31]\ttraining's multi_error: 0.0337525\ttraining's multi_logloss: 0.295955\tvalid_1's multi_error: 0.145589\tvalid_1's multi_logloss: 0.532508\n",
      "[32]\ttraining's multi_error: 0.0315023\ttraining's multi_logloss: 0.283912\tvalid_1's multi_error: 0.146206\tvalid_1's multi_logloss: 0.523266\n",
      "[33]\ttraining's multi_error: 0.0305758\ttraining's multi_logloss: 0.272781\tvalid_1's multi_error: 0.146823\tvalid_1's multi_logloss: 0.515082\n",
      "[34]\ttraining's multi_error: 0.0292522\ttraining's multi_logloss: 0.262227\tvalid_1's multi_error: 0.143122\tvalid_1's multi_logloss: 0.50748\n",
      "[35]\ttraining's multi_error: 0.028458\ttraining's multi_logloss: 0.25197\tvalid_1's multi_error: 0.143738\tvalid_1's multi_logloss: 0.50021\n",
      "[36]\ttraining's multi_error: 0.0268696\ttraining's multi_logloss: 0.24223\tvalid_1's multi_error: 0.143738\tvalid_1's multi_logloss: 0.493346\n",
      "[37]\ttraining's multi_error: 0.0258107\ttraining's multi_logloss: 0.233159\tvalid_1's multi_error: 0.142505\tvalid_1's multi_logloss: 0.486895\n",
      "[38]\ttraining's multi_error: 0.0242224\ttraining's multi_logloss: 0.224911\tvalid_1's multi_error: 0.143738\tvalid_1's multi_logloss: 0.480735\n",
      "[39]\ttraining's multi_error: 0.0232958\ttraining's multi_logloss: 0.216871\tvalid_1's multi_error: 0.141888\tvalid_1's multi_logloss: 0.474804\n",
      "[40]\ttraining's multi_error: 0.022634\ttraining's multi_logloss: 0.209647\tvalid_1's multi_error: 0.140037\tvalid_1's multi_logloss: 0.469557\n",
      "[41]\ttraining's multi_error: 0.0215751\ttraining's multi_logloss: 0.2023\tvalid_1's multi_error: 0.137569\tvalid_1's multi_logloss: 0.465135\n",
      "[42]\ttraining's multi_error: 0.0207809\ttraining's multi_logloss: 0.195733\tvalid_1's multi_error: 0.136336\tvalid_1's multi_logloss: 0.460812\n",
      "[43]\ttraining's multi_error: 0.019722\ttraining's multi_logloss: 0.189364\tvalid_1's multi_error: 0.135719\tvalid_1's multi_logloss: 0.455645\n",
      "[44]\ttraining's multi_error: 0.019325\ttraining's multi_logloss: 0.183188\tvalid_1's multi_error: 0.135102\tvalid_1's multi_logloss: 0.451839\n",
      "[45]\ttraining's multi_error: 0.0185308\ttraining's multi_logloss: 0.177605\tvalid_1's multi_error: 0.134485\tvalid_1's multi_logloss: 0.447772\n",
      "[46]\ttraining's multi_error: 0.0176042\ttraining's multi_logloss: 0.172362\tvalid_1's multi_error: 0.130783\tvalid_1's multi_logloss: 0.443992\n",
      "[47]\ttraining's multi_error: 0.0160159\ttraining's multi_logloss: 0.166837\tvalid_1's multi_error: 0.132017\tvalid_1's multi_logloss: 0.44108\n",
      "[48]\ttraining's multi_error: 0.0150893\ttraining's multi_logloss: 0.161967\tvalid_1's multi_error: 0.135719\tvalid_1's multi_logloss: 0.437682\n",
      "[49]\ttraining's multi_error: 0.014957\ttraining's multi_logloss: 0.157335\tvalid_1's multi_error: 0.132017\tvalid_1's multi_logloss: 0.434346\n",
      "[50]\ttraining's multi_error: 0.0144275\ttraining's multi_logloss: 0.152685\tvalid_1's multi_error: 0.132634\tvalid_1's multi_logloss: 0.431342\n",
      "[51]\ttraining's multi_error: 0.0140304\ttraining's multi_logloss: 0.148547\tvalid_1's multi_error: 0.132634\tvalid_1's multi_logloss: 0.428802\n",
      "[52]\ttraining's multi_error: 0.0132363\ttraining's multi_logloss: 0.144633\tvalid_1's multi_error: 0.130167\tvalid_1's multi_logloss: 0.426248\n",
      "[53]\ttraining's multi_error: 0.0129715\ttraining's multi_logloss: 0.140443\tvalid_1's multi_error: 0.128316\tvalid_1's multi_logloss: 0.423264\n",
      "[54]\ttraining's multi_error: 0.0123097\ttraining's multi_logloss: 0.136505\tvalid_1's multi_error: 0.128316\tvalid_1's multi_logloss: 0.420406\n",
      "[55]\ttraining's multi_error: 0.0117803\ttraining's multi_logloss: 0.133164\tvalid_1's multi_error: 0.126465\tvalid_1's multi_logloss: 0.417892\n",
      "[56]\ttraining's multi_error: 0.0113832\ttraining's multi_logloss: 0.129729\tvalid_1's multi_error: 0.127082\tvalid_1's multi_logloss: 0.415786\n",
      "[57]\ttraining's multi_error: 0.0111185\ttraining's multi_logloss: 0.126423\tvalid_1's multi_error: 0.127699\tvalid_1's multi_logloss: 0.414015\n",
      "[58]\ttraining's multi_error: 0.010589\ttraining's multi_logloss: 0.123287\tvalid_1's multi_error: 0.127082\tvalid_1's multi_logloss: 0.412013\n",
      "[59]\ttraining's multi_error: 0.010589\ttraining's multi_logloss: 0.120489\tvalid_1's multi_error: 0.126465\tvalid_1's multi_logloss: 0.41031\n",
      "[60]\ttraining's multi_error: 0.0100596\ttraining's multi_logloss: 0.117682\tvalid_1's multi_error: 0.125848\tvalid_1's multi_logloss: 0.408766\n",
      "[61]\ttraining's multi_error: 0.0099272\ttraining's multi_logloss: 0.115045\tvalid_1's multi_error: 0.124614\tvalid_1's multi_logloss: 0.406658\n",
      "[62]\ttraining's multi_error: 0.00966248\ttraining's multi_logloss: 0.112593\tvalid_1's multi_error: 0.124614\tvalid_1's multi_logloss: 0.405097\n",
      "[63]\ttraining's multi_error: 0.00900066\ttraining's multi_logloss: 0.110162\tvalid_1's multi_error: 0.124614\tvalid_1's multi_logloss: 0.40379\n",
      "[64]\ttraining's multi_error: 0.00860357\ttraining's multi_logloss: 0.107806\tvalid_1's multi_error: 0.125231\tvalid_1's multi_logloss: 0.401839\n",
      "[65]\ttraining's multi_error: 0.00847121\ttraining's multi_logloss: 0.10533\tvalid_1's multi_error: 0.124614\tvalid_1's multi_logloss: 0.400637\n",
      "[66]\ttraining's multi_error: 0.00807412\ttraining's multi_logloss: 0.103008\tvalid_1's multi_error: 0.124614\tvalid_1's multi_logloss: 0.398673\n",
      "[67]\ttraining's multi_error: 0.00807412\ttraining's multi_logloss: 0.100746\tvalid_1's multi_error: 0.125848\tvalid_1's multi_logloss: 0.397866\n",
      "[68]\ttraining's multi_error: 0.00767704\ttraining's multi_logloss: 0.0986514\tvalid_1's multi_error: 0.125848\tvalid_1's multi_logloss: 0.396251\n",
      "[69]\ttraining's multi_error: 0.00754467\ttraining's multi_logloss: 0.0966567\tvalid_1's multi_error: 0.124614\tvalid_1's multi_logloss: 0.39499\n",
      "[70]\ttraining's multi_error: 0.00688286\ttraining's multi_logloss: 0.0945727\tvalid_1's multi_error: 0.123998\tvalid_1's multi_logloss: 0.393492\n",
      "[71]\ttraining's multi_error: 0.00661813\ttraining's multi_logloss: 0.0927944\tvalid_1's multi_error: 0.122764\tvalid_1's multi_logloss: 0.391886\n",
      "[72]\ttraining's multi_error: 0.00635341\ttraining's multi_logloss: 0.0907758\tvalid_1's multi_error: 0.122147\tvalid_1's multi_logloss: 0.390589\n",
      "[73]\ttraining's multi_error: 0.00569159\ttraining's multi_logloss: 0.0889153\tvalid_1's multi_error: 0.122764\tvalid_1's multi_logloss: 0.389002\n",
      "[74]\ttraining's multi_error: 0.00516214\ttraining's multi_logloss: 0.0871995\tvalid_1's multi_error: 0.122764\tvalid_1's multi_logloss: 0.387534\n",
      "[75]\ttraining's multi_error: 0.00489742\ttraining's multi_logloss: 0.0855253\tvalid_1's multi_error: 0.122147\tvalid_1's multi_logloss: 0.386661\n",
      "[76]\ttraining's multi_error: 0.00463269\ttraining's multi_logloss: 0.0836997\tvalid_1's multi_error: 0.123381\tvalid_1's multi_logloss: 0.385427\n",
      "[77]\ttraining's multi_error: 0.00436797\ttraining's multi_logloss: 0.0821855\tvalid_1's multi_error: 0.123998\tvalid_1's multi_logloss: 0.384371\n",
      "[78]\ttraining's multi_error: 0.00436797\ttraining's multi_logloss: 0.0806819\tvalid_1's multi_error: 0.123381\tvalid_1's multi_logloss: 0.383926\n",
      "[79]\ttraining's multi_error: 0.00370615\ttraining's multi_logloss: 0.0790742\tvalid_1's multi_error: 0.123998\tvalid_1's multi_logloss: 0.383549\n",
      "[80]\ttraining's multi_error: 0.00330907\ttraining's multi_logloss: 0.0777134\tvalid_1's multi_error: 0.123998\tvalid_1's multi_logloss: 0.382761\n",
      "[81]\ttraining's multi_error: 0.00304434\ttraining's multi_logloss: 0.076301\tvalid_1's multi_error: 0.123998\tvalid_1's multi_logloss: 0.381931\n",
      "[82]\ttraining's multi_error: 0.00291198\ttraining's multi_logloss: 0.074978\tvalid_1's multi_error: 0.123998\tvalid_1's multi_logloss: 0.381798\n",
      "[83]\ttraining's multi_error: 0.00291198\ttraining's multi_logloss: 0.0737279\tvalid_1's multi_error: 0.124614\tvalid_1's multi_logloss: 0.381227\n",
      "[84]\ttraining's multi_error: 0.00291198\ttraining's multi_logloss: 0.0725062\tvalid_1's multi_error: 0.123998\tvalid_1's multi_logloss: 0.381113\n",
      "[85]\ttraining's multi_error: 0.00277962\ttraining's multi_logloss: 0.0712179\tvalid_1's multi_error: 0.123381\tvalid_1's multi_logloss: 0.38035\n",
      "[86]\ttraining's multi_error: 0.00264725\ttraining's multi_logloss: 0.0699742\tvalid_1's multi_error: 0.124614\tvalid_1's multi_logloss: 0.37971\n",
      "[87]\ttraining's multi_error: 0.00264725\ttraining's multi_logloss: 0.0687506\tvalid_1's multi_error: 0.123998\tvalid_1's multi_logloss: 0.379332\n",
      "[88]\ttraining's multi_error: 0.00264725\ttraining's multi_logloss: 0.0676405\tvalid_1's multi_error: 0.123998\tvalid_1's multi_logloss: 0.378953\n",
      "[89]\ttraining's multi_error: 0.00251489\ttraining's multi_logloss: 0.0665903\tvalid_1's multi_error: 0.123381\tvalid_1's multi_logloss: 0.378487\n",
      "[90]\ttraining's multi_error: 0.00251489\ttraining's multi_logloss: 0.0655182\tvalid_1's multi_error: 0.123381\tvalid_1's multi_logloss: 0.378381\n",
      "[91]\ttraining's multi_error: 0.00238253\ttraining's multi_logloss: 0.0645017\tvalid_1's multi_error: 0.122147\tvalid_1's multi_logloss: 0.3779\n",
      "[92]\ttraining's multi_error: 0.00238253\ttraining's multi_logloss: 0.063478\tvalid_1's multi_error: 0.122147\tvalid_1's multi_logloss: 0.377572\n",
      "Early stopping, best iteration is:\n",
      "[72]\ttraining's multi_error: 0.00635341\ttraining's multi_logloss: 0.0907758\tvalid_1's multi_error: 0.122147\tvalid_1's multi_logloss: 0.390589\n"
     ]
    },
    {
     "data": {
      "text/plain": [
       "RandomizedSearchCV(cv=5, estimator=LGBMClassifier(), n_iter=20, n_jobs=-1,\n",
       "                   param_distributions={'device': ['gpu'],\n",
       "                                        'learning_rate': [0.01, 0.015, 0.025,\n",
       "                                                          0.05, 0.1],\n",
       "                                        'max_depth': [3, 5, 7, 9, 12, 15, 17,\n",
       "                                                      25],\n",
       "                                        'min_child_weight': [1, 3, 5, 7],\n",
       "                                        'subsample': array([0.6, 0.7, 0.8, 0.9, 1. ])},\n",
       "                   return_train_score=True, scoring='accuracy', verbose=10)"
      ]
     },
     "execution_count": 25,
     "metadata": {},
     "output_type": "execute_result"
    }
   ],
   "source": [
    "lgbm_clf = lgbm.LGBMClassifier()\n",
    "\n",
    "lgbm_param_grid = {'learning_rate': [.01, .015, .025, .05, .1],\n",
    "#                   'Gamma': [.05, .1, .3, .5, .7, .9, 1],\n",
    "                  'max_depth': [3, 5, 7, 9, 12, 15, 17, 25],\n",
    "                  'min_child_weight': [1, 3, 5, 7],\n",
    "                   'device': ['gpu'],\n",
    "                  'subsample': np.linspace(0.6, 1, 5)}\n",
    "\n",
    "fit_params = {\"early_stopping_rounds\" : 20,\n",
    "             \"eval_metric\" : \"multi_error\",\n",
    "             \"eval_set\" : [(X_train, y_train), (X_val, y_val)]}\n",
    "\n",
    "# Create a random search object\n",
    "lgbm_random = RandomizedSearchCV(estimator = lgbm_clf,\n",
    "                                param_distributions = lgbm_param_grid,\n",
    "                                n_iter = 20, # n_iters in param combinations\n",
    "                                scoring='accuracy',\n",
    "                                n_jobs=-1,\n",
    "                                cv = 5,\n",
    "                                refit=True,\n",
    "                                return_train_score = True,\n",
    "                                verbose=10)\n",
    "\n",
    "# Fit to the training data\n",
    "lgbm_random.fit(X_train, y_train, **fit_params)"
   ]
  },
  {
   "cell_type": "code",
   "execution_count": 26,
   "metadata": {},
   "outputs": [],
   "source": [
    "pred_train = lgbm_random.best_estimator_.predict(X_train)\n",
    "pred_val = lgbm_random.best_estimator_.predict(X_val)\n",
    "pred_test = lgbm_random.best_estimator_.predict(X_test)"
   ]
  },
  {
   "cell_type": "code",
   "execution_count": 42,
   "metadata": {},
   "outputs": [
    {
     "data": {
      "text/plain": [
       "array([8, 0])"
      ]
     },
     "execution_count": 42,
     "metadata": {},
     "output_type": "execute_result"
    }
   ],
   "source": [
    "np.argsort(lgbm_random.best_estimator_.predict_proba(X_test)[0])[-2:]"
   ]
  },
  {
   "cell_type": "code",
   "execution_count": 32,
   "metadata": {},
   "outputs": [
    {
     "data": {
      "text/plain": [
       "array([0, 0, 0, ..., 9, 9, 9])"
      ]
     },
     "execution_count": 32,
     "metadata": {},
     "output_type": "execute_result"
    }
   ],
   "source": [
    "pred_test"
   ]
  },
  {
   "cell_type": "code",
   "execution_count": 43,
   "metadata": {},
   "outputs": [
    {
     "name": "stdout",
     "output_type": "stream",
     "text": [
      "0.9936465916611515\n",
      "0.8778531770512029\n",
      "0.8854679802955665\n"
     ]
    }
   ],
   "source": [
    "from sklearn.metrics import accuracy_score\n",
    "\n",
    "print(accuracy_score(y_train, pred_train))\n",
    "print(accuracy_score(y_val, pred_val))\n",
    "print(accuracy_score(y_test, pred_test))"
   ]
  },
  {
   "cell_type": "code",
   "execution_count": 45,
   "metadata": {},
   "outputs": [],
   "source": [
    "import pickle\n",
    "with open('./LightGBM_exp1_prep10_label4.txt', 'wb') as f:\n",
    "    pickle.dump(lgbm_random, f)"
   ]
  },
  {
   "cell_type": "code",
   "execution_count": 28,
   "metadata": {},
   "outputs": [
    {
     "data": {
      "text/html": [
       "<div>\n",
       "<style scoped>\n",
       "    .dataframe tbody tr th:only-of-type {\n",
       "        vertical-align: middle;\n",
       "    }\n",
       "\n",
       "    .dataframe tbody tr th {\n",
       "        vertical-align: top;\n",
       "    }\n",
       "\n",
       "    .dataframe thead th {\n",
       "        text-align: right;\n",
       "    }\n",
       "</style>\n",
       "<table border=\"1\" class=\"dataframe\">\n",
       "  <thead>\n",
       "    <tr style=\"text-align: right;\">\n",
       "      <th></th>\n",
       "      <th>subsample</th>\n",
       "      <th>min_child_weight</th>\n",
       "      <th>max_depth</th>\n",
       "      <th>learning_rate</th>\n",
       "      <th>device</th>\n",
       "      <th>mean_test_score</th>\n",
       "    </tr>\n",
       "  </thead>\n",
       "  <tbody>\n",
       "    <tr>\n",
       "      <th>0</th>\n",
       "      <td>0.6</td>\n",
       "      <td>1</td>\n",
       "      <td>3</td>\n",
       "      <td>0.010</td>\n",
       "      <td>gpu</td>\n",
       "      <td>0.790470</td>\n",
       "    </tr>\n",
       "    <tr>\n",
       "      <th>0</th>\n",
       "      <td>0.8</td>\n",
       "      <td>5</td>\n",
       "      <td>3</td>\n",
       "      <td>0.015</td>\n",
       "      <td>gpu</td>\n",
       "      <td>0.803441</td>\n",
       "    </tr>\n",
       "    <tr>\n",
       "      <th>0</th>\n",
       "      <td>0.9</td>\n",
       "      <td>7</td>\n",
       "      <td>5</td>\n",
       "      <td>0.010</td>\n",
       "      <td>gpu</td>\n",
       "      <td>0.821443</td>\n",
       "    </tr>\n",
       "    <tr>\n",
       "      <th>0</th>\n",
       "      <td>0.8</td>\n",
       "      <td>5</td>\n",
       "      <td>9</td>\n",
       "      <td>0.010</td>\n",
       "      <td>gpu</td>\n",
       "      <td>0.835738</td>\n",
       "    </tr>\n",
       "    <tr>\n",
       "      <th>0</th>\n",
       "      <td>1.0</td>\n",
       "      <td>5</td>\n",
       "      <td>15</td>\n",
       "      <td>0.015</td>\n",
       "      <td>gpu</td>\n",
       "      <td>0.842356</td>\n",
       "    </tr>\n",
       "    <tr>\n",
       "      <th>0</th>\n",
       "      <td>0.8</td>\n",
       "      <td>3</td>\n",
       "      <td>5</td>\n",
       "      <td>0.025</td>\n",
       "      <td>gpu</td>\n",
       "      <td>0.845400</td>\n",
       "    </tr>\n",
       "    <tr>\n",
       "      <th>0</th>\n",
       "      <td>0.6</td>\n",
       "      <td>1</td>\n",
       "      <td>5</td>\n",
       "      <td>0.025</td>\n",
       "      <td>gpu</td>\n",
       "      <td>0.845797</td>\n",
       "    </tr>\n",
       "    <tr>\n",
       "      <th>0</th>\n",
       "      <td>0.6</td>\n",
       "      <td>7</td>\n",
       "      <td>25</td>\n",
       "      <td>0.025</td>\n",
       "      <td>gpu</td>\n",
       "      <td>0.847386</td>\n",
       "    </tr>\n",
       "    <tr>\n",
       "      <th>0</th>\n",
       "      <td>0.9</td>\n",
       "      <td>7</td>\n",
       "      <td>15</td>\n",
       "      <td>0.025</td>\n",
       "      <td>gpu</td>\n",
       "      <td>0.848048</td>\n",
       "    </tr>\n",
       "    <tr>\n",
       "      <th>0</th>\n",
       "      <td>0.8</td>\n",
       "      <td>7</td>\n",
       "      <td>15</td>\n",
       "      <td>0.025</td>\n",
       "      <td>gpu</td>\n",
       "      <td>0.849107</td>\n",
       "    </tr>\n",
       "    <tr>\n",
       "      <th>0</th>\n",
       "      <td>0.9</td>\n",
       "      <td>7</td>\n",
       "      <td>7</td>\n",
       "      <td>0.025</td>\n",
       "      <td>gpu</td>\n",
       "      <td>0.849768</td>\n",
       "    </tr>\n",
       "    <tr>\n",
       "      <th>0</th>\n",
       "      <td>0.7</td>\n",
       "      <td>3</td>\n",
       "      <td>7</td>\n",
       "      <td>0.025</td>\n",
       "      <td>gpu</td>\n",
       "      <td>0.850165</td>\n",
       "    </tr>\n",
       "    <tr>\n",
       "      <th>0</th>\n",
       "      <td>1.0</td>\n",
       "      <td>3</td>\n",
       "      <td>17</td>\n",
       "      <td>0.025</td>\n",
       "      <td>gpu</td>\n",
       "      <td>0.853475</td>\n",
       "    </tr>\n",
       "    <tr>\n",
       "      <th>0</th>\n",
       "      <td>0.7</td>\n",
       "      <td>5</td>\n",
       "      <td>12</td>\n",
       "      <td>0.025</td>\n",
       "      <td>gpu</td>\n",
       "      <td>0.853872</td>\n",
       "    </tr>\n",
       "    <tr>\n",
       "      <th>0</th>\n",
       "      <td>0.8</td>\n",
       "      <td>3</td>\n",
       "      <td>17</td>\n",
       "      <td>0.025</td>\n",
       "      <td>gpu</td>\n",
       "      <td>0.854004</td>\n",
       "    </tr>\n",
       "    <tr>\n",
       "      <th>0</th>\n",
       "      <td>0.8</td>\n",
       "      <td>3</td>\n",
       "      <td>5</td>\n",
       "      <td>0.050</td>\n",
       "      <td>gpu</td>\n",
       "      <td>0.860622</td>\n",
       "    </tr>\n",
       "    <tr>\n",
       "      <th>0</th>\n",
       "      <td>0.6</td>\n",
       "      <td>1</td>\n",
       "      <td>17</td>\n",
       "      <td>0.050</td>\n",
       "      <td>gpu</td>\n",
       "      <td>0.862210</td>\n",
       "    </tr>\n",
       "    <tr>\n",
       "      <th>0</th>\n",
       "      <td>0.8</td>\n",
       "      <td>3</td>\n",
       "      <td>9</td>\n",
       "      <td>0.050</td>\n",
       "      <td>gpu</td>\n",
       "      <td>0.862740</td>\n",
       "    </tr>\n",
       "    <tr>\n",
       "      <th>0</th>\n",
       "      <td>1.0</td>\n",
       "      <td>3</td>\n",
       "      <td>12</td>\n",
       "      <td>0.100</td>\n",
       "      <td>gpu</td>\n",
       "      <td>0.870417</td>\n",
       "    </tr>\n",
       "    <tr>\n",
       "      <th>0</th>\n",
       "      <td>1.0</td>\n",
       "      <td>7</td>\n",
       "      <td>9</td>\n",
       "      <td>0.100</td>\n",
       "      <td>gpu</td>\n",
       "      <td>0.874653</td>\n",
       "    </tr>\n",
       "  </tbody>\n",
       "</table>\n",
       "</div>"
      ],
      "text/plain": [
       "   subsample  min_child_weight  max_depth  learning_rate device  \\\n",
       "0        0.6                 1          3          0.010    gpu   \n",
       "0        0.8                 5          3          0.015    gpu   \n",
       "0        0.9                 7          5          0.010    gpu   \n",
       "0        0.8                 5          9          0.010    gpu   \n",
       "0        1.0                 5         15          0.015    gpu   \n",
       "0        0.8                 3          5          0.025    gpu   \n",
       "0        0.6                 1          5          0.025    gpu   \n",
       "0        0.6                 7         25          0.025    gpu   \n",
       "0        0.9                 7         15          0.025    gpu   \n",
       "0        0.8                 7         15          0.025    gpu   \n",
       "0        0.9                 7          7          0.025    gpu   \n",
       "0        0.7                 3          7          0.025    gpu   \n",
       "0        1.0                 3         17          0.025    gpu   \n",
       "0        0.7                 5         12          0.025    gpu   \n",
       "0        0.8                 3         17          0.025    gpu   \n",
       "0        0.8                 3          5          0.050    gpu   \n",
       "0        0.6                 1         17          0.050    gpu   \n",
       "0        0.8                 3          9          0.050    gpu   \n",
       "0        1.0                 3         12          0.100    gpu   \n",
       "0        1.0                 7          9          0.100    gpu   \n",
       "\n",
       "   mean_test_score  \n",
       "0         0.790470  \n",
       "0         0.803441  \n",
       "0         0.821443  \n",
       "0         0.835738  \n",
       "0         0.842356  \n",
       "0         0.845400  \n",
       "0         0.845797  \n",
       "0         0.847386  \n",
       "0         0.848048  \n",
       "0         0.849107  \n",
       "0         0.849768  \n",
       "0         0.850165  \n",
       "0         0.853475  \n",
       "0         0.853872  \n",
       "0         0.854004  \n",
       "0         0.860622  \n",
       "0         0.862210  \n",
       "0         0.862740  \n",
       "0         0.870417  \n",
       "0         0.874653  "
      ]
     },
     "execution_count": 28,
     "metadata": {},
     "output_type": "execute_result"
    }
   ],
   "source": [
    "cv_result_df = pd.DataFrame(lgbm_random.cv_results_)\n",
    "\n",
    "df_list = []\n",
    "for i in range(20):\n",
    "    df_list.append(pd.DataFrame([cv_result_df.loc[i, \"params\"]]))\n",
    "    \n",
    "param_table = pd.concat(df_list)\n",
    "\n",
    "param_table['mean_test_score'] = cv_result_df['mean_test_score'].values\n",
    "\n",
    "param_table.sort_values(by='mean_test_score', axis=0)"
   ]
  },
  {
   "cell_type": "code",
   "execution_count": null,
   "metadata": {},
   "outputs": [],
   "source": []
  }
 ],
 "metadata": {
  "kernelspec": {
   "display_name": "Python 3",
   "language": "python",
   "name": "python3"
  },
  "language_info": {
   "codemirror_mode": {
    "name": "ipython",
    "version": 3
   },
   "file_extension": ".py",
   "mimetype": "text/x-python",
   "name": "python",
   "nbconvert_exporter": "python",
   "pygments_lexer": "ipython3",
   "version": "3.6.9"
  }
 },
 "nbformat": 4,
 "nbformat_minor": 4
}
