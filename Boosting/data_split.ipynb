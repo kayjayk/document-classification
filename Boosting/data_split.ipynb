{
 "cells": [
  {
   "cell_type": "code",
   "execution_count": 22,
   "metadata": {},
   "outputs": [],
   "source": [
    "import pandas as pd\n",
    "import random\n",
    "\n",
    "df = pd.read_csv('../../../../jaeyeun/01_nh_poc/label_with_prep_txt.csv')\n",
    "\n",
    "num_list = [i for i in range(len(df))]\n",
    "random.shuffle(num_list)\n",
    "threshold = int(len(df)*7/10)\n",
    "train_ids = num_list[:threshold]\n",
    "test_ids = num_list[threshold:]"
   ]
  },
  {
   "cell_type": "code",
   "execution_count": 2,
   "metadata": {
    "collapsed": true,
    "jupyter": {
     "outputs_hidden": true
    }
   },
   "outputs": [
    {
     "data": {
      "text/html": [
       "<div>\n",
       "<style scoped>\n",
       "    .dataframe tbody tr th:only-of-type {\n",
       "        vertical-align: middle;\n",
       "    }\n",
       "\n",
       "    .dataframe tbody tr th {\n",
       "        vertical-align: top;\n",
       "    }\n",
       "\n",
       "    .dataframe thead th {\n",
       "        text-align: right;\n",
       "    }\n",
       "</style>\n",
       "<table border=\"1\" class=\"dataframe\">\n",
       "  <thead>\n",
       "    <tr style=\"text-align: right;\">\n",
       "      <th></th>\n",
       "      <th>file_name</th>\n",
       "      <th>prep_file_name</th>\n",
       "      <th>label</th>\n",
       "      <th>is_train</th>\n",
       "      <th>raw_text</th>\n",
       "      <th>prep_text</th>\n",
       "      <th>title</th>\n",
       "    </tr>\n",
       "  </thead>\n",
       "  <tbody>\n",
       "    <tr>\n",
       "      <th>0</th>\n",
       "      <td>R2004509.txt</td>\n",
       "      <td>R2004509_prep_full_text.txt</td>\n",
       "      <td>3</td>\n",
       "      <td>False</td>\n",
       "      <td>보 도 자 료 4월 14일(화) 조간 (4.13.12:00 이후 보도) 배 포 일 ...</td>\n",
       "      <td>보도 자료 date date 화 조간 time 이후 보도 배 포일 매 담당 부서 건...</td>\n",
       "      <td>담뱃갑 경고그림·문구 교체한다</td>\n",
       "    </tr>\n",
       "    <tr>\n",
       "      <th>1</th>\n",
       "      <td>R2006532.txt</td>\n",
       "      <td>R2006532_prep_full_text.txt</td>\n",
       "      <td>0</td>\n",
       "      <td>True</td>\n",
       "      <td>보도일시 2020. 6. 10.(수) 조간(온라인 6. 9. 17:00)부터 보도해...</td>\n",
       "      <td>보도 일시 수 조간 온라인 time 보도 해 주 바랍니다 배포 일시 화 time 담...</td>\n",
       "      <td>과기정통부, ICT 스타트업의 유럽 진출 돕는다</td>\n",
       "    </tr>\n",
       "    <tr>\n",
       "      <th>2</th>\n",
       "      <td>R2002838.txt</td>\n",
       "      <td>R2002838_prep_full_text.txt</td>\n",
       "      <td>6</td>\n",
       "      <td>True</td>\n",
       "      <td>보 도 자 료\\n배포일시 2020. 2. 24(월) 총 9매(본문2) 담당 부서 건...</td>\n",
       "      <td>보도 자료 배포 일시 월 매 본문 담당 부서 건설 안전 담당자 과장 한 명희 사무관...</td>\n",
       "      <td>선제적 대응으로 안전사고 예방 주력 건설 노동자의 생명 더욱 안전하게 지키겠습니다</td>\n",
       "    </tr>\n",
       "    <tr>\n",
       "      <th>3</th>\n",
       "      <td>R1507164.txt</td>\n",
       "      <td>R1507164_prep_full_text.txt</td>\n",
       "      <td>4</td>\n",
       "      <td>True</td>\n",
       "      <td>보도 일시 2015. 7. 7(화) 10:00 배포 일시 2015. 7. 7(화) ...</td>\n",
       "      <td>보도 일시 화 time 배포 일시 화 time 담당 부처 기재 부 미래 정책 총괄 ...</td>\n",
       "      <td>「중장기경제발전전략」노동분야 정책세미나 개최</td>\n",
       "    </tr>\n",
       "    <tr>\n",
       "      <th>4</th>\n",
       "      <td>D1505006-1.txt</td>\n",
       "      <td>D1505006-1_prep_full_text.txt</td>\n",
       "      <td>2</td>\n",
       "      <td>True</td>\n",
       "      <td>2015년\\n5월\\n4일\\n공보 2015-5-1호 이 자료는 2015년 5월 4일 ...</td>\n",
       "      <td>date date 공보 date 호이 자료 date date time 이후 취급 하...</td>\n",
       "      <td>2015년 3월 국제수지(잠정)</td>\n",
       "    </tr>\n",
       "  </tbody>\n",
       "</table>\n",
       "</div>"
      ],
      "text/plain": [
       "        file_name                 prep_file_name  label  is_train  \\\n",
       "0    R2004509.txt    R2004509_prep_full_text.txt      3     False   \n",
       "1    R2006532.txt    R2006532_prep_full_text.txt      0      True   \n",
       "2    R2002838.txt    R2002838_prep_full_text.txt      6      True   \n",
       "3    R1507164.txt    R1507164_prep_full_text.txt      4      True   \n",
       "4  D1505006-1.txt  D1505006-1_prep_full_text.txt      2      True   \n",
       "\n",
       "                                            raw_text  \\\n",
       "0  보 도 자 료 4월 14일(화) 조간 (4.13.12:00 이후 보도) 배 포 일 ...   \n",
       "1  보도일시 2020. 6. 10.(수) 조간(온라인 6. 9. 17:00)부터 보도해...   \n",
       "2  보 도 자 료\\n배포일시 2020. 2. 24(월) 총 9매(본문2) 담당 부서 건...   \n",
       "3  보도 일시 2015. 7. 7(화) 10:00 배포 일시 2015. 7. 7(화) ...   \n",
       "4  2015년\\n5월\\n4일\\n공보 2015-5-1호 이 자료는 2015년 5월 4일 ...   \n",
       "\n",
       "                                           prep_text  \\\n",
       "0  보도 자료 date date 화 조간 time 이후 보도 배 포일 매 담당 부서 건...   \n",
       "1  보도 일시 수 조간 온라인 time 보도 해 주 바랍니다 배포 일시 화 time 담...   \n",
       "2  보도 자료 배포 일시 월 매 본문 담당 부서 건설 안전 담당자 과장 한 명희 사무관...   \n",
       "3  보도 일시 화 time 배포 일시 화 time 담당 부처 기재 부 미래 정책 총괄 ...   \n",
       "4  date date 공보 date 호이 자료 date date time 이후 취급 하...   \n",
       "\n",
       "                                           title  \n",
       "0                               담뱃갑 경고그림·문구 교체한다  \n",
       "1                     과기정통부, ICT 스타트업의 유럽 진출 돕는다  \n",
       "2  선제적 대응으로 안전사고 예방 주력 건설 노동자의 생명 더욱 안전하게 지키겠습니다  \n",
       "3                       「중장기경제발전전략」노동분야 정책세미나 개최  \n",
       "4                              2015년 3월 국제수지(잠정)  "
      ]
     },
     "execution_count": 2,
     "metadata": {},
     "output_type": "execute_result"
    }
   ],
   "source": [
    "df.head()"
   ]
  },
  {
   "cell_type": "code",
   "execution_count": 23,
   "metadata": {},
   "outputs": [],
   "source": [
    "df.loc[train_ids, 'is_train'] = 1\n",
    "df.loc[test_ids, 'is_train'] = 0"
   ]
  },
  {
   "cell_type": "code",
   "execution_count": 25,
   "metadata": {},
   "outputs": [
    {
     "data": {
      "text/plain": [
       "7560"
      ]
     },
     "execution_count": 25,
     "metadata": {},
     "output_type": "execute_result"
    }
   ],
   "source": [
    "len(df[df['is_train']==1])"
   ]
  },
  {
   "cell_type": "code",
   "execution_count": null,
   "metadata": {},
   "outputs": [],
   "source": [
    "df.to_csv('../../../../jaeyeun/01_nh_poc/label_with_prep_txt_7_3.csv', index=False)"
   ]
  },
  {
   "cell_type": "code",
   "execution_count": null,
   "metadata": {},
   "outputs": [],
   "source": []
  }
 ],
 "metadata": {
  "kernelspec": {
   "display_name": "Python 3",
   "language": "python",
   "name": "python3"
  },
  "language_info": {
   "codemirror_mode": {
    "name": "ipython",
    "version": 3
   },
   "file_extension": ".py",
   "mimetype": "text/x-python",
   "name": "python",
   "nbconvert_exporter": "python",
   "pygments_lexer": "ipython3",
   "version": "3.6.9"
  }
 },
 "nbformat": 4,
 "nbformat_minor": 4
}
